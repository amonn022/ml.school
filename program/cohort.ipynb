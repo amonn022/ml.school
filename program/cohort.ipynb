{
 "cells": [
  {
   "cell_type": "markdown",
   "id": "00b7ba7b-433c-463c-8e5e-8b975a5be463",
   "metadata": {
    "tags": []
   },
   "source": [
    "# Building Machine Learning Systems That Don't Suck\n"
   ]
  },
  {
   "cell_type": "markdown",
   "id": "bd7bb73f",
   "metadata": {},
   "source": [
    "This notebook creates a [SageMaker Pipeline](https://sagemaker.readthedocs.io/en/stable/amazon_sagemaker_model_building_pipeline.html) to build an end-to-end Machine Learning system to solve the problem of classifying penguin species. With a SageMaker Pipeline, you can create, automate, and manage end-to-end Machine Learning workflows at scale.\n",
    "\n",
    "You can find more information about Amazon SageMaker in the [Amazon SageMaker Developer Guide](https://docs.aws.amazon.com/sagemaker/latest/dg/whatis.html). The [AWS Machine Learning Blog](https://aws.amazon.com/blogs/machine-learning/) is an excellent source to stay up-to-date with SageMaker.\n",
    "\n",
    "This example uses the [Penguins dataset](https://www.kaggle.com/parulpandey/palmer-archipelago-antarctica-penguin-data).\n",
    "\n",
    "<img src='images/penguins.png' alt='Penguins' width=\"800\">\n",
    "\n",
    "This notebook is part of the [Machine Learning School](https://www.ml.school) program.\n"
   ]
  },
  {
   "cell_type": "markdown",
   "id": "5ec22ac1",
   "metadata": {},
   "source": [
    "## Session 1 - Introduction and Initial Setup\n",
    "\n",
    "The machine learning system we'll build during this program consists of four main pipelines: A **training** pipeline, an **inference** pipeline, a **deployment** pipeline, and a **monitoring** pipeline.\n",
    "\n",
    "Here is an architectural diagram showing how the system is structured:\n",
    "\n",
    "<a href=\"images/diagram.png\" target=\"_blank\"> <img src=\"images/diagram.png\" alt=\"SageMaker architectural diagram of the system\" style=\"max-width: 740px;\" /></a>\n",
    "\n",
    "Throughout the sessions, we'll build each of these pipelines. We'll also build variations to show you different alternatives and best practices.\n",
    "\n",
    "Let's start by setting up the environment and preparing to run the notebook.\n"
   ]
  },
  {
   "cell_type": "code",
   "execution_count": 129,
   "id": "4b2265b0",
   "metadata": {
    "tags": [
     "hide-cell"
    ]
   },
   "outputs": [
    {
     "name": "stdout",
     "output_type": "stream",
     "text": [
      "The autoreload extension is already loaded. To reload it, use:\n",
      "  %reload_ext autoreload\n",
      "The dotenv extension is already loaded. To reload it, use:\n",
      "  %reload_ext dotenv\n"
     ]
    }
   ],
   "source": [
    "%load_ext autoreload\n",
    "%autoreload 2\n",
    "%load_ext dotenv\n",
    "%dotenv\n",
    "\n",
    "import json\n",
    "import logging\n",
    "import sys\n",
    "from pathlib import Path\n",
    "\n",
    "import ipytest\n",
    "\n",
    "CODE_FOLDER = Path(\"code\")\n",
    "CODE_FOLDER.mkdir(exist_ok=True)\n",
    "sys.path.extend([f\"./{CODE_FOLDER}\"])\n",
    "\n",
    "DATA_FILEPATH = \"penguins.csv\"\n",
    "\n",
    "ipytest.autoconfig(raise_on_error=True)\n",
    "\n",
    "# By default, The SageMaker SDK logs events related to the default\n",
    "# configuration using the INFO level. To prevent these from spoiling\n",
    "# the output of this notebook cells, we can change the logging\n",
    "# level to ERROR instead.\n",
    "logging.getLogger(\"sagemaker.config\").setLevel(logging.ERROR)"
   ]
  },
  {
   "cell_type": "markdown",
   "id": "588d34c9",
   "metadata": {},
   "source": [
    "We can run this notebook in [Local Mode](https://docs.aws.amazon.com/sagemaker/latest/dg/pipelines-local-mode.html) to test some of the system components in your local environment. Unfortunately, not every component is supported in Local Mode.\n",
    "\n",
    "Setting the `LOCAL_MODE` variable to `True` will run every supported pipeline component locally. Setting the variable to `False` will run the pipeline in SageMaker.\n"
   ]
  },
  {
   "cell_type": "code",
   "execution_count": 130,
   "id": "32c4d764",
   "metadata": {
    "tags": []
   },
   "outputs": [],
   "source": [
    "LOCAL_MODE = True"
   ]
  },
  {
   "cell_type": "markdown",
   "id": "d6be4f8d",
   "metadata": {},
   "source": [
    "Let's now load the environment variables we need to run the notebook.\n"
   ]
  },
  {
   "cell_type": "code",
   "execution_count": 131,
   "id": "3164a3af",
   "metadata": {},
   "outputs": [],
   "source": [
    "import os\n",
    "\n",
    "bucket = os.environ[\"BUCKET\"]\n",
    "role = os.environ[\"ROLE\"]\n",
    "\n",
    "COMET_API_KEY = os.environ.get(\"COMET_API_KEY\", None)\n",
    "COMET_PROJECT_NAME = os.environ.get(\"COMET_PROJECT_NAME\", None)"
   ]
  },
  {
   "cell_type": "code",
   "execution_count": 4,
   "id": "175bea80",
   "metadata": {},
   "outputs": [
    {
     "data": {
      "text/plain": [
       "'r2NB703jbpDq79haufTIiMSVg'"
      ]
     },
     "execution_count": 4,
     "metadata": {},
     "output_type": "execute_result"
    }
   ],
   "source": [
    "COMET_API_KEY"
   ]
  },
  {
   "cell_type": "markdown",
   "id": "daa700f4",
   "metadata": {},
   "source": [
    "If you are running the pipeline in Local Mode on an ARM64 machine (for example, on Apple Silicon), you will need to use a custom Docker image to train and evaluate the model. Let's create a variable indicating if we are running on an ARM64 machine.\n"
   ]
  },
  {
   "cell_type": "code",
   "execution_count": 132,
   "id": "7bc40d28",
   "metadata": {},
   "outputs": [],
   "source": [
    "# We can retrieve the architecture of the local\n",
    "# computer using the `uname -m` command.\n",
    "architecture = !(uname -m)\n",
    "\n",
    "IS_ARM64_ARCHITECTURE = architecture[0] == \"arm64\""
   ]
  },
  {
   "cell_type": "markdown",
   "id": "7d906ada",
   "metadata": {},
   "source": [
    "Let's create a configuration dictionary with different settings depending on whether we are running the pipeline in Local Mode. We'll use this dictionary to configure the pipeline components.\n"
   ]
  },
  {
   "cell_type": "code",
   "execution_count": 5,
   "id": "3b3f17e5",
   "metadata": {},
   "outputs": [
    {
     "name": "stderr",
     "output_type": "stream",
     "text": [
      "Windows Support for Local Mode is Experimental\n"
     ]
    }
   ],
   "source": [
    "import sagemaker\n",
    "from sagemaker.workflow.pipeline_context import LocalPipelineSession, PipelineSession\n",
    "\n",
    "pipeline_session = PipelineSession(default_bucket=bucket) if not LOCAL_MODE else None\n",
    "\n",
    "if LOCAL_MODE:\n",
    "    config = {\n",
    "        \"session\": LocalPipelineSession(default_bucket=bucket),\n",
    "        \"instance_type\": \"local\",\n",
    "        # We need to use a custom Docker image when we run the pipeline\n",
    "        # in Local Model on an ARM64 machine.\n",
    "        \"image\": (\n",
    "            \"sagemaker-tensorflow-toolkit-local\" if IS_ARM64_ARCHITECTURE else None\n",
    "        ),\n",
    "    }\n",
    "else:\n",
    "    config = {\n",
    "        \"session\": pipeline_session,\n",
    "        \"instance_type\": \"ml.m5.xlarge\",\n",
    "        \"image\": None,\n",
    "    }\n",
    "\n",
    "# These specific settings refer to the SageMaker\n",
    "# TensorFlow container we'll use.\n",
    "config[\"framework_version\"] = \"2.12\"\n",
    "config[\"py_version\"] = \"py310\""
   ]
  },
  {
   "cell_type": "code",
   "execution_count": 133,
   "id": "10c7a3ab",
   "metadata": {},
   "outputs": [],
   "source": [
    "import sagemaker\n",
    "from sagemaker.workflow.pipeline_context import LocalPipelineSession, PipelineSession\n",
    "\n",
    "class Configuration:\n",
    "    def __init__(self, bucket, local_mode, is_arm64_architecture):\n",
    "        self.bucket = bucket\n",
    "        self.local_mode = local_mode\n",
    "        self.is_arm64_architecture = is_arm64_architecture\n",
    "        self.framework_version = \"2.12\"\n",
    "        self.py_version = \"py310\"\n",
    "\n",
    "    def load(self):\n",
    "        if self.local_mode:\n",
    "            return {\n",
    "                \"session\": self._create_local_session(),\n",
    "                \"instance_type\": \"local\",\n",
    "                \"image\": self._get_image(),\n",
    "                \"framework_version\": self.framework_version,\n",
    "                \"py_version\": self.py_version\n",
    "            }\n",
    "        else:\n",
    "            return {\n",
    "                \"session\": self._create_pipeline_session(),\n",
    "                \"instance_type\": \"ml.m5.xlarge\",\n",
    "                \"image\": None,\n",
    "                \"framework_version\": self.framework_version,\n",
    "                \"py_version\": self.py_version\n",
    "            }\n",
    "\n",
    "    def _create_local_session(self):\n",
    "        return LocalPipelineSession(default_bucket=self.bucket)\n",
    "\n",
    "    def _create_pipeline_session(self):\n",
    "        return PipelineSession(default_bucket=self.bucket)\n",
    "\n",
    "    def _get_image(self):\n",
    "        if self.is_arm64_architecture:\n",
    "            return \"sagemaker-tensorflow-toolkit-local\"\n",
    "        return None"
   ]
  },
  {
   "cell_type": "code",
   "execution_count": 134,
   "id": "ba9cfae6",
   "metadata": {},
   "outputs": [
    {
     "name": "stderr",
     "output_type": "stream",
     "text": [
      "INFO:botocore.credentials:Found credentials in shared credentials file: ~/.aws/credentials\n",
      "WARNING:sagemaker.local.local_session:Windows Support for Local Mode is Experimental\n"
     ]
    }
   ],
   "source": [
    "config = Configuration(bucket,LOCAL_MODE,IS_ARM64_ARCHITECTURE).load()\n",
    "\n",
    "\n"
   ]
  },
  {
   "cell_type": "code",
   "execution_count": 92,
   "id": "5601dacc",
   "metadata": {},
   "outputs": [],
   "source": [
    "config['image']"
   ]
  },
  {
   "cell_type": "markdown",
   "id": "9089696b",
   "metadata": {},
   "source": [
    "Let's now initialize a few variables that we'll need throughout the notebook:\n"
   ]
  },
  {
   "cell_type": "code",
   "execution_count": 135,
   "id": "942a01b5",
   "metadata": {},
   "outputs": [],
   "source": [
    "import boto3\n",
    "\n",
    "S3_LOCATION = f\"s3://{bucket}/penguins\"\n",
    "\n",
    "sagemaker_session = sagemaker.session.Session()\n",
    "sagemaker_client = boto3.client(\"sagemaker\")\n",
    "iam_client = boto3.client(\"iam\")\n",
    "region = boto3.Session().region_name"
   ]
  },
  {
   "cell_type": "markdown",
   "id": "3a835695-557b-46d8-a901-a29bc57df5fe",
   "metadata": {},
   "source": [
    "## Session 2 - Exploratory Data Analysis\n",
    "\n",
    "Let's run Exploratory Data Analysis on the [Penguins dataset](https://www.kaggle.com/parulpandey/palmer-archipelago-antarctica-penguin-data). The goal of this session is to understand the data and the problem we are trying to solve.\n"
   ]
  },
  {
   "cell_type": "markdown",
   "id": "83c6943b",
   "metadata": {},
   "source": [
    "Let's load the Penguins dataset:\n"
   ]
  },
  {
   "cell_type": "code",
   "execution_count": 136,
   "id": "f1cd2f0e-446d-48a9-a008-b4f1cc593bfc",
   "metadata": {
    "tags": []
   },
   "outputs": [
    {
     "data": {
      "text/html": [
       "<div>\n",
       "<style scoped>\n",
       "    .dataframe tbody tr th:only-of-type {\n",
       "        vertical-align: middle;\n",
       "    }\n",
       "\n",
       "    .dataframe tbody tr th {\n",
       "        vertical-align: top;\n",
       "    }\n",
       "\n",
       "    .dataframe thead th {\n",
       "        text-align: right;\n",
       "    }\n",
       "</style>\n",
       "<table border=\"1\" class=\"dataframe\">\n",
       "  <thead>\n",
       "    <tr style=\"text-align: right;\">\n",
       "      <th></th>\n",
       "      <th>species</th>\n",
       "      <th>island</th>\n",
       "      <th>culmen_length_mm</th>\n",
       "      <th>culmen_depth_mm</th>\n",
       "      <th>flipper_length_mm</th>\n",
       "      <th>body_mass_g</th>\n",
       "      <th>sex</th>\n",
       "    </tr>\n",
       "  </thead>\n",
       "  <tbody>\n",
       "    <tr>\n",
       "      <th>0</th>\n",
       "      <td>Adelie</td>\n",
       "      <td>Torgersen</td>\n",
       "      <td>39.1</td>\n",
       "      <td>18.7</td>\n",
       "      <td>181.0</td>\n",
       "      <td>3750.0</td>\n",
       "      <td>MALE</td>\n",
       "    </tr>\n",
       "    <tr>\n",
       "      <th>1</th>\n",
       "      <td>Adelie</td>\n",
       "      <td>Torgersen</td>\n",
       "      <td>39.5</td>\n",
       "      <td>17.4</td>\n",
       "      <td>186.0</td>\n",
       "      <td>3800.0</td>\n",
       "      <td>FEMALE</td>\n",
       "    </tr>\n",
       "    <tr>\n",
       "      <th>2</th>\n",
       "      <td>Adelie</td>\n",
       "      <td>Torgersen</td>\n",
       "      <td>40.3</td>\n",
       "      <td>18.0</td>\n",
       "      <td>195.0</td>\n",
       "      <td>3250.0</td>\n",
       "      <td>FEMALE</td>\n",
       "    </tr>\n",
       "    <tr>\n",
       "      <th>3</th>\n",
       "      <td>Adelie</td>\n",
       "      <td>Torgersen</td>\n",
       "      <td>NaN</td>\n",
       "      <td>NaN</td>\n",
       "      <td>NaN</td>\n",
       "      <td>NaN</td>\n",
       "      <td>NaN</td>\n",
       "    </tr>\n",
       "    <tr>\n",
       "      <th>4</th>\n",
       "      <td>Adelie</td>\n",
       "      <td>Torgersen</td>\n",
       "      <td>36.7</td>\n",
       "      <td>19.3</td>\n",
       "      <td>193.0</td>\n",
       "      <td>3450.0</td>\n",
       "      <td>FEMALE</td>\n",
       "    </tr>\n",
       "  </tbody>\n",
       "</table>\n",
       "</div>"
      ],
      "text/plain": [
       "  species     island  culmen_length_mm  culmen_depth_mm  flipper_length_mm  \\\n",
       "0  Adelie  Torgersen              39.1             18.7              181.0   \n",
       "1  Adelie  Torgersen              39.5             17.4              186.0   \n",
       "2  Adelie  Torgersen              40.3             18.0              195.0   \n",
       "3  Adelie  Torgersen               NaN              NaN                NaN   \n",
       "4  Adelie  Torgersen              36.7             19.3              193.0   \n",
       "\n",
       "   body_mass_g     sex  \n",
       "0       3750.0    MALE  \n",
       "1       3800.0  FEMALE  \n",
       "2       3250.0  FEMALE  \n",
       "3          NaN     NaN  \n",
       "4       3450.0  FEMALE  "
      ]
     },
     "execution_count": 136,
     "metadata": {},
     "output_type": "execute_result"
    }
   ],
   "source": [
    "import numpy as np\n",
    "import pandas as pd\n",
    "\n",
    "penguins = pd.read_csv(DATA_FILEPATH)\n",
    "penguins.head()"
   ]
  },
  {
   "cell_type": "markdown",
   "id": "c9eae10e-20c4-477e-b6b8-965c3a53566e",
   "metadata": {},
   "source": [
    "We can see the dataset contains the following columns:\n",
    "\n",
    "1. `species`: The species of a penguin. This is the column we want to predict.\n",
    "2. `island`: The island where the penguin was found\n",
    "3. `culmen_length_mm`: The length of the penguin's culmen (bill) in millimeters\n",
    "4. `culmen_depth_mm`: The depth of the penguin's culmen in millimeters\n",
    "5. `flipper_length_mm`: The length of the penguin's flipper in millimeters\n",
    "6. `body_mass_g`: The body mass of the penguin in grams\n",
    "7. `sex`: The sex of the penguin\n",
    "\n",
    "If you are curious, here is the description of a penguin's culmen:\n",
    "\n",
    "<img src='images/culmen.jpeg' alt='Culmen' width=\"600\">\n"
   ]
  },
  {
   "cell_type": "markdown",
   "id": "544bc0c3",
   "metadata": {},
   "source": [
    "Now, let's get the summary statistics for the features in our dataset.\n"
   ]
  },
  {
   "cell_type": "code",
   "execution_count": 94,
   "id": "f2107c25-e730-4e22-a1b8-5bda53e61124",
   "metadata": {
    "tags": []
   },
   "outputs": [
    {
     "data": {
      "text/html": [
       "<div>\n",
       "<style scoped>\n",
       "    .dataframe tbody tr th:only-of-type {\n",
       "        vertical-align: middle;\n",
       "    }\n",
       "\n",
       "    .dataframe tbody tr th {\n",
       "        vertical-align: top;\n",
       "    }\n",
       "\n",
       "    .dataframe thead th {\n",
       "        text-align: right;\n",
       "    }\n",
       "</style>\n",
       "<table border=\"1\" class=\"dataframe\">\n",
       "  <thead>\n",
       "    <tr style=\"text-align: right;\">\n",
       "      <th></th>\n",
       "      <th>species</th>\n",
       "      <th>island</th>\n",
       "      <th>culmen_length_mm</th>\n",
       "      <th>culmen_depth_mm</th>\n",
       "      <th>flipper_length_mm</th>\n",
       "      <th>body_mass_g</th>\n",
       "      <th>sex</th>\n",
       "    </tr>\n",
       "  </thead>\n",
       "  <tbody>\n",
       "    <tr>\n",
       "      <th>count</th>\n",
       "      <td>344</td>\n",
       "      <td>344</td>\n",
       "      <td>342.000000</td>\n",
       "      <td>342.000000</td>\n",
       "      <td>342.000000</td>\n",
       "      <td>342.000000</td>\n",
       "      <td>334</td>\n",
       "    </tr>\n",
       "    <tr>\n",
       "      <th>unique</th>\n",
       "      <td>3</td>\n",
       "      <td>3</td>\n",
       "      <td>NaN</td>\n",
       "      <td>NaN</td>\n",
       "      <td>NaN</td>\n",
       "      <td>NaN</td>\n",
       "      <td>3</td>\n",
       "    </tr>\n",
       "    <tr>\n",
       "      <th>top</th>\n",
       "      <td>Adelie</td>\n",
       "      <td>Biscoe</td>\n",
       "      <td>NaN</td>\n",
       "      <td>NaN</td>\n",
       "      <td>NaN</td>\n",
       "      <td>NaN</td>\n",
       "      <td>MALE</td>\n",
       "    </tr>\n",
       "    <tr>\n",
       "      <th>freq</th>\n",
       "      <td>152</td>\n",
       "      <td>168</td>\n",
       "      <td>NaN</td>\n",
       "      <td>NaN</td>\n",
       "      <td>NaN</td>\n",
       "      <td>NaN</td>\n",
       "      <td>168</td>\n",
       "    </tr>\n",
       "    <tr>\n",
       "      <th>mean</th>\n",
       "      <td>NaN</td>\n",
       "      <td>NaN</td>\n",
       "      <td>43.921930</td>\n",
       "      <td>17.151170</td>\n",
       "      <td>200.915205</td>\n",
       "      <td>4201.754386</td>\n",
       "      <td>NaN</td>\n",
       "    </tr>\n",
       "    <tr>\n",
       "      <th>std</th>\n",
       "      <td>NaN</td>\n",
       "      <td>NaN</td>\n",
       "      <td>5.459584</td>\n",
       "      <td>1.974793</td>\n",
       "      <td>14.061714</td>\n",
       "      <td>801.954536</td>\n",
       "      <td>NaN</td>\n",
       "    </tr>\n",
       "    <tr>\n",
       "      <th>min</th>\n",
       "      <td>NaN</td>\n",
       "      <td>NaN</td>\n",
       "      <td>32.100000</td>\n",
       "      <td>13.100000</td>\n",
       "      <td>172.000000</td>\n",
       "      <td>2700.000000</td>\n",
       "      <td>NaN</td>\n",
       "    </tr>\n",
       "    <tr>\n",
       "      <th>25%</th>\n",
       "      <td>NaN</td>\n",
       "      <td>NaN</td>\n",
       "      <td>39.225000</td>\n",
       "      <td>15.600000</td>\n",
       "      <td>190.000000</td>\n",
       "      <td>3550.000000</td>\n",
       "      <td>NaN</td>\n",
       "    </tr>\n",
       "    <tr>\n",
       "      <th>50%</th>\n",
       "      <td>NaN</td>\n",
       "      <td>NaN</td>\n",
       "      <td>44.450000</td>\n",
       "      <td>17.300000</td>\n",
       "      <td>197.000000</td>\n",
       "      <td>4050.000000</td>\n",
       "      <td>NaN</td>\n",
       "    </tr>\n",
       "    <tr>\n",
       "      <th>75%</th>\n",
       "      <td>NaN</td>\n",
       "      <td>NaN</td>\n",
       "      <td>48.500000</td>\n",
       "      <td>18.700000</td>\n",
       "      <td>213.000000</td>\n",
       "      <td>4750.000000</td>\n",
       "      <td>NaN</td>\n",
       "    </tr>\n",
       "    <tr>\n",
       "      <th>max</th>\n",
       "      <td>NaN</td>\n",
       "      <td>NaN</td>\n",
       "      <td>59.600000</td>\n",
       "      <td>21.500000</td>\n",
       "      <td>231.000000</td>\n",
       "      <td>6300.000000</td>\n",
       "      <td>NaN</td>\n",
       "    </tr>\n",
       "  </tbody>\n",
       "</table>\n",
       "</div>"
      ],
      "text/plain": [
       "       species  island  culmen_length_mm  culmen_depth_mm  flipper_length_mm  \\\n",
       "count      344     344        342.000000       342.000000         342.000000   \n",
       "unique       3       3               NaN              NaN                NaN   \n",
       "top     Adelie  Biscoe               NaN              NaN                NaN   \n",
       "freq       152     168               NaN              NaN                NaN   \n",
       "mean       NaN     NaN         43.921930        17.151170         200.915205   \n",
       "std        NaN     NaN          5.459584         1.974793          14.061714   \n",
       "min        NaN     NaN         32.100000        13.100000         172.000000   \n",
       "25%        NaN     NaN         39.225000        15.600000         190.000000   \n",
       "50%        NaN     NaN         44.450000        17.300000         197.000000   \n",
       "75%        NaN     NaN         48.500000        18.700000         213.000000   \n",
       "max        NaN     NaN         59.600000        21.500000         231.000000   \n",
       "\n",
       "        body_mass_g   sex  \n",
       "count    342.000000   334  \n",
       "unique          NaN     3  \n",
       "top             NaN  MALE  \n",
       "freq            NaN   168  \n",
       "mean    4201.754386   NaN  \n",
       "std      801.954536   NaN  \n",
       "min     2700.000000   NaN  \n",
       "25%     3550.000000   NaN  \n",
       "50%     4050.000000   NaN  \n",
       "75%     4750.000000   NaN  \n",
       "max     6300.000000   NaN  "
      ]
     },
     "execution_count": 94,
     "metadata": {},
     "output_type": "execute_result"
    }
   ],
   "source": [
    "penguins.describe(include=\"all\")"
   ]
  },
  {
   "cell_type": "markdown",
   "id": "b2e19af7-9f0f-45fe-b7d3-f19721c02a2b",
   "metadata": {},
   "source": [
    "Let's now display the distribution of values for the three categorical columns in our data:\n"
   ]
  },
  {
   "cell_type": "code",
   "execution_count": 95,
   "id": "1242122a-726e-4c37-a718-dd8e873d1612",
   "metadata": {
    "tags": []
   },
   "outputs": [
    {
     "name": "stdout",
     "output_type": "stream",
     "text": [
      "species\n",
      "Adelie       152\n",
      "Gentoo       124\n",
      "Chinstrap     68\n",
      "Name: count, dtype: int64\n",
      "\n",
      "island\n",
      "Biscoe       168\n",
      "Dream        124\n",
      "Torgersen     52\n",
      "Name: count, dtype: int64\n",
      "\n",
      "sex\n",
      "MALE      168\n",
      "FEMALE    165\n",
      ".           1\n",
      "Name: count, dtype: int64\n"
     ]
    }
   ],
   "source": [
    "species_distribution = penguins[\"species\"].value_counts()\n",
    "island_distribution = penguins[\"island\"].value_counts()\n",
    "sex_distribution = penguins[\"sex\"].value_counts()\n",
    "\n",
    "print(species_distribution, end=\"\\n\\n\")\n",
    "print(island_distribution, end=\"\\n\\n\")\n",
    "print(sex_distribution)"
   ]
  },
  {
   "cell_type": "markdown",
   "id": "e9d98fdd-3b8c-40a2-b8dc-15162b4049e2",
   "metadata": {},
   "source": [
    "The distribution of the categories in our data are:\n",
    "\n",
    "-   `species`: There are 3 species of penguins in the dataset: Adelie (`152`), Gentoo (`124`), and Chinstrap (`68`).\n",
    "-   `island`: Penguins are from 3 islands: Biscoe (`168`), Dream (`124`), and Torgersen (`52`).\n",
    "-   `sex`: We have `168` male penguins, `165` female penguins, and `1` penguin with an ambiguous gender (`.`).\n",
    "\n",
    "Let's replace the ambiguous value in the `sex` column with a `null` value:\n"
   ]
  },
  {
   "cell_type": "code",
   "execution_count": 149,
   "id": "cf1cf582-8831-4f83-bb17-2175afb193e8",
   "metadata": {
    "tags": []
   },
   "outputs": [
    {
     "data": {
      "text/plain": [
       "sex\n",
       "MALE      179\n",
       "FEMALE    165\n",
       "Name: count, dtype: int64"
      ]
     },
     "execution_count": 149,
     "metadata": {},
     "output_type": "execute_result"
    }
   ],
   "source": [
    "penguins[\"sex\"] = penguins[\"sex\"].replace(\".\", np.nan)\n",
    "\n",
    "# Let's display the new distribution of the column:\n",
    "sex_distribution = penguins[\"sex\"].value_counts()\n",
    "sex_distribution"
   ]
  },
  {
   "cell_type": "markdown",
   "id": "6e8425ce-ce4e-43e6-9ed8-0398b780cc66",
   "metadata": {},
   "source": [
    "Next, let's check for any missing values in the dataset.\n"
   ]
  },
  {
   "cell_type": "code",
   "execution_count": 150,
   "id": "cc42cb08-275c-4b05-9d2b-77052da2f336",
   "metadata": {
    "tags": []
   },
   "outputs": [
    {
     "data": {
      "text/plain": [
       "species              0\n",
       "island               0\n",
       "culmen_length_mm     0\n",
       "culmen_depth_mm      0\n",
       "flipper_length_mm    0\n",
       "body_mass_g          0\n",
       "sex                  0\n",
       "dtype: int64"
      ]
     },
     "execution_count": 150,
     "metadata": {},
     "output_type": "execute_result"
    }
   ],
   "source": [
    "penguins.isna().sum()"
   ]
  },
  {
   "cell_type": "markdown",
   "id": "1b65207c-3e66-453a-87a1-751636c979ee",
   "metadata": {},
   "source": [
    "Let's get rid of the missing values. For now, we are going to replace the missing values with the most frequent value in the column. Later, we'll use a different strategy to replace missing numeric values.\n"
   ]
  },
  {
   "cell_type": "code",
   "execution_count": 98,
   "id": "3c57d55d-afd6-467a-a7a8-ff04132770ed",
   "metadata": {
    "tags": []
   },
   "outputs": [
    {
     "data": {
      "text/plain": [
       "species              0\n",
       "island               0\n",
       "culmen_length_mm     0\n",
       "culmen_depth_mm      0\n",
       "flipper_length_mm    0\n",
       "body_mass_g          0\n",
       "sex                  0\n",
       "dtype: int64"
      ]
     },
     "execution_count": 98,
     "metadata": {},
     "output_type": "execute_result"
    }
   ],
   "source": [
    "from sklearn.impute import SimpleImputer\n",
    "\n",
    "imputer = SimpleImputer(strategy=\"most_frequent\")\n",
    "penguins.iloc[:, :] = imputer.fit_transform(penguins)\n",
    "\n",
    "# Let's display again the number of missing values:\n",
    "penguins.isna().sum()"
   ]
  },
  {
   "cell_type": "markdown",
   "id": "5758214f-a4ab-4980-8892-91ec8d218ef3",
   "metadata": {},
   "source": [
    "Let's visualize the distribution of categorical features.\n"
   ]
  },
  {
   "cell_type": "code",
   "execution_count": 99,
   "id": "2852c740",
   "metadata": {},
   "outputs": [
    {
     "data": {
      "image/png": "[encoded data removed]",
      "text/plain": [
       "<Figure size 600x1000 with 3 Axes>"
      ]
     },
     "metadata": {},
     "output_type": "display_data"
    }
   ],
   "source": [
    "import matplotlib.pyplot as plt\n",
    "\n",
    "fig, axs = plt.subplots(3, 1, figsize=(6, 10))\n",
    "\n",
    "axs[0].bar(species_distribution.index, species_distribution.values)\n",
    "axs[0].set_ylabel(\"Count\")\n",
    "axs[0].set_title(\"Distribution of Species\")\n",
    "\n",
    "axs[1].bar(island_distribution.index, island_distribution.values)\n",
    "axs[1].set_ylabel(\"Count\")\n",
    "axs[1].set_title(\"Distribution of Island\")\n",
    "\n",
    "axs[2].bar(sex_distribution.index, sex_distribution.values)\n",
    "axs[2].set_ylabel(\"Count\")\n",
    "axs[2].set_title(\"Distribution of Sex\")\n",
    "\n",
    "plt.tight_layout()\n",
    "plt.show()"
   ]
  },
  {
   "cell_type": "markdown",
   "id": "b04c8fae-35b4-4d8e-8fff-decee050af3a",
   "metadata": {},
   "source": [
    "Let's visualize the distribution of numerical columns.\n"
   ]
  },
  {
   "cell_type": "code",
   "execution_count": 100,
   "id": "707cc972",
   "metadata": {},
   "outputs": [
    {
     "data": {
      "image/png": "[encoded data removed]",
      "text/plain": [
       "<Figure size 800x600 with 4 Axes>"
      ]
     },
     "metadata": {},
     "output_type": "display_data"
    }
   ],
   "source": [
    "fig, axs = plt.subplots(2, 2, figsize=(8, 6))\n",
    "\n",
    "axs[0, 0].hist(penguins[\"culmen_length_mm\"], bins=20)\n",
    "axs[0, 0].set_ylabel(\"Count\")\n",
    "axs[0, 0].set_title(\"Distribution of culmen_length_mm\")\n",
    "\n",
    "axs[0, 1].hist(penguins[\"culmen_depth_mm\"], bins=20)\n",
    "axs[0, 1].set_ylabel(\"Count\")\n",
    "axs[0, 1].set_title(\"Distribution of culmen_depth_mm\")\n",
    "\n",
    "axs[1, 0].hist(penguins[\"flipper_length_mm\"], bins=20)\n",
    "axs[1, 0].set_ylabel(\"Count\")\n",
    "axs[1, 0].set_title(\"Distribution of flipper_length_mm\")\n",
    "\n",
    "axs[1, 1].hist(penguins[\"body_mass_g\"], bins=20)\n",
    "axs[1, 1].set_ylabel(\"Count\")\n",
    "axs[1, 1].set_title(\"Distribution of body_mass_g\")\n",
    "\n",
    "plt.tight_layout()\n",
    "plt.show()"
   ]
  },
  {
   "cell_type": "markdown",
   "id": "ef241df0-3acd-4401-a2c6-b70723d7595b",
   "metadata": {},
   "source": [
    "Let's display the covariance matrix of the dataset. The \"covariance\" measures how changes in one variable are associated with changes in a second variable. In other words, the covariance measures the degree to which two variables are linearly associated.\n"
   ]
  },
  {
   "cell_type": "code",
   "execution_count": 101,
   "id": "3daf3ba1-d218-4ad4-b862-af679b91273f",
   "metadata": {
    "tags": []
   },
   "outputs": [
    {
     "data": {
      "text/html": [
       "<div>\n",
       "<style scoped>\n",
       "    .dataframe tbody tr th:only-of-type {\n",
       "        vertical-align: middle;\n",
       "    }\n",
       "\n",
       "    .dataframe tbody tr th {\n",
       "        vertical-align: top;\n",
       "    }\n",
       "\n",
       "    .dataframe thead th {\n",
       "        text-align: right;\n",
       "    }\n",
       "</style>\n",
       "<table border=\"1\" class=\"dataframe\">\n",
       "  <thead>\n",
       "    <tr style=\"text-align: right;\">\n",
       "      <th></th>\n",
       "      <th>culmen_length_mm</th>\n",
       "      <th>culmen_depth_mm</th>\n",
       "      <th>flipper_length_mm</th>\n",
       "      <th>body_mass_g</th>\n",
       "    </tr>\n",
       "  </thead>\n",
       "  <tbody>\n",
       "    <tr>\n",
       "      <th>culmen_length_mm</th>\n",
       "      <td>29.679415</td>\n",
       "      <td>-2.516984</td>\n",
       "      <td>50.260588</td>\n",
       "      <td>2596.971151</td>\n",
       "    </tr>\n",
       "    <tr>\n",
       "      <th>culmen_depth_mm</th>\n",
       "      <td>-2.516984</td>\n",
       "      <td>3.877201</td>\n",
       "      <td>-16.108849</td>\n",
       "      <td>-742.660180</td>\n",
       "    </tr>\n",
       "    <tr>\n",
       "      <th>flipper_length_mm</th>\n",
       "      <td>50.260588</td>\n",
       "      <td>-16.108849</td>\n",
       "      <td>197.269501</td>\n",
       "      <td>9792.552037</td>\n",
       "    </tr>\n",
       "    <tr>\n",
       "      <th>body_mass_g</th>\n",
       "      <td>2596.971151</td>\n",
       "      <td>-742.660180</td>\n",
       "      <td>9792.552037</td>\n",
       "      <td>640316.716388</td>\n",
       "    </tr>\n",
       "  </tbody>\n",
       "</table>\n",
       "</div>"
      ],
      "text/plain": [
       "                   culmen_length_mm  culmen_depth_mm  flipper_length_mm  \\\n",
       "culmen_length_mm          29.679415        -2.516984          50.260588   \n",
       "culmen_depth_mm           -2.516984         3.877201         -16.108849   \n",
       "flipper_length_mm         50.260588       -16.108849         197.269501   \n",
       "body_mass_g             2596.971151      -742.660180        9792.552037   \n",
       "\n",
       "                     body_mass_g  \n",
       "culmen_length_mm     2596.971151  \n",
       "culmen_depth_mm      -742.660180  \n",
       "flipper_length_mm    9792.552037  \n",
       "body_mass_g        640316.716388  "
      ]
     },
     "execution_count": 101,
     "metadata": {},
     "output_type": "execute_result"
    }
   ],
   "source": [
    "penguins.cov(numeric_only=True)"
   ]
  },
  {
   "cell_type": "markdown",
   "id": "9fbbe6bc-0104-4663-8c30-8f9566755739",
   "metadata": {},
   "source": [
    "Here are three examples of what we get from interpreting the covariance matrix below:\n",
    "\n",
    "1. The positive covariance of 50.26 between culmen length and flippler length suggests that larger values of culmen length are associated with larger values of flipper length. As one increases, generally so does the other.\n",
    "2. The positive covariance of 2596.97 between culmen length and body mass suggests that heavier penguins generally have longer culmens. There is a tendency for these two variables to increase together.\n",
    "3. The negative covariance of -742.66 between culmen depth and body mass suggests a general tendency that penguins with deeper culmens weigh less.\n"
   ]
  },
  {
   "cell_type": "markdown",
   "id": "6b81117f",
   "metadata": {},
   "source": [
    "Let's now display the correlation matrix. \"Correlation\" measures both the strength and direction of the linear relationship between two variables:\n"
   ]
  },
  {
   "cell_type": "code",
   "execution_count": 102,
   "id": "1d793e09-2cb9-47ff-a0e6-199a0f4fc1b3",
   "metadata": {
    "tags": []
   },
   "outputs": [
    {
     "data": {
      "text/html": [
       "<div>\n",
       "<style scoped>\n",
       "    .dataframe tbody tr th:only-of-type {\n",
       "        vertical-align: middle;\n",
       "    }\n",
       "\n",
       "    .dataframe tbody tr th {\n",
       "        vertical-align: top;\n",
       "    }\n",
       "\n",
       "    .dataframe thead th {\n",
       "        text-align: right;\n",
       "    }\n",
       "</style>\n",
       "<table border=\"1\" class=\"dataframe\">\n",
       "  <thead>\n",
       "    <tr style=\"text-align: right;\">\n",
       "      <th></th>\n",
       "      <th>culmen_length_mm</th>\n",
       "      <th>culmen_depth_mm</th>\n",
       "      <th>flipper_length_mm</th>\n",
       "      <th>body_mass_g</th>\n",
       "    </tr>\n",
       "  </thead>\n",
       "  <tbody>\n",
       "    <tr>\n",
       "      <th>culmen_length_mm</th>\n",
       "      <td>1.000000</td>\n",
       "      <td>-0.234635</td>\n",
       "      <td>0.656856</td>\n",
       "      <td>0.595720</td>\n",
       "    </tr>\n",
       "    <tr>\n",
       "      <th>culmen_depth_mm</th>\n",
       "      <td>-0.234635</td>\n",
       "      <td>1.000000</td>\n",
       "      <td>-0.582472</td>\n",
       "      <td>-0.471339</td>\n",
       "    </tr>\n",
       "    <tr>\n",
       "      <th>flipper_length_mm</th>\n",
       "      <td>0.656856</td>\n",
       "      <td>-0.582472</td>\n",
       "      <td>1.000000</td>\n",
       "      <td>0.871302</td>\n",
       "    </tr>\n",
       "    <tr>\n",
       "      <th>body_mass_g</th>\n",
       "      <td>0.595720</td>\n",
       "      <td>-0.471339</td>\n",
       "      <td>0.871302</td>\n",
       "      <td>1.000000</td>\n",
       "    </tr>\n",
       "  </tbody>\n",
       "</table>\n",
       "</div>"
      ],
      "text/plain": [
       "                   culmen_length_mm  culmen_depth_mm  flipper_length_mm  \\\n",
       "culmen_length_mm           1.000000        -0.234635           0.656856   \n",
       "culmen_depth_mm           -0.234635         1.000000          -0.582472   \n",
       "flipper_length_mm          0.656856        -0.582472           1.000000   \n",
       "body_mass_g                0.595720        -0.471339           0.871302   \n",
       "\n",
       "                   body_mass_g  \n",
       "culmen_length_mm      0.595720  \n",
       "culmen_depth_mm      -0.471339  \n",
       "flipper_length_mm     0.871302  \n",
       "body_mass_g           1.000000  "
      ]
     },
     "execution_count": 102,
     "metadata": {},
     "output_type": "execute_result"
    }
   ],
   "source": [
    "penguins.corr(numeric_only=True)"
   ]
  },
  {
   "cell_type": "markdown",
   "id": "8aec4c08-767c-4740-959c-2d76268c3513",
   "metadata": {},
   "source": [
    "Here are three examples of what we get from interpreting the correlation matrix below:\n",
    "\n",
    "1. Penguins that weight more tend to have longer flippers.\n",
    "2. Penguins with a shallower culmen tend to have longer flippers.\n",
    "3. Penguins with longer culmens tend to have longer flippers.\n"
   ]
  },
  {
   "cell_type": "markdown",
   "id": "35fef0cf",
   "metadata": {},
   "source": [
    "Let's display the distribution of species by island:\n"
   ]
  },
  {
   "cell_type": "code",
   "execution_count": 103,
   "id": "1258c99d",
   "metadata": {},
   "outputs": [
    {
     "data": {
      "image/png": "[encoded data removed]",
      "text/plain": [
       "<Figure size 600x600 with 1 Axes>"
      ]
     },
     "metadata": {},
     "output_type": "display_data"
    }
   ],
   "source": [
    "unique_species = penguins[\"species\"].unique()\n",
    "\n",
    "fig, ax = plt.subplots(figsize=(6, 6))\n",
    "for species in unique_species:\n",
    "    data = penguins[penguins[\"species\"] == species]\n",
    "    ax.hist(data[\"island\"], bins=5, alpha=0.5, label=species)\n",
    "\n",
    "ax.set_xlabel(\"Island\")\n",
    "ax.set_ylabel(\"Count\")\n",
    "ax.set_title(\"Distribution of Species by Island\")\n",
    "ax.legend()\n",
    "plt.show()"
   ]
  },
  {
   "cell_type": "markdown",
   "id": "d74ae740-3590-4dce-ac5a-6205975c83da",
   "metadata": {},
   "source": [
    "Let's display the distribution of species by sex.\n"
   ]
  },
  {
   "cell_type": "code",
   "execution_count": 104,
   "id": "45b0a87f-028d-477f-9b65-199728c0b7ee",
   "metadata": {
    "tags": []
   },
   "outputs": [
    {
     "data": {
      "image/png": "[encoded data removed]",
      "text/plain": [
       "<Figure size 600x600 with 1 Axes>"
      ]
     },
     "metadata": {},
     "output_type": "display_data"
    }
   ],
   "source": [
    "fig, ax = plt.subplots(figsize=(6, 6))\n",
    "\n",
    "for species in unique_species:\n",
    "    data = penguins[penguins[\"species\"] == species]\n",
    "    ax.hist(data[\"sex\"], bins=3, alpha=0.5, label=species)\n",
    "\n",
    "ax.set_xlabel(\"Sex\")\n",
    "ax.set_ylabel(\"Count\")\n",
    "ax.set_title(\"Distribution of Species by Sex\")\n",
    "\n",
    "ax.legend()\n",
    "plt.show()"
   ]
  },
  {
   "cell_type": "markdown",
   "id": "1ce36cda",
   "metadata": {},
   "source": [
    "Predictive power of different features"
   ]
  },
  {
   "cell_type": "code",
   "execution_count": 105,
   "id": "f9024df6",
   "metadata": {},
   "outputs": [],
   "source": [
    "import seaborn as sns\n",
    "from sklearn.preprocessing import LabelEncoder"
   ]
  },
  {
   "cell_type": "markdown",
   "id": "11c2b7b0",
   "metadata": {},
   "source": [
    "Encode the islands and the sex"
   ]
  },
  {
   "cell_type": "code",
   "execution_count": 106,
   "id": "b2ad7475",
   "metadata": {},
   "outputs": [],
   "source": [
    "label_encoder_sex = LabelEncoder()\n",
    "label_encoder_island = LabelEncoder()\n",
    "\n",
    "penguins['sex'] = label_encoder_sex.fit_transform(penguins['sex'])\n",
    "penguins['island'] = label_encoder_island.fit_transform(penguins['island'])"
   ]
  },
  {
   "cell_type": "code",
   "execution_count": 107,
   "id": "ee9c389e",
   "metadata": {},
   "outputs": [
    {
     "data": {
      "image/png": "[encoded data removed]",
      "text/plain": [
       "<Figure size 640x480 with 2 Axes>"
      ]
     },
     "metadata": {},
     "output_type": "display_data"
    }
   ],
   "source": [
    "X = penguins.drop('species', axis=1)\n",
    "y = penguins['species']\n",
    "\n",
    "\n",
    "sns.heatmap(X.corr(),annot=True)\n",
    "plt.show()"
   ]
  },
  {
   "cell_type": "code",
   "execution_count": 108,
   "id": "fc35d2b3",
   "metadata": {},
   "outputs": [
    {
     "name": "stdout",
     "output_type": "stream",
     "text": [
      "(344, 6)\n",
      "(344,)\n"
     ]
    }
   ],
   "source": [
    "print(X.shape)\n",
    "print(y.shape)"
   ]
  },
  {
   "cell_type": "markdown",
   "id": "ac1ee3f9",
   "metadata": {},
   "source": [
    "Restore labels"
   ]
  },
  {
   "cell_type": "code",
   "execution_count": 109,
   "id": "06b21e3e",
   "metadata": {},
   "outputs": [
    {
     "data": {
      "text/html": [
       "<div>\n",
       "<style scoped>\n",
       "    .dataframe tbody tr th:only-of-type {\n",
       "        vertical-align: middle;\n",
       "    }\n",
       "\n",
       "    .dataframe tbody tr th {\n",
       "        vertical-align: top;\n",
       "    }\n",
       "\n",
       "    .dataframe thead th {\n",
       "        text-align: right;\n",
       "    }\n",
       "</style>\n",
       "<table border=\"1\" class=\"dataframe\">\n",
       "  <thead>\n",
       "    <tr style=\"text-align: right;\">\n",
       "      <th></th>\n",
       "      <th>species</th>\n",
       "      <th>island</th>\n",
       "      <th>culmen_length_mm</th>\n",
       "      <th>culmen_depth_mm</th>\n",
       "      <th>flipper_length_mm</th>\n",
       "      <th>body_mass_g</th>\n",
       "      <th>sex</th>\n",
       "    </tr>\n",
       "  </thead>\n",
       "  <tbody>\n",
       "    <tr>\n",
       "      <th>0</th>\n",
       "      <td>Adelie</td>\n",
       "      <td>Torgersen</td>\n",
       "      <td>39.1</td>\n",
       "      <td>18.7</td>\n",
       "      <td>181.0</td>\n",
       "      <td>3750.0</td>\n",
       "      <td>MALE</td>\n",
       "    </tr>\n",
       "    <tr>\n",
       "      <th>1</th>\n",
       "      <td>Adelie</td>\n",
       "      <td>Torgersen</td>\n",
       "      <td>39.5</td>\n",
       "      <td>17.4</td>\n",
       "      <td>186.0</td>\n",
       "      <td>3800.0</td>\n",
       "      <td>FEMALE</td>\n",
       "    </tr>\n",
       "    <tr>\n",
       "      <th>2</th>\n",
       "      <td>Adelie</td>\n",
       "      <td>Torgersen</td>\n",
       "      <td>40.3</td>\n",
       "      <td>18.0</td>\n",
       "      <td>195.0</td>\n",
       "      <td>3250.0</td>\n",
       "      <td>FEMALE</td>\n",
       "    </tr>\n",
       "    <tr>\n",
       "      <th>3</th>\n",
       "      <td>Adelie</td>\n",
       "      <td>Torgersen</td>\n",
       "      <td>41.1</td>\n",
       "      <td>17.0</td>\n",
       "      <td>190.0</td>\n",
       "      <td>3800.0</td>\n",
       "      <td>MALE</td>\n",
       "    </tr>\n",
       "    <tr>\n",
       "      <th>4</th>\n",
       "      <td>Adelie</td>\n",
       "      <td>Torgersen</td>\n",
       "      <td>36.7</td>\n",
       "      <td>19.3</td>\n",
       "      <td>193.0</td>\n",
       "      <td>3450.0</td>\n",
       "      <td>FEMALE</td>\n",
       "    </tr>\n",
       "  </tbody>\n",
       "</table>\n",
       "</div>"
      ],
      "text/plain": [
       "  species     island  culmen_length_mm  culmen_depth_mm  flipper_length_mm  \\\n",
       "0  Adelie  Torgersen              39.1             18.7              181.0   \n",
       "1  Adelie  Torgersen              39.5             17.4              186.0   \n",
       "2  Adelie  Torgersen              40.3             18.0              195.0   \n",
       "3  Adelie  Torgersen              41.1             17.0              190.0   \n",
       "4  Adelie  Torgersen              36.7             19.3              193.0   \n",
       "\n",
       "   body_mass_g     sex  \n",
       "0       3750.0    MALE  \n",
       "1       3800.0  FEMALE  \n",
       "2       3250.0  FEMALE  \n",
       "3       3800.0    MALE  \n",
       "4       3450.0  FEMALE  "
      ]
     },
     "execution_count": 109,
     "metadata": {},
     "output_type": "execute_result"
    }
   ],
   "source": [
    "penguins['sex'] = label_encoder_sex.inverse_transform(penguins['sex'])\n",
    "penguins['island'] = label_encoder_island.inverse_transform(penguins['island'])\n",
    "\n",
    "penguins.head()"
   ]
  },
  {
   "cell_type": "markdown",
   "id": "939c3e27",
   "metadata": {},
   "source": [
    "Mutual info of all features"
   ]
  },
  {
   "cell_type": "code",
   "execution_count": 110,
   "id": "23c1f87d",
   "metadata": {},
   "outputs": [],
   "source": [
    "from sklearn.feature_selection import mutual_info_classif"
   ]
  },
  {
   "cell_type": "code",
   "execution_count": 111,
   "id": "452c3465",
   "metadata": {},
   "outputs": [
    {
     "data": {
      "image/png": "[encoded data removed]",
      "text/plain": [
       "<Figure size 640x480 with 1 Axes>"
      ]
     },
     "metadata": {},
     "output_type": "display_data"
    }
   ],
   "source": [
    "mutual_info = mutual_info_classif(X, y, discrete_features='auto', random_state=42)\n",
    "mutual_info_series = pd.Series(mutual_info, index=X.columns)\n",
    "mutual_info_series.sort_values(ascending=False).plot(kind='bar',title = \"Predictive Power on Species\")\n",
    "plt.show()"
   ]
  },
  {
   "cell_type": "markdown",
   "id": "6f57d035",
   "metadata": {},
   "source": [
    "From this we can see that sex has little predictive power in predicting the species of the penguin"
   ]
  },
  {
   "cell_type": "markdown",
   "id": "e2a84a7a",
   "metadata": {},
   "source": [
    "Cleaning with CleanLabs"
   ]
  },
  {
   "cell_type": "code",
   "execution_count": 112,
   "id": "677ab679",
   "metadata": {},
   "outputs": [],
   "source": [
    "from cleanlab import Datalab\n",
    "from sklearn.model_selection import cross_val_predict\n",
    "from sklearn.preprocessing import StandardScaler\n",
    "from sklearn.ensemble import HistGradientBoostingClassifier\n",
    "from sklearn.neighbors import NearestNeighbors\n"
   ]
  },
  {
   "cell_type": "code",
   "execution_count": 113,
   "id": "e8078e3e",
   "metadata": {},
   "outputs": [],
   "source": [
    "# Collect labels and the raw data\n",
    "\n",
    "penguins_raw = penguins[[\"flipper_length_mm\",\"culmen_depth_mm\",\"culmen_length_mm\",\"island\",\"body_mass_g\",\"sex\"]]\n",
    "labels = penguins[\"species\"]\n"
   ]
  },
  {
   "cell_type": "code",
   "execution_count": 114,
   "id": "d83203cc",
   "metadata": {},
   "outputs": [],
   "source": [
    "#categorial features and encoding it\n",
    "cat_features = [\"sex\",\"island\"]\n",
    "penguins_encoded = pd.get_dummies(penguins_raw, columns=cat_features)\n",
    "\n",
    "#numeric features\n",
    "numeric_features = [\"flipper_length_mm\",\"culmen_depth_mm\",\"culmen_length_mm\",\"body_mass_g\"]\n",
    "\n",
    "#normalize\n",
    "scaler = StandardScaler()\n",
    "\n",
    "#process data\n",
    "penguins_processed = penguins_encoded.copy()\n",
    "penguins_processed[numeric_features] = scaler.fit_transform(penguins_encoded[numeric_features])\n"
   ]
  },
  {
   "cell_type": "code",
   "execution_count": 115,
   "id": "736f94c7",
   "metadata": {},
   "outputs": [],
   "source": [
    "#Classifer\n",
    "\n",
    "clf = HistGradientBoostingClassifier()\n",
    "\n",
    "#Prediction Probabilties\n",
    "pred_probs = cross_val_predict(\n",
    "    clf,\n",
    "    penguins_processed,\n",
    "    labels,\n",
    "    cv = 5,\n",
    "    method=\"predict_proba\"\n",
    ")\n"
   ]
  },
  {
   "cell_type": "code",
   "execution_count": 116,
   "id": "c210629d",
   "metadata": {},
   "outputs": [],
   "source": [
    "#Construct KNN\n",
    "# The KNN graph reflects how close each example is when compared to other examples in our dataset (in the numerical space of preprocessed feature values). \n",
    "# Comparing the distance of the examples from different datasets, we will use the euclidean distance\n",
    "KNN = NearestNeighbors(metric='euclidean')\n",
    "KNN.fit(penguins_processed.values)\n",
    "\n",
    "knn_graph = KNN.kneighbors_graph(mode=\"distance\")"
   ]
  },
  {
   "cell_type": "code",
   "execution_count": 117,
   "id": "5f060523",
   "metadata": {},
   "outputs": [
    {
     "name": "stdout",
     "output_type": "stream",
     "text": [
      "Finding label issues ...\n",
      "Finding outlier issues ...\n",
      "Finding near_duplicate issues ...\n",
      "Finding non_iid issues ...\n",
      "Finding class_imbalance issues ...\n",
      "Finding underperforming_group issues ...\n",
      "\n",
      "Audit complete. 6 issues found in the dataset.\n"
     ]
    },
    {
     "name": "stderr",
     "output_type": "stream",
     "text": [
      "b:\\Git\\ml.school\\venv\\lib\\site-packages\\sklearn\\neighbors\\_base.py:246: EfficiencyWarning: Precomputed sparse input was not sorted by row values. Use the function sklearn.neighbors.sort_graph_by_row_values to sort the input by row values, with warn_when_not_sorted=False to remove this warning.\n",
      "  warnings.warn(\n"
     ]
    }
   ],
   "source": [
    "#Find the labeling issues\n",
    "\n",
    "data = {\"X\": penguins_processed.values, \"y\": labels}\n",
    "\n",
    "lab = Datalab(data, label_name=\"y\")\n",
    "lab.find_issues(pred_probs=pred_probs,knn_graph=knn_graph)"
   ]
  },
  {
   "cell_type": "markdown",
   "id": "1c184edf",
   "metadata": {},
   "source": [
    "Report on the data"
   ]
  },
  {
   "cell_type": "code",
   "execution_count": 118,
   "id": "0e530801",
   "metadata": {},
   "outputs": [
    {
     "name": "stdout",
     "output_type": "stream",
     "text": [
      "Dataset Information: num_examples: 344, num_classes: 3\n",
      "\n",
      "Here is a summary of various issues found in your data:\n",
      "\n",
      "issue_type  num_issues\n",
      "   outlier           4\n",
      "     label           1\n",
      "   non_iid           1\n",
      "\n",
      "Learn about each issue: https://docs.cleanlab.ai/stable/cleanlab/datalab/guide/issue_type_description.html\n",
      "See which examples in your dataset exhibit each issue via: `datalab.get_issues(<ISSUE_NAME>)`\n",
      "\n",
      "Data indices corresponding to top examples of each issue are shown below.\n",
      "\n",
      "\n",
      "---------------------- outlier issues ----------------------\n",
      "\n",
      "About this issue:\n",
      "\tExamples that are very different from the rest of the dataset \n",
      "    (i.e. potentially out-of-distribution or rare/anomalous instances).\n",
      "    \n",
      "\n",
      "Number of examples with this issue: 4\n",
      "Overall dataset quality in terms of this issue: 0.3671\n",
      "\n",
      "Examples representing most severe instances of this issue:\n",
      "     is_outlier_issue  outlier_score\n",
      "169              True       0.030996\n",
      "114              True       0.072554\n",
      "253              True       0.093165\n",
      "19               True       0.100988\n",
      "47              False       0.111635\n",
      "\n",
      "\n",
      "----------------------- label issues -----------------------\n",
      "\n",
      "About this issue:\n",
      "\tExamples whose given label is estimated to be potentially incorrect\n",
      "    (e.g. due to annotation error) are flagged as having label issues.\n",
      "    \n",
      "\n",
      "Number of examples with this issue: 1\n",
      "Overall dataset quality in terms of this issue: 0.9971\n",
      "\n",
      "Examples representing most severe instances of this issue:\n",
      "     is_label_issue  label_score given_label predicted_label\n",
      "339            True     0.000151      Gentoo          Adelie\n",
      "182           False     0.129233   Chinstrap          Adelie\n",
      "216           False     0.388779   Chinstrap          Adelie\n",
      "37            False     0.449255      Adelie       Chinstrap\n",
      "43            False     0.679700      Adelie          Adelie\n",
      "\n",
      "\n",
      "---------------------- non_iid issues ----------------------\n",
      "\n",
      "About this issue:\n",
      "\tWhether the dataset exhibits statistically significant\n",
      "    violations of the IID assumption like:\n",
      "    changepoints or shift, drift, autocorrelation, etc.\n",
      "    The specific violation considered is whether the\n",
      "    examples are ordered such that almost adjacent examples\n",
      "    tend to have more similar feature values.\n",
      "    \n",
      "\n",
      "Number of examples with this issue: 1\n",
      "Overall dataset quality in terms of this issue: 0.0000\n",
      "\n",
      "Examples representing most severe instances of this issue:\n",
      "     is_non_iid_issue  non_iid_score\n",
      "163              True       0.593968\n",
      "335             False       0.596527\n",
      "311             False       0.605541\n",
      "168             False       0.606851\n",
      "189             False       0.608046\n",
      "\n",
      "Additional Information: \n",
      "p-value: 0.0\n"
     ]
    }
   ],
   "source": [
    "lab.report()"
   ]
  },
  {
   "cell_type": "markdown",
   "id": "48150ea3",
   "metadata": {},
   "source": [
    "Closer look at the labeling error"
   ]
  },
  {
   "cell_type": "code",
   "execution_count": 119,
   "id": "ba712fdd",
   "metadata": {},
   "outputs": [
    {
     "data": {
      "text/html": [
       "<div>\n",
       "<style scoped>\n",
       "    .dataframe tbody tr th:only-of-type {\n",
       "        vertical-align: middle;\n",
       "    }\n",
       "\n",
       "    .dataframe tbody tr th {\n",
       "        vertical-align: top;\n",
       "    }\n",
       "\n",
       "    .dataframe thead th {\n",
       "        text-align: right;\n",
       "    }\n",
       "</style>\n",
       "<table border=\"1\" class=\"dataframe\">\n",
       "  <thead>\n",
       "    <tr style=\"text-align: right;\">\n",
       "      <th></th>\n",
       "      <th>is_label_issue</th>\n",
       "      <th>label_score</th>\n",
       "      <th>given_label</th>\n",
       "      <th>predicted_label</th>\n",
       "    </tr>\n",
       "  </thead>\n",
       "  <tbody>\n",
       "    <tr>\n",
       "      <th>0</th>\n",
       "      <td>False</td>\n",
       "      <td>1.000000</td>\n",
       "      <td>Adelie</td>\n",
       "      <td>Adelie</td>\n",
       "    </tr>\n",
       "    <tr>\n",
       "      <th>1</th>\n",
       "      <td>False</td>\n",
       "      <td>0.999999</td>\n",
       "      <td>Adelie</td>\n",
       "      <td>Adelie</td>\n",
       "    </tr>\n",
       "    <tr>\n",
       "      <th>2</th>\n",
       "      <td>False</td>\n",
       "      <td>1.000000</td>\n",
       "      <td>Adelie</td>\n",
       "      <td>Adelie</td>\n",
       "    </tr>\n",
       "    <tr>\n",
       "      <th>3</th>\n",
       "      <td>False</td>\n",
       "      <td>0.985852</td>\n",
       "      <td>Adelie</td>\n",
       "      <td>Adelie</td>\n",
       "    </tr>\n",
       "    <tr>\n",
       "      <th>4</th>\n",
       "      <td>False</td>\n",
       "      <td>1.000000</td>\n",
       "      <td>Adelie</td>\n",
       "      <td>Adelie</td>\n",
       "    </tr>\n",
       "    <tr>\n",
       "      <th>...</th>\n",
       "      <td>...</td>\n",
       "      <td>...</td>\n",
       "      <td>...</td>\n",
       "      <td>...</td>\n",
       "    </tr>\n",
       "    <tr>\n",
       "      <th>339</th>\n",
       "      <td>True</td>\n",
       "      <td>0.000151</td>\n",
       "      <td>Gentoo</td>\n",
       "      <td>Adelie</td>\n",
       "    </tr>\n",
       "    <tr>\n",
       "      <th>340</th>\n",
       "      <td>False</td>\n",
       "      <td>0.999999</td>\n",
       "      <td>Gentoo</td>\n",
       "      <td>Gentoo</td>\n",
       "    </tr>\n",
       "    <tr>\n",
       "      <th>341</th>\n",
       "      <td>False</td>\n",
       "      <td>0.999999</td>\n",
       "      <td>Gentoo</td>\n",
       "      <td>Gentoo</td>\n",
       "    </tr>\n",
       "    <tr>\n",
       "      <th>342</th>\n",
       "      <td>False</td>\n",
       "      <td>0.999998</td>\n",
       "      <td>Gentoo</td>\n",
       "      <td>Gentoo</td>\n",
       "    </tr>\n",
       "    <tr>\n",
       "      <th>343</th>\n",
       "      <td>False</td>\n",
       "      <td>0.999997</td>\n",
       "      <td>Gentoo</td>\n",
       "      <td>Gentoo</td>\n",
       "    </tr>\n",
       "  </tbody>\n",
       "</table>\n",
       "<p>344 rows × 4 columns</p>\n",
       "</div>"
      ],
      "text/plain": [
       "     is_label_issue  label_score given_label predicted_label\n",
       "0             False     1.000000      Adelie          Adelie\n",
       "1             False     0.999999      Adelie          Adelie\n",
       "2             False     1.000000      Adelie          Adelie\n",
       "3             False     0.985852      Adelie          Adelie\n",
       "4             False     1.000000      Adelie          Adelie\n",
       "..              ...          ...         ...             ...\n",
       "339            True     0.000151      Gentoo          Adelie\n",
       "340           False     0.999999      Gentoo          Gentoo\n",
       "341           False     0.999999      Gentoo          Gentoo\n",
       "342           False     0.999998      Gentoo          Gentoo\n",
       "343           False     0.999997      Gentoo          Gentoo\n",
       "\n",
       "[344 rows x 4 columns]"
      ]
     },
     "execution_count": 119,
     "metadata": {},
     "output_type": "execute_result"
    }
   ],
   "source": [
    "lab.get_issues(\t'label')"
   ]
  },
  {
   "cell_type": "markdown",
   "id": "11137928-6b4e-465c-8ad7-2297afbaa33c",
   "metadata": {},
   "source": [
    "## Session 3 - Splitting and Transforming the Data\n",
    "\n",
    "In this session we'll build a simple [SageMaker Pipeline](https://docs.aws.amazon.com/sagemaker/latest/dg/pipelines-sdk.html) with one step to split and transform the data:\n",
    "\n",
    "<a href=\"images/processing-step.png\" target=\"_blank\"> <img src=\"images/processing-step.png\" alt=\"High-level overview of the Preprocessing Step\" style=\"max-width: 740px;\" /></a>\n",
    "\n",
    "We'll use a [Scikit-Learn Pipeline](https://scikit-learn.org/stable/modules/generated/sklearn.pipeline.Pipeline.html) for the transformations, and a [Processing Step](https://docs.aws.amazon.com/sagemaker/latest/dg/build-and-manage-steps.html#step-type-processing) with a [SKLearnProcessor](https://sagemaker.readthedocs.io/en/stable/frameworks/sklearn/sagemaker.sklearn.html#scikit-learn-processor) to execute a preprocessing script. Check the [SageMaker Pipelines Overview](https://docs.aws.amazon.com/sagemaker/latest/dg/pipelines-sdk.html) for an introduction to the fundamental components of a SageMaker Pipeline.\n"
   ]
  },
  {
   "cell_type": "markdown",
   "id": "587d06e0-b711-4e3d-b424-6fa611a51f94",
   "metadata": {
    "tags": []
   },
   "source": [
    "### Step 1 - Creating the Preprocessing Script\n",
    "\n",
    "The first step we need in the pipeline is a [Processing Step](https://docs.aws.amazon.com/sagemaker/latest/dg/build-and-manage-steps.html#step-type-processing) to run a script that will split and transform the data.\n",
    "\n",
    "This Processing Step will create a SageMaker Processing Job in the background, run the script, and upload the output to S3. You can use Processing Jobs to perform data preprocessing, post-processing, feature engineering, data validation, and model evaluation. Check the [ProcessingStep](https://sagemaker.readthedocs.io/en/stable/workflows/pipelines/sagemaker.workflow.pipelines.html#sagemaker.workflow.steps.ProcessingStep) SageMaker's SDK documentation for more information.\n"
   ]
  },
  {
   "cell_type": "markdown",
   "id": "6ab6f546",
   "metadata": {},
   "source": [
    "We will store the script in a folder called `processing` and add it to the system path so we can later import it as a module.\n"
   ]
  },
  {
   "cell_type": "code",
   "execution_count": 102,
   "id": "78fe069e",
   "metadata": {},
   "outputs": [],
   "source": [
    "(CODE_FOLDER / \"processing\").mkdir(parents=True, exist_ok=True)"
   ]
  },
  {
   "cell_type": "markdown",
   "id": "021b8e0c",
   "metadata": {},
   "source": [
    "Let's now create the script:\n"
   ]
  },
  {
   "cell_type": "code",
   "execution_count": 103,
   "id": "fb6ba7c0-1bd6-4fe5-8b7f-f6cbdfd3846c",
   "metadata": {
    "tags": [
     "hide-output"
    ]
   },
   "outputs": [
    {
     "name": "stdout",
     "output_type": "stream",
     "text": [
      "Overwriting code/processing/script.py\n"
     ]
    }
   ],
   "source": [
    "%%writefile {CODE_FOLDER}/processing/script.py\n",
    "# | filename: script.py\n",
    "# | code-line-numbers: true\n",
    "\n",
    "import os\n",
    "import tarfile\n",
    "import tempfile\n",
    "from pathlib import Path\n",
    "\n",
    "import joblib\n",
    "import numpy as np\n",
    "import pandas as pd\n",
    "from sklearn.compose import ColumnTransformer, make_column_selector\n",
    "from sklearn.impute import SimpleImputer\n",
    "from sklearn.model_selection import train_test_split\n",
    "from sklearn.pipeline import make_pipeline\n",
    "from sklearn.preprocessing import OneHotEncoder, OrdinalEncoder, StandardScaler\n",
    "\n",
    "\n",
    "def preprocess(base_directory):\n",
    "    \"\"\"Load the supplied data, split it and transform it.\"\"\"\n",
    "    df = _read_data_from_input_csv_files(base_directory)\n",
    "    df['sex']= df['sex'].replace('.',np.nan)\n",
    "#transformers: list of tuples\n",
    "#List of (name, transformer, columns) tuples specifying the transformer objects to be applied to subsets of the data. Name is the name of this transformation and is independent\n",
    "# of the name of the columun in the DataFrame that is inputed\n",
    "    target_transformer = ColumnTransformer(\n",
    "        transformers=[(\"species\", OrdinalEncoder(), [0])],\n",
    "    )\n",
    "#This is a pipline which is essentially adding multiple steps. For info: https://scikit-learn.org/stable/modules/generated/sklearn.pipeline.make_pipeline.html\n",
    "    numeric_transformer = make_pipeline(\n",
    "        #Impute missing values with the mean of the colmun\n",
    "        SimpleImputer(strategy=\"mean\"),\n",
    "        #Calculating z score essentially. z = (x-u)/s where u is the mean and s is the standard deviation. You want to work with features that resemable a \n",
    "        #standard normal distribution which is mean zero and unit s.d.\n",
    "        StandardScaler(),\n",
    "    )\n",
    "\n",
    "    categorical_transformer = make_pipeline(\n",
    "        SimpleImputer(strategy=\"most_frequent\"),\n",
    "        OneHotEncoder(),\n",
    "    )\n",
    "    # https://scikit-learn.org/stable/auto_examples/compose/plot_column_transformer_mixed_types.html#sphx-glr-auto-examples-compose-plot-column-transformer-mixed-types-py\n",
    "    # This function is used when we have features of mixed types and thus need to apply the appropriate transformation\n",
    "    features_transformer = ColumnTransformer(\n",
    "        transformers=[\n",
    "            (\n",
    "                #Name of the transform\n",
    "                \"numeric\",\n",
    "                #Transformation that we want to perform. In this case, this will impute missing values with the mean and normalize them\n",
    "                numeric_transformer,\n",
    "                #The colmuns we want to work with are columns that are numeric i.e. not text. Sci-kit learn calls non numeric data as 'objects' so we are EXCLUDING categorical objects\n",
    "                #Good to have : https://scikit-learn.org/stable/modules/generated/sklearn.compose.make_column_selector.html\n",
    "                make_column_selector(dtype_exclude=\"object\"),\n",
    "            ),\n",
    "            # NOTE: sex is not included because we discovered that it doesn't have that much predictive power with mutual_info_classif in the EDA section in session 2\n",
    "            (\"categorical\", \n",
    "            categorical_transformer, \n",
    "            make_column_selector(dtype_include=\"object\")),\n",
    "        ],\n",
    "    )\n",
    "\n",
    "    df_train, df_validation, df_test = _split_data(df)\n",
    "\n",
    "    _save_train_baseline(base_directory, df_train)\n",
    "    _save_test_baseline(base_directory, df_test)\n",
    "    # Transforming the data AFTER splitting\n",
    "    y_train = target_transformer.fit_transform(\n",
    "        np.array(df_train.species.values).reshape(-1, 1),\n",
    "    )\n",
    "    y_validation = target_transformer.transform(\n",
    "        np.array(df_validation.species.values).reshape(-1, 1),\n",
    "    )\n",
    "    y_test = target_transformer.transform(\n",
    "        np.array(df_test.species.values).reshape(-1, 1),\n",
    "    )\n",
    "    #drop species from all the sets as that is our target value. We will use the features to predict the type of species\n",
    "    df_train = df_train.drop(\"species\", axis=1)\n",
    "    df_validation = df_validation.drop(\"species\", axis=1)\n",
    "    df_test = df_test.drop(\"species\", axis=1)\n",
    "    # fit_transform first because we want to get the statistics then only transform as we want to use the statistics of the training data\n",
    "    X_train = features_transformer.fit_transform(df_train)  # noqa: N806\n",
    "    X_validation = features_transformer.transform(df_validation)  # noqa: N806\n",
    "    X_test = features_transformer.transform(df_test)  # noqa: N806\n",
    "\n",
    "    _save_splits(\n",
    "        base_directory,\n",
    "        X_train,\n",
    "        y_train,\n",
    "        X_validation,\n",
    "        y_validation,\n",
    "        X_test,\n",
    "        y_test,\n",
    "    )\n",
    "    _save_model(base_directory, target_transformer, features_transformer)\n",
    "\n",
    "\n",
    "def _read_data_from_input_csv_files(base_directory):\n",
    "    \"\"\"Read the data from the input CSV files.\n",
    "\n",
    "    This function reads every CSV file available and\n",
    "    concatenates them into a single dataframe.\n",
    "    \"\"\"\n",
    "    input_directory = Path(base_directory) / \"input\"\n",
    "    files = list(input_directory.glob(\"*.csv\"))\n",
    "\n",
    "    if len(files) == 0:\n",
    "        message = f\"The are no CSV files in {input_directory.as_posix()}/\"\n",
    "        raise ValueError(message)\n",
    "\n",
    "    raw_data = [pd.read_csv(file) for file in files]\n",
    "    df = pd.concat(raw_data)\n",
    "\n",
    "    # Shuffle the data\n",
    "    return df.sample(frac=1, random_state=42)\n",
    "\n",
    "\n",
    "def _split_data(df):\n",
    "    \"\"\"Split the data into train, validation, and test.\"\"\"\n",
    "    #df_train gets 70% of the data while temp gets 30%\n",
    "    df_train, temp = train_test_split(df, test_size=0.3, stratify=df['species'])\n",
    "    '''\n",
    "    NOTE: For stratification, the best process is to straify the target variable\n",
    "    This is because I want to ensure that my splits of the data (train, validation, test) have the same\n",
    "    proportion of each type of species in each\n",
    "    '''\n",
    "    #df_validation gets 50% of the data and df_test gets 50% FROM temp\n",
    "    df_validation, df_test = train_test_split(temp, test_size=0.5,stratify=temp['species'])\n",
    "    # 70% to train, 15% to validate/dev 15% to test\n",
    "    return df_train, df_validation, df_test\n",
    "\n",
    "\n",
    "def _save_train_baseline(base_directory, df_train):\n",
    "    \"\"\"Save the untransformed training data to disk.\n",
    "\n",
    "    We will need the training data to compute a baseline to\n",
    "    determine the quality of the data that the model receives\n",
    "    when deployed.\n",
    "    \"\"\"\n",
    "    baseline_path = Path(base_directory) / \"train-baseline\"\n",
    "    baseline_path.mkdir(parents=True, exist_ok=True)\n",
    "\n",
    "    df = df_train.copy().dropna()\n",
    "\n",
    "    # To compute the data quality baseline, we don't need the\n",
    "    # target variable, so we'll drop it from the dataframe.\n",
    "    df = df.drop(\"species\", axis=1)\n",
    "\n",
    "    df.to_csv(baseline_path / \"train-baseline.csv\", header=True, index=False)\n",
    "\n",
    "\n",
    "def _save_test_baseline(base_directory, df_test):\n",
    "    \"\"\"Save the untransformed test data to disk.\n",
    "\n",
    "    We will need the test data to compute a baseline to\n",
    "    determine the quality of the model predictions when deployed.\n",
    "    \"\"\"\n",
    "    baseline_path = Path(base_directory) / \"test-baseline\"\n",
    "    baseline_path.mkdir(parents=True, exist_ok=True)\n",
    "\n",
    "    df = df_test.copy().dropna()\n",
    "\n",
    "    # We'll use the test baseline to generate predictions later,\n",
    "    # and we can't have a header line because the model won't be\n",
    "    # able to make a prediction for it.\n",
    "    df.to_csv(baseline_path / \"test-baseline.csv\", header=False, index=False)\n",
    "\n",
    "\n",
    "def _save_splits(\n",
    "    base_directory,\n",
    "    X_train,  # noqa: N803\n",
    "    y_train,\n",
    "    X_validation,  # noqa: N803\n",
    "    y_validation,\n",
    "    X_test,  # noqa: N803\n",
    "    y_test,\n",
    "):\n",
    "    \"\"\"Save data splits to disk.\n",
    "\n",
    "    This function concatenates the transformed features\n",
    "    and the target variable, and saves each one of the split\n",
    "    sets to disk.\n",
    "    \"\"\"\n",
    "    train = np.concatenate((X_train, y_train), axis=1)\n",
    "    validation = np.concatenate((X_validation, y_validation), axis=1)\n",
    "    test = np.concatenate((X_test, y_test), axis=1)\n",
    "\n",
    "    train_path = Path(base_directory) / \"train\"\n",
    "    validation_path = Path(base_directory) / \"validation\"\n",
    "    test_path = Path(base_directory) / \"test\"\n",
    "\n",
    "    train_path.mkdir(parents=True, exist_ok=True)\n",
    "    validation_path.mkdir(parents=True, exist_ok=True)\n",
    "    test_path.mkdir(parents=True, exist_ok=True)\n",
    "\n",
    "    pd.DataFrame(train).to_csv(train_path / \"train.csv\", header=False, index=False)\n",
    "    pd.DataFrame(validation).to_csv(\n",
    "        validation_path / \"validation.csv\",\n",
    "        header=False,\n",
    "        index=False,\n",
    "    )\n",
    "    pd.DataFrame(test).to_csv(test_path / \"test.csv\", header=False, index=False)\n",
    "     #combined = np.concatenate((train, validation), axis=0)  # Combine only train and validation\n",
    "    # combined_path = Path(base_directory) / \"combined_train_val\"\n",
    "    # combined_path.mkdir(parents=True, exist_ok=True)\n",
    "    # pd.DataFrame(combined).to_csv(combined_path / \"combined_train_val.csv\", header=False, index=False)\n",
    "\n",
    "\n",
    "def _save_model(base_directory, target_transformer, features_transformer):\n",
    "    \"\"\"Save the Scikit-Learn transformation pipelines.\n",
    "\n",
    "    This function creates a model.tar.gz file that\n",
    "    contains the two transformation pipelines we built\n",
    "    to transform the data.\n",
    "    \"\"\"\n",
    "    with tempfile.TemporaryDirectory() as directory:\n",
    "        joblib.dump(target_transformer, Path(directory) / \"target.joblib\")\n",
    "        joblib.dump(features_transformer, Path(directory) / \"features.joblib\")\n",
    "\n",
    "        model_path = Path(base_directory) / \"model\"\n",
    "        model_path.mkdir(parents=True, exist_ok=True)\n",
    "\n",
    "        with tarfile.open(f\"{(model_path / 'model.tar.gz').as_posix()}\", \"w:gz\") as tar:\n",
    "            tar.add(Path(directory) / \"target.joblib\", arcname=\"target.joblib\")\n",
    "            tar.add(\n",
    "                Path(directory) / \"features.joblib\", arcname=\"features.joblib\",\n",
    "            )\n",
    "\n",
    "\n",
    "if __name__ == \"__main__\":\n",
    "    preprocess(base_directory=\"/opt/ml/processing\")"
   ]
  },
  {
   "cell_type": "markdown",
   "id": "39301f9f",
   "metadata": {},
   "source": [
    "Let's test the script to ensure everything is working as expected:\n"
   ]
  },
  {
   "cell_type": "code",
   "execution_count": 104,
   "id": "d1f122a4-acff-4687-91b9-bfef13567d88",
   "metadata": {
    "tags": [
     "hide-output"
    ]
   },
   "outputs": [
    {
     "name": "stdout",
     "output_type": "stream",
     "text": [
      "\u001b[32m.\u001b[0m\u001b[32m.\u001b[0m\u001b[32m.\u001b[0m\u001b[32m.\u001b[0m\u001b[32m.\u001b[0m\u001b[32m.\u001b[0m\u001b[32m.\u001b[0m\u001b[32m.\u001b[0m\n",
      "\u001b[32m\u001b[32m\u001b[1m8 passed\u001b[0m\u001b[32m in 0.57s\u001b[0m\u001b[0m\n"
     ]
    }
   ],
   "source": [
    "%%ipytest -s\n",
    "# | code-fold: true\n",
    "\n",
    "import os\n",
    "import shutil\n",
    "import tarfile\n",
    "import tempfile\n",
    "\n",
    "import pytest\n",
    "from processing.script import preprocess\n",
    "\n",
    "\n",
    "@pytest.fixture(autouse=False)\n",
    "def directory():\n",
    "    directory = tempfile.mkdtemp()\n",
    "    input_directory = Path(directory) / \"input\"\n",
    "    input_directory.mkdir(parents=True, exist_ok=True)\n",
    "    shutil.copy2(DATA_FILEPATH, input_directory / \"data.csv\")\n",
    "\n",
    "    directory = Path(directory)\n",
    "    preprocess(base_directory=directory)\n",
    "\n",
    "    yield directory\n",
    "\n",
    "    shutil.rmtree(directory)\n",
    "\n",
    "\n",
    "def test_preprocess_generates_data_splits(directory):\n",
    "    output_directories = os.listdir(directory)\n",
    "\n",
    "    assert \"train\" in output_directories\n",
    "    assert \"validation\" in output_directories\n",
    "    assert \"test\" in output_directories\n",
    "\n",
    "\n",
    "def test_preprocess_generates_baselines(directory):\n",
    "    output_directories = os.listdir(directory)\n",
    "\n",
    "    assert \"train-baseline\" in output_directories\n",
    "    assert \"test-baseline\" in output_directories\n",
    "\n",
    "\n",
    "def test_preprocess_creates_two_models(directory):\n",
    "    model_path = directory / \"model\"\n",
    "    tar = tarfile.open(model_path / \"model.tar.gz\", \"r:gz\")\n",
    "\n",
    "    assert \"features.joblib\" in tar.getnames()\n",
    "    assert \"target.joblib\" in tar.getnames()\n",
    "\n",
    "\n",
    "def test_splits_are_transformed(directory):\n",
    "    train = pd.read_csv(directory / \"train\" / \"train.csv\", header=None)\n",
    "    validation = pd.read_csv(directory / \"validation\" / \"validation.csv\", header=None)\n",
    "    test = pd.read_csv(directory / \"test\" / \"test.csv\", header=None)\n",
    "\n",
    "    # After transforming the data, the number of features should be 7:\n",
    "    # * 3 - island (one-hot encoded)\n",
    "    # * 1 - culmen_length_mm = 1\n",
    "    # * 1 - culmen_depth_mm\n",
    "    # * 1 - flipper_length_mm\n",
    "    # * 1 - body_mass_g\n",
    "    # * 2 - sex (Session 3 assignment addition)\n",
    "    number_of_features = 9\n",
    "\n",
    "    # The transformed splits should have an additional column for the target\n",
    "    # variable.\n",
    "    assert train.shape[1] == number_of_features + 1\n",
    "    assert validation.shape[1] == number_of_features + 1\n",
    "    assert test.shape[1] == number_of_features + 1\n",
    "\n",
    "\n",
    "def test_train_baseline_is_not_transformed(directory):\n",
    "    baseline = pd.read_csv(\n",
    "        directory / \"train-baseline\" / \"train-baseline.csv\",\n",
    "        header=None,\n",
    "    )\n",
    "\n",
    "    island = baseline.iloc[:, 0].unique()\n",
    "\n",
    "    assert \"Biscoe\" in island\n",
    "    assert \"Torgersen\" in island\n",
    "    assert \"Dream\" in island\n",
    "\n",
    "\n",
    "def test_test_baseline_is_not_transformed(directory):\n",
    "    baseline = pd.read_csv(\n",
    "        directory / \"test-baseline\" / \"test-baseline.csv\", header=None\n",
    "    )\n",
    "\n",
    "    island = baseline.iloc[:, 1].unique()\n",
    "\n",
    "    assert \"Biscoe\" in island\n",
    "    assert \"Torgersen\" in island\n",
    "    assert \"Dream\" in island\n",
    "\n",
    "\n",
    "def test_train_baseline_includes_header(directory):\n",
    "    baseline = pd.read_csv(directory / \"train-baseline\" / \"train-baseline.csv\")\n",
    "    assert baseline.columns[0] == \"island\"\n",
    "\n",
    "\n",
    "def test_test_baseline_does_not_include_header(directory):\n",
    "    baseline = pd.read_csv(directory / \"test-baseline\" / \"test-baseline.csv\")\n",
    "    assert baseline.columns[0] != \"island\""
   ]
  },
  {
   "cell_type": "markdown",
   "id": "fc3b7a57",
   "metadata": {},
   "source": [
    "### Step 2 - Caching Configuration\n",
    "\n",
    "Several SageMaker Pipeline steps support caching. When a step runs, and dependending on the configured caching policy, SageMaker will try to reuse the result of a previous successful run of the same step. You can find more information about this topic in [Caching Pipeline Steps](https://docs.aws.amazon.com/sagemaker/latest/dg/pipelines-caching.html).\n",
    "\n",
    "Let's define a caching policy that we'll reuse on every step:\n"
   ]
  },
  {
   "cell_type": "code",
   "execution_count": 105,
   "id": "d88e9ccf",
   "metadata": {},
   "outputs": [],
   "source": [
    "from sagemaker.workflow.steps import CacheConfig\n",
    "\n",
    "cache_config = CacheConfig(enable_caching=True, expire_after=\"15d\")"
   ]
  },
  {
   "cell_type": "markdown",
   "id": "304b3dfc",
   "metadata": {},
   "source": [
    "### Step 3 - Pipeline Configuration\n",
    "\n",
    "We can parameterize a SageMaker Pipeline to make it more flexible. In this case, we'll use a parameter to pass the location of the dataset we want to process. We can execute the pipeline with different datasets by changing the value of this parameter. Check [Pipeline Parameters](https://docs.aws.amazon.com/sagemaker/latest/dg/build-and-manage-parameters.html) for more information.\n"
   ]
  },
  {
   "cell_type": "code",
   "execution_count": 106,
   "id": "331fe373",
   "metadata": {},
   "outputs": [],
   "source": [
    "from sagemaker.workflow.parameters import ParameterString\n",
    "from sagemaker.workflow.pipeline_definition_config import PipelineDefinitionConfig\n",
    "\n",
    "pipeline_definition_config = PipelineDefinitionConfig(use_custom_job_prefix=True)\n",
    "\n",
    "dataset_location = ParameterString(\n",
    "    name=\"dataset_location\",\n",
    "    default_value=f\"{S3_LOCATION}/data\",\n",
    ")"
   ]
  },
  {
   "cell_type": "code",
   "execution_count": 159,
   "id": "d22afdeb",
   "metadata": {},
   "outputs": [
    {
     "data": {
      "text/plain": [
       "'s3://ml-school-dump1/penguins'"
      ]
     },
     "execution_count": 159,
     "metadata": {},
     "output_type": "execute_result"
    }
   ],
   "source": [
    "S3_LOCATION"
   ]
  },
  {
   "cell_type": "markdown",
   "id": "dbff9c36",
   "metadata": {},
   "source": [
    "### Step 4 - Setting up the Processing Step\n",
    "\n",
    "Let's now define the [ProcessingStep](https://sagemaker.readthedocs.io/en/stable/workflows/pipelines/sagemaker.workflow.pipelines.html#sagemaker.workflow.steps.ProcessingStep) that we'll use in the pipeline to run the script that will split and transform the data.\n",
    "\n",
    "A processor gives the Processing Step information about the hardware and software that SageMaker should use to launch a Processing Job. To run the script we created, we need access to Scikit-Learn, so we can use the [SKLearnProcessor](https://sagemaker.readthedocs.io/en/stable/frameworks/sklearn/sagemaker.sklearn.html#scikit-learn-processor) processor that comes out-of-the-box with the SageMaker's Python SDK.\n",
    "\n",
    "SageMaker manages the infrastructure of a Processing Job. It provisions resources for the duration of the job, and cleans up when it completes. The Processing Container image that SageMaker uses to run a Processing Job can either be a SageMaker built-in image or a custom image:\n",
    "\n",
    "<a href=\"images/processing-job.png\" target=\"_blank\"> <img src=\"images/processing-job.png\" alt=\"High-level overview of a SageMaker Processing Job\" style=\"max-width: 740px;\" /></a>\n",
    "\n",
    "The [Data Processing with Framework Processors](https://docs.aws.amazon.com/sagemaker/latest/dg/processing-job-frameworks.html) page discusses other built-in processors you can use. The [Docker Registry Paths and Example Code](https://docs.aws.amazon.com/sagemaker/latest/dg/sagemaker-algo-docker-registry-paths.html) page contains information about the available framework versions for each region.\n"
   ]
  },
  {
   "cell_type": "code",
   "execution_count": 107,
   "id": "3aa4471a",
   "metadata": {
    "tags": [
     "hide-output"
    ]
   },
   "outputs": [
    {
     "name": "stderr",
     "output_type": "stream",
     "text": [
      "INFO:sagemaker.image_uris:Defaulting to only available Python version: py3\n"
     ]
    }
   ],
   "source": [
    "from sagemaker.sklearn.processing import SKLearnProcessor\n",
    "\n",
    "processor = SKLearnProcessor(\n",
    "    base_job_name=\"preprocess-data\",\n",
    "    framework_version=\"1.2-1\",\n",
    "    # By default, a new account doesn't have access to `ml.m5.xlarge` instances.\n",
    "    # If you haven't requested a quota increase yet, you can use an\n",
    "    # `ml.t3.medium` instance type instead. This will work out of the box, but\n",
    "    # the Processing Job will take significantly longer than it should have.\n",
    "    # To get access to `ml.m5.xlarge` instances, you can request a quota\n",
    "    # increase under the Service Quotas section in your AWS account.\n",
    "    instance_type=config[\"instance_type\"],\n",
    "    instance_count=1,\n",
    "    role=role,\n",
    "    volume_size_in_gb=10,\n",
    "    sagemaker_session=config[\"session\"],\n",
    ")"
   ]
  },
  {
   "cell_type": "code",
   "execution_count": 16,
   "id": "77990d22",
   "metadata": {},
   "outputs": [
    {
     "data": {
      "text/plain": [
       "'arn:aws:iam::009160067515:role/service-role/AmazonSageMaker-ExecutionRole-20240808T134723'"
      ]
     },
     "execution_count": 16,
     "metadata": {},
     "output_type": "execute_result"
    }
   ],
   "source": [
    "role"
   ]
  },
  {
   "cell_type": "markdown",
   "id": "6cf2cc58",
   "metadata": {},
   "source": [
    "Let's now define the Processing Step that we'll use in the pipeline.\n",
    "\n",
    "This step will specify the list of inputs that we'll access from the preprocessing script. In this case, the input is the dataset we stored in S3. We also have a few outputs that we want SageMaker to capture when the Processing Job finishes.\n"
   ]
  },
  {
   "cell_type": "code",
   "execution_count": 108,
   "id": "cdbd9303",
   "metadata": {
    "tags": [
     "hide-output"
    ]
   },
   "outputs": [
    {
     "name": "stderr",
     "output_type": "stream",
     "text": [
      "b:\\Git\\ml.school\\venv\\lib\\site-packages\\sagemaker\\workflow\\pipeline_context.py:332: UserWarning: Running within a PipelineSession, there will be No Wait, No Logs, and No Job being started.\n",
      "  warnings.warn(\n"
     ]
    }
   ],
   "source": [
    "from sagemaker.processing import ProcessingInput, ProcessingOutput\n",
    "from sagemaker.workflow.steps import ProcessingStep\n",
    "\n",
    "preprocessing_step = ProcessingStep(\n",
    "    name=\"preprocess-data\",\n",
    "    step_args=processor.run(\n",
    "        code=f\"{(CODE_FOLDER / 'processing' / 'script.py').as_posix()}\",\n",
    "        inputs=[\n",
    "            ProcessingInput(\n",
    "                source=dataset_location,\n",
    "                destination=\"/opt/ml/processing/input\",\n",
    "                \n",
    "            ),\n",
    "        ],\n",
    "        outputs=[\n",
    "            ProcessingOutput(\n",
    "                output_name=\"train\",\n",
    "                source=\"/opt/ml/processing/train\",\n",
    "                destination=f\"{S3_LOCATION}/preprocessing/train\",\n",
    "            ),\n",
    "            ProcessingOutput(\n",
    "                output_name=\"validation\",\n",
    "                source=\"/opt/ml/processing/validation\",\n",
    "                destination=f\"{S3_LOCATION}/preprocessing/validation\",\n",
    "            ),\n",
    "            ProcessingOutput(\n",
    "                output_name=\"test\",\n",
    "                source=\"/opt/ml/processing/test\",\n",
    "                destination=f\"{S3_LOCATION}/preprocessing/test\",\n",
    "            ),\n",
    "            ProcessingOutput(\n",
    "                output_name=\"model\",\n",
    "                source=\"/opt/ml/processing/model\",\n",
    "                destination=f\"{S3_LOCATION}/preprocessing/model\",\n",
    "            ),\n",
    "            ProcessingOutput(\n",
    "                output_name=\"train-baseline\",\n",
    "                source=\"/opt/ml/processing/train-baseline\",\n",
    "                destination=f\"{S3_LOCATION}/preprocessing/train-baseline\",\n",
    "            ),\n",
    "            ProcessingOutput(\n",
    "                output_name=\"test-baseline\",\n",
    "                source=\"/opt/ml/processing/test-baseline\",\n",
    "                destination=f\"{S3_LOCATION}/preprocessing/test-baseline\",\n",
    "            ),\n",
    "             ProcessingOutput(  # New output for combined train and validation dataset\n",
    "                output_name=\"combined-train-val\",\n",
    "                source=\"/opt/ml/processing/combined_train_val\",  # This should match the directory where you save the combined file\n",
    "                destination=f\"{S3_LOCATION}/preprocessing/combined_train_val\",\n",
    "            )\n",
    "        ],\n",
    "    ),\n",
    "    cache_config=cache_config,\n",
    ")"
   ]
  },
  {
   "cell_type": "code",
   "execution_count": 18,
   "id": "271a87d7",
   "metadata": {},
   "outputs": [
    {
     "data": {
      "text/plain": [
       "WindowsPath('code')"
      ]
     },
     "execution_count": 18,
     "metadata": {},
     "output_type": "execute_result"
    }
   ],
   "source": [
    "CODE_FOLDER"
   ]
  },
  {
   "cell_type": "markdown",
   "id": "fad062cb",
   "metadata": {},
   "source": [
    "### Step 5 - Creating the Pipeline\n",
    "\n",
    "We can now create the SageMaker Pipeline and submit its definition to the SageMaker Pipelines service to create the pipeline if it doesn't exist or update it if it does.\n"
   ]
  },
  {
   "cell_type": "code",
   "execution_count": 109,
   "id": "e140642a",
   "metadata": {
    "tags": [
     "hide-output"
    ]
   },
   "outputs": [
    {
     "name": "stderr",
     "output_type": "stream",
     "text": [
      "INFO:sagemaker.telemetry.telemetry_logging:SageMaker Python SDK will collect telemetry to help us better understand our user's needs, diagnose issues, and deliver additional features.\n",
      "To opt out of telemetry, please disable via TelemetryOptOut parameter in SDK defaults config. For more information, refer to https://sagemaker.readthedocs.io/en/stable/overview.html#configuring-and-using-defaults-with-the-sagemaker-python-sdk.\n"
     ]
    },
    {
     "data": {
      "text/plain": [
       "{'PipelineArn': 'session3-pipeline'}"
      ]
     },
     "execution_count": 109,
     "metadata": {},
     "output_type": "execute_result"
    }
   ],
   "source": [
    "from sagemaker.workflow.pipeline import Pipeline\n",
    "\n",
    "session3_pipeline = Pipeline(\n",
    "    name=\"session3-pipeline\",\n",
    "    parameters=[dataset_location],\n",
    "    steps=[\n",
    "        preprocessing_step,\n",
    "    ],\n",
    "    pipeline_definition_config=pipeline_definition_config,\n",
    "    sagemaker_session=config[\"session\"],\n",
    ")\n",
    "\n",
    "session3_pipeline.upsert(role_arn=role)"
   ]
  },
  {
   "cell_type": "markdown",
   "id": "63c190c5-52b5-4ccc-8d42-847a694b8e66",
   "metadata": {},
   "source": [
    "## Session 4 - Training the Model\n",
    "\n",
    "This session extends the [SageMaker Pipeline](https://docs.aws.amazon.com/sagemaker/latest/dg/pipelines-sdk.html) with a [step to train a model](https://docs.aws.amazon.com/sagemaker/latest/dg/build-and-manage-steps.html#step-type-training). Check [Train a Model with TensorFlow](https://sagemaker.readthedocs.io/en/stable/frameworks/tensorflow/using_tf.html#train-a-model-with-tensorflow) for more information about training a model with TensorFlow.\n",
    "\n",
    "<a href=\"images/training-step.png\" target=\"_blank\"> <img src=\"images/training-step.png\" alt=\"High-level overview of the Training Step\" style=\"max-width: 740px;\" /></a>\n",
    "\n",
    "We'll also introduce experiment tracking using [Amazon SageMaker Experiments](https://docs.aws.amazon.com/sagemaker/latest/dg/experiments.html) and [Comet](https://www.comet.com/site/?utm_source=svpino_course&utm_medium=partner&utm_content=github).\n"
   ]
  },
  {
   "cell_type": "markdown",
   "id": "c8608092-7aab-4fd2-aa99-47c2db27bdb7",
   "metadata": {},
   "source": [
    "### Step 1 - Creating the Training Script\n",
    "\n",
    "Let's create the training script. This script is responsible for training a neural network using the train data, validating the model, and saving it so we can later use it.\n"
   ]
  },
  {
   "cell_type": "markdown",
   "id": "e55e9294",
   "metadata": {},
   "source": [
    "We will store the script in a folder called `training` and add it to the system path so we can later import it as a module.\n"
   ]
  },
  {
   "cell_type": "code",
   "execution_count": 110,
   "id": "ac0b891c",
   "metadata": {},
   "outputs": [],
   "source": [
    "(CODE_FOLDER / \"training\").mkdir(parents=True, exist_ok=True)"
   ]
  },
  {
   "cell_type": "code",
   "execution_count": 23,
   "id": "a8864526",
   "metadata": {},
   "outputs": [
    {
     "data": {
      "text/plain": [
       "WindowsPath('code')"
      ]
     },
     "execution_count": 23,
     "metadata": {},
     "output_type": "execute_result"
    }
   ],
   "source": [
    "CODE_FOLDER"
   ]
  },
  {
   "cell_type": "markdown",
   "id": "a5c3cec9",
   "metadata": {},
   "source": [
    "We can now create the script inside the folder:\n"
   ]
  },
  {
   "cell_type": "code",
   "execution_count": 137,
   "id": "d92b121d-dcb9-43e8-9ee3-3ececb583e7e",
   "metadata": {
    "tags": [
     "hide-output"
    ]
   },
   "outputs": [
    {
     "name": "stdout",
     "output_type": "stream",
     "text": [
      "Overwriting code/training/script.py\n"
     ]
    }
   ],
   "source": [
    "%%writefile {CODE_FOLDER}/training/script.py\n",
    "# | filename: script.py\n",
    "# | code-line-numbers: true\n",
    "\n",
    "import argparse\n",
    "import json\n",
    "import os\n",
    "import tarfile\n",
    "\n",
    "from pathlib import Path\n",
    "from comet_ml import Experiment\n",
    "\n",
    "import keras\n",
    "import numpy as np\n",
    "import pandas as pd\n",
    "from keras import Input\n",
    "from keras.layers import Dense\n",
    "from keras.models import Sequential\n",
    "from keras.optimizers import SGD\n",
    "from packaging import version\n",
    "from sklearn.metrics import accuracy_score\n",
    "from sklearn.model_selection import StratifiedKFold\n",
    "from keras.initializers import HeNormal\n",
    "\n",
    "\n",
    "def train(\n",
    "    model_directory,\n",
    "    train_path,\n",
    "    validation_path,\n",
    "    pipeline_path,\n",
    "    experiment,\n",
    "    epochs=50,\n",
    "    batch_size=32,\n",
    "    learning_rate=0.01\n",
    "):\n",
    "    print(f\"Keras version: {keras.__version__}\")\n",
    "    #Obtain the data we train on (matrix) and the target of what we are training for (vector)\n",
    "    X_train = pd.read_csv(Path(train_path) / \"train.csv\")\n",
    "    y_train = X_train[X_train.columns[-1]]\n",
    "    X_train = X_train.drop(X_train.columns[-1], axis=1)\n",
    "\n",
    "    X_validation = pd.read_csv(Path(validation_path) / \"validation.csv\")\n",
    "    y_validation = X_validation[X_validation.columns[-1]]\n",
    "    X_validation = X_validation.drop(X_validation.columns[-1], axis=1)\n",
    "\n",
    "    model = Sequential(\n",
    "        [\n",
    "            Input(shape=(X_train.shape[1],)),\n",
    "            Dense(10, activation=\"relu\"),\n",
    "            Dense(8, activation=\"relu\"),\n",
    "            Dense(3, activation=\"softmax\"),\n",
    "        ]\n",
    "    )\n",
    "\n",
    "    model.compile(\n",
    "        optimizer=SGD(learning_rate),\n",
    "        loss=\"sparse_categorical_crossentropy\",\n",
    "        metrics=[\"accuracy\"],\n",
    "    )\n",
    "\n",
    "    model.fit(\n",
    "        X_train,\n",
    "        y_train,\n",
    "        validation_data=(X_validation, y_validation),\n",
    "        epochs=epochs,\n",
    "        batch_size=batch_size,\n",
    "        verbose=2,\n",
    "    )\n",
    "\n",
    "    predictions = np.argmax(model.predict(X_validation), axis=-1)\n",
    "    #accuracy score : [true labels, predicted labels]\n",
    "    val_accuracy = accuracy_score(y_validation, predictions)\n",
    "    print(f\"Validation accuracy: {val_accuracy}\")\n",
    "\n",
    "\n",
    "    # Starting on version 3, Keras changed the model saving format.\n",
    "    # Since we are running the training script using two different versions\n",
    "    # of Keras, we need to check to see which version we are using and save\n",
    "    # the model accordingly.\n",
    "    model_filepath = (\n",
    "        Path(model_directory) / \"001\"\n",
    "        if version.parse(keras.__version__) < version.parse(\"3\")\n",
    "        else Path(model_directory) / \"penguins.keras\"\n",
    "    )\n",
    "\n",
    "    model.save(model_filepath)\n",
    "\n",
    "    # Let's save the transformation pipelines inside the\n",
    "    # model directory so they get bundled together.\n",
    "    with tarfile.open(Path(pipeline_path) / \"model.tar.gz\", \"r:gz\") as tar:\n",
    "        tar.extractall(model_directory)\n",
    "\n",
    "    if experiment:\n",
    "        experiment.log_parameters(\n",
    "            {\n",
    "                \"epochs\": epochs,\n",
    "                \"batch_size\": batch_size,\n",
    "            }\n",
    "        )\n",
    "        experiment.log_dataset_hash(X_train)\n",
    "        experiment.log_confusion_matrix(\n",
    "            y_validation.astype(int), predictions.astype(int)\n",
    "        )\n",
    "        experiment.log_model(\"penguins\", model_filepath.as_posix())\n",
    "\n",
    "\n",
    "if __name__ == \"__main__\":\n",
    "    # Any hyperparameters provided by the training job are passed to\n",
    "    # the entry point as script arguments.\n",
    "    parser = argparse.ArgumentParser()\n",
    "    parser.add_argument(\"--epochs\", type=int, default=50)\n",
    "    parser.add_argument(\"--batch_size\", type=int, default=32)\n",
    "    parser.add_argument(\"--learning_rate\",type=float,default=0.01)\n",
    "    args, _ = parser.parse_known_args()\n",
    "\n",
    "    # Let's create a Comet experiment to log the metrics and parameters\n",
    "    # of this training job.\n",
    "    comet_api_key = os.environ.get(\"COMET_API_KEY\", None)\n",
    "    comet_project_name = os.environ.get(\"COMET_PROJECT_NAME\", None)\n",
    "    #Logging in comet which saves with code\n",
    "    experiment = (\n",
    "        Experiment(\n",
    "            project_name=comet_project_name,\n",
    "            api_key=comet_api_key,\n",
    "            auto_metric_logging=True,\n",
    "            auto_param_logging=True,\n",
    "            log_code=True,\n",
    "        )\n",
    "        if comet_api_key and comet_project_name\n",
    "        else None\n",
    "    )\n",
    "    #SM = SageMaker, so in this case SageMaker creates an environment variable\n",
    "    training_env = json.loads(os.environ.get(\"SM_TRAINING_ENV\", {}))\n",
    "    job_name = training_env.get(\"job_name\", None) if training_env else None\n",
    "\n",
    "    # We want to use the SageMaker's training job name as the name\n",
    "    # of the experiment so we can easily recognize it.\n",
    "    if job_name and experiment:\n",
    "        experiment.set_name(job_name)\n",
    "    \n",
    "    train(\n",
    "        # This is the location where we need to save our model.\n",
    "        # SageMaker will create a model.tar.gz file with anything\n",
    "        # inside this directory when the training script finishes.\n",
    "        model_directory=os.environ[\"SM_MODEL_DIR\"],\n",
    "        # SageMaker creates one channel for each one of the inputs\n",
    "        # to the Training Step.\n",
    "        train_path=os.environ[\"SM_CHANNEL_TRAIN\"],\n",
    "        validation_path=os.environ[\"SM_CHANNEL_VALIDATION\"],\n",
    "        pipeline_path=os.environ[\"SM_CHANNEL_PIPELINE\"],\n",
    "        experiment=experiment,\n",
    "        epochs=args.epochs,\n",
    "        batch_size=args.batch_size,\n",
    "        learning_rate=args.learning_rate\n",
    "    )\n",
    "    "
   ]
  },
  {
   "cell_type": "markdown",
   "id": "b247628a",
   "metadata": {},
   "source": [
    "Torch training script"
   ]
  },
  {
   "cell_type": "code",
   "execution_count": 63,
   "id": "cd25fc3c",
   "metadata": {},
   "outputs": [],
   "source": [
    "%%script false --no-raise-error\n",
    "%%writefile {CODE_FOLDER}/containers/training/scripttorch.py\n",
    "# | filename: script.py\n",
    "# | code-line-numbers: true\n",
    "\n",
    "import torch\n",
    "import torch.nn as nn\n",
    "import torch.optim as optim\n",
    "from torch.utils.data import DataLoader, TensorDataset\n",
    "from comet_ml import Experiment\n",
    "import numpy as np\n",
    "import pandas as pd\n",
    "from sklearn.metrics import accuracy_score\n",
    "from sklearn.model_selection import StratifiedKFold\n",
    "import argparse\n",
    "import json\n",
    "import os\n",
    "import tarfile\n",
    "from pathlib import Path\n",
    "\n",
    "def train(\n",
    "    model_directory,\n",
    "    train_path,\n",
    "    validation_path,\n",
    "    pipeline_path,\n",
    "    experiment,\n",
    "    epochs=50,\n",
    "    batch_size=32,\n",
    "    learning_rate=0.000000001\n",
    "):\n",
    "    # Load preprocessed training and validation data\n",
    "    X_train = pd.read_csv(Path(train_path) / \"train.csv\")\n",
    "    y_train = X_train[X_train.columns[-1]].values\n",
    "    X_train = X_train.drop(X_train.columns[-1], axis=1).values\n",
    "\n",
    "    X_validation = pd.read_csv(Path(validation_path) / \"validation.csv\")\n",
    "    y_validation = X_validation[X_validation.columns[-1]].values\n",
    "    X_validation = X_validation.drop(X_validation.columns[-1], axis=1).values\n",
    "\n",
    "    # Convert to PyTorch tensors. X_train and y_train are already numpy arrays.\n",
    "    # In order for torch to use the data it needs to be a tensor, this means that it expects input features to be of torch.FloatTensor32.\n",
    "    #Hence the conversion\n",
    "    X_train = torch.tensor(X_train).float()\n",
    "    #For labels, it is common practice to use long()\n",
    "    y_train = torch.tensor(y_train).long()\n",
    "    X_validation = torch.tensor(X_validation).float()\n",
    "    y_validation = torch.tensor(y_validation).long()\n",
    "\n",
    "    # Create datasets and dataloaders\n",
    "    # Using TensorDataset, we make the dataset in a way that we recieve the sample by indexing the tensors and these tensors are index along the first dimension\n",
    "    # https://pytorch.org/docs/stable/data.html#torch.utils.data.Dataset\n",
    "    train_dataset = TensorDataset(X_train, y_train)\n",
    "    val_dataset = TensorDataset(X_validation, y_validation)\n",
    "\n",
    "    train_loader = DataLoader(train_dataset, batch_size=batch_size, shuffle=True)\n",
    "    val_loader = DataLoader(val_dataset, batch_size=batch_size, shuffle=False)\n",
    "\n",
    "    # Initialize the model using nn.Sequential\n",
    "    # In Keras, we make the layer by specifiing the in features and activation. In torch the layers stack\n",
    "    '''# For example, \n",
    "    (in1, out1)\n",
    "    (activation)\n",
    "    (out1,out2)\n",
    "    (activation)\n",
    "    (out2,out3)\n",
    "    (softmax: for example)\n",
    "     '''\n",
    "    model = nn.Sequential(\n",
    "        nn.Linear(X_train.shape[1], 10),\n",
    "        nn.ReLU(),\n",
    "        nn.Linear(10, 8),\n",
    "        nn.ReLU(),\n",
    "        nn.Linear(8, 3),\n",
    "        nn.Softmax(dim=1)\n",
    "    )\n",
    "    #This is sparse categorical crossentropy in keras. Taking integers as targets \n",
    "    #instead of one hot vectors\n",
    "    criterion = nn.CrossEntropyLoss()\n",
    "    optimizer = optim.SGD(model.parameters(), lr=learning_rate, momentum=0.9)\n",
    "\n",
    "    # Training loop\n",
    "    for epoch in range(epochs):\n",
    "        running_loss = 0.0\n",
    "        model.train()\n",
    "        '''\n",
    "        The common traning config in torch is the following:\n",
    "        >> perform zero grad\n",
    "        >> forward pass : whether its manually defined by you when you made your model class or through the class of model you are using\n",
    "        >> compute loss\n",
    "        >> backward prop begins\n",
    "        >> perform the backward prop step\n",
    "\n",
    "        Do this for the samples in the data you load in to train your model\n",
    "        '''\n",
    "        for X_batch, y_batch in train_loader:\n",
    "            optimizer.zero_grad()\n",
    "            #This is the forward step\n",
    "            output = model(X_batch)\n",
    "            loss = criterion(output, y_batch)\n",
    "            loss.backward()\n",
    "            optimizer.step()\n",
    "            running_loss += loss.item()*X_batch.size(0)\n",
    "\n",
    "        model.eval()\n",
    "        val_predictions = []\n",
    "        with torch.no_grad():\n",
    "            for X_batch, y_batch in val_loader:\n",
    "                output = model(X_batch)  \n",
    "                preds = torch.argmax(output, axis=1)\n",
    "                val_predictions.extend(preds.numpy())\n",
    "       \n",
    "\n",
    "        val_accuracy = accuracy_score(y_validation, val_predictions)\n",
    "        print(f\"Epoch {epoch+1}/{epochs}, Loss: {running_loss/len(train_loader.dataset):.4f}, Validation accuracy: {val_accuracy:.4f}\")\n",
    "\n",
    "    # Save the model\n",
    "    model_filepath = Path(model_directory) / \"model.pth\"\n",
    "    torch.save(model.state_dict(), model_filepath)\n",
    "\n",
    "    # Save the transformation pipelines inside the model directory\n",
    "    with tarfile.open(Path(pipeline_path) / \"model.tar.gz\", \"r:gz\") as tar:\n",
    "        tar.extractall(model_directory)\n",
    "\n",
    "    if experiment:\n",
    "        experiment.log_parameters(\n",
    "            {\n",
    "                \"epochs\": epochs,\n",
    "                \"batch_size\": batch_size,\n",
    "            }\n",
    "        )\n",
    "        experiment.log_dataset_hash(X_train.numpy())\n",
    "        experiment.log_confusion_matrix(\n",
    "            y_validation.astype(int), np.array(val_predictions).astype(int)\n",
    "        )\n",
    "        experiment.log_model(\"penguins\", model_filepath.as_posix())\n",
    "\n",
    "\n",
    "if __name__ == \"__main__\":\n",
    "    parser = argparse.ArgumentParser()\n",
    "    parser.add_argument(\"--epochs\", type=int, default=50)\n",
    "    parser.add_argument(\"--batch_size\", type=int, default=32)\n",
    "    parser.add_argument(\"--learning_rate\", type=float, default=0.01)\n",
    "    args, _ = parser.parse_known_args()\n",
    "\n",
    "    comet_api_key = os.environ.get(\"COMET_API_KEY\", None)\n",
    "    comet_project_name = os.environ.get(\"COMET_PROJECT_NAME\", None)\n",
    "    experiment = (\n",
    "        Experiment(\n",
    "            project_name=comet_project_name,\n",
    "            api_key=comet_api_key,\n",
    "            auto_metric_logging=True,\n",
    "            auto_param_logging=True,\n",
    "            log_code=True,\n",
    "        )\n",
    "        if comet_api_key and comet_project_name\n",
    "        else None\n",
    "    )\n",
    "    training_env = json.loads(os.environ.get(\"SM_TRAINING_ENV\", {}))\n",
    "    job_name = training_env.get(\"job_name\", None) if training_env else None\n",
    "\n",
    "    if job_name and experiment:\n",
    "        experiment.set_name(job_name)\n",
    "\n",
    "    train(\n",
    "        model_directory=os.environ[\"SM_MODEL_DIR\"],\n",
    "        train_path=os.environ[\"SM_CHANNEL_TRAIN\"],\n",
    "        validation_path=os.environ[\"SM_CHANNEL_VALIDATION\"],\n",
    "        pipeline_path=os.environ[\"SM_CHANNEL_PIPELINE\"],\n",
    "        experiment=experiment,\n",
    "        epochs=args.epochs,\n",
    "        batch_size=args.batch_size,\n",
    "        learning_rate=args.learning_rate\n",
    "    )\n"
   ]
  },
  {
   "cell_type": "markdown",
   "id": "50f0a4fa-ce70-4882-b9f5-8253df03d890",
   "metadata": {},
   "source": [
    "Let's test the script to ensure everything is working as expected:\n"
   ]
  },
  {
   "cell_type": "code",
   "execution_count": 112,
   "id": "14ea27ce-c453-4cb0-b309-dbecd732957e",
   "metadata": {
    "tags": [
     "hide-output"
    ]
   },
   "outputs": [
    {
     "name": "stdout",
     "output_type": "stream",
     "text": [
      "Keras version: 2.14.0\n",
      "8/8 - 0s - loss: 1.1154 - accuracy: 0.4519 - val_loss: 1.1365 - val_accuracy: 0.4314 - 492ms/epoch - 62ms/step\n",
      "2/2 [==============================] - 0s 2ms/step\n",
      "Validation accuracy: 0.43137254901960786\n"
     ]
    },
    {
     "name": "stderr",
     "output_type": "stream",
     "text": [
      "INFO:tensorflow:Assets written to: C:\\Users\\Aris\\AppData\\Local\\Temp\\tmp9srt80cm\\model\\001\\assets\n"
     ]
    },
    {
     "name": "stdout",
     "output_type": "stream",
     "text": [
      "\u001b[32m.\u001b[0mKeras version: 2.14.0\n",
      "8/8 - 1s - loss: 1.3294 - accuracy: 0.0418 - val_loss: 1.2359 - val_accuracy: 0.0784 - 503ms/epoch - 63ms/step\n",
      "2/2 [==============================] - 0s 3ms/step\n",
      "Validation accuracy: 0.0784313725490196\n"
     ]
    },
    {
     "name": "stderr",
     "output_type": "stream",
     "text": [
      "INFO:tensorflow:Assets written to: C:\\Users\\Aris\\AppData\\Local\\Temp\\tmpifmw5o4h\\model\\001\\assets\n"
     ]
    },
    {
     "name": "stdout",
     "output_type": "stream",
     "text": [
      "\u001b[32m.\u001b[0m\n",
      "\u001b[32m\u001b[32m\u001b[1m2 passed\u001b[0m\u001b[32m in 2.42s\u001b[0m\u001b[0m\n"
     ]
    }
   ],
   "source": [
    "%%ipytest -s\n",
    "#| code-fold: true\n",
    "\n",
    "import os\n",
    "import shutil\n",
    "import pytest\n",
    "import tempfile\n",
    "\n",
    "from processing.script import preprocess\n",
    "from training.script import train\n",
    "\n",
    "@pytest.fixture(scope=\"function\", autouse=False)\n",
    "def directory():\n",
    "    directory = tempfile.mkdtemp()\n",
    "    input_directory = Path(directory) / \"input\"\n",
    "    input_directory.mkdir(parents=True, exist_ok=True)\n",
    "    shutil.copy2(DATA_FILEPATH, input_directory / \"data.csv\")\n",
    "    \n",
    "    directory = Path(directory)\n",
    "    \n",
    "    preprocess(base_directory=directory)\n",
    "    train(\n",
    "        model_directory=directory / \"model\",\n",
    "        train_path=directory / \"train\", \n",
    "        validation_path=directory / \"validation\",\n",
    "        pipeline_path=directory / \"model\",\n",
    "        experiment=None,\n",
    "        epochs=1\n",
    "    )\n",
    "    \n",
    "    yield directory\n",
    "    \n",
    "    shutil.rmtree(directory)\n",
    "\n",
    "\n",
    "def test_train_bundles_model_assets(directory):\n",
    "    bundle = os.listdir(directory / \"model\")\n",
    "    assert \"001\" in bundle\n",
    "    \n",
    "    assets = os.listdir(directory / \"model\" / \"001\")\n",
    "    assert \"saved_model.pb\" in assets\n",
    "\n",
    "\n",
    "def test_train_bundles_transformation_pipelines(directory):\n",
    "    bundle = os.listdir(directory / \"model\")\n",
    "    assert \"target.joblib\" in bundle\n",
    "    assert \"features.joblib\" in bundle\n"
   ]
  },
  {
   "cell_type": "markdown",
   "id": "27cff4c1-6510-4d99-8ae1-cb14927b87c7",
   "metadata": {},
   "source": [
    "### Step 2 - Setting up the Training Step\n",
    "\n",
    "We can now create a [Training Step](https://docs.aws.amazon.com/sagemaker/latest/dg/build-and-manage-steps.html#step-type-training) that we can add to the pipeline. This Training Step will create a SageMaker Training Job in the background, run the training script, and upload the output to S3. Check the [TrainingStep](https://sagemaker.readthedocs.io/en/stable/workflows/pipelines/sagemaker.workflow.pipelines.html#sagemaker.workflow.steps.TrainingStep) SageMaker's SDK documentation for more information.\n",
    "\n",
    "SageMaker manages the infrastructure of a Training Job. It provisions resources for the duration of the job, and cleans up when it completes. The Training Container image that SageMaker uses to run a Training Job can either be a SageMaker built-in image or a custom image.\n",
    "\n",
    "<a href=\"images/training-job.png\" target=\"_blank\"> <img src=\"images/training-job.png\" alt=\"High-level overview of a SageMaker Training Job\" style=\"max-width: 740px;\" /></a>\n",
    "\n",
    "The [Available Deep Learning Container Images](https://github.com/aws/deep-learning-containers/blob/master/available_images.md) page contains the list of available containers for each region.\n"
   ]
  },
  {
   "cell_type": "markdown",
   "id": "501d8729",
   "metadata": {},
   "source": [
    "Our training script uses [Comet](https://www.comet.com/site/?utm_source=svpino_course&utm_medium=partner&utm_content=github) to track metrics from the Training Job. We need to create a `requirements.txt` file to install the Comet library in the training container.\n"
   ]
  },
  {
   "cell_type": "code",
   "execution_count": 113,
   "id": "d00eda86",
   "metadata": {
    "tags": [
     "hide-output"
    ]
   },
   "outputs": [
    {
     "name": "stdout",
     "output_type": "stream",
     "text": [
      "Overwriting code/training/requirements.txt\n"
     ]
    }
   ],
   "source": [
    "%%writefile {CODE_FOLDER}/training/requirements.txt\n",
    "#| label: requirements.txt\n",
    "#| filename: requirements.txt\n",
    "#| code-line-numbers: false\n",
    "\n",
    "comet_ml"
   ]
  },
  {
   "cell_type": "markdown",
   "id": "f6857eeb",
   "metadata": {},
   "source": [
    "SageMaker uses the concept of an [Estimator](https://sagemaker.readthedocs.io/en/stable/api/training/estimators.html) to handle end-to-end training and deployment tasks. For this example, we will use the built-in [TensorFlow Estimator](https://sagemaker.readthedocs.io/en/stable/frameworks/tensorflow/sagemaker.tensorflow.html#tensorflow-estimator) to run the training script we wrote before.\n",
    "\n",
    "Notice the list of hyperparameters defined below. SageMaker will pass these hyperparameters as arguments to the entry point of the training script.\n",
    "\n",
    "We are going to use [Comet](https://www.comet.com/site/?utm_source=svpino_course&utm_medium=partner&utm_content=github) and [SageMaker Experiments](https://sagemaker.readthedocs.io/en/v2.174.0/experiments/sagemaker.experiments.html) to track metrics from the Training Job. SageMaker Experiments will use the list of metric definitions to decide which metrics to track and how to parse them from the Training Job logs. For more information, check [Manage Machine Learning with Amazon SageMaker Experiments](https://docs.aws.amazon.com/sagemaker/latest/dg/experiments.html) and the [SageMaker Experiments' SDK documentation](https://sagemaker.readthedocs.io/en/v2.174.0/experiments/sagemaker.experiments.html).\n",
    "\n",
    "Here are the environment variables we need to set on the traininng container:\n",
    "\n",
    "-   `COMET_API_KEY`: This is your [Comet](https://www.comet.com/site/?utm_source=svpino_course&utm_medium=partner&utm_content=github) API key.\n",
    "-   `COMET_PROJECT_NAME`: The name of the project where you want to track the experiments.\n"
   ]
  },
  {
   "cell_type": "code",
   "execution_count": 114,
   "id": "90fe82ae-6a2c-4461-bc83-bb52d8871e3b",
   "metadata": {
    "tags": []
   },
   "outputs": [],
   "source": [
    "from sagemaker.tensorflow import TensorFlow\n",
    "from sagemaker.workflow.parameters import ParameterInteger\n",
    " \n",
    "training_epochs = ParameterInteger(\n",
    "    name=\"TrainingEpochs\",\n",
    "    default_value=50\n",
    ")\n",
    "estimator = TensorFlow(\n",
    "    \n",
    "    base_job_name=\"training\",\n",
    "    entry_point=\"script.py\",\n",
    "    source_dir=f\"{(CODE_FOLDER / 'training').as_posix()}\",\n",
    "    # SageMaker will pass these hyperparameters as arguments\n",
    "    # to the entry point of the training script.\n",
    " \n",
    "    hyperparameters={\n",
    "        \"epochs\": training_epochs,\n",
    "        \"batch_size\": 32,\n",
    "        \"learning_rate\": 0.01\n",
    "    },\n",
    "    # SageMaker will create these environment variables on the\n",
    "    # Training Job instance.\n",
    "    environment={\n",
    "        \"COMET_API_KEY\": COMET_API_KEY,\n",
    "        \"COMET_PROJECT_NAME\": COMET_PROJECT_NAME,\n",
    "    },\n",
    "    # SageMaker will track these metrics as part of the experiment\n",
    "    # associated to this pipeline. The metric definitions tells\n",
    "    # SageMaker how to parse the values from the Training Job logs.\n",
    "    metric_definitions=[\n",
    "        {\"Name\": \"loss\", \"Regex\": \"loss: ([0-9\\\\.]+)\"},\n",
    "        {\"Name\": \"accuracy\", \"Regex\": \"accuracy: ([0-9\\\\.]+)\"},\n",
    "        {\"Name\": \"val_loss\", \"Regex\": \"val_loss: ([0-9\\\\.]+)\"},\n",
    "        {\"Name\": \"val_accuracy\", \"Regex\": \"val_accuracy: ([0-9\\\\.]+)\"},\n",
    "    ],\n",
    "    image_uri=config[\"image\"],\n",
    "    framework_version=config[\"framework_version\"],\n",
    "    py_version=config[\"py_version\"],\n",
    "    instance_type=config[\"instance_type\"],\n",
    "    instance_count=1,\n",
    "    disable_profiler=True,\n",
    "    debugger_hook_config=False,\n",
    "    sagemaker_session=config[\"session\"],\n",
    "    role=role,\n",
    "    \n",
    ")"
   ]
  },
  {
   "cell_type": "markdown",
   "id": "545d2b43-3bb5-4fe9-b3e4-cb8eb55c8a21",
   "metadata": {},
   "source": [
    "We can now create a [Training Step](https://docs.aws.amazon.com/sagemaker/latest/dg/build-and-manage-steps.html#step-type-training). This Training Step will create a SageMaker Training Job in the background, run the training script, and upload the output to S3. Check the [TrainingStep](https://sagemaker.readthedocs.io/en/stable/workflows/pipelines/sagemaker.workflow.pipelines.html#sagemaker.workflow.steps.TrainingStep) SageMaker's SDK documentation for more information.\n",
    "\n",
    "This step will receive the train and validation split from the preprocessing step as inputs.\n",
    "\n",
    "Here, we are using three input channels, `train`, `validation`, and `pipeline`. SageMaker will automatically create an environment variable corresponding to each of these channels following the format `SM_CHANNEL_[channel_name]`:\n",
    "\n",
    "-   `SM_CHANNEL_TRAIN`: This environment variable will contain the path to the training data coming from the preprocessing step.\n",
    "-   `SM_CHANNEL_VALIDATION`: This environment variable will contain the path to the validation data coming from the preprocessing step.\n",
    "-   `SM_CHANNEL_PIPELINE`: This environment variable will contain the path to the transformation pipeline that we saved in the preprocessing step.\n",
    "\n",
    "Notice that we are creating a function that we can later reuse to create a training step using a different estimator.\n"
   ]
  },
  {
   "cell_type": "code",
   "execution_count": 115,
   "id": "99e4850c-83d6-4f4e-a813-d5a3f4bb7486",
   "metadata": {
    "tags": [
     "hide-output"
    ]
   },
   "outputs": [
    {
     "name": "stderr",
     "output_type": "stream",
     "text": [
      "b:\\Git\\ml.school\\venv\\lib\\site-packages\\sagemaker\\workflow\\pipeline_context.py:332: UserWarning: Running within a PipelineSession, there will be No Wait, No Logs, and No Job being started.\n",
      "  warnings.warn(\n"
     ]
    }
   ],
   "source": [
    "from sagemaker.inputs import TrainingInput\n",
    "from sagemaker.workflow.steps import TrainingStep\n",
    "\n",
    "\n",
    "def create_training_step(estimator):\n",
    "    \"\"\"Create a SageMaker TrainingStep using the provided estimator.\"\"\"\n",
    "    return TrainingStep(\n",
    "        name=\"train-model\",\n",
    "        step_args=estimator.fit(\n",
    "            inputs={\n",
    "                \"train\": TrainingInput(\n",
    "                    s3_data=preprocessing_step.properties.ProcessingOutputConfig.Outputs[\n",
    "                        \"train\"\n",
    "                    ].S3Output.S3Uri,\n",
    "                    content_type=\"text/csv\",\n",
    "                ),\n",
    "                \"validation\": TrainingInput(\n",
    "                    s3_data=preprocessing_step.properties.ProcessingOutputConfig.Outputs[\n",
    "                        \"validation\"\n",
    "                    ].S3Output.S3Uri,\n",
    "                    content_type=\"text/csv\",\n",
    "                ),\n",
    "                \"pipeline\": TrainingInput(\n",
    "                    s3_data=preprocessing_step.properties.ProcessingOutputConfig.Outputs[\n",
    "                        \"model\"\n",
    "                    ].S3Output.S3Uri,\n",
    "                    content_type=\"application/tar+gzip\",\n",
    "                ),\n",
    "            },\n",
    "        ),\n",
    "        cache_config=cache_config,\n",
    "    )\n",
    "\n",
    "\n",
    "train_model_step = create_training_step(estimator)"
   ]
  },
  {
   "cell_type": "markdown",
   "id": "bfcda131",
   "metadata": {},
   "source": [
    "### Step 3 - Creating the Pipeline\n",
    "\n",
    "Let's define the SageMaker Pipeline and submit its definition to the SageMaker Pipelines service to create the pipeline if it doesn't exist or update it if it does.\n"
   ]
  },
  {
   "cell_type": "code",
   "execution_count": 116,
   "id": "d92cac3d",
   "metadata": {
    "tags": [
     "hide-output"
    ]
   },
   "outputs": [
    {
     "name": "stderr",
     "output_type": "stream",
     "text": [
      "INFO:sagemaker.telemetry.telemetry_logging:SageMaker Python SDK will collect telemetry to help us better understand our user's needs, diagnose issues, and deliver additional features.\n",
      "To opt out of telemetry, please disable via TelemetryOptOut parameter in SDK defaults config. For more information, refer to https://sagemaker.readthedocs.io/en/stable/overview.html#configuring-and-using-defaults-with-the-sagemaker-python-sdk.\n"
     ]
    },
    {
     "data": {
      "text/plain": [
       "{'PipelineArn': 'session4-pipeline'}"
      ]
     },
     "execution_count": 116,
     "metadata": {},
     "output_type": "execute_result"
    }
   ],
   "source": [
    "session4_pipeline = Pipeline(\n",
    "    name=\"session4-pipeline\",\n",
    "    parameters=[dataset_location,\n",
    "                training_epochs],\n",
    "    steps=[\n",
    "        preprocessing_step,\n",
    "        train_model_step,\n",
    "    ],\n",
    "    pipeline_definition_config=pipeline_definition_config,\n",
    "    sagemaker_session=config[\"session\"],\n",
    ")\n",
    "\n",
    "session4_pipeline.upsert(role_arn=role)"
   ]
  },
  {
   "cell_type": "markdown",
   "id": "23767878",
   "metadata": {},
   "source": [
    "## Session 5 - Custom Training Container\n",
    "\n",
    "This session creates a custom Docker image to train the model and have full control of the environment where the training script runs.\n",
    "\n",
    "For this example, we'll run the training script using [Keras 3](https://keras.io) with a [JAX](https://jax.readthedocs.io/en/latest/index.html) backend. Check [Adapting your own Docker container to work with SageMaker](https://docs.aws.amazon.com/sagemaker/latest/dg/docker-containers-adapt-your-own.html) for more information about using your own Docker containers.\n"
   ]
  },
  {
   "cell_type": "markdown",
   "id": "5877305d",
   "metadata": {},
   "source": [
    "### Step 1 - Preparing the Docker Image\n",
    "\n",
    "The first step is to copy the training script to a folder where we'll prepare the Docker image. We are going to reuse the training script we created before, since it's compatible with the latest version of Keras.\n"
   ]
  },
  {
   "cell_type": "code",
   "execution_count": 143,
   "id": "57c2915c",
   "metadata": {},
   "outputs": [
    {
     "data": {
      "text/plain": [
       "WindowsPath('code/containers/training/train.py')"
      ]
     },
     "execution_count": 143,
     "metadata": {},
     "output_type": "execute_result"
    }
   ],
   "source": [
    "import shutil\n",
    "\n",
    "(CODE_FOLDER / \"containers\" / \"training\").mkdir(parents=True, exist_ok=True)\n",
    "shutil.copy2(\n",
    "    CODE_FOLDER / \"training\" / \"script.py\",\n",
    "    CODE_FOLDER / \"containers\" / \"training\" / \"train.py\",\n",
    ")\n"
   ]
  },
  {
   "cell_type": "markdown",
   "id": "af356028",
   "metadata": {},
   "source": [
    "Since we are creating a new Docker image, we need to install the libraries we need in the training container. We'll use a `requirements.txt` file to install these libraries. Notice that we are installing `jax` to run it as our backend.\n",
    "\n",
    "The `sagemaker-training` library contains the common functionality necessary to create a container compatible with SageMaker and its Python SDK.\n"
   ]
  },
  {
   "cell_type": "code",
   "execution_count": 144,
   "id": "3ffa9250",
   "metadata": {
    "tags": [
     "hide-output"
    ]
   },
   "outputs": [
    {
     "name": "stdout",
     "output_type": "stream",
     "text": [
      "Overwriting code/containers/training/requirements.txt\n"
     ]
    }
   ],
   "source": [
    "%%writefile {CODE_FOLDER}/containers/training/requirements.txt\n",
    "# | filename: requirements.txt\n",
    "# | code-line-numbers: true\n",
    "\n",
    "sagemaker-training\n",
    "packaging\n",
    "keras\n",
    "pandas\n",
    "scikit-learn\n",
    "comet_ml\n",
    "jax[cpu]\n"
   ]
  },
  {
   "cell_type": "markdown",
   "id": "4fbed197",
   "metadata": {},
   "source": [
    "We can now create the Dockerfile containing the instructions to build the training image. Notice how this image will automatically run the `train.py` script when it starts.\n",
    "\n",
    "To use JAX as the backend for our model, we need to set the `KERAS_BACKEND` environment variable to `jax`.\n"
   ]
  },
  {
   "cell_type": "code",
   "execution_count": 145,
   "id": "de5d473c",
   "metadata": {
    "tags": [
     "hide-output"
    ]
   },
   "outputs": [
    {
     "name": "stdout",
     "output_type": "stream",
     "text": [
      "Overwriting code/containers/training/Dockerfile\n"
     ]
    }
   ],
   "source": [
    "%%writefile {CODE_FOLDER}/containers/training/Dockerfile\n",
    "# | filename: Dockerfile\n",
    "# | code-line-numbers: true\n",
    "\n",
    "FROM python:3.10-slim\n",
    "\n",
    "RUN apt-get -y update && apt-get install -y --no-install-recommends \\\n",
    "    python3 \\\n",
    "    build-essential libssl-dev pkg-config libhdf5-dev\n",
    "\n",
    "# Let's install the required Python packages from \n",
    "# the requirements.txt file.\n",
    "COPY requirements.txt .\n",
    "RUN pip install --user --upgrade pip\n",
    "RUN pip3 install -r requirements.txt\n",
    "\n",
    "# We are going to be running the training script\n",
    "# as the entrypoint of this container.\n",
    "COPY train.py /opt/ml/code/train.py\n",
    "ENV SAGEMAKER_PROGRAM train.py\n",
    "\n",
    "# We want to use JAX as the backend for Keras.\n",
    "ENV KERAS_BACKEND=jax"
   ]
  },
  {
   "cell_type": "markdown",
   "id": "861d11c0",
   "metadata": {},
   "source": [
    "Docker Image maker for assignment"
   ]
  },
  {
   "cell_type": "code",
   "execution_count": 120,
   "id": "e10c1fe7",
   "metadata": {},
   "outputs": [
    {
     "name": "stdout",
     "output_type": "stream",
     "text": [
      "Overwriting code/containers/training/Dockerfile\n"
     ]
    }
   ],
   "source": [
    "%%writefile {CODE_FOLDER}/containers/training/Dockerfile\n",
    "# | filename: Dockerfile\n",
    "# | code-line-numbers: true\n",
    "\n",
    "FROM python:3.10-slim\n",
    "\n",
    "RUN apt-get -y update && apt-get install -y --no-install-recommends \\\n",
    "    python3 \\\n",
    "    build-essential libssl-dev pkg-config libhdf5-dev\n",
    "\n",
    "# Let's install the required Python packages from \n",
    "# the requirements.txt file.\n",
    "COPY requirements.txt .\n",
    "RUN pip install --user --upgrade pip\n",
    "RUN pip3 install -r requirements.txt\n",
    "\n",
    "\n",
    "# [ source based on build context] [Destination of target directory inside the docker container]\n",
    "COPY . /opt/ml/code/\n",
    "\n",
    "\n",
    "# We want to use JAX as the backend for Keras.\n",
    "ENV KERAS_BACKEND=jax\n",
    "\n",
    "\n",
    "\n"
   ]
  },
  {
   "cell_type": "markdown",
   "id": "1f88cd82",
   "metadata": {},
   "source": [
    "PyTorch docker container"
   ]
  },
  {
   "cell_type": "code",
   "execution_count": 192,
   "id": "8342def5",
   "metadata": {},
   "outputs": [
    {
     "name": "stdout",
     "output_type": "stream",
     "text": [
      "Overwriting code/containers/training/Dockerfile\n"
     ]
    }
   ],
   "source": [
    "%%writefile {CODE_FOLDER}/containers/training/Dockerfile\n",
    "\n",
    "FROM pytorch/pytorch:latest\n",
    "\n",
    "RUN apt-get -y update && apt-get install -y --no-install-recommends \\\n",
    "    python3 \\\n",
    "    build-essential libssl-dev pkg-config libhdf5-dev\n",
    "\n",
    "COPY requirements.txt .\n",
    "RUN pip install --user --upgrade pip\n",
    "RUN pip3 install -r requirements.txt\n",
    "\n",
    "# Copy torch training script into the container\n",
    "COPY . /opt/ml/code/\n",
    "\n",
    "\n"
   ]
  },
  {
   "cell_type": "markdown",
   "id": "746dc0da",
   "metadata": {},
   "source": [
    "### Step 2 - Building the Docker Image\n",
    "\n",
    "We can now build the Docker image using the `docker build` command. We are going to define the name of this image using the `IMAGE_NAME` variable.\n"
   ]
  },
  {
   "cell_type": "code",
   "execution_count": 146,
   "id": "e37a06ac",
   "metadata": {
    "tags": [
     "hide-output"
    ]
   },
   "outputs": [
    {
     "name": "stdout",
     "output_type": "stream",
     "text": [
      "Building Docker image for arm64 architecture...\n"
     ]
    },
    {
     "name": "stderr",
     "output_type": "stream",
     "text": [
      "#0 building with \"desktop-linux\" instance using docker driver\n",
      "\n",
      "#1 [internal] load build definition from Dockerfile\n",
      "#1 transferring dockerfile: 681B 0.0s done\n",
      "#1 DONE 0.1s\n",
      "\n",
      "#2 [internal] load metadata for docker.io/library/python:3.10-slim\n",
      "#2 DONE 1.4s\n",
      "\n",
      "#3 [internal] load .dockerignore\n",
      "#3 transferring context: 2B done\n",
      "#3 DONE 0.0s\n",
      "\n",
      "#4 [internal] load build context\n",
      "#4 transferring context: 5.51kB 0.0s done\n",
      "#4 DONE 0.1s\n",
      "\n",
      "#5 [1/6] FROM docker.io/library/python:3.10-slim@sha256:8666a639a54acc810408e505e2c6b46b50834385701675ee177f578b3d2fdef9\n",
      "#5 resolve docker.io/library/python:3.10-slim@sha256:8666a639a54acc810408e505e2c6b46b50834385701675ee177f578b3d2fdef9\n",
      "#5 resolve docker.io/library/python:3.10-slim@sha256:8666a639a54acc810408e505e2c6b46b50834385701675ee177f578b3d2fdef9 0.1s done\n",
      "#5 DONE 0.1s\n",
      "\n",
      "#6 [2/6] RUN apt-get -y update && apt-get install -y --no-install-recommends     python3     build-essential libssl-dev pkg-config libhdf5-dev\n",
      "#6 CACHED\n",
      "\n",
      "#7 [3/6] COPY requirements.txt .\n",
      "#7 DONE 0.1s\n",
      "\n",
      "#8 [4/6] RUN pip install --user --upgrade pip\n",
      "#8 2.870 Requirement already satisfied: pip in /usr/local/lib/python3.10/site-packages (23.0.1)\n",
      "#8 3.240 Collecting pip\n",
      "#8 3.608   Downloading pip-24.2-py3-none-any.whl (1.8 MB)\n",
      "#8 4.008      ━━━━━━━━━━━━━━━━━━━━━━━━━━━━━━━━━━━━━━━━ 1.8/1.8 MB 4.7 MB/s eta 0:00:00\n",
      "#8 4.078 Installing collected packages: pip\n",
      "#8 5.035   WARNING: The scripts pip, pip3 and pip3.10 are installed in '/root/.local/bin' which is not on PATH.\n",
      "#8 5.035   Consider adding this directory to PATH or, if you prefer to suppress this warning, use --no-warn-script-location.\n",
      "#8 5.059 Successfully installed pip-24.2\n",
      "#8 5.060 WARNING: Running pip as the 'root' user can result in broken permissions and conflicting behaviour with the system package manager. It is recommended to use a virtual environment instead: https://pip.pypa.io/warnings/venv\n",
      "#8 5.353 \n",
      "#8 5.353 [notice] A new release of pip is available: 23.0.1 -> 24.2\n",
      "#8 5.353 [notice] To update, run: pip install --upgrade pip\n",
      "#8 DONE 5.6s\n",
      "\n",
      "#9 [5/6] RUN pip3 install -r requirements.txt\n",
      "#9 1.097 Collecting sagemaker-training (from -r requirements.txt (line 4))\n",
      "#9 1.312   Downloading sagemaker_training-4.8.0.tar.gz (60 kB)\n",
      "#9 1.412   Preparing metadata (setup.py): started\n",
      "#9 2.019   Preparing metadata (setup.py): finished with status 'done'\n",
      "#9 2.124 Collecting packaging (from -r requirements.txt (line 5))\n",
      "#9 2.194   Downloading packaging-24.1-py3-none-any.whl.metadata (3.2 kB)\n",
      "#9 2.323 Collecting keras (from -r requirements.txt (line 6))\n",
      "#9 2.386   Downloading keras-3.5.0-py3-none-any.whl.metadata (5.8 kB)\n",
      "#9 2.781 Collecting pandas (from -r requirements.txt (line 7))\n",
      "#9 2.852   Downloading pandas-2.2.2-cp310-cp310-manylinux_2_17_x86_64.manylinux2014_x86_64.whl.metadata (19 kB)\n",
      "#9 3.142 Collecting scikit-learn (from -r requirements.txt (line 8))\n",
      "#9 3.204   Downloading scikit_learn-1.5.1-cp310-cp310-manylinux_2_17_x86_64.manylinux2014_x86_64.whl.metadata (12 kB)\n",
      "#9 3.442 Collecting comet_ml (from -r requirements.txt (line 9))\n",
      "#9 3.500   Downloading comet_ml-3.44.4-py3-none-any.whl.metadata (3.9 kB)\n",
      "#9 3.619 Collecting jax[cpu] (from -r requirements.txt (line 10))\n",
      "#9 3.689   Downloading jax-0.4.31-py3-none-any.whl.metadata (22 kB)\n",
      "#9 4.112 Collecting numpy (from sagemaker-training->-r requirements.txt (line 4))\n",
      "#9 4.179   Downloading numpy-2.1.0-cp310-cp310-manylinux_2_17_x86_64.manylinux2014_x86_64.whl.metadata (60 kB)\n",
      "#9 5.019 Collecting boto3 (from sagemaker-training->-r requirements.txt (line 4))\n",
      "#9 5.082   Downloading boto3-1.35.2-py3-none-any.whl.metadata (6.6 kB)\n",
      "#9 5.175 Collecting six (from sagemaker-training->-r requirements.txt (line 4))\n",
      "#9 5.234   Downloading six-1.16.0-py2.py3-none-any.whl.metadata (1.8 kB)\n",
      "#9 5.253 Requirement already satisfied: pip in /root/.local/lib/python3.10/site-packages (from sagemaker-training->-r requirements.txt (line 4)) (24.2)\n",
      "#9 5.332 Collecting retrying>=1.3.3 (from sagemaker-training->-r requirements.txt (line 4))\n",
      "#9 5.390   Downloading retrying-1.3.4-py3-none-any.whl.metadata (6.9 kB)\n",
      "#9 5.652 Collecting gevent (from sagemaker-training->-r requirements.txt (line 4))\n",
      "#9 5.707   Downloading gevent-24.2.1-cp310-cp310-manylinux_2_28_x86_64.whl.metadata (13 kB)\n",
      "#9 5.811 Collecting inotify_simple==1.2.1 (from sagemaker-training->-r requirements.txt (line 4))\n",
      "#9 5.869   Downloading inotify_simple-1.2.1.tar.gz (7.9 kB)\n",
      "#9 5.894   Preparing metadata (setup.py): started\n",
      "#9 6.183   Preparing metadata (setup.py): finished with status 'done'\n",
      "#9 6.286 Collecting werkzeug>=0.15.5 (from sagemaker-training->-r requirements.txt (line 4))\n",
      "#9 6.351   Downloading werkzeug-3.0.3-py3-none-any.whl.metadata (3.7 kB)\n",
      "#9 6.480 Collecting paramiko>=2.4.2 (from sagemaker-training->-r requirements.txt (line 4))\n",
      "#9 6.544   Downloading paramiko-3.4.1-py3-none-any.whl.metadata (4.4 kB)\n",
      "#9 6.766 Collecting psutil>=5.6.7 (from sagemaker-training->-r requirements.txt (line 4))\n",
      "#9 6.832   Downloading psutil-6.0.0-cp36-abi3-manylinux_2_12_x86_64.manylinux2010_x86_64.manylinux_2_17_x86_64.manylinux2014_x86_64.whl.metadata (21 kB)\n",
      "#9 7.251 Collecting protobuf<=3.20.3,>=3.9.2 (from sagemaker-training->-r requirements.txt (line 4))\n",
      "#9 7.307   Downloading protobuf-3.20.3-cp310-cp310-manylinux_2_12_x86_64.manylinux2010_x86_64.whl.metadata (679 bytes)\n",
      "#9 7.573 Collecting scipy>=1.2.2 (from sagemaker-training->-r requirements.txt (line 4))\n",
      "#9 7.632   Downloading scipy-1.14.1-cp310-cp310-manylinux_2_17_x86_64.manylinux2014_x86_64.whl.metadata (60 kB)\n",
      "#9 8.690 Collecting botocore>=1.31.57 (from sagemaker-training->-r requirements.txt (line 4))\n",
      "#9 8.753   Downloading botocore-1.35.2-py3-none-any.whl.metadata (5.7 kB)\n",
      "#9 8.849 Collecting absl-py (from keras->-r requirements.txt (line 6))\n",
      "#9 8.908   Downloading absl_py-2.1.0-py3-none-any.whl.metadata (2.3 kB)\n",
      "#9 9.084 Collecting rich (from keras->-r requirements.txt (line 6))\n",
      "#9 9.140   Downloading rich-13.7.1-py3-none-any.whl.metadata (18 kB)\n",
      "#9 9.238 Collecting namex (from keras->-r requirements.txt (line 6))\n",
      "#9 9.296   Downloading namex-0.0.8-py3-none-any.whl.metadata (246 bytes)\n",
      "#9 9.429 Collecting h5py (from keras->-r requirements.txt (line 6))\n",
      "#9 9.493   Downloading h5py-3.11.0-cp310-cp310-manylinux_2_17_x86_64.manylinux2014_x86_64.whl.metadata (2.5 kB)\n",
      "#9 9.662 Collecting optree (from keras->-r requirements.txt (line 6))\n",
      "#9 9.723   Downloading optree-0.12.1-cp310-cp310-manylinux_2_17_x86_64.manylinux2014_x86_64.whl.metadata (47 kB)\n",
      "#9 9.878 Collecting ml-dtypes (from keras->-r requirements.txt (line 6))\n",
      "#9 9.953   Downloading ml_dtypes-0.4.0-cp310-cp310-manylinux_2_17_x86_64.manylinux2014_x86_64.whl.metadata (20 kB)\n",
      "#9 10.08 Collecting python-dateutil>=2.8.2 (from pandas->-r requirements.txt (line 7))\n",
      "#9 10.15   Downloading python_dateutil-2.9.0.post0-py2.py3-none-any.whl.metadata (8.4 kB)\n",
      "#9 10.32 Collecting pytz>=2020.1 (from pandas->-r requirements.txt (line 7))\n",
      "#9 10.38   Downloading pytz-2024.1-py2.py3-none-any.whl.metadata (22 kB)\n",
      "#9 10.49 Collecting tzdata>=2022.7 (from pandas->-r requirements.txt (line 7))\n",
      "#9 10.55   Downloading tzdata-2024.1-py2.py3-none-any.whl.metadata (1.4 kB)\n",
      "#9 10.69 Collecting joblib>=1.2.0 (from scikit-learn->-r requirements.txt (line 8))\n",
      "#9 10.75   Downloading joblib-1.4.2-py3-none-any.whl.metadata (5.4 kB)\n",
      "#9 10.84 Collecting threadpoolctl>=3.1.0 (from scikit-learn->-r requirements.txt (line 8))\n",
      "#9 10.90   Downloading threadpoolctl-3.5.0-py3-none-any.whl.metadata (13 kB)\n",
      "#9 11.00 Collecting everett<3.2.0,>=1.0.1 (from everett[ini]<3.2.0,>=1.0.1->comet_ml->-r requirements.txt (line 9))\n",
      "#9 11.06   Downloading everett-3.1.0-py2.py3-none-any.whl.metadata (17 kB)\n",
      "#9 11.19 Collecting jsonschema!=3.1.0,>=2.6.0 (from comet_ml->-r requirements.txt (line 9))\n",
      "#9 11.25   Downloading jsonschema-4.23.0-py3-none-any.whl.metadata (7.9 kB)\n",
      "#9 11.40 Collecting python-box<7.0.0 (from comet_ml->-r requirements.txt (line 9))\n",
      "#9 11.47   Downloading python_box-6.1.0-cp310-cp310-manylinux_2_17_x86_64.manylinux2014_x86_64.whl.metadata (7.8 kB)\n",
      "#9 11.56 Collecting requests-toolbelt>=0.8.0 (from comet_ml->-r requirements.txt (line 9))\n",
      "#9 11.62   Downloading requests_toolbelt-1.0.0-py2.py3-none-any.whl.metadata (14 kB)\n",
      "#9 11.74 Collecting requests>=2.18.4 (from comet_ml->-r requirements.txt (line 9))\n",
      "#9 11.81   Downloading requests-2.32.3-py3-none-any.whl.metadata (4.6 kB)\n",
      "#9 11.91 Collecting semantic-version>=2.8.0 (from comet_ml->-r requirements.txt (line 9))\n",
      "#9 11.97   Downloading semantic_version-2.10.0-py2.py3-none-any.whl.metadata (9.7 kB)\n",
      "#9 12.15 Collecting sentry-sdk>=1.1.0 (from comet_ml->-r requirements.txt (line 9))\n",
      "#9 12.21   Downloading sentry_sdk-2.13.0-py2.py3-none-any.whl.metadata (9.7 kB)\n",
      "#9 12.49 Collecting simplejson (from comet_ml->-r requirements.txt (line 9))\n",
      "#9 12.56   Downloading simplejson-3.19.3-cp310-cp310-manylinux_2_5_x86_64.manylinux1_x86_64.manylinux_2_17_x86_64.manylinux2014_x86_64.whl.metadata (3.2 kB)\n",
      "#9 12.77 Collecting urllib3>=1.21.1 (from comet_ml->-r requirements.txt (line 9))\n",
      "#9 12.83   Downloading urllib3-2.2.2-py3-none-any.whl.metadata (6.4 kB)\n",
      "#9 13.06 Collecting wrapt>=1.11.2 (from comet_ml->-r requirements.txt (line 9))\n",
      "#9 13.12   Downloading wrapt-1.16.0-cp310-cp310-manylinux_2_5_x86_64.manylinux1_x86_64.manylinux_2_17_x86_64.manylinux2014_x86_64.whl.metadata (6.6 kB)\n",
      "#9 13.23 Collecting wurlitzer>=1.0.2 (from comet_ml->-r requirements.txt (line 9))\n",
      "#9 13.30   Downloading wurlitzer-3.1.1-py3-none-any.whl.metadata (2.5 kB)\n",
      "#9 13.61 Collecting dulwich!=0.20.33,>=0.20.6 (from comet_ml->-r requirements.txt (line 9))\n",
      "#9 13.66   Downloading dulwich-0.22.1-cp310-cp310-manylinux_2_17_x86_64.manylinux2014_x86_64.whl.metadata (4.4 kB)\n",
      "#9 13.81 Collecting jaxlib<=0.4.31,>=0.4.30 (from jax[cpu]->-r requirements.txt (line 10))\n",
      "#9 13.87   Downloading jaxlib-0.4.31-cp310-cp310-manylinux2014_x86_64.whl.metadata (983 bytes)\n",
      "#9 13.97 Collecting opt-einsum (from jax[cpu]->-r requirements.txt (line 10))\n",
      "#9 14.03   Downloading opt_einsum-3.3.0-py3-none-any.whl.metadata (6.5 kB)\n",
      "#9 14.29 Collecting jmespath<2.0.0,>=0.7.1 (from boto3->sagemaker-training->-r requirements.txt (line 4))\n",
      "#9 14.35   Downloading jmespath-1.0.1-py3-none-any.whl.metadata (7.6 kB)\n",
      "#9 14.47 Collecting s3transfer<0.11.0,>=0.10.0 (from boto3->sagemaker-training->-r requirements.txt (line 4))\n",
      "#9 14.53   Downloading s3transfer-0.10.2-py3-none-any.whl.metadata (1.7 kB)\n",
      "#9 14.66 Collecting configobj (from everett[ini]<3.2.0,>=1.0.1->comet_ml->-r requirements.txt (line 9))\n",
      "#9 14.73   Downloading configobj-5.0.8-py2.py3-none-any.whl.metadata (3.4 kB)\n",
      "#9 14.84 Collecting attrs>=22.2.0 (from jsonschema!=3.1.0,>=2.6.0->comet_ml->-r requirements.txt (line 9))\n",
      "#9 14.90   Downloading attrs-24.2.0-py3-none-any.whl.metadata (11 kB)\n",
      "#9 15.03 Collecting jsonschema-specifications>=2023.03.6 (from jsonschema!=3.1.0,>=2.6.0->comet_ml->-r requirements.txt (line 9))\n",
      "#9 15.09   Downloading jsonschema_specifications-2023.12.1-py3-none-any.whl.metadata (3.0 kB)\n",
      "#9 15.22 Collecting referencing>=0.28.4 (from jsonschema!=3.1.0,>=2.6.0->comet_ml->-r requirements.txt (line 9))\n",
      "#9 15.28   Downloading referencing-0.35.1-py3-none-any.whl.metadata (2.8 kB)\n",
      "#9 15.82 Collecting rpds-py>=0.7.1 (from jsonschema!=3.1.0,>=2.6.0->comet_ml->-r requirements.txt (line 9))\n",
      "#9 15.87   Downloading rpds_py-0.20.0-cp310-cp310-manylinux_2_17_x86_64.manylinux2014_x86_64.whl.metadata (4.2 kB)\n",
      "#9 16.05 Collecting bcrypt>=3.2 (from paramiko>=2.4.2->sagemaker-training->-r requirements.txt (line 4))\n",
      "#9 16.11   Downloading bcrypt-4.2.0-cp39-abi3-manylinux_2_28_x86_64.whl.metadata (9.6 kB)\n",
      "#9 16.61 Collecting cryptography>=3.3 (from paramiko>=2.4.2->sagemaker-training->-r requirements.txt (line 4))\n",
      "#9 16.67   Downloading cryptography-43.0.0-cp39-abi3-manylinux_2_28_x86_64.whl.metadata (5.4 kB)\n",
      "#9 16.80 Collecting pynacl>=1.5 (from paramiko>=2.4.2->sagemaker-training->-r requirements.txt (line 4))\n",
      "#9 16.85   Downloading PyNaCl-1.5.0-cp36-abi3-manylinux_2_17_x86_64.manylinux2014_x86_64.manylinux_2_24_x86_64.whl.metadata (8.6 kB)\n",
      "#9 17.06 Collecting charset-normalizer<4,>=2 (from requests>=2.18.4->comet_ml->-r requirements.txt (line 9))\n",
      "#9 17.12   Downloading charset_normalizer-3.3.2-cp310-cp310-manylinux_2_17_x86_64.manylinux2014_x86_64.whl.metadata (33 kB)\n",
      "#9 17.24 Collecting idna<4,>=2.5 (from requests>=2.18.4->comet_ml->-r requirements.txt (line 9))\n",
      "#9 17.31   Downloading idna-3.7-py3-none-any.whl.metadata (9.9 kB)\n",
      "#9 17.44 Collecting certifi>=2017.4.17 (from requests>=2.18.4->comet_ml->-r requirements.txt (line 9))\n",
      "#9 17.79   Downloading certifi-2024.7.4-py3-none-any.whl.metadata (2.2 kB)\n",
      "#9 17.94 Collecting markdown-it-py>=2.2.0 (from rich->keras->-r requirements.txt (line 6))\n",
      "#9 18.00   Downloading markdown_it_py-3.0.0-py3-none-any.whl.metadata (6.9 kB)\n",
      "#9 18.12 Collecting pygments<3.0.0,>=2.13.0 (from rich->keras->-r requirements.txt (line 6))\n",
      "#9 18.18   Downloading pygments-2.18.0-py3-none-any.whl.metadata (2.5 kB)\n",
      "#9 18.42 Collecting MarkupSafe>=2.1.1 (from werkzeug>=0.15.5->sagemaker-training->-r requirements.txt (line 4))\n",
      "#9 18.48   Downloading MarkupSafe-2.1.5-cp310-cp310-manylinux_2_17_x86_64.manylinux2014_x86_64.whl.metadata (3.0 kB)\n",
      "#9 18.60 Collecting zope.event (from gevent->sagemaker-training->-r requirements.txt (line 4))\n",
      "#9 18.67   Downloading zope.event-5.0-py3-none-any.whl.metadata (4.4 kB)\n",
      "#9 18.98 Collecting zope.interface (from gevent->sagemaker-training->-r requirements.txt (line 4))\n",
      "#9 19.04   Downloading zope.interface-7.0.1-cp310-cp310-manylinux_2_5_x86_64.manylinux1_x86_64.manylinux_2_17_x86_64.manylinux2014_x86_64.whl.metadata (43 kB)\n",
      "#9 19.39 Collecting greenlet>=2.0.0 (from gevent->sagemaker-training->-r requirements.txt (line 4))\n",
      "#9 19.45   Downloading greenlet-3.0.3-cp310-cp310-manylinux_2_24_x86_64.manylinux_2_28_x86_64.whl.metadata (3.8 kB)\n",
      "#9 19.60 Collecting typing-extensions>=4.5.0 (from optree->keras->-r requirements.txt (line 6))\n",
      "#9 19.66   Downloading typing_extensions-4.12.2-py3-none-any.whl.metadata (3.0 kB)\n",
      "#9 19.98 Collecting cffi>=1.12 (from cryptography>=3.3->paramiko>=2.4.2->sagemaker-training->-r requirements.txt (line 4))\n",
      "#9 20.04   Downloading cffi-1.17.0-cp310-cp310-manylinux_2_17_x86_64.manylinux2014_x86_64.whl.metadata (1.5 kB)\n",
      "#9 20.15 Collecting mdurl~=0.1 (from markdown-it-py>=2.2.0->rich->keras->-r requirements.txt (line 6))\n",
      "#9 20.21   Downloading mdurl-0.1.2-py3-none-any.whl.metadata (1.6 kB)\n",
      "#9 20.54 Requirement already satisfied: setuptools in /usr/local/lib/python3.10/site-packages (from zope.event->gevent->sagemaker-training->-r requirements.txt (line 4)) (65.5.1)\n",
      "#9 20.62 Collecting pycparser (from cffi>=1.12->cryptography>=3.3->paramiko>=2.4.2->sagemaker-training->-r requirements.txt (line 4))\n",
      "#9 20.69   Downloading pycparser-2.22-py3-none-any.whl.metadata (943 bytes)\n",
      "#9 20.78 Downloading packaging-24.1-py3-none-any.whl (53 kB)\n",
      "#9 20.88 Downloading keras-3.5.0-py3-none-any.whl (1.1 MB)\n",
      "#9 21.36    ━━━━━━━━━━━━━━━━━━━━━━━━━━━━━━━━━━━━━━━━ 1.1/1.1 MB 2.5 MB/s eta 0:00:00\n",
      "#9 21.42 Downloading pandas-2.2.2-cp310-cp310-manylinux_2_17_x86_64.manylinux2014_x86_64.whl (13.0 MB)\n",
      "#9 23.56    ━━━━━━━━━━━━━━━━━━━━━━━━━━━━━━━━━━━━━━━━ 13.0/13.0 MB 6.2 MB/s eta 0:00:00\n",
      "#9 23.63 Downloading scikit_learn-1.5.1-cp310-cp310-manylinux_2_17_x86_64.manylinux2014_x86_64.whl (13.4 MB)\n",
      "#9 25.74    ━━━━━━━━━━━━━━━━━━━━━━━━━━━━━━━━━━━━━━━━ 13.4/13.4 MB 6.3 MB/s eta 0:00:00\n",
      "#9 25.80 Downloading comet_ml-3.44.4-py3-none-any.whl (684 kB)\n",
      "#9 25.89    ━━━━━━━━━━━━━━━━━━━━━━━━━━━━━━━━━━━━━━━━ 684.6/684.6 kB 6.5 MB/s eta 0:00:00\n",
      "#9 25.96 Downloading boto3-1.35.2-py3-none-any.whl (139 kB)\n",
      "#9 26.04 Downloading botocore-1.35.2-py3-none-any.whl (12.5 MB)\n",
      "#9 27.29    ━━━━━━━━━━━━━━━━━━━━━━━━━━━━━━━━━━━━━━━━ 12.5/12.5 MB 10.0 MB/s eta 0:00:00\n",
      "#9 27.35 Downloading dulwich-0.22.1-cp310-cp310-manylinux_2_17_x86_64.manylinux2014_x86_64.whl (979 kB)\n",
      "#9 27.47    ━━━━━━━━━━━━━━━━━━━━━━━━━━━━━━━━━━━━━━━━ 979.1/979.1 kB 7.9 MB/s eta 0:00:00\n",
      "#9 27.53 Downloading everett-3.1.0-py2.py3-none-any.whl (35 kB)\n",
      "#9 27.62 Downloading jaxlib-0.4.31-cp310-cp310-manylinux2014_x86_64.whl (88.1 MB)\n",
      "#9 36.91    ━━━━━━━━━━━━━━━━━━━━━━━━━━━━━━━━━━━━━━━━ 88.1/88.1 MB 9.5 MB/s eta 0:00:00\n",
      "#9 36.98 Downloading joblib-1.4.2-py3-none-any.whl (301 kB)\n",
      "#9 37.10 Downloading jsonschema-4.23.0-py3-none-any.whl (88 kB)\n",
      "#9 37.18 Downloading ml_dtypes-0.4.0-cp310-cp310-manylinux_2_17_x86_64.manylinux2014_x86_64.whl (2.2 MB)\n",
      "#9 37.44    ━━━━━━━━━━━━━━━━━━━━━━━━━━━━━━━━━━━━━━━━ 2.2/2.2 MB 8.5 MB/s eta 0:00:00\n",
      "#9 37.50 Downloading numpy-2.1.0-cp310-cp310-manylinux_2_17_x86_64.manylinux2014_x86_64.whl (16.3 MB)\n",
      "#9 39.24    ━━━━━━━━━━━━━━━━━━━━━━━━━━━━━━━━━━━━━━━━ 16.3/16.3 MB 9.4 MB/s eta 0:00:00\n",
      "#9 39.30 Downloading paramiko-3.4.1-py3-none-any.whl (226 kB)\n",
      "#9 39.41 Downloading protobuf-3.20.3-cp310-cp310-manylinux_2_12_x86_64.manylinux2010_x86_64.whl (1.1 MB)\n",
      "#9 39.54    ━━━━━━━━━━━━━━━━━━━━━━━━━━━━━━━━━━━━━━━━ 1.1/1.1 MB 7.7 MB/s eta 0:00:00\n",
      "#9 39.60 Downloading psutil-6.0.0-cp36-abi3-manylinux_2_12_x86_64.manylinux2010_x86_64.manylinux_2_17_x86_64.manylinux2014_x86_64.whl (290 kB)\n",
      "#9 39.75 Downloading python_box-6.1.0-cp310-cp310-manylinux_2_17_x86_64.manylinux2014_x86_64.whl (3.3 MB)\n",
      "#9 40.09    ━━━━━━━━━━━━━━━━━━━━━━━━━━━━━━━━━━━━━━━━ 3.3/3.3 MB 9.5 MB/s eta 0:00:00\n",
      "#9 40.15 Downloading python_dateutil-2.9.0.post0-py2.py3-none-any.whl (229 kB)\n",
      "#9 40.25 Downloading pytz-2024.1-py2.py3-none-any.whl (505 kB)\n",
      "#9 40.38 Downloading requests-2.32.3-py3-none-any.whl (64 kB)\n",
      "#9 40.46 Downloading requests_toolbelt-1.0.0-py2.py3-none-any.whl (54 kB)\n",
      "#9 40.55 Downloading retrying-1.3.4-py3-none-any.whl (11 kB)\n",
      "#9 40.62 Downloading rich-13.7.1-py3-none-any.whl (240 kB)\n",
      "#9 40.74 Downloading scipy-1.14.1-cp310-cp310-manylinux_2_17_x86_64.manylinux2014_x86_64.whl (41.2 MB)\n",
      "#9 45.14    ━━━━━━━━━━━━━━━━━━━━━━━━━━━━━━━━━━━━━━━━ 41.2/41.2 MB 9.3 MB/s eta 0:00:00\n",
      "#9 45.21 Downloading semantic_version-2.10.0-py2.py3-none-any.whl (15 kB)\n",
      "#9 45.30 Downloading sentry_sdk-2.13.0-py2.py3-none-any.whl (309 kB)\n",
      "#9 45.42 Downloading six-1.16.0-py2.py3-none-any.whl (11 kB)\n",
      "#9 45.51 Downloading threadpoolctl-3.5.0-py3-none-any.whl (18 kB)\n",
      "#9 45.59 Downloading tzdata-2024.1-py2.py3-none-any.whl (345 kB)\n",
      "#9 45.71 Downloading urllib3-2.2.2-py3-none-any.whl (121 kB)\n",
      "#9 45.80 Downloading werkzeug-3.0.3-py3-none-any.whl (227 kB)\n",
      "#9 45.91 Downloading wrapt-1.16.0-cp310-cp310-manylinux_2_5_x86_64.manylinux1_x86_64.manylinux_2_17_x86_64.manylinux2014_x86_64.whl (80 kB)\n",
      "#9 46.00 Downloading wurlitzer-3.1.1-py3-none-any.whl (8.6 kB)\n",
      "#9 46.08 Downloading absl_py-2.1.0-py3-none-any.whl (133 kB)\n",
      "#9 46.18 Downloading gevent-24.2.1-cp310-cp310-manylinux_2_28_x86_64.whl (6.5 MB)\n",
      "#9 46.80    ━━━━━━━━━━━━━━━━━━━━━━━━━━━━━━━━━━━━━━━━ 6.5/6.5 MB 10.6 MB/s eta 0:00:00\n",
      "#9 46.87 Downloading h5py-3.11.0-cp310-cp310-manylinux_2_17_x86_64.manylinux2014_x86_64.whl (5.3 MB)\n",
      "#9 47.47    ━━━━━━━━━━━━━━━━━━━━━━━━━━━━━━━━━━━━━━━━ 5.3/5.3 MB 8.9 MB/s eta 0:00:00\n",
      "#9 47.55 Downloading jax-0.4.31-py3-none-any.whl (2.0 MB)\n",
      "#9 47.76    ━━━━━━━━━━━━━━━━━━━━━━━━━━━━━━━━━━━━━━━━ 2.0/2.0 MB 9.4 MB/s eta 0:00:00\n",
      "#9 47.82 Downloading namex-0.0.8-py3-none-any.whl (5.8 kB)\n",
      "#9 47.90 Downloading opt_einsum-3.3.0-py3-none-any.whl (65 kB)\n",
      "#9 47.99 Downloading optree-0.12.1-cp310-cp310-manylinux_2_17_x86_64.manylinux2014_x86_64.whl (347 kB)\n",
      "#9 48.11 Downloading simplejson-3.19.3-cp310-cp310-manylinux_2_5_x86_64.manylinux1_x86_64.manylinux_2_17_x86_64.manylinux2014_x86_64.whl (137 kB)\n",
      "#9 48.21 Downloading attrs-24.2.0-py3-none-any.whl (63 kB)\n",
      "#9 48.30 Downloading bcrypt-4.2.0-cp39-abi3-manylinux_2_28_x86_64.whl (273 kB)\n",
      "#9 48.41 Downloading certifi-2024.7.4-py3-none-any.whl (162 kB)\n",
      "#9 48.51 Downloading charset_normalizer-3.3.2-cp310-cp310-manylinux_2_17_x86_64.manylinux2014_x86_64.whl (142 kB)\n",
      "#9 48.61 Downloading cryptography-43.0.0-cp39-abi3-manylinux_2_28_x86_64.whl (4.0 MB)\n",
      "#9 49.05    ━━━━━━━━━━━━━━━━━━━━━━━━━━━━━━━━━━━━━━━━ 4.0/4.0 MB 9.0 MB/s eta 0:00:00\n",
      "#9 49.11 Downloading greenlet-3.0.3-cp310-cp310-manylinux_2_24_x86_64.manylinux_2_28_x86_64.whl (616 kB)\n",
      "#9 49.21    ━━━━━━━━━━━━━━━━━━━━━━━━━━━━━━━━━━━━━━━━ 616.0/616.0 kB 5.3 MB/s eta 0:00:00\n",
      "#9 49.27 Downloading idna-3.7-py3-none-any.whl (66 kB)\n",
      "#9 49.36 Downloading jmespath-1.0.1-py3-none-any.whl (20 kB)\n",
      "#9 49.43 Downloading jsonschema_specifications-2023.12.1-py3-none-any.whl (18 kB)\n",
      "#9 49.52 Downloading markdown_it_py-3.0.0-py3-none-any.whl (87 kB)\n",
      "#9 49.61 Downloading MarkupSafe-2.1.5-cp310-cp310-manylinux_2_17_x86_64.manylinux2014_x86_64.whl (25 kB)\n",
      "#9 49.69 Downloading pygments-2.18.0-py3-none-any.whl (1.2 MB)\n",
      "#9 49.83    ━━━━━━━━━━━━━━━━━━━━━━━━━━━━━━━━━━━━━━━━ 1.2/1.2 MB 8.2 MB/s eta 0:00:00\n",
      "#9 49.89 Downloading PyNaCl-1.5.0-cp36-abi3-manylinux_2_17_x86_64.manylinux2014_x86_64.manylinux_2_24_x86_64.whl (856 kB)\n",
      "#9 50.01    ━━━━━━━━━━━━━━━━━━━━━━━━━━━━━━━━━━━━━━━━ 856.7/856.7 kB 6.6 MB/s eta 0:00:00\n",
      "#9 50.07 Downloading referencing-0.35.1-py3-none-any.whl (26 kB)\n",
      "#9 50.16 Downloading rpds_py-0.20.0-cp310-cp310-manylinux_2_17_x86_64.manylinux2014_x86_64.whl (354 kB)\n",
      "#9 50.27 Downloading s3transfer-0.10.2-py3-none-any.whl (82 kB)\n",
      "#9 50.36 Downloading typing_extensions-4.12.2-py3-none-any.whl (37 kB)\n",
      "#9 50.44 Downloading configobj-5.0.8-py2.py3-none-any.whl (36 kB)\n",
      "#9 50.52 Downloading zope.event-5.0-py3-none-any.whl (6.8 kB)\n",
      "#9 50.60 Downloading zope.interface-7.0.1-cp310-cp310-manylinux_2_5_x86_64.manylinux1_x86_64.manylinux_2_17_x86_64.manylinux2014_x86_64.whl (254 kB)\n",
      "#9 50.72 Downloading cffi-1.17.0-cp310-cp310-manylinux_2_17_x86_64.manylinux2014_x86_64.whl (445 kB)\n",
      "#9 50.83 Downloading mdurl-0.1.2-py3-none-any.whl (10.0 kB)\n",
      "#9 50.92 Downloading pycparser-2.22-py3-none-any.whl (117 kB)\n",
      "#9 51.54 Building wheels for collected packages: sagemaker-training, inotify_simple\n",
      "#9 51.55   Building wheel for sagemaker-training (setup.py): started\n",
      "#9 52.47   Building wheel for sagemaker-training (setup.py): finished with status 'done'\n",
      "#9 52.47   Created wheel for sagemaker-training: filename=sagemaker_training-4.8.0-cp310-cp310-linux_x86_64.whl size=87788 sha256=4cb7ed41952e049931f6e3dffbd95744416e0b1c2e88677bfb6ab2ebd0584620\n",
      "#9 52.47   Stored in directory: /root/.cache/pip/wheels/3a/43/40/8f8c467da83af7814464c0dcfb096c16392e62d3df15de605a\n",
      "#9 52.48   Building wheel for inotify_simple (setup.py): started\n",
      "#9 52.77   Building wheel for inotify_simple (setup.py): finished with status 'done'\n",
      "#9 52.77   Created wheel for inotify_simple: filename=inotify_simple-1.2.1-py3-none-any.whl size=8202 sha256=595f66423c0ca56dfa5455768261592528d518ee4aab286871dc1baa2cd058f5\n",
      "#9 52.77   Stored in directory: /root/.cache/pip/wheels/78/26/da/4cd6944e4fbc1e90b34b3ac9f2c9768c93c11b92f29f2da5bc\n",
      "#9 52.77 Successfully built sagemaker-training inotify_simple\n",
      "#9 53.12 Installing collected packages: pytz, namex, inotify_simple, everett, zope.interface, zope.event, wurlitzer, wrapt, urllib3, tzdata, typing-extensions, threadpoolctl, six, simplejson, semantic-version, rpds-py, python-box, pygments, pycparser, psutil, protobuf, packaging, numpy, mdurl, MarkupSafe, joblib, jmespath, idna, greenlet, charset-normalizer, certifi, bcrypt, attrs, absl-py, werkzeug, sentry-sdk, scipy, retrying, requests, referencing, python-dateutil, optree, opt-einsum, ml-dtypes, markdown-it-py, h5py, gevent, dulwich, configobj, cffi, scikit-learn, rich, requests-toolbelt, pynacl, pandas, jsonschema-specifications, jaxlib, cryptography, botocore, s3transfer, paramiko, keras, jsonschema, jax, comet_ml, boto3, sagemaker-training\n",
      "#9 73.47 Successfully installed MarkupSafe-2.1.5 absl-py-2.1.0 attrs-24.2.0 bcrypt-4.2.0 boto3-1.35.2 botocore-1.35.2 certifi-2024.7.4 cffi-1.17.0 charset-normalizer-3.3.2 comet_ml-3.44.4 configobj-5.0.8 cryptography-43.0.0 dulwich-0.22.1 everett-3.1.0 gevent-24.2.1 greenlet-3.0.3 h5py-3.11.0 idna-3.7 inotify_simple-1.2.1 jax-0.4.31 jaxlib-0.4.31 jmespath-1.0.1 joblib-1.4.2 jsonschema-4.23.0 jsonschema-specifications-2023.12.1 keras-3.5.0 markdown-it-py-3.0.0 mdurl-0.1.2 ml-dtypes-0.4.0 namex-0.0.8 numpy-2.1.0 opt-einsum-3.3.0 optree-0.12.1 packaging-24.1 pandas-2.2.2 paramiko-3.4.1 protobuf-3.20.3 psutil-6.0.0 pycparser-2.22 pygments-2.18.0 pynacl-1.5.0 python-box-6.1.0 python-dateutil-2.9.0.post0 pytz-2024.1 referencing-0.35.1 requests-2.32.3 requests-toolbelt-1.0.0 retrying-1.3.4 rich-13.7.1 rpds-py-0.20.0 s3transfer-0.10.2 sagemaker-training-4.8.0 scikit-learn-1.5.1 scipy-1.14.1 semantic-version-2.10.0 sentry-sdk-2.13.0 simplejson-3.19.3 six-1.16.0 threadpoolctl-3.5.0 typing-extensions-4.12.2 tzdata-2024.1 urllib3-2.2.2 werkzeug-3.0.3 wrapt-1.16.0 wurlitzer-3.1.1 zope.event-5.0 zope.interface-7.0.1\n",
      "#9 73.47 WARNING: Running pip as the 'root' user can result in broken permissions and conflicting behaviour with the system package manager, possibly rendering your system unusable.It is recommended to use a virtual environment instead: https://pip.pypa.io/warnings/venv. Use the --root-user-action option if you know what you are doing and want to suppress this warning.\n",
      "#9 DONE 79.6s\n",
      "\n",
      "#10 [6/6] COPY train.py /opt/ml/code/train.py\n",
      "#10 DONE 0.1s\n",
      "\n",
      "#11 exporting to image\n",
      "#11 exporting layers\n",
      "#11 exporting layers 5.4s done\n",
      "#11 writing image sha256:11885d829771e2217949fa8288fbbae34ad6ac4ab5591460cc7499040531c866 done\n",
      "#11 naming to docker.io/library/keras-custom-training-container 0.0s done\n",
      "#11 DONE 5.5s\n",
      "\n",
      " \n",
      "View build details: docker-desktop://dashboard/build/desktop-linux/desktop-linux/7a2z2khoffo0avjfmhyj3rw2r\n",
      "\u001b[33m1 warning found (use --debug to expand):\n",
      "\u001b[0m - LegacyKeyValueFormat: \"ENV key=value\" should be used instead of legacy \"ENV key value\" format (line 19)\n"
     ]
    }
   ],
   "source": [
    "IMAGE_NAME = \"keras-custom-training-container\"\n",
    "\n",
    "if not LOCAL_MODE:\n",
    "    # If we aren't running the code in Local Mode, we need\n",
    "    # to specify we want to build the Docker image for the\n",
    "    # linux/amd64 architecture before uploading it to ECR.\n",
    "    print(\"Building Docker image for linux/amd64 architecture...\")\n",
    "\n",
    "    !docker build --platform=\"linux/amd64\" -t $IMAGE_NAME \\\n",
    "        $CODE_FOLDER/containers/training/\n",
    "else:\n",
    "    # If we are running in Local Mode, we can use the\n",
    "    # default Docker build command.\n",
    "    print(\"Building Docker image for arm64 architecture...\")\n",
    "\n",
    "    !docker build -t $IMAGE_NAME \\\n",
    "        $CODE_FOLDER/containers/training/"
   ]
  },
  {
   "cell_type": "markdown",
   "id": "56232bec",
   "metadata": {},
   "source": [
    "### Step 3 - Pushing Docker Image to ECR\n",
    "\n",
    "We can now push the Docker image to Amazon Elastic Container Registry (ECR). This is a fully-managed Docker container registry where we can manage Docker container images. This step is necessary to make the image available to SageMaker when running the pipeline.\n"
   ]
  },
  {
   "cell_type": "code",
   "execution_count": null,
   "id": "ceede5e2",
   "metadata": {
    "tags": [
     "hide-output"
    ]
   },
   "outputs": [],
   "source": [
    "%%bash -s \"$LOCAL_MODE\" \"$IMAGE_NAME\"\n",
    "# | eval: false\n",
    "\n",
    "algorithm_name=$2\n",
    "account=$(aws sts get-caller-identity --query Account --output text)\n",
    "\n",
    "# Get the region defined in the current configuration\n",
    "# (default to us-east-1 if none defined)\n",
    "region=$(aws configure get region)\n",
    "region=${region:-us-east-1}\n",
    "\n",
    "repository=\"${account}.dkr.ecr.${region}.amazonaws.com/${algorithm_name}:latest\"\n",
    "\n",
    "# We only want to push the Docker image to ECR if\n",
    "# we are not running in Local Mode.\n",
    "if [ $1 = \"False\" ]\n",
    "then\n",
    "    # Create the repository if it doesn't exist in ECR\n",
    "    aws ecr describe-repositories \\\n",
    "        --repository-names \"${algorithm_name}\" > /dev/null 2>&1\n",
    "    if [ $? -ne 0 ]\n",
    "    then\n",
    "        aws ecr create-repository \\\n",
    "            --repository-name \"${algorithm_name}\" > /dev/null\n",
    "    fi\n",
    "\n",
    "    # Get the login command from ECR to run the\n",
    "    # Docker push command.\n",
    "    aws ecr get-login-password \\\n",
    "        --region ${region}|docker \\\n",
    "        login --username AWS --password-stdin ${repository}\n",
    "\n",
    "    # Push the Docker image to the ECR repository\n",
    "    docker tag ${algorithm_name} ${repository}\n",
    "    docker push ${repository}\n",
    "fi"
   ]
  },
  {
   "cell_type": "markdown",
   "id": "2413a387",
   "metadata": {},
   "source": [
    "### Step 4 - Setting up the Training Step\n",
    "\n",
    "Let's now compute the name of the training image we'll use to run the Training Job.\n",
    "\n",
    "If we are running in `LOCAL_MODE`, we'll use the name of the image we built before (`IMAGE_NAME`). Otherwise, we'll use the name of the image we pushed to ECR.\n"
   ]
  },
  {
   "cell_type": "code",
   "execution_count": 147,
   "id": "49d9ab0e",
   "metadata": {},
   "outputs": [
    {
     "data": {
      "text/plain": [
       "'keras-custom-training-container'"
      ]
     },
     "execution_count": 147,
     "metadata": {},
     "output_type": "execute_result"
    }
   ],
   "source": [
    "account_id = boto3.client(\"sts\").get_caller_identity().get(\"Account\")\n",
    "tag = \":latest\"\n",
    "\n",
    "uri_suffix = \"amazonaws.com\"\n",
    "if region in [\"cn-north-1\", \"cn-northwest-1\"]:\n",
    "    uri_suffix = \"amazonaws.com.cn\"\n",
    "\n",
    "training_container_image = (\n",
    "    IMAGE_NAME\n",
    "    if LOCAL_MODE\n",
    "    else (f\"{account_id}.dkr.ecr.{region}.amazonaws.com/{IMAGE_NAME}:latest\")\n",
    ")\n",
    "\n",
    "training_container_image"
   ]
  },
  {
   "cell_type": "markdown",
   "id": "0be4eaf1",
   "metadata": {},
   "source": [
    "We can now create an [Estimator](https://sagemaker.readthedocs.io/en/stable/api/training/estimators.html) and a [Training Step](https://docs.aws.amazon.com/sagemaker/latest/dg/build-and-manage-steps.html#step-type-training) using the function we created before.\n"
   ]
  },
  {
   "cell_type": "code",
   "execution_count": 152,
   "id": "f4e17204",
   "metadata": {
    "tags": [
     "hide-output"
    ]
   },
   "outputs": [],
   "source": [
    "from sagemaker.estimator import Estimator\n",
    "\n",
    "keras_estimator = Estimator(\n",
    "    image_uri=training_container_image,\n",
    "    instance_count=1,\n",
    "    instance_type=config[\"instance_type\"],\n",
    "    sagemaker_session=config[\"session\"],\n",
    "    role=role,\n",
    ")\n",
    "\n",
    "keras_train_model_step = create_training_step(keras_estimator)"
   ]
  },
  {
   "cell_type": "markdown",
   "id": "3212693e",
   "metadata": {},
   "source": [
    "### Step 5 - Creating the Pipeline\n",
    "\n",
    "Let's define the SageMaker Pipeline and submit its definition to the SageMaker Pipelines service to create the pipeline if it doesn't exist or update it if it does.\n"
   ]
  },
  {
   "cell_type": "code",
   "execution_count": 153,
   "id": "86056197",
   "metadata": {
    "tags": [
     "hide-output"
    ]
   },
   "outputs": [
    {
     "name": "stderr",
     "output_type": "stream",
     "text": [
      "INFO:sagemaker.telemetry.telemetry_logging:SageMaker Python SDK will collect telemetry to help us better understand our user's needs, diagnose issues, and deliver additional features.\n",
      "To opt out of telemetry, please disable via TelemetryOptOut parameter in SDK defaults config. For more information, refer to https://sagemaker.readthedocs.io/en/stable/overview.html#configuring-and-using-defaults-with-the-sagemaker-python-sdk.\n"
     ]
    },
    {
     "data": {
      "text/plain": [
       "{'PipelineArn': 'session5-pipeline'}"
      ]
     },
     "execution_count": 153,
     "metadata": {},
     "output_type": "execute_result"
    }
   ],
   "source": [
    "session5_pipeline = Pipeline(\n",
    "    name=\"session5-pipeline\",\n",
    "    parameters=[dataset_location],\n",
    "    steps=[\n",
    "        preprocessing_step,\n",
    "        # This time we want to use the new training step\n",
    "        # we created using the custom Docker image.\n",
    "        keras_train_model_step,\n",
    "    ],\n",
    "    pipeline_definition_config=pipeline_definition_config,\n",
    "    sagemaker_session=config[\"session\"],\n",
    ")\n",
    "\n",
    "session5_pipeline.upsert(role_arn=role)"
   ]
  },
  {
   "cell_type": "code",
   "execution_count": 150,
   "id": "751318e1",
   "metadata": {},
   "outputs": [
    {
     "data": {
      "text/plain": [
       "{'_step': <sagemaker.workflow.steps.TrainingStep object at 0x0000023AE2193070>, 'step_name': 'train-model', 'path': 'ModelArtifacts.S3ModelArtifacts', '_shape_names': ['S3Uri'], '__str__': 'S3Uri'}"
      ]
     },
     "execution_count": 150,
     "metadata": {},
     "output_type": "execute_result"
    }
   ],
   "source": [
    "keras_train_model_step.properties.ModelArtifacts.S3ModelArtifacts"
   ]
  },
  {
   "cell_type": "markdown",
   "id": "9ef68a77",
   "metadata": {},
   "source": [
    "## Session 6 - Tuning the Model\n",
    "\n",
    "This session extends the [SageMaker Pipeline](https://docs.aws.amazon.com/sagemaker/latest/dg/pipelines-sdk.html) with a [step to tune the model](https://docs.aws.amazon.com/sagemaker/latest/dg/build-and-manage-steps.html#step-type-tuning) using a Hyperparameter Tuning Job.\n",
    "\n",
    "<a href=\"images/tuning-step.png\" target=\"_blank\"> <img src=\"images/tuning-step.png\" alt=\"High-level overview of the Tuning Step\" style=\"max-width: 740px;\" /></a>\n"
   ]
  },
  {
   "cell_type": "markdown",
   "id": "e96707b5",
   "metadata": {},
   "source": [
    "### Step 1 - Enabling Tuning\n",
    "\n",
    "Since we could use the Training of the Tuning Step to create a model, we'll define a constant to indicate which approach we want to run. Notice that the Tuning Step is not supported in Local Mode.\n"
   ]
  },
  {
   "cell_type": "code",
   "execution_count": 25,
   "id": "f367d0e3",
   "metadata": {},
   "outputs": [],
   "source": [
    "USE_TUNING_STEP = True and not LOCAL_MODE"
   ]
  },
  {
   "cell_type": "markdown",
   "id": "5814e258-c633-4e9a-85c5-6ed0f168b503",
   "metadata": {},
   "source": [
    "### Step 2 - Setting up a Tuning Step\n",
    "\n",
    "Let's now create a [Tuning Step](https://docs.aws.amazon.com/sagemaker/latest/dg/build-and-manage-steps.html#step-type-tuning). This Tuning Step will create a SageMaker Hyperparameter Tuning Job in the background and use the training script to train different model variants and choose the best one. Check the [TuningStep](https://sagemaker.readthedocs.io/en/stable/workflows/pipelines/sagemaker.workflow.pipelines.html#sagemaker.workflow.steps.TuningStep) SageMaker's SDK documentation for more information.\n",
    "\n",
    "The Tuning Step requires a [HyperparameterTuner](https://sagemaker.readthedocs.io/en/stable/api/training/tuner.html) reference to configure the Hyperparameter Tuning Job.\n",
    "\n",
    "Here is the configuration that we'll use to find the best model:\n",
    "\n",
    "1. `objective_metric_name`: This is the name of the metric the tuner will use to determine the best model.\n",
    "2. `objective_type`: This is the objective of the tuner. It specifies whether it should minimize the metric or maximize it. In this example, since we are using the validation accuracy of the model, we want the objective to be \"Maximize.\" If we were using the loss of the model, we would set the objective to \"Minimize.\"\n",
    "3. `metric_definitions`: Defines how the tuner will determine the metric's value by looking at the output logs of the training process.\n",
    "\n",
    "The tuner expects the list of the hyperparameters you want to explore. You can use subclasses of the [Parameter](https://sagemaker.readthedocs.io/en/stable/api/training/parameter.html#sagemaker.parameter.ParameterRange) class to specify different types of hyperparameters. This example explores different values for the `epochs` hyperparameter.\n",
    "\n",
    "Finally, you can control the number of jobs and how many of them will run in parallel using the following two arguments:\n",
    "\n",
    "-   `max_jobs`: Defines the maximum total number of training jobs to start for the hyperparameter tuning job.\n",
    "-   `max_parallel_jobs`: Defines the maximum number of parallel training jobs to start.\n"
   ]
  },
  {
   "cell_type": "code",
   "execution_count": 331,
   "id": "c8c82750",
   "metadata": {},
   "outputs": [],
   "source": [
    "from sagemaker.parameter import IntegerParameter, ContinuousParameter\n",
    "from sagemaker.tuner import HyperparameterTuner\n",
    "\n",
    "tuner = HyperparameterTuner(\n",
    "    estimator,\n",
    "    objective_metric_name=\"loss\",\n",
    "    objective_type=\"Minimize\",\n",
    "    hyperparameter_ranges={\n",
    "        \"epochs\": IntegerParameter(10,50),\n",
    "        \"learning_rate\" : ContinuousParameter(0.01,0.03),\n",
    "    },\n",
    "    metric_definitions=[{\"Name\": \"loss\", \"Regex\": \"loss: ([0-9\\\\.]+)\"}],\n",
    "    max_jobs=3,\n",
    "    max_parallel_jobs=3,\n",
    ")"
   ]
  },
  {
   "cell_type": "markdown",
   "id": "28c2abc2",
   "metadata": {},
   "source": [
    "We can now create the Tuning Step using the tuner we configured before. SageMaker will create a Hyperparameter Tuning Job in the background and use the training script to train different model variants and choose the best one.\n",
    "\n",
    "<a href=\"images/tuning-job.png\" target=\"_blank\"> <img src=\"images/tuning-job.png\" alt=\"High-level overview of SageMaker's Hyperparameter Tuning Jobs\" style=\"max-width: 740px;\" /></a>\n"
   ]
  },
  {
   "cell_type": "code",
   "execution_count": 332,
   "id": "038ff2e5-ed28-445b-bc03-4e996ec2286f",
   "metadata": {
    "tags": []
   },
   "outputs": [],
   "source": [
    "from sagemaker.workflow.steps import TuningStep\n",
    "\n",
    "tune_model_step = TuningStep(\n",
    "    name=\"tune-model\",\n",
    "    step_args=tuner.fit(\n",
    "        inputs={\n",
    "            \"train\": TrainingInput(\n",
    "                s3_data=preprocessing_step.properties.ProcessingOutputConfig.Outputs[\n",
    "                    \"train\"\n",
    "                ].S3Output.S3Uri,\n",
    "                content_type=\"text/csv\",\n",
    "            ),\n",
    "            \"validation\": TrainingInput(\n",
    "                s3_data=preprocessing_step.properties.ProcessingOutputConfig.Outputs[\n",
    "                    \"validation\"\n",
    "                ].S3Output.S3Uri,\n",
    "                content_type=\"text/csv\",\n",
    "            ),\n",
    "            \"pipeline\": TrainingInput(\n",
    "                s3_data=preprocessing_step.properties.ProcessingOutputConfig.Outputs[\n",
    "                    \"model\"\n",
    "                ].S3Output.S3Uri,\n",
    "                content_type=\"application/tar+gzip\",\n",
    "            ),\n",
    "        },\n",
    "    ),\n",
    "    cache_config=cache_config,\n",
    ")"
   ]
  },
  {
   "cell_type": "markdown",
   "id": "4babe38c-1682-42d2-8442-101d17aa89b5",
   "metadata": {},
   "source": [
    "### Step 3 - Creating the Pipeline\n",
    "\n",
    "Let's define the SageMaker Pipeline and submit its definition to the SageMaker Pipelines service to create the pipeline if it doesn't exist or update it if it does.\n"
   ]
  },
  {
   "cell_type": "code",
   "execution_count": 333,
   "id": "9799ab39-fcae-41f4-a68b-85ab71b3ba9a",
   "metadata": {
    "tags": [
     "hide-output"
    ]
   },
   "outputs": [
    {
     "name": "stderr",
     "output_type": "stream",
     "text": [
      "INFO:sagemaker.image_uris:image_uri is not presented, retrieving image_uri based on instance_type, framework etc.\n",
      "WARNING:sagemaker.estimator:No finished training job found associated with this estimator. Please make sure this estimator is only used for building workflow config\n",
      "WARNING:sagemaker.estimator:No finished training job found associated with this estimator. Please make sure this estimator is only used for building workflow config\n",
      "INFO:sagemaker.image_uris:image_uri is not presented, retrieving image_uri based on instance_type, framework etc.\n",
      "INFO:sagemaker.image_uris:image_uri is not presented, retrieving image_uri based on instance_type, framework etc.\n",
      "WARNING:sagemaker.estimator:No finished training job found associated with this estimator. Please make sure this estimator is only used for building workflow config\n",
      "WARNING:sagemaker.estimator:No finished training job found associated with this estimator. Please make sure this estimator is only used for building workflow config\n",
      "INFO:sagemaker.image_uris:image_uri is not presented, retrieving image_uri based on instance_type, framework etc.\n"
     ]
    },
    {
     "data": {
      "text/plain": [
       "{'PipelineArn': 'arn:aws:sagemaker:us-east-1:009160067515:pipeline/session6-pipeline',\n",
       " 'ResponseMetadata': {'RequestId': 'def5ca05-f7ac-4e6f-9c38-862c9aa61b8f',\n",
       "  'HTTPStatusCode': 200,\n",
       "  'HTTPHeaders': {'x-amzn-requestid': 'def5ca05-f7ac-4e6f-9c38-862c9aa61b8f',\n",
       "   'content-type': 'application/x-amz-json-1.1',\n",
       "   'content-length': '85',\n",
       "   'date': 'Wed, 14 Aug 2024 20:14:03 GMT'},\n",
       "  'RetryAttempts': 0}}"
      ]
     },
     "execution_count": 333,
     "metadata": {},
     "output_type": "execute_result"
    }
   ],
   "source": [
    "session6_pipeline = Pipeline(\n",
    "    name=\"session6-pipeline\",\n",
    "    parameters=[dataset_location],\n",
    "    steps=[\n",
    "        preprocessing_step,\n",
    "        tune_model_step,\n",
    "    ],\n",
    "    pipeline_definition_config=pipeline_definition_config,\n",
    "    sagemaker_session=config[\"session\"],\n",
    ")\n",
    "\n",
    "session6_pipeline.upsert(role_arn=role)"
   ]
  },
  {
   "cell_type": "markdown",
   "id": "21d40fe8-ba74-4c12-9555-d8ea33d1c8b4",
   "metadata": {},
   "source": [
    "## Session 7 - Evaluating the Model\n",
    "\n",
    "This session extends the [SageMaker Pipeline](https://docs.aws.amazon.com/sagemaker/latest/dg/pipelines-sdk.html) with a step to evaluate the model using the holdout set we created during the preprocessing step.\n",
    "\n",
    "<a href=\"images/evaluation-step.png\" target=\"_blank\"> <img src=\"images/evaluation-step.png\" alt=\"High-level overview of the Evaluation Step\" style=\"max-width: 740px;\" /></a>\n"
   ]
  },
  {
   "cell_type": "markdown",
   "id": "9eaa9691-f49f-48af-b272-3d4d17563b01",
   "metadata": {
    "tags": []
   },
   "source": [
    "### Step 1 - Creating the Evaluation Script\n",
    "\n",
    "We'll use a [Processing Step](https://docs.aws.amazon.com/sagemaker/latest/dg/build-and-manage-steps.html#step-type-processing) to execute the evaluation script.\n",
    "\n",
    "This script is responsible for loading the model we created and evaluating it on the test set. Before finishing, this script will generate an evaluation report of the model.\n"
   ]
  },
  {
   "cell_type": "markdown",
   "id": "32eb3406",
   "metadata": {},
   "source": [
    "We will store the script in a folder called `evaluation` and add it to the system path so we can later import it as a module.\n"
   ]
  },
  {
   "cell_type": "code",
   "execution_count": 117,
   "id": "0590fcfa",
   "metadata": {},
   "outputs": [],
   "source": [
    "(CODE_FOLDER / \"evaluation\").mkdir(parents=True, exist_ok=True)"
   ]
  },
  {
   "cell_type": "markdown",
   "id": "f2ccf926",
   "metadata": {},
   "source": [
    "We can now create the script inside the folder:\n"
   ]
  },
  {
   "cell_type": "code",
   "execution_count": 118,
   "id": "3ee3ab26-afa5-4ceb-9f7a-005d5fdea646",
   "metadata": {
    "tags": [
     "hide-output"
    ]
   },
   "outputs": [
    {
     "name": "stdout",
     "output_type": "stream",
     "text": [
      "Overwriting code/evaluation/script.py\n"
     ]
    }
   ],
   "source": [
    "%%writefile {CODE_FOLDER}/evaluation/script.py\n",
    "# | filename: script.py\n",
    "# | code-line-numbers: true\n",
    "\n",
    "import json\n",
    "import tarfile\n",
    "from pathlib import Path\n",
    "\n",
    "import numpy as np\n",
    "import pandas as pd\n",
    "from sklearn.metrics import accuracy_score, recall_score, precision_score\n",
    "from tensorflow import keras\n",
    "\n",
    "\n",
    "def evaluate(model_path, test_path, output_path):\n",
    "    X_test = pd.read_csv(Path(test_path) / \"test.csv\")\n",
    "    y_test = X_test[X_test.columns[-1]]\n",
    "    X_test = X_test.drop(X_test.columns[-1], axis=1)\n",
    "\n",
    "    # Let's now extract the model package so we can load\n",
    "    # it in memory.\n",
    "    with tarfile.open(Path(model_path) / \"model.tar.gz\") as tar:\n",
    "        tar.extractall(path=Path(model_path))\n",
    "\n",
    "    model = keras.models.load_model(Path(model_path) / \"001\")\n",
    "\n",
    "    predictions = np.argmax(model.predict(X_test), axis=-1)\n",
    "    accuracy = accuracy_score(y_test, predictions)\n",
    "    recallscore = recall_score(y_test,predictions, average='macro')\n",
    "    precisionscore = precision_score(y_test,predictions, average='macro')\n",
    "    print(f\"Test accuracy: {accuracy}\")\n",
    "    print(f\"Recall: {recallscore}\")\n",
    "    print(f\"Precision: {precisionscore}\")\n",
    "\n",
    "    # Let's create an evaluation report using the model accuracy.\n",
    "    evaluation_report = {\n",
    "        \"metrics\": {\n",
    "            \"accuracy\": {\"value\": accuracy},\n",
    "            'recall': {\"value\":recallscore},\n",
    "            \"precision\": {\"value\":precisionscore},\n",
    "        },\n",
    "    }\n",
    "\n",
    "    Path(output_path).mkdir(parents=True, exist_ok=True)\n",
    "    with open(Path(output_path) / \"evaluation.json\", \"w\") as f:\n",
    "        f.write(json.dumps(evaluation_report))\n",
    "\n",
    "\n",
    "if __name__ == \"__main__\":\n",
    "    evaluate(\n",
    "        model_path=\"/opt/ml/processing/model/\",\n",
    "        test_path=\"/opt/ml/processing/test/\",\n",
    "        output_path=\"/opt/ml/processing/evaluation/\",\n",
    "    )"
   ]
  },
  {
   "cell_type": "markdown",
   "id": "9dcc79a0-adfd-4ce9-8580-5cd228c3c2d9",
   "metadata": {},
   "source": [
    "Let's test the script to ensure everything is working as expected:\n"
   ]
  },
  {
   "cell_type": "code",
   "execution_count": 121,
   "id": "9a2540d8-278a-4953-bc54-0469d154427d",
   "metadata": {
    "tags": [
     "hide-output"
    ]
   },
   "outputs": [
    {
     "name": "stdout",
     "output_type": "stream",
     "text": [
      "Keras version: 2.14.0\n",
      "8/8 - 0s - loss: 1.1639 - accuracy: 0.2343 - val_loss: 1.1020 - val_accuracy: 0.3137 - 478ms/epoch - 60ms/step\n",
      "2/2 [==============================] - 0s 2ms/step\n",
      "Validation accuracy: 0.3137254901960784\n"
     ]
    },
    {
     "name": "stderr",
     "output_type": "stream",
     "text": [
      "INFO:tensorflow:Assets written to: C:\\Users\\Aris\\AppData\\Local\\Temp\\tmp05bbyqg_\\model\\001\\assets\n"
     ]
    },
    {
     "name": "stdout",
     "output_type": "stream",
     "text": [
      "2/2 [==============================] - 0s 2ms/step\n",
      "Test accuracy: 0.21568627450980393\n",
      "Recall: 0.24579124579124578\n",
      "Precision: 0.25396825396825395\n",
      "\u001b[32m.\u001b[0mKeras version: 2.14.0\n",
      "8/8 - 0s - loss: 1.1555 - accuracy: 0.1088 - val_loss: 1.1514 - val_accuracy: 0.1569 - 465ms/epoch - 58ms/step\n",
      "2/2 [==============================] - 0s 2ms/step\n",
      "Validation accuracy: 0.1568627450980392\n"
     ]
    },
    {
     "name": "stderr",
     "output_type": "stream",
     "text": [
      "INFO:tensorflow:Assets written to: C:\\Users\\Aris\\AppData\\Local\\Temp\\tmpw71705bj\\model\\001\\assets\n"
     ]
    },
    {
     "name": "stdout",
     "output_type": "stream",
     "text": [
      "2/2 [==============================] - 0s 3ms/step\n",
      "Test accuracy: 0.11764705882352941\n",
      "Recall: 0.1434782608695652\n",
      "Precision: 0.3768115942028985\n",
      "\u001b[32m.\u001b[0m\n",
      "\u001b[32m\u001b[32m\u001b[1m2 passed\u001b[0m\u001b[32m in 2.93s\u001b[0m\u001b[0m\n"
     ]
    }
   ],
   "source": [
    "%%ipytest -s\n",
    "# | code-fold: true\n",
    "\n",
    "import os\n",
    "import shutil\n",
    "import tarfile\n",
    "import pytest\n",
    "import tempfile\n",
    "\n",
    "from processing.script import preprocess\n",
    "from training.script import train\n",
    "from evaluation.script import evaluate\n",
    "\n",
    "\n",
    "@pytest.fixture(scope=\"function\", autouse=False)\n",
    "def directory():\n",
    "    directory = tempfile.mkdtemp()\n",
    "    input_directory = Path(directory) / \"input\"\n",
    "    input_directory.mkdir(parents=True, exist_ok=True)\n",
    "    shutil.copy2(DATA_FILEPATH, input_directory / \"data.csv\")\n",
    "\n",
    "    directory = Path(directory)\n",
    "\n",
    "    preprocess(base_directory=directory)\n",
    "\n",
    "    train(\n",
    "        model_directory=directory / \"model\",\n",
    "        train_path=directory / \"train\",\n",
    "        validation_path=directory / \"validation\",\n",
    "        pipeline_path=directory / \"model\",\n",
    "        experiment=None,\n",
    "        epochs=1,\n",
    "    )\n",
    "\n",
    "    # After training a model, we need to prepare a package just like\n",
    "    # SageMaker would. This package is what the evaluation script is\n",
    "    # expecting as an input.\n",
    "    with tarfile.open(directory / \"model.tar.gz\", \"w:gz\") as tar:\n",
    "        tar.add(directory / \"model\" / \"001\", arcname=\"001\")\n",
    "\n",
    "    evaluate(\n",
    "        model_path=directory,\n",
    "        test_path=directory / \"test\",\n",
    "        output_path=directory / \"evaluation\",\n",
    "    )\n",
    "\n",
    "    yield directory / \"evaluation\"\n",
    "\n",
    "    shutil.rmtree(directory)\n",
    "\n",
    "\n",
    "def test_evaluate_generates_evaluation_report(directory):\n",
    "    output = os.listdir(directory)\n",
    "    assert \"evaluation.json\" in output\n",
    "\n",
    "\n",
    "def test_evaluation_report_contains_accuracy(directory):\n",
    "    with open(directory / \"evaluation.json\", \"r\") as file:\n",
    "        report = json.load(file)\n",
    "\n",
    "    assert \"metrics\" in report\n",
    "    assert \"accuracy\" in report[\"metrics\"]\n",
    "    assert 'recall' in report[\"metrics\"]\n",
    "    assert \"precision\" in report[\"metrics\"]"
   ]
  },
  {
   "cell_type": "markdown",
   "id": "a627a263",
   "metadata": {},
   "source": [
    "### Step 2 - Referencing the Model Assets\n",
    "\n",
    "One of the inputs to the evaluation step is the model coming from the Training or the Tuning step. We can use the `USE_TUNING_STEP` flag to determine whether we created the model using a Training Step or a Tuning Step.\n",
    "\n",
    "In case we are using the Tuning Step, we can use the [TuningStep.get_top_model_s3_uri()](https://sagemaker.readthedocs.io/en/stable/workflows/pipelines/sagemaker.workflow.pipelines.html#sagemaker.workflow.steps.TuningStep.get_top_model_s3_uri) function to get the model assets from the top performing training job of the Hyperparameter Tuning Job.\n"
   ]
  },
  {
   "cell_type": "code",
   "execution_count": 138,
   "id": "4f19e15b",
   "metadata": {},
   "outputs": [],
   "source": [
    "model_assets = train_model_step.properties.ModelArtifacts.S3ModelArtifacts\n",
    "\n",
    "if USE_TUNING_STEP:\n",
    "    model_assets = tune_model_step.get_top_model_s3_uri(\n",
    "        top_k=0,\n",
    "        s3_bucket=config[\"session\"].default_bucket(),\n",
    "    )"
   ]
  },
  {
   "cell_type": "code",
   "execution_count": 139,
   "id": "4e12f6c0",
   "metadata": {},
   "outputs": [
    {
     "data": {
      "text/plain": [
       "{'_step': <sagemaker.workflow.steps.TrainingStep object at 0x0000023AE5979450>, 'step_name': 'train-model', 'path': 'ModelArtifacts.S3ModelArtifacts', '_shape_names': ['S3Uri'], '__str__': 'S3Uri'}"
      ]
     },
     "execution_count": 139,
     "metadata": {},
     "output_type": "execute_result"
    }
   ],
   "source": [
    "model_assets"
   ]
  },
  {
   "cell_type": "markdown",
   "id": "5dc98283",
   "metadata": {},
   "source": [
    "### Step 3 - Mapping the Output to a Property File\n",
    "\n",
    "SageMaker supports mapping outputs from a Processing Step to property files. This is useful when we want to access a specific property from the pipeline.\n",
    "\n",
    "We'll map the evaluation report to a property file. Check [How to Build and Manage Property Files](https://docs.aws.amazon.com/sagemaker/latest/dg/build-and-manage-propertyfile.html) for more information.\n"
   ]
  },
  {
   "cell_type": "code",
   "execution_count": 140,
   "id": "1f27b2ef",
   "metadata": {},
   "outputs": [],
   "source": [
    "from sagemaker.workflow.properties import PropertyFile\n",
    "\n",
    "evaluation_report = PropertyFile(\n",
    "    name=\"evaluation-report\",\n",
    "    output_name=\"evaluation\",\n",
    "    path=\"evaluation.json\",\n",
    ")"
   ]
  },
  {
   "cell_type": "markdown",
   "id": "bec1109a-6c26-4464-8338-94960729d212",
   "metadata": {},
   "source": [
    "### Step 4 - Setting up the Evaluation Step\n",
    "\n",
    "To run the evaluation script, we will use a [Processing Step](https://docs.aws.amazon.com/sagemaker/latest/dg/build-and-manage-steps.html#step-type-processing) configured with a [TensorFlowProcessor](https://docs.aws.amazon.com/sagemaker/latest/dg/processing-job-frameworks-tensorflow.html) because the script needs access to TensorFlow.\n"
   ]
  },
  {
   "cell_type": "code",
   "execution_count": 141,
   "id": "2fdff07f",
   "metadata": {
    "tags": [
     "hide-output"
    ]
   },
   "outputs": [
    {
     "name": "stderr",
     "output_type": "stream",
     "text": [
      "INFO:sagemaker.image_uris:image_uri is not presented, retrieving image_uri based on instance_type, framework etc.\n"
     ]
    }
   ],
   "source": [
    "from sagemaker.tensorflow import TensorFlowProcessor\n",
    "\n",
    "evaluation_processor = TensorFlowProcessor(\n",
    "    base_job_name=\"evaluation-processor\",\n",
    "    image_uri=config[\"image\"],\n",
    "    framework_version=config[\"framework_version\"],\n",
    "    py_version=config[\"py_version\"],\n",
    "    instance_type=config[\"instance_type\"],\n",
    "    instance_count=1,\n",
    "    role=role,\n",
    "    sagemaker_session=config[\"session\"],\n",
    ")"
   ]
  },
  {
   "cell_type": "code",
   "execution_count": 87,
   "id": "93e969d8",
   "metadata": {},
   "outputs": [
    {
     "data": {
      "text/plain": [
       "'2.12'"
      ]
     },
     "execution_count": 87,
     "metadata": {},
     "output_type": "execute_result"
    }
   ],
   "source": [
    "config[\"framework_version\"]"
   ]
  },
  {
   "cell_type": "code",
   "execution_count": 88,
   "id": "887fd128",
   "metadata": {},
   "outputs": [],
   "source": [
    "config[\"image\"]"
   ]
  },
  {
   "cell_type": "markdown",
   "id": "4a4dbc0e",
   "metadata": {},
   "source": [
    "We are now ready to define the [Processing Step](https://sagemaker.readthedocs.io/en/stable/workflows/pipelines/sagemaker.workflow.pipelines.html#sagemaker.workflow.steps.ProcessingStep) that will run the evaluation script:\n"
   ]
  },
  {
   "cell_type": "code",
   "execution_count": 174,
   "id": "48139a07-5c8e-4bc6-b666-bf9531f7f520",
   "metadata": {
    "tags": [
     "hide-output"
    ]
   },
   "outputs": [],
   "source": [
    "evaluate_model_step = ProcessingStep(\n",
    "    name=\"evaluate-model\",\n",
    "    step_args=evaluation_processor.run(\n",
    "        code=f\"{(CODE_FOLDER / 'evaluation' / 'script.py').as_posix()}\",\n",
    "        inputs=[\n",
    "            # The first input is the test split that we generated on\n",
    "            # the first step of the pipeline when we split and\n",
    "            # transformed the data.\n",
    "            ProcessingInput(\n",
    "                source=preprocessing_step.properties.ProcessingOutputConfig.Outputs[\n",
    "                    \"test\"\n",
    "                ].S3Output.S3Uri,\n",
    "                destination=\"/opt/ml/processing/test\",\n",
    "            ),\n",
    "            # The second input is the model that we generated on\n",
    "            # the Training or Tunning Step.\n",
    "            ProcessingInput(\n",
    "                source=model_assets,\n",
    "                destination=\"/opt/ml/processing/model\",\n",
    "            ),\n",
    "        ],\n",
    "        outputs=[\n",
    "            # The output is the evaluation report that we generated\n",
    "            # in the evaluation script.\n",
    "            ProcessingOutput(\n",
    "                output_name=\"evaluation\",\n",
    "                source=\"/opt/ml/processing/evaluation\",\n",
    "            ),\n",
    "        ],\n",
    "    ),\n",
    "    property_files=[evaluation_report],\n",
    "    cache_config=cache_config,\n",
    ")"
   ]
  },
  {
   "cell_type": "code",
   "execution_count": 177,
   "id": "e949db3f",
   "metadata": {},
   "outputs": [
    {
     "name": "stderr",
     "output_type": "stream",
     "text": [
      "WARNING:sagemaker.estimator:No finished training job found associated with this estimator. Please make sure this estimator is only used for building workflow config\n"
     ]
    },
    {
     "name": "stdout",
     "output_type": "stream",
     "text": [
      "Model artifacts stored at: s3://ml-school-dump1/training-2024-08-21-05-48-02-872\\output\\model.tar.gz\n"
     ]
    }
   ],
   "source": [
    "keras_train_model_step.properties.ModelArtifacts.S3ModelArtifacts\n",
    "\n",
    "model_artifactss = estimator.model_data \n",
    "print(\"Model artifacts stored at:\", model_artifactss)\n"
   ]
  },
  {
   "cell_type": "markdown",
   "id": "30413e8d",
   "metadata": {},
   "source": [
    "### Step 5 - Creating the Pipeline\n",
    "\n",
    "Let's define the SageMaker Pipeline and submit its definition to the SageMaker Pipelines service to create the pipeline if it doesn't exist or update it if it does.\n"
   ]
  },
  {
   "cell_type": "code",
   "execution_count": 175,
   "id": "21a1ab1f",
   "metadata": {
    "tags": [
     "hide-output"
    ]
   },
   "outputs": [
    {
     "name": "stderr",
     "output_type": "stream",
     "text": [
      "INFO:sagemaker.telemetry.telemetry_logging:SageMaker Python SDK will collect telemetry to help us better understand our user's needs, diagnose issues, and deliver additional features.\n",
      "To opt out of telemetry, please disable via TelemetryOptOut parameter in SDK defaults config. For more information, refer to https://sagemaker.readthedocs.io/en/stable/overview.html#configuring-and-using-defaults-with-the-sagemaker-python-sdk.\n"
     ]
    },
    {
     "data": {
      "text/plain": [
       "{'PipelineArn': 'session7-pipeline'}"
      ]
     },
     "execution_count": 175,
     "metadata": {},
     "output_type": "execute_result"
    }
   ],
   "source": [
    "session7_pipeline = Pipeline(\n",
    "    name=\"session7-pipeline\",\n",
    "    parameters=[dataset_location,\n",
    "                training_epochs],\n",
    "    steps=[\n",
    "        preprocessing_step,\n",
    "        train_model_step,\n",
    "        evaluate_model_step,\n",
    "    ],\n",
    "    pipeline_definition_config=pipeline_definition_config,\n",
    "    sagemaker_session=config[\"session\"],\n",
    ")\n",
    "\n",
    "session7_pipeline.upsert(role_arn=role)"
   ]
  },
  {
   "cell_type": "code",
   "execution_count": 160,
   "id": "d3beac09",
   "metadata": {},
   "outputs": [],
   "source": [
    "import logging\n",
    "logging.basicConfig(\n",
    "    level=logging.DEBUG,\n",
    "    format='%(asctime)s - %(name)s - %(levelname)s - %(message)s',\n",
    "    handlers=[\n",
    "        logging.StreamHandler(),\n",
    "        logging.FileHandler(\"pipeline.log\")\n",
    "    ]\n",
    ")\n"
   ]
  },
  {
   "cell_type": "code",
   "execution_count": 161,
   "id": "7607a099",
   "metadata": {},
   "outputs": [
    {
     "name": "stderr",
     "output_type": "stream",
     "text": [
      "INFO:root:Initializing the SageMaker pipeline\n",
      "INFO:root:SageMaker pipeline created successfully\n",
      "INFO:sagemaker.telemetry.telemetry_logging:SageMaker Python SDK will collect telemetry to help us better understand our user's needs, diagnose issues, and deliver additional features.\n",
      "To opt out of telemetry, please disable via TelemetryOptOut parameter in SDK defaults config. For more information, refer to https://sagemaker.readthedocs.io/en/stable/overview.html#configuring-and-using-defaults-with-the-sagemaker-python-sdk.\n",
      "INFO:root:SageMaker pipeline upserted successfully\n"
     ]
    }
   ],
   "source": [
    "# Configure logging\n",
    "logging.basicConfig(\n",
    "    level=logging.DEBUG,\n",
    "    format='%(asctime)s - %(name)s - %(levelname)s - %(message)s',\n",
    "    handlers=[\n",
    "        logging.StreamHandler(),\n",
    "        logging.FileHandler(\"pipeline.log\")\n",
    "    ]\n",
    ")\n",
    "\n",
    "logging.info(\"Initializing the SageMaker pipeline\")\n",
    "\n",
    "try:\n",
    "    session7_pipeline = Pipeline(\n",
    "        name=\"session7-pipeline\",\n",
    "        parameters=[dataset_location,\n",
    "                    training_epochs],\n",
    "        steps=[\n",
    "            preprocessing_step,\n",
    "            tune_model_step if USE_TUNING_STEP else train_model_step,\n",
    "            evaluate_model_step,\n",
    "        ],\n",
    "        pipeline_definition_config=pipeline_definition_config,\n",
    "        sagemaker_session=config[\"session\"],\n",
    "    )\n",
    "\n",
    "    logging.info(\"SageMaker pipeline created successfully\")\n",
    "\n",
    "    session7_pipeline.upsert(role_arn=role)\n",
    "    logging.info(\"SageMaker pipeline upserted successfully\")\n",
    "\n",
    "except Exception as e:\n",
    "    logging.error(\"Error in creating or upserting the SageMaker pipeline: %s\", str(e))\n",
    "    raise\n"
   ]
  },
  {
   "cell_type": "markdown",
   "id": "031af83a",
   "metadata": {},
   "source": [
    "## Session 8 - Registering the Model\n",
    "\n",
    "This session extends the [SageMaker Pipeline](https://docs.aws.amazon.com/sagemaker/latest/dg/pipelines-sdk.html) with a step to [register the model](https://docs.aws.amazon.com/sagemaker/latest/dg/model-registry-version.html) in the [SageMaker Model Registry](https://docs.aws.amazon.com/sagemaker/latest/dg/model-registry.html).\n",
    "\n",
    "<a href=\"images/registration-step.png\" target=\"_blank\"> <img src=\"images/registration-step.png\" alt=\"High-level overview of the Registration Step\" style=\"max-width: 740px;\" /></a>\n"
   ]
  },
  {
   "cell_type": "markdown",
   "id": "c6a1d882",
   "metadata": {},
   "source": [
    "### Step 1 - Configuring the Model Package Group\n",
    "\n",
    "First, let's define the name of the group where we'll register the model. The Model Registry uses groups to organize the versions of a model:\n"
   ]
  },
  {
   "cell_type": "code",
   "execution_count": 54,
   "id": "bb70f907",
   "metadata": {},
   "outputs": [],
   "source": [
    "BASIC_MODEL_PACKAGE_GROUP = \"basic-penguins\""
   ]
  },
  {
   "cell_type": "markdown",
   "id": "40bcad3b",
   "metadata": {},
   "source": [
    "### Step 2 - Creating the Model\n",
    "\n",
    "Let's now create the model that we'll register in the Model Registry. The model we trained uses TensorFlow, so we can use the built-in [TensorFlowModel](https://sagemaker.readthedocs.io/en/stable/frameworks/tensorflow/sagemaker.tensorflow.html#tensorflow-serving-model) class to create an instance of the model:\n"
   ]
  },
  {
   "cell_type": "code",
   "execution_count": 55,
   "id": "4ca4cb61",
   "metadata": {},
   "outputs": [],
   "source": [
    "from sagemaker.tensorflow.model import TensorFlowModel\n",
    "\n",
    "tensorflow_model = TensorFlowModel(\n",
    "    model_data=model_assets,\n",
    "    framework_version=config[\"framework_version\"],\n",
    "    sagemaker_session=config[\"session\"],\n",
    "    role=role,\n",
    ")"
   ]
  },
  {
   "cell_type": "markdown",
   "id": "ad0a532c",
   "metadata": {},
   "source": [
    "### Step 3 - Configuring Model Metrics\n",
    "\n",
    "When we register a model in the Model Registry, we can attach relevant metadata to it. We'll use the evaluation report we generated during the evaluation step to populate the [metrics](https://sagemaker.readthedocs.io/en/stable/api/inference/model_monitor.html#sagemaker.model_metrics.ModelMetrics) of this model:\n"
   ]
  },
  {
   "cell_type": "code",
   "execution_count": 56,
   "id": "8c05a7e1",
   "metadata": {},
   "outputs": [],
   "source": [
    "from sagemaker.model_metrics import MetricsSource, ModelMetrics\n",
    "from sagemaker.workflow.functions import Join\n",
    "\n",
    "model_metrics = ModelMetrics(\n",
    "    model_statistics=MetricsSource(\n",
    "        s3_uri=Join(\n",
    "            on=\"/\",\n",
    "            values=[\n",
    "                evaluate_model_step.properties.ProcessingOutputConfig.Outputs[\n",
    "                    \"evaluation\"\n",
    "                ].S3Output.S3Uri,\n",
    "                \"evaluation.json\",\n",
    "            ],\n",
    "        ),\n",
    "        content_type=\"application/json\",\n",
    "    ),\n",
    ")"
   ]
  },
  {
   "cell_type": "markdown",
   "id": "47bb3e51",
   "metadata": {},
   "source": [
    "### Step 4 - Registering the Model\n",
    "\n",
    "We can use a [Model Step](https://docs.aws.amazon.com/sagemaker/latest/dg/build-and-manage-steps.html#step-type-model) to register the model. Check the [ModelStep](https://sagemaker.readthedocs.io/en/stable/workflows/pipelines/sagemaker.workflow.pipelines.html#sagemaker.workflow.model_step.ModelStep) SageMaker's SDK documentation for more information.\n"
   ]
  },
  {
   "cell_type": "code",
   "execution_count": 57,
   "id": "c9773a4a",
   "metadata": {
    "tags": [
     "hide-output"
    ]
   },
   "outputs": [
    {
     "name": "stderr",
     "output_type": "stream",
     "text": [
      "INFO:sagemaker.tensorflow.model:image_uri is not presented, retrieving image_uri based on instance_type, framework etc.\n"
     ]
    }
   ],
   "source": [
    "from sagemaker.workflow.model_step import ModelStep\n",
    "\n",
    "\n",
    "def create_registration_step(\n",
    "    model,\n",
    "    model_package_group_name,\n",
    "    approval_status=\"Approved\",\n",
    "    content_types=[\"text/csv\"],\n",
    "    response_types=[\"application/json\"],\n",
    "    model_metrics=None,\n",
    "    drift_check_baselines=None,\n",
    "):\n",
    "    \"\"\"Create a Registration Step using the supplied parameters.\"\"\"\n",
    "    return ModelStep(\n",
    "        name=\"register\",\n",
    "        step_args=model.register(\n",
    "            model_package_group_name=model_package_group_name,\n",
    "            approval_status=approval_status,\n",
    "            model_metrics=model_metrics,\n",
    "            drift_check_baselines=drift_check_baselines,\n",
    "            content_types=content_types,\n",
    "            response_types=response_types,\n",
    "            inference_instances=[config[\"instance_type\"]],\n",
    "            transform_instances=[config[\"instance_type\"]],\n",
    "            framework_version=config[\"framework_version\"],\n",
    "            domain=\"MACHINE_LEARNING\",\n",
    "            task=\"CLASSIFICATION\",\n",
    "            framework=\"TENSORFLOW\",\n",
    "        ),\n",
    "    )\n",
    "\n",
    "\n",
    "register_model_step = create_registration_step(\n",
    "    tensorflow_model,\n",
    "    BASIC_MODEL_PACKAGE_GROUP,\n",
    "    model_metrics=model_metrics,\n",
    ")"
   ]
  },
  {
   "cell_type": "markdown",
   "id": "a0276efc",
   "metadata": {},
   "source": [
    "### Step 5 - Creating the Pipeline\n",
    "\n",
    "Let's define the SageMaker Pipeline and submit its definition to the SageMaker Pipelines service to create the pipeline if it doesn't exist or update it if it does.\n"
   ]
  },
  {
   "cell_type": "code",
   "execution_count": 58,
   "id": "4d09cc85",
   "metadata": {
    "tags": [
     "hide-output"
    ]
   },
   "outputs": [
    {
     "data": {
      "text/plain": [
       "{'PipelineArn': 'session8-pipeline'}"
      ]
     },
     "execution_count": 58,
     "metadata": {},
     "output_type": "execute_result"
    }
   ],
   "source": [
    "session8_pipeline = Pipeline(\n",
    "    name=\"session8-pipeline\",\n",
    "    parameters=[dataset_location],\n",
    "    steps=[\n",
    "        preprocessing_step,\n",
    "        tune_model_step if USE_TUNING_STEP else train_model_step,\n",
    "        evaluate_model_step,\n",
    "        register_model_step,\n",
    "    ],\n",
    "    pipeline_definition_config=pipeline_definition_config,\n",
    "    sagemaker_session=config[\"session\"],\n",
    ")\n",
    "\n",
    "session8_pipeline.upsert(role_arn=role)"
   ]
  },
  {
   "cell_type": "markdown",
   "id": "a3274db6",
   "metadata": {},
   "source": [
    "## Session 9 - Conditional Registration\n",
    "\n",
    "This session extends the [SageMaker Pipeline](https://docs.aws.amazon.com/sagemaker/latest/dg/pipelines-sdk.html) with a condition to register the model only if its accuracy is above a predefined threshold.\n",
    "\n",
    "Here's a high-level overview of the Condition Step:\n",
    "\n",
    "<a href=\"images/condition-step.png\" target=\"_blank\"> <img src=\"images/condition-step.png\" alt=\"High-level overview of the Condition Step\" style=\"max-width: 740px;\" /></a>\n"
   ]
  },
  {
   "cell_type": "markdown",
   "id": "b5a51f95",
   "metadata": {},
   "source": [
    "### Step 1 - Configuring the Accuracy Threshold\n",
    "\n",
    "Let's define a new [Pipeline Parameter](https://docs.aws.amazon.com/sagemaker/latest/dg/build-and-manage-parameters.html) to specify the minimum accuracy that the model should reach for it to be registered.\n"
   ]
  },
  {
   "cell_type": "code",
   "execution_count": 59,
   "id": "745486b5",
   "metadata": {},
   "outputs": [],
   "source": [
    "from sagemaker.workflow.parameters import ParameterFloat\n",
    "\n",
    "accuracy_threshold = ParameterFloat(name=\"accuracy_threshold\", default_value=0.70)"
   ]
  },
  {
   "cell_type": "markdown",
   "id": "2c959c94",
   "metadata": {},
   "source": [
    "### Step 2 - Setting up a Fail Step\n",
    "\n",
    "If the model's accuracy is not greater than or equal to our threshold, we will send the pipeline to a [Fail Step](https://docs.aws.amazon.com/sagemaker/latest/dg/build-and-manage-steps.html#step-type-fail) with the appropriate error message. Check the [FailStep](https://sagemaker.readthedocs.io/en/stable/workflows/pipelines/sagemaker.workflow.pipelines.html#sagemaker.workflow.fail_step.FailStep) SageMaker's SDK documentation for more information.\n"
   ]
  },
  {
   "cell_type": "code",
   "execution_count": 60,
   "id": "c4431bbf",
   "metadata": {},
   "outputs": [],
   "source": [
    "from sagemaker.workflow.fail_step import FailStep\n",
    "\n",
    "fail_step = FailStep(\n",
    "    name=\"fail\",\n",
    "    error_message=Join(\n",
    "        on=\" \",\n",
    "        values=[\n",
    "            \"Execution failed because the model's accuracy was lower than\",\n",
    "            accuracy_threshold,\n",
    "        ],\n",
    "    ),\n",
    ")"
   ]
  },
  {
   "cell_type": "markdown",
   "id": "b47764f9",
   "metadata": {},
   "source": [
    "### Step 3 - Defining the Condition\n",
    "\n",
    "We can use a [ConditionGreaterThanOrEqualTo](https://sagemaker.readthedocs.io/en/stable/workflows/pipelines/sagemaker.workflow.pipelines.html#sagemaker.workflow.conditions.ConditionGreaterThanOrEqualTo) condition to compare the model's accuracy with the threshold. Look at the [Conditions](https://sagemaker.readthedocs.io/en/stable/amazon_sagemaker_model_building_pipeline.html#conditions) section in the documentation for more information about the types of supported conditions.\n"
   ]
  },
  {
   "cell_type": "code",
   "execution_count": 61,
   "id": "bebeecab",
   "metadata": {},
   "outputs": [],
   "source": [
    "from sagemaker.workflow.conditions import ConditionGreaterThanOrEqualTo\n",
    "from sagemaker.workflow.functions import JsonGet\n",
    "\n",
    "condition = ConditionGreaterThanOrEqualTo(\n",
    "    left=JsonGet(\n",
    "        step_name=evaluate_model_step.name,\n",
    "        property_file=evaluation_report,\n",
    "        json_path=\"metrics.accuracy.value\",\n",
    "    ),\n",
    "    right=accuracy_threshold,\n",
    ")"
   ]
  },
  {
   "cell_type": "markdown",
   "id": "52c110f7-fe72-4db8-9d06-cfb9a0f2bfbd",
   "metadata": {},
   "source": [
    "### Step 4 - Setting up the Condition Step\n",
    "\n",
    "Let's now use a [Condition Step](https://docs.aws.amazon.com/sagemaker/latest/dg/build-and-manage-steps.html#step-type-condition) together with the evaluation report we generated to determine whether the model's accuracy is above the threshold:\n"
   ]
  },
  {
   "cell_type": "code",
   "execution_count": 62,
   "id": "36e2a2b1-6711-4266-95d8-d2aebd52e199",
   "metadata": {
    "tags": []
   },
   "outputs": [],
   "source": [
    "from sagemaker.workflow.condition_step import ConditionStep\n",
    "\n",
    "condition_step = ConditionStep(\n",
    "    name=\"check-model-accuracy\",\n",
    "    conditions=[condition],\n",
    "    if_steps=[register_model_step],\n",
    "    else_steps=[fail_step],\n",
    ")"
   ]
  },
  {
   "cell_type": "markdown",
   "id": "2309b8fa-f03e-4959-853f-dc2416f82bdd",
   "metadata": {},
   "source": [
    "### Step 5 - Creating the Pipeline\n",
    "\n",
    "We can now define the SageMaker Pipeline and submit its definition to the SageMaker Pipelines service to create the pipeline if it doesn't exist or update it if it does.\n"
   ]
  },
  {
   "cell_type": "code",
   "execution_count": 63,
   "id": "f70bcd33-b499-4e2b-953e-94d1ed96c10a",
   "metadata": {
    "tags": [
     "hide-output"
    ]
   },
   "outputs": [
    {
     "data": {
      "text/plain": [
       "{'PipelineArn': 'session9-pipeline'}"
      ]
     },
     "execution_count": 63,
     "metadata": {},
     "output_type": "execute_result"
    }
   ],
   "source": [
    "session9_pipeline = Pipeline(\n",
    "    name=\"session9-pipeline\",\n",
    "    parameters=[dataset_location, accuracy_threshold],\n",
    "    steps=[\n",
    "        preprocessing_step,\n",
    "        tune_model_step if USE_TUNING_STEP else train_model_step,\n",
    "        evaluate_model_step,\n",
    "        condition_step,\n",
    "    ],\n",
    "    pipeline_definition_config=pipeline_definition_config,\n",
    "    sagemaker_session=config[\"session\"],\n",
    ")\n",
    "\n",
    "session9_pipeline.upsert(role_arn=role)"
   ]
  },
  {
   "cell_type": "markdown",
   "id": "6176c6fd",
   "metadata": {},
   "source": [
    "## Session 10 - Serving the Model\n",
    "\n",
    "This session builds a simple [Flask](https://flask.palletsprojects.com/) application to serve the model.\n",
    "\n",
    "<a href=\"images/deploying-flask.png\" target=\"_blank\"> <img src=\"images/deploying-flask.png\" alt=\"High-level overview of deploying a model using a Flask wrapper\" style=\"max-width: 740px;\" /></a>\n",
    "\n",
    "Keep in mind that, while good for development and testing, this is not the best approach for production systems.\n"
   ]
  },
  {
   "cell_type": "markdown",
   "id": "01a6e55d",
   "metadata": {},
   "source": [
    "### Step 1 - Retrieving List of Approved Models\n",
    "\n",
    "We want to serve the latest approved model from the Model Registry. We can use the [boto3](https://boto3.amazonaws.com/v1/documentation/api/latest/reference/services/sagemaker.html) API to get this model:\n"
   ]
  },
  {
   "cell_type": "code",
   "execution_count": 64,
   "id": "a67726d7",
   "metadata": {},
   "outputs": [
    {
     "data": {
      "text/plain": [
       "{'ModelPackageGroupName': 'basic-penguins',\n",
       " 'ModelPackageVersion': 6,\n",
       " 'ModelPackageArn': 'arn:aws:sagemaker:us-east-1:325223348818:model-package/basic-penguins/6',\n",
       " 'CreationTime': datetime.datetime(2024, 3, 29, 11, 19, 48, 782000, tzinfo=tzlocal()),\n",
       " 'ModelPackageStatus': 'Completed',\n",
       " 'ModelApprovalStatus': 'Approved'}"
      ]
     },
     "execution_count": 64,
     "metadata": {},
     "output_type": "execute_result"
    }
   ],
   "source": [
    "response = sagemaker_client.list_model_packages(\n",
    "    ModelPackageGroupName=BASIC_MODEL_PACKAGE_GROUP,\n",
    "    ModelApprovalStatus=\"Approved\",\n",
    "    SortBy=\"CreationTime\",\n",
    "    MaxResults=1,\n",
    ")\n",
    "\n",
    "package = (\n",
    "    response[\"ModelPackageSummaryList\"][0]\n",
    "    if response[\"ModelPackageSummaryList\"]\n",
    "    else None\n",
    ")\n",
    "\n",
    "package"
   ]
  },
  {
   "cell_type": "markdown",
   "id": "ca789bd2",
   "metadata": {},
   "source": [
    "### Step 2 - Downloading the Model\n",
    "\n",
    "Let's now download the model assets from the location specified in the Model Registry to your local environment.\n"
   ]
  },
  {
   "cell_type": "markdown",
   "id": "e2891178",
   "metadata": {},
   "source": [
    "We will store this model in a folder called `serving`:\n"
   ]
  },
  {
   "cell_type": "code",
   "execution_count": 65,
   "id": "f2e94adc",
   "metadata": {},
   "outputs": [],
   "source": [
    "(CODE_FOLDER / \"serving\").mkdir(parents=True, exist_ok=True)"
   ]
  },
  {
   "cell_type": "markdown",
   "id": "276c01cc",
   "metadata": {},
   "source": [
    "Let's now download the model assets into the folder:\n"
   ]
  },
  {
   "cell_type": "code",
   "execution_count": 66,
   "id": "bd12fbe9",
   "metadata": {},
   "outputs": [],
   "source": [
    "from sagemaker.s3 import S3Downloader\n",
    "\n",
    "if package:\n",
    "    response = sagemaker_client.describe_model_package(\n",
    "        ModelPackageName=package[\"ModelPackageArn\"],\n",
    "    )\n",
    "\n",
    "    model_data = response[\"InferenceSpecification\"][\"Containers\"][0][\"ModelDataUrl\"]\n",
    "    S3Downloader.download(model_data, (CODE_FOLDER / \"serving\").as_posix())"
   ]
  },
  {
   "cell_type": "markdown",
   "id": "f02f2e42",
   "metadata": {},
   "source": [
    "### Step 3 - Creating the Serving Script\n",
    "\n",
    "Let's now write a simple Flask script to serve the model.\n",
    "\n",
    "When this application receives the first request, it will unpack and load the model into memory. From there, it will use the model to make predictions on the incoming requests.\n"
   ]
  },
  {
   "cell_type": "code",
   "execution_count": 67,
   "id": "c79a0e74",
   "metadata": {
    "tags": [
     "hide-output"
    ]
   },
   "outputs": [
    {
     "name": "stdout",
     "output_type": "stream",
     "text": [
      "Writing code/serving/app.py\n"
     ]
    }
   ],
   "source": [
    "%%writefile {CODE_FOLDER}/serving/app.py\n",
    "# | filename: app.py\n",
    "# | code-line-numbers: true\n",
    "\n",
    "import tarfile\n",
    "import tempfile\n",
    "import numpy as np\n",
    "\n",
    "from flask import Flask, request, jsonify\n",
    "from pathlib import Path\n",
    "from tensorflow import keras\n",
    "\n",
    "\n",
    "MODEL_PATH = Path(__file__).parent\n",
    "\n",
    "\n",
    "class Model:\n",
    "    model = None\n",
    "\n",
    "    def load(self):\n",
    "        \"\"\"\n",
    "        Extracts the model package and loads the model in memory\n",
    "        if it hasn't been loaded yet.\n",
    "        \"\"\"\n",
    "        # We want to load the model only if it is not loaded yet.\n",
    "        if not Model.model:\n",
    "            # Before we load the model, we need to extract it in\n",
    "            # a temporal directory.\n",
    "\n",
    "            with tempfile.TemporaryDirectory() as directory:\n",
    "                with tarfile.open(MODEL_PATH / \"model.tar.gz\") as tar:\n",
    "                    tar.extractall(path=directory)\n",
    "\n",
    "                Model.model = keras.models.load_model(Path(directory) / \"001\")\n",
    "\n",
    "    def predict(self, data):\n",
    "        \"\"\"\n",
    "        Generates predictions for the supplied data.\n",
    "        \"\"\"\n",
    "        self.load()\n",
    "        return Model.model.predict(data)\n",
    "\n",
    "\n",
    "app = Flask(__name__)\n",
    "model = Model()\n",
    "\n",
    "\n",
    "@app.route(\"/predict/\", methods=[\"POST\"])\n",
    "def predict():\n",
    "    data = request.data.decode(\"utf-8\")\n",
    "\n",
    "    data = np.array(data.split(\",\")).astype(np.float32)\n",
    "    data = np.expand_dims(data, axis=0)\n",
    "\n",
    "    predictions = model.predict(data=[data])\n",
    "\n",
    "    prediction = int(np.argmax(predictions[0], axis=-1))\n",
    "    confidence = float(predictions[0][prediction])\n",
    "\n",
    "    return jsonify({\"prediction\": prediction, \"confidence\": confidence})"
   ]
  },
  {
   "cell_type": "markdown",
   "id": "b0d4d828",
   "metadata": {},
   "source": [
    "### Step 4 - Running the Flask Application\n",
    "\n",
    "We can now run the Flask application to serve the model from a terminal using the following command:\n",
    "\n",
    "```bash\n",
    "$ flask --app program/code/serving/app.py --debug run --host=0.0.0.0 --port=4242\n",
    "```\n",
    "\n",
    "After the server is running, you can send a POST request to the server to get a prediction. Here is an example using the `curl` command:\n",
    "\n",
    "```bash\n",
    "$ curl --location --request POST 'http://localhost:4242/predict' \\\n",
    "    --header 'Content-Type: text/plain' \\\n",
    "    --data-raw '0.6569590202313976, -1.0813829646495108, 1.2097102831892812, 0.9226343641317372, 1.0, 0.0, 0.0'\n",
    "```\n"
   ]
  },
  {
   "cell_type": "markdown",
   "id": "49a05e63",
   "metadata": {},
   "source": [
    "## Session 11 - Deploying the Model\n",
    "\n",
    "This session deploys the model from the Model Registry to an endpoint. We'll do it manually, using the SageMaker SDK. Check [Deploy to a SageMaker Endpoint](https://sagemaker.readthedocs.io/en/stable/frameworks/tensorflow/using_tf.html#deploy-to-a-sagemaker-endpoint) for more information about deploying a model to an endpoint.\n",
    "\n",
    "<a href=\"images/deploying-model.png\" target=\"_blank\"> <img src=\"images/deploying-model.png\" alt=\"High-level overview of deploying a model to a SageMaker endpoint\" style=\"max-width: 740px;\" /></a>\n"
   ]
  },
  {
   "cell_type": "markdown",
   "id": "4cf9b989",
   "metadata": {},
   "source": [
    "### Step 1 - Configuring the Endpoint Name\n",
    "\n",
    "Let's start by defining the name of the endpoint where we'll deploy the model:\n"
   ]
  },
  {
   "cell_type": "code",
   "execution_count": 68,
   "id": "befd5ad3",
   "metadata": {},
   "outputs": [],
   "source": [
    "from sagemaker.predictor import Predictor\n",
    "\n",
    "ENDPOINT = \"penguins-endpoint\""
   ]
  },
  {
   "cell_type": "markdown",
   "id": "af752269",
   "metadata": {},
   "source": [
    "### Step 2 - Creating a Model Package\n",
    "\n",
    "To deploy a model using the SageMaker's Python SDK, we need to create a [Model Package](https://sagemaker.readthedocs.io/en/stable/api/inference/model.html#sagemaker.model.ModelPackage) using the ARN of the model from the Model Registry. Remember we got the ARN of the latest approved model in the previous section.\n"
   ]
  },
  {
   "cell_type": "code",
   "execution_count": 69,
   "id": "dee516e9",
   "metadata": {},
   "outputs": [
    {
     "name": "stdout",
     "output_type": "stream",
     "text": [
      "arn:aws:sagemaker:us-east-1:325223348818:model-package/basic-penguins/6\n"
     ]
    }
   ],
   "source": [
    "from sagemaker import ModelPackage\n",
    "\n",
    "if package:\n",
    "    model_package = ModelPackage(\n",
    "        model_package_arn=package[\"ModelPackageArn\"],\n",
    "        sagemaker_session=sagemaker_session,\n",
    "        role=role,\n",
    "    )\n",
    "\n",
    "    print(package[\"ModelPackageArn\"])"
   ]
  },
  {
   "cell_type": "markdown",
   "id": "b3119b48-2ddf-40b5-9ac0-680073a53d06",
   "metadata": {},
   "source": [
    "### Step 3 - Deploying the Model\n",
    "\n",
    "Let's now deploy the model to an endpoint.\n"
   ]
  },
  {
   "cell_type": "markdown",
   "id": "fbf2ed9f",
   "metadata": {},
   "source": [
    "#| hide\n",
    "\n",
    "<div class=\"alert\" style=\"background-color:#0066cc;\"><strong>Note:</strong> \n",
    "    The <code>%%script</code> cell magic is a convenient way to prevent the notebook from executing a specific cell. If you want to run the cell, comment out the line containing the <code>%%script</code> cell magic.\n",
    "</div>\n"
   ]
  },
  {
   "cell_type": "code",
   "execution_count": 70,
   "id": "7c8852d5-818a-406c-944d-30bf6de90288",
   "metadata": {
    "tags": []
   },
   "outputs": [],
   "source": [
    "%%script false --no-raise-error\n",
    "# | eval: false\n",
    "\n",
    "model_package.deploy(\n",
    "    endpoint_name=ENDPOINT,\n",
    "    initial_instance_count=1,\n",
    "    instance_type=config[\"instance_type\"],\n",
    ")"
   ]
  },
  {
   "cell_type": "markdown",
   "id": "3dd7a725",
   "metadata": {},
   "source": [
    "### Step 4 - Testing the Endpoint\n",
    "\n",
    "After deploying the model, we can test the endpoint to make sure it works.\n",
    "\n",
    "Each line of the payload we'll send to the endpoint contains the information of a penguin. Notice the model expects data that's already transformed. We can't provide the original data from our dataset because the model we registered will not work with it.\n",
    "\n",
    "The endpoint will return the predictions for each of these lines.\n"
   ]
  },
  {
   "cell_type": "code",
   "execution_count": 71,
   "id": "ba7da291",
   "metadata": {},
   "outputs": [],
   "source": [
    "payload = \"\"\"\n",
    "0.6569590202313976,-1.0813829646495108,1.2097102831892812,0.9226343641317372,1.0,0.0,0.0\n",
    "-0.7751048801481084,0.8822689351285553,-1.2168066120762704,0.9226343641317372,0.0,1.0,0.0\n",
    "-0.837387834894918,0.3386660813829646,-0.26237731892812,-1.92351941317372,0.0,0.0,1.0\n",
    "\"\"\""
   ]
  },
  {
   "cell_type": "markdown",
   "id": "30bcfffa-0ba6-4ad8-8b4f-1ea19b35a22f",
   "metadata": {},
   "source": [
    "Let's send the payload to the endpoint and print its response:\n"
   ]
  },
  {
   "cell_type": "code",
   "execution_count": 72,
   "id": "0817a25e-8224-4911-830b-d659e7458b4a",
   "metadata": {
    "tags": []
   },
   "outputs": [
    {
     "name": "stdout",
     "output_type": "stream",
     "text": [
      "An error occurred (ValidationError) when calling the InvokeEndpoint operation: Endpoint penguins-endpoint of account 325223348818 not found.\n"
     ]
    }
   ],
   "source": [
    "predictor = Predictor(endpoint_name=ENDPOINT)\n",
    "\n",
    "try:\n",
    "    response = predictor.predict(payload, initial_args={\"ContentType\": \"text/csv\"})\n",
    "    response = json.loads(response.decode(\"utf-8\"))\n",
    "\n",
    "    print(json.dumps(response, indent=2))\n",
    "    print(f\"\\nSpecies: {np.argmax(response['predictions'], axis=1)}\")\n",
    "except Exception as e:\n",
    "    print(e)"
   ]
  },
  {
   "cell_type": "markdown",
   "id": "23ab1884",
   "metadata": {},
   "source": [
    "## Session 12 - Deploying From the Pipeline\n",
    "\n",
    "This session extends the [SageMaker Pipeline](https://docs.aws.amazon.com/sagemaker/latest/dg/pipelines-sdk.html) with a step to automatically deploy the model to an endpoint.\n",
    "\n",
    "We'll use a [Lambda Step](https://docs.aws.amazon.com/sagemaker/latest/dg/build-and-manage-steps.html#step-type-lambda) to create an endpoint and deploy the model.\n",
    "\n",
    "Here's a high-level overview of the Deploy Step:\n",
    "\n",
    "<a href=\"images/deploy-step.png\" target=\"_blank\"> <img src=\"images/deploy-step.png\" alt=\"High-level overview of the Deploy Step\" style=\"max-width: 740px;\" /></a>\n"
   ]
  },
  {
   "cell_type": "markdown",
   "id": "83bb6753",
   "metadata": {},
   "source": [
    "### Step 1 - Configuring Data Capture Settings\n",
    "\n",
    "We want to enable [Data Capture](https://docs.aws.amazon.com/sagemaker/latest/dg/model-monitor-data-capture.html) as part of the endpoint configuration. With Data Capture we can record the inputs and outputs of the endpoint to use them later for monitoring the model. We need to configuration settings to enable Data Capture:\n",
    "\n",
    "-   `DATA_CAPTURE_PERCENTAGE`: Represents the percentage of traffic that we want to capture.\n",
    "-   `DATA_CAPTURE_DESTINATION`: Specifies the S3 location where we want to store the captured data.\n"
   ]
  },
  {
   "cell_type": "code",
   "execution_count": 73,
   "id": "e1dbadb0",
   "metadata": {},
   "outputs": [],
   "source": [
    "DATA_CAPTURE_PERCENTAGE = 100\n",
    "DATA_CAPTURE_DESTINATION = f\"{S3_LOCATION}/monitoring/data-capture\""
   ]
  },
  {
   "cell_type": "markdown",
   "id": "5686ba99",
   "metadata": {},
   "source": [
    "### Step 2 - Setting up the Lambda Function\n",
    "\n",
    "Let's start by writing a Lambda function that takes the model information and deploys it to an endpoint.\n",
    "\n",
    "There are three components that make up a SageMaker endpoint:\n",
    "\n",
    "<a href=\"images/endpoint.png\" target=\"_blank\"> <img src=\"images/endpoint.png\" alt=\"An overview of the three components of an Endpoint\" style=\"max-width: 740px;\" /></a>\n"
   ]
  },
  {
   "cell_type": "markdown",
   "id": "bc48c7bd",
   "metadata": {},
   "source": [
    "We'll store the code of the function in a folder called `lambda`:\n"
   ]
  },
  {
   "cell_type": "code",
   "execution_count": 74,
   "id": "ac7630ca",
   "metadata": {},
   "outputs": [],
   "source": [
    "(CODE_FOLDER / \"lambda\").mkdir(parents=True, exist_ok=True)"
   ]
  },
  {
   "cell_type": "markdown",
   "id": "811f35b1",
   "metadata": {},
   "source": [
    "Let's now write the code of the function:\n"
   ]
  },
  {
   "cell_type": "code",
   "execution_count": 75,
   "id": "44b651af",
   "metadata": {
    "tags": [
     "hide-output"
    ]
   },
   "outputs": [
    {
     "name": "stdout",
     "output_type": "stream",
     "text": [
      "Writing code/lambda/lambda.py\n"
     ]
    }
   ],
   "source": [
    "%%writefile {CODE_FOLDER}/lambda/lambda.py\n",
    "# | filename: lambda.py\n",
    "# | code-line-numbers: true\n",
    "\n",
    "import os\n",
    "import json\n",
    "import boto3\n",
    "import time\n",
    "\n",
    "sagemaker = boto3.client(\"sagemaker\")\n",
    "\n",
    "\n",
    "def lambda_handler(event, context):\n",
    "    # If we are calling this function from EventBridge,\n",
    "    # we need to extract the model package ARN and the\n",
    "    # approval status from the event details. If we are\n",
    "    # calling this function from the pipeline, we can\n",
    "    # assume the model is approved and we can get the\n",
    "    # model package ARN as a direct parameter.\n",
    "    if \"detail\" in event:\n",
    "        model_package_arn = event[\"detail\"][\"ModelPackageArn\"]\n",
    "        approval_status = event[\"detail\"][\"ModelApprovalStatus\"]\n",
    "    else:\n",
    "        model_package_arn = event[\"model_package_arn\"]\n",
    "        approval_status = \"Approved\"\n",
    "\n",
    "    print(f\"Model: {model_package_arn}\")\n",
    "    print(f\"Approval status: {approval_status}\")\n",
    "\n",
    "    if approval_status != \"Approved\":\n",
    "        response = {\n",
    "            \"message\": \"Skipping deployment.\",\n",
    "            \"approval_status\": approval_status,\n",
    "        }\n",
    "\n",
    "        print(response)\n",
    "        return {\"statusCode\": 200, \"body\": json.dumps(response)}\n",
    "\n",
    "    endpoint_name = os.environ[\"ENDPOINT\"]\n",
    "    data_capture_percentage = int(os.environ[\"DATA_CAPTURE_PERCENTAGE\"])\n",
    "    data_capture_destination = os.environ[\"DATA_CAPTURE_DESTINATION\"]\n",
    "    role = os.environ[\"ROLE\"]\n",
    "\n",
    "    timestamp = time.strftime(\"%m%d%H%M%S\", time.localtime())\n",
    "    model_name = f\"{endpoint_name}-model-{timestamp}\"\n",
    "    endpoint_config_name = f\"{endpoint_name}-config-{timestamp}\"\n",
    "\n",
    "    sagemaker.create_model(\n",
    "        ModelName=model_name,\n",
    "        ExecutionRoleArn=role,\n",
    "        Containers=[{\"ModelPackageName\": model_package_arn}],\n",
    "    )\n",
    "\n",
    "    sagemaker.create_endpoint_config(\n",
    "        EndpointConfigName=endpoint_config_name,\n",
    "        ProductionVariants=[\n",
    "            {\n",
    "                \"ModelName\": model_name,\n",
    "                \"InstanceType\": \"ml.m5.xlarge\",\n",
    "                \"InitialVariantWeight\": 1,\n",
    "                \"InitialInstanceCount\": 1,\n",
    "                \"VariantName\": \"AllTraffic\",\n",
    "            }\n",
    "        ],\n",
    "        # We can enable Data Capture to record the inputs and outputs\n",
    "        # of the endpoint to use them later for monitoring the model.\n",
    "        DataCaptureConfig={\n",
    "            \"EnableCapture\": True,\n",
    "            \"InitialSamplingPercentage\": data_capture_percentage,\n",
    "            \"DestinationS3Uri\": data_capture_destination,\n",
    "            \"CaptureOptions\": [\n",
    "                {\"CaptureMode\": \"Input\"},\n",
    "                {\"CaptureMode\": \"Output\"},\n",
    "            ],\n",
    "            \"CaptureContentTypeHeader\": {\n",
    "                \"CsvContentTypes\": [\"text/csv\", \"application/octect-stream\"],\n",
    "                \"JsonContentTypes\": [\"application/json\", \"application/octect-stream\"],\n",
    "            },\n",
    "        },\n",
    "    )\n",
    "\n",
    "    response = sagemaker.list_endpoints(NameContains=endpoint_name, MaxResults=1)\n",
    "\n",
    "    if len(response[\"Endpoints\"]) == 0:\n",
    "        # If the endpoint doesn't exist, let's create it.\n",
    "        sagemaker.create_endpoint(\n",
    "            EndpointName=endpoint_name,\n",
    "            EndpointConfigName=endpoint_config_name,\n",
    "        )\n",
    "    else:\n",
    "        # If the endpoint already exists, let's update it with the\n",
    "        # new configuration.\n",
    "        sagemaker.update_endpoint(\n",
    "            EndpointName=endpoint_name,\n",
    "            EndpointConfigName=endpoint_config_name,\n",
    "        )\n",
    "\n",
    "    return {\"statusCode\": 200, \"body\": json.dumps(\"Endpoint deployed successfully\")}"
   ]
  },
  {
   "cell_type": "markdown",
   "id": "b601027a",
   "metadata": {},
   "source": [
    "### Step 3 - Setting up Lambda Permissions\n",
    "\n",
    "We need to ensure our Lambda function has permission to interact with SageMaker, so let's create a new role with the appropriate permissions.\n"
   ]
  },
  {
   "cell_type": "code",
   "execution_count": 76,
   "id": "200d0370",
   "metadata": {
    "tags": [
     "hide-output"
    ]
   },
   "outputs": [
    {
     "name": "stdout",
     "output_type": "stream",
     "text": [
      "Role \"lambda-deployment-role\" already exists with ARN \"arn:aws:iam::325223348818:role/lambda-deployment-role\".\n"
     ]
    }
   ],
   "source": [
    "lambda_role_name = \"lambda-deployment-role\"\n",
    "lambda_role_arn = None\n",
    "\n",
    "try:\n",
    "    response = iam_client.create_role(\n",
    "        RoleName=lambda_role_name,\n",
    "        AssumeRolePolicyDocument=json.dumps(\n",
    "            {\n",
    "                \"Version\": \"2012-10-17\",\n",
    "                \"Statement\": [\n",
    "                    {\n",
    "                        \"Effect\": \"Allow\",\n",
    "                        \"Principal\": {\n",
    "                            \"Service\": [\"lambda.amazonaws.com\", \"events.amazonaws.com\"],\n",
    "                        },\n",
    "                        \"Action\": \"sts:AssumeRole\",\n",
    "                    },\n",
    "                ],\n",
    "            },\n",
    "        ),\n",
    "        Description=\"Lambda Endpoint Deployment\",\n",
    "    )\n",
    "\n",
    "    lambda_role_arn = response[\"Role\"][\"Arn\"]\n",
    "\n",
    "    iam_client.attach_role_policy(\n",
    "        PolicyArn=\"arn:aws:iam::aws:policy/service-role/AWSLambdaBasicExecutionRole\",\n",
    "        RoleName=lambda_role_name,\n",
    "    )\n",
    "\n",
    "    iam_client.attach_role_policy(\n",
    "        PolicyArn=\"arn:aws:iam::aws:policy/AmazonSageMakerFullAccess\",\n",
    "        RoleName=lambda_role_name,\n",
    "    )\n",
    "\n",
    "    print(f'Role \"{lambda_role_name}\" created with ARN \"{lambda_role_arn}\".')\n",
    "except iam_client.exceptions.EntityAlreadyExistsException:\n",
    "    response = iam_client.get_role(RoleName=lambda_role_name)\n",
    "    lambda_role_arn = response[\"Role\"][\"Arn\"]\n",
    "    print(f'Role \"{lambda_role_name}\" already exists with ARN \"{lambda_role_arn}\".')"
   ]
  },
  {
   "cell_type": "markdown",
   "id": "a1f81794",
   "metadata": {},
   "source": [
    "### Step 4 - Creating the Lambda Function\n",
    "\n",
    "Let's now create the Lambda function in AWS. We'll pass the configuration settings we defined before as environment variables to the Lambda function.\n"
   ]
  },
  {
   "cell_type": "code",
   "execution_count": 77,
   "id": "4a742974",
   "metadata": {
    "tags": [
     "hide-output"
    ]
   },
   "outputs": [
    {
     "data": {
      "text/plain": [
       "{'ResponseMetadata': {'RequestId': 'b35a622f-fa7e-400b-9558-33911681827e',\n",
       "  'HTTPStatusCode': 200,\n",
       "  'HTTPHeaders': {'date': 'Wed, 22 May 2024 00:35:30 GMT',\n",
       "   'content-type': 'application/json',\n",
       "   'content-length': '1593',\n",
       "   'connection': 'keep-alive',\n",
       "   'x-amzn-requestid': 'b35a622f-fa7e-400b-9558-33911681827e'},\n",
       "  'RetryAttempts': 0},\n",
       " 'FunctionName': 'deployment_fn',\n",
       " 'FunctionArn': 'arn:aws:lambda:us-east-1:325223348818:function:deployment_fn',\n",
       " 'Runtime': 'python3.11',\n",
       " 'Role': 'arn:aws:iam::325223348818:role/lambda-deployment-role',\n",
       " 'Handler': 'lambda.lambda_handler',\n",
       " 'CodeSize': 3498,\n",
       " 'Description': '',\n",
       " 'Timeout': 600,\n",
       " 'MemorySize': 128,\n",
       " 'LastModified': '2024-05-22T00:35:30.000+0000',\n",
       " 'CodeSha256': 'mVZJaWMX6GbPPLP05/zbUdn+cGyNMgCJaFEAoVS0eEA=',\n",
       " 'Version': '$LATEST',\n",
       " 'Environment': {'Variables': {'ROLE': 'arn:aws:iam::325223348818:role/service-role/AmazonSageMaker-ExecutionRole-20230312T160501',\n",
       "   'DATA_CAPTURE_PERCENTAGE': '100',\n",
       "   'DATA_CAPTURE_DESTINATION': 's3://mlschool/penguins/monitoring/data-capture',\n",
       "   'ENDPOINT': 'penguins-endpoint'}},\n",
       " 'TracingConfig': {'Mode': 'PassThrough'},\n",
       " 'RevisionId': '0fd37072-7535-47f1-81a7-436d48a2398b',\n",
       " 'Layers': [],\n",
       " 'State': 'Active',\n",
       " 'LastUpdateStatus': 'InProgress',\n",
       " 'LastUpdateStatusReason': 'The function is being created.',\n",
       " 'LastUpdateStatusReasonCode': 'Creating',\n",
       " 'PackageType': 'Zip',\n",
       " 'Architectures': ['x86_64'],\n",
       " 'EphemeralStorage': {'Size': 512},\n",
       " 'SnapStart': {'ApplyOn': 'None', 'OptimizationStatus': 'Off'},\n",
       " 'RuntimeVersionConfig': {'RuntimeVersionArn': 'arn:aws:lambda:us-east-1::runtime:1bebe65bb4f19dd8c37baeb0be18a0b278155b42bfe12dd28480199436d18229'},\n",
       " 'LoggingConfig': {'LogFormat': 'Text',\n",
       "  'LogGroup': '/aws/lambda/deployment_fn'}}"
      ]
     },
     "execution_count": 77,
     "metadata": {},
     "output_type": "execute_result"
    }
   ],
   "source": [
    "from sagemaker.lambda_helper import Lambda\n",
    "\n",
    "deploy_lambda_fn = Lambda(\n",
    "    function_name=\"deployment_fn\",\n",
    "    execution_role_arn=lambda_role_arn,\n",
    "    script=(CODE_FOLDER / \"lambda\" / \"lambda.py\").as_posix(),\n",
    "    handler=\"lambda.lambda_handler\",\n",
    "    timeout=600,\n",
    "    session=sagemaker_session,\n",
    "    runtime=\"python3.11\",\n",
    "    environment={\n",
    "        \"Variables\": {\n",
    "            \"ENDPOINT\": ENDPOINT,\n",
    "            \"DATA_CAPTURE_DESTINATION\": DATA_CAPTURE_DESTINATION,\n",
    "            \"DATA_CAPTURE_PERCENTAGE\": str(DATA_CAPTURE_PERCENTAGE),\n",
    "            \"ROLE\": role,\n",
    "        },\n",
    "    },\n",
    ")\n",
    "\n",
    "deploy_lambda_fn_response = deploy_lambda_fn.upsert()\n",
    "deploy_lambda_fn_response"
   ]
  },
  {
   "cell_type": "markdown",
   "id": "b46c806e",
   "metadata": {},
   "source": [
    "### Step 5 - Setting up the Lambda Step\n",
    "\n",
    "We can now define the [Lambda Step](https://sagemaker.readthedocs.io/en/stable/workflows/pipelines/sagemaker.workflow.pipelines.html#sagemaker.workflow.lambda_step.LambdaStep) that will run the function to deploy the model. We'll do this in a function that we can reuse later.\n",
    "\n",
    "This step will send the model package ARN we want to deploy to the Lambda function as an input parameter.\n"
   ]
  },
  {
   "cell_type": "code",
   "execution_count": 78,
   "id": "1f86b997",
   "metadata": {},
   "outputs": [],
   "source": [
    "from sagemaker.workflow.lambda_step import LambdaStep\n",
    "\n",
    "\n",
    "def create_deployment_step(register_model_step):\n",
    "    \"\"\"Create a Deploy Step using the supplied parameters.\"\"\"\n",
    "    return LambdaStep(\n",
    "        name=\"deploy\",\n",
    "        lambda_func=deploy_lambda_fn,\n",
    "        inputs={\n",
    "            \"model_package_arn\": register_model_step.properties.ModelPackageArn,\n",
    "        },\n",
    "    )\n",
    "\n",
    "\n",
    "deploy_step = create_deployment_step(register_model_step)"
   ]
  },
  {
   "cell_type": "markdown",
   "id": "40f2b11e",
   "metadata": {},
   "source": [
    "### Step 6 - Modifying the Condition Step\n",
    "\n",
    "We need to modify the [Condition Step](https://docs.aws.amazon.com/sagemaker/latest/dg/build-and-manage-steps.html#step-type-condition) to include the new deployment step. If the condition succeeds, we will register and deploy the model.\n"
   ]
  },
  {
   "cell_type": "code",
   "execution_count": 79,
   "id": "5cc3e44b",
   "metadata": {},
   "outputs": [],
   "source": [
    "condition_step = ConditionStep(\n",
    "    name=\"check-model-accuracy\",\n",
    "    conditions=[condition],\n",
    "    if_steps=[register_model_step, deploy_step],\n",
    "    else_steps=[fail_step],\n",
    ")"
   ]
  },
  {
   "cell_type": "markdown",
   "id": "1951be04",
   "metadata": {},
   "source": [
    "### Step 7 - Creating the Pipeline\n",
    "\n",
    "We can now define the SageMaker Pipeline and submit its definition to the SageMaker Pipelines service to create the pipeline if it doesn't exist or update it if it does.\n"
   ]
  },
  {
   "cell_type": "code",
   "execution_count": 80,
   "id": "3d86577a",
   "metadata": {
    "tags": [
     "hide-output"
    ]
   },
   "outputs": [
    {
     "data": {
      "text/plain": [
       "{'PipelineArn': 'session12-pipeline'}"
      ]
     },
     "execution_count": 80,
     "metadata": {},
     "output_type": "execute_result"
    }
   ],
   "source": [
    "session12_pipeline = Pipeline(\n",
    "    name=\"session12-pipeline\",\n",
    "    parameters=[dataset_location, accuracy_threshold],\n",
    "    steps=[\n",
    "        preprocessing_step,\n",
    "        train_model_step,\n",
    "        evaluate_model_step,\n",
    "        condition_step,\n",
    "    ],\n",
    "    pipeline_definition_config=pipeline_definition_config,\n",
    "    sagemaker_session=config[\"session\"],\n",
    ")\n",
    "\n",
    "session12_pipeline.upsert(role_arn=role)"
   ]
  },
  {
   "cell_type": "markdown",
   "id": "fbddc94b",
   "metadata": {},
   "source": [
    "### Step 8 - Testing the Endpoint\n",
    "\n",
    "Let's test the endpoint to make sure it works.\n",
    "\n",
    "The `wait_for_endpoint` function will wait until the endpoint is ready to receive requests.\n"
   ]
  },
  {
   "cell_type": "code",
   "execution_count": 81,
   "id": "1dd5bb33",
   "metadata": {},
   "outputs": [
    {
     "name": "stdout",
     "output_type": "stream",
     "text": [
      "Waiter EndpointInService failed: Waiter encountered a terminal failure state: Matched expected service error code: ValidationException\n"
     ]
    }
   ],
   "source": [
    "def wait_for_endpoint():\n",
    "    \"\"\"Wait for the endpoint to come in service.\"\"\"\n",
    "    waiter = sagemaker_client.get_waiter(\"endpoint_in_service\")\n",
    "    waiter.wait(EndpointName=ENDPOINT, WaiterConfig={\"Delay\": 10, \"MaxAttempts\": 30})\n",
    "\n",
    "\n",
    "payload = \"0.6569590202313976,-1.0813829646495108,1.2097102831892812,0.9226343641317372,1.0,0.0,0.0\"  # noqa: E501\n",
    "\n",
    "\n",
    "try:\n",
    "    wait_for_endpoint()\n",
    "\n",
    "    predictor = Predictor(endpoint_name=ENDPOINT)\n",
    "\n",
    "    response = predictor.predict(payload, initial_args={\"ContentType\": \"text/csv\"})\n",
    "    response = json.loads(response.decode(\"utf-8\"))\n",
    "\n",
    "    print(json.dumps(response, indent=2))\n",
    "except Exception as e:\n",
    "    print(e)"
   ]
  },
  {
   "cell_type": "markdown",
   "id": "65c31653",
   "metadata": {},
   "source": [
    "## Session 13 - Deploying From an Event\n",
    "\n",
    "This session modifies the [SageMaker Pipeline](https://docs.aws.amazon.com/sagemaker/latest/dg/pipelines-sdk.html) to register the model with `PendingManualApproval` status and deploys it whenever its status changes to `Approved`.\n",
    "\n",
    "<a href=\"images/deploying-from-event.png\" target=\"_blank\"> <img src=\"images/deploying-from-event.png\" alt=\"High-level overview of deploying a model using EventBridge\" style=\"max-width: 740px;\" /></a>\n",
    "\n",
    "We will use [Amazon EventBridge](https://aws.amazon.com/pm/eventbridge/) to trigger a Lambda function that will deploy the model whenever its status changes from \"PendingManualApproval\" to \"Approved.\"\n"
   ]
  },
  {
   "cell_type": "markdown",
   "id": "de2ad7d3",
   "metadata": {},
   "source": [
    "### Step 1 - Configuring the Model Package Group\n",
    "\n",
    "We need to define the name of a new group where we'll register models with `PendingManualApproval` status.\n"
   ]
  },
  {
   "cell_type": "code",
   "execution_count": 82,
   "id": "96751e71",
   "metadata": {},
   "outputs": [],
   "source": [
    "PENDING_MODEL_PACKAGE_GROUP = \"pending-penguins\""
   ]
  },
  {
   "cell_type": "markdown",
   "id": "bbdfb284",
   "metadata": {},
   "source": [
    "### Step 2 - Setting Up EventBridge\n",
    "\n",
    "We can now create an EventBridge rule that triggers the deployment process whenever a model approval status becomes `Approved`. To do this, let's define the event pattern that will trigger the deployment process. Check [Model package state change](https://docs.aws.amazon.com/sagemaker/latest/dg/automating-sagemaker-with-eventbridge.html#eventbridge-model-package) for more information.\n"
   ]
  },
  {
   "cell_type": "code",
   "execution_count": 83,
   "id": "1ee4b9d5",
   "metadata": {},
   "outputs": [],
   "source": [
    "event_pattern = f\"\"\"\n",
    "{{\n",
    "  \"source\": [\"aws.sagemaker\"],\n",
    "  \"detail-type\": [\"SageMaker Model Package State Change\"],\n",
    "  \"detail\": {{\n",
    "    \"ModelPackageGroupName\": [\"{PENDING_MODEL_PACKAGE_GROUP}\"],\n",
    "    \"ModelApprovalStatus\": [\"Approved\"]\n",
    "  }}\n",
    "}}\n",
    "\"\"\""
   ]
  },
  {
   "cell_type": "markdown",
   "id": "173c4908",
   "metadata": {},
   "source": [
    "Let's now create the EventBridge rule:\n"
   ]
  },
  {
   "cell_type": "code",
   "execution_count": 84,
   "id": "63f294bc",
   "metadata": {},
   "outputs": [],
   "source": [
    "rule_name = \"PendingModelApprovedRule\"\n",
    "\n",
    "events_client = boto3.client(\"events\")\n",
    "rule_response = events_client.put_rule(\n",
    "    Name=rule_name,\n",
    "    EventPattern=event_pattern,\n",
    "    State=\"ENABLED\",\n",
    "    RoleArn=role,\n",
    ")"
   ]
  },
  {
   "cell_type": "markdown",
   "id": "736c2148",
   "metadata": {},
   "source": [
    "Now, we need to define the target of the rule. The target will trigger whenever the rule matches an event. In this case, we want to trigger the Lambda function we created before:\n"
   ]
  },
  {
   "cell_type": "code",
   "execution_count": 85,
   "id": "9985bd49",
   "metadata": {},
   "outputs": [],
   "source": [
    "response = events_client.put_targets(\n",
    "    Rule=rule_name,\n",
    "    Targets=[\n",
    "        {\n",
    "            \"Id\": \"1\",\n",
    "            \"Arn\": deploy_lambda_fn_response[\"FunctionArn\"],\n",
    "        },\n",
    "    ],\n",
    ")"
   ]
  },
  {
   "cell_type": "markdown",
   "id": "9c22f63b",
   "metadata": {},
   "source": [
    "### Step 3 - Configuring the Lambda Permissions\n",
    "\n",
    "Finally, we need to give the Lambda function permissions to be triggered by the EventBridge rule:\n"
   ]
  },
  {
   "cell_type": "code",
   "execution_count": 86,
   "id": "32302639",
   "metadata": {},
   "outputs": [
    {
     "name": "stdout",
     "output_type": "stream",
     "text": [
      "Function \"deployment_fn\" already has the specified permission.\n"
     ]
    }
   ],
   "source": [
    "lambda_function_name = deploy_lambda_fn_response[\"FunctionName\"]\n",
    "lambda_client = boto3.client(\"lambda\")\n",
    "\n",
    "try:\n",
    "    response = lambda_client.add_permission(\n",
    "        Action=\"lambda:InvokeFunction\",\n",
    "        FunctionName=lambda_function_name,\n",
    "        Principal=\"events.amazonaws.com\",\n",
    "        SourceArn=rule_response[\"RuleArn\"],\n",
    "        StatementId=\"EventBridge\",\n",
    "    )\n",
    "except lambda_client.exceptions.ResourceConflictException:\n",
    "    print(f'Function \"{lambda_function_name}\" already has the specified permission.')"
   ]
  },
  {
   "cell_type": "markdown",
   "id": "4d1a12be",
   "metadata": {},
   "source": [
    "### Step 4 - Registering the Model\n",
    "\n",
    "We need to modify the [Model Step](https://docs.aws.amazon.com/sagemaker/latest/dg/build-and-manage-steps.html#step-type-model) to register the model using `PendingManualApproval` status.\n"
   ]
  },
  {
   "cell_type": "code",
   "execution_count": 87,
   "id": "18adeb93",
   "metadata": {
    "tags": [
     "hide-output"
    ]
   },
   "outputs": [
    {
     "name": "stderr",
     "output_type": "stream",
     "text": [
      "/Users/svpino/dev/ml.school/.venv/lib/python3.10/site-packages/sagemaker/workflow/pipeline_context.py:332: UserWarning: Running within a PipelineSession, there will be No Wait, No Logs, and No Job being started.\n",
      "  warnings.warn(\n"
     ]
    }
   ],
   "source": [
    "register_model_step = create_registration_step(\n",
    "    tensorflow_model,\n",
    "    PENDING_MODEL_PACKAGE_GROUP,\n",
    "    approval_status=\"PendingManualApproval\",\n",
    "    model_metrics=model_metrics,\n",
    ")"
   ]
  },
  {
   "cell_type": "markdown",
   "id": "ce34e825",
   "metadata": {},
   "source": [
    "### Step 5 - Modifying the Condition Step\n",
    "\n",
    "Let's modify the [Condition Step](https://docs.aws.amazon.com/sagemaker/latest/dg/build-and-manage-steps.html#step-type-condition) to include the new registration step. If the condition succeeds, we will register the model with `PendingManualApproval` status.\n"
   ]
  },
  {
   "cell_type": "code",
   "execution_count": 88,
   "id": "fafb5514",
   "metadata": {},
   "outputs": [],
   "source": [
    "condition_step = ConditionStep(\n",
    "    name=\"check-model-accuracy\",\n",
    "    conditions=[condition],\n",
    "    if_steps=[register_model_step],\n",
    "    else_steps=[fail_step],\n",
    ")"
   ]
  },
  {
   "cell_type": "markdown",
   "id": "070a5a5d",
   "metadata": {},
   "source": [
    "### Step 6 - Creating the Pipeline\n",
    "\n",
    "Let's define the SageMaker Pipeline and submit its definition to the SageMaker Pipelines service to create the pipeline if it doesn't exist or update it if it does.\n"
   ]
  },
  {
   "cell_type": "code",
   "execution_count": 89,
   "id": "b95c22b2",
   "metadata": {
    "tags": [
     "hide-output"
    ]
   },
   "outputs": [
    {
     "data": {
      "text/plain": [
       "{'PipelineArn': 'session13-pipeline'}"
      ]
     },
     "execution_count": 89,
     "metadata": {},
     "output_type": "execute_result"
    }
   ],
   "source": [
    "session13_pipeline = Pipeline(\n",
    "    name=\"session13-pipeline\",\n",
    "    parameters=[dataset_location, accuracy_threshold],\n",
    "    steps=[\n",
    "        preprocessing_step,\n",
    "        train_model_step,\n",
    "        evaluate_model_step,\n",
    "        condition_step,\n",
    "    ],\n",
    "    pipeline_definition_config=pipeline_definition_config,\n",
    "    sagemaker_session=config[\"session\"],\n",
    ")\n",
    "\n",
    "session13_pipeline.upsert(role_arn=role)"
   ]
  },
  {
   "cell_type": "markdown",
   "id": "adcf1f02",
   "metadata": {},
   "source": [
    "## Session 14 - Building an Inference Pipeline\n",
    "\n",
    "This session creates an inference pipeline to control the data that goes in and comes out of the endpoint.\n",
    "\n",
    "Deploying the model we trained directly to an endpoint doesn't lets us control the data that goes in and comes out of the endpoint. The TensorFlow model we trained requires transformed data, which makes it useless to other applications:\n",
    "\n",
    "<a href=\"images/basic-model.png\" target=\"_blank\"> <img src=\"images/basic-model.png\" alt=\"Basic Model\" style=\"max-width: 740px;\" /></a>\n",
    "\n",
    "To fix this, we can create an Inference Pipeline using SageMaker to control the data that goes in and comes out of the endpoint.\n",
    "\n",
    "Our inference pipeline will have three components:\n",
    "\n",
    "1. A preprocessing component that will transform the input data into the format the model expects.\n",
    "2. The TensorFlow model.\n",
    "3. A postprocessing component that will transform the output of the model into a human-readable format.\n",
    "\n",
    "<a href=\"images/inference-pipeline.png\" target=\"_blank\"> <img src=\"images/inference-pipeline.png\" alt=\"Inference pipeline\" style=\"max-width: 740px;\" /></a>\n",
    "\n",
    "We want our endpoint to handle unprocessed data in CSV and JSON format and return the penguin's species. Here is an example of the payload input we want the endpoint to support:\n",
    "\n",
    "```{json}\n",
    "{\n",
    "    \"island\": \"Biscoe\",\n",
    "    \"culmen_length_mm\": 48.6,\n",
    "    \"culmen_depth_mm\": 16.0,\n",
    "    \"flipper_length_mm\": 230.0,\n",
    "    \"body_mass_g\": 5800.0\n",
    "}\n",
    "```\n",
    "\n",
    "And here is an example of the output we'd like to get from the endpoint:\n",
    "\n",
    "```{json}\n",
    "{\n",
    "    \"prediction\": \"Adelie\",\n",
    "    \"confidence\": 0.802672\n",
    "}\n",
    "```\n"
   ]
  },
  {
   "cell_type": "markdown",
   "id": "9b597447",
   "metadata": {},
   "source": [
    "### Step 1 - Creating the Preprocessing Script\n",
    "\n",
    "The first component of our inference pipeline will transform the input data into the format the model expects.\n",
    "\n",
    "We'll use the Scikit-Learn transformer we saved when we split and transformed the data. To deploy this component as part of an inference pipeline, we need to write a script that loads the transformer, uses it to modify the input data, and returns the output in the format the TensorFlow model expects.\n"
   ]
  },
  {
   "cell_type": "markdown",
   "id": "7a1de322",
   "metadata": {},
   "source": [
    "We'll store the scripts of every component in a folder called `pipeline` and add it to the system path so we can later import it as a module.\n"
   ]
  },
  {
   "cell_type": "code",
   "execution_count": 90,
   "id": "a1f25973",
   "metadata": {},
   "outputs": [],
   "source": [
    "(CODE_FOLDER / \"pipeline\").mkdir(parents=True, exist_ok=True)"
   ]
  },
  {
   "cell_type": "markdown",
   "id": "3b1cc77f",
   "metadata": {},
   "source": [
    "Let's now create the script for the preprocessing component:\n"
   ]
  },
  {
   "cell_type": "code",
   "execution_count": 91,
   "id": "c480ae02",
   "metadata": {
    "tags": [
     "hide-output"
    ]
   },
   "outputs": [
    {
     "name": "stdout",
     "output_type": "stream",
     "text": [
      "Writing code/pipeline/preprocessing_component.py\n"
     ]
    }
   ],
   "source": [
    "%%writefile {CODE_FOLDER}/pipeline/preprocessing_component.py\n",
    "#| filename: preprocessing_component.py\n",
    "#| code-line-numbers: true\n",
    "\n",
    "import os\n",
    "import pandas as pd\n",
    "import json\n",
    "import joblib\n",
    "\n",
    "from io import StringIO\n",
    "\n",
    "try:\n",
    "    from sagemaker_containers.beta.framework import worker\n",
    "except ImportError:\n",
    "    # We don't have access to the `worker` package when testing locally.\n",
    "    # We'll set it to None so we can change the way functions create\n",
    "    # a response.\n",
    "    worker = None\n",
    "\n",
    "\n",
    "TARGET_COLUMN = \"species\"\n",
    "FEATURE_COLUMNS = [\n",
    "    \"island\",\n",
    "    \"culmen_length_mm\",\n",
    "    \"culmen_depth_mm\",\n",
    "    \"flipper_length_mm\",\n",
    "    \"body_mass_g\",\n",
    "    \"sex\",\n",
    "]\n",
    "\n",
    "\n",
    "def model_fn(model_dir):\n",
    "    \"\"\"\n",
    "    Deserializes the model that will be used in this container.\n",
    "    \"\"\"\n",
    "\n",
    "    return joblib.load(os.path.join(model_dir, \"features.joblib\"))\n",
    "\n",
    "\n",
    "def input_fn(input_data, content_type):\n",
    "    \"\"\"\n",
    "    Parses the input payload and creates a Pandas DataFrame.\n",
    "\n",
    "    This function will check whether the target column is present in the\n",
    "    input data and will remove it.\n",
    "    \"\"\"\n",
    "\n",
    "    if content_type == \"text/csv\":\n",
    "        df = pd.read_csv(StringIO(input_data), header=None, skipinitialspace=True)\n",
    "\n",
    "        # If we find an extra column, it's probably the target\n",
    "        # feature, so let's drop it. We'll assume the target\n",
    "        # is always the first column,\n",
    "        if len(df.columns) == len(FEATURE_COLUMNS) + 1:\n",
    "            df = df.drop(df.columns[0], axis=1)\n",
    "\n",
    "        df.columns = FEATURE_COLUMNS\n",
    "        return df\n",
    "\n",
    "    if content_type == \"application/json\":\n",
    "        df = pd.DataFrame([json.loads(input_data)])\n",
    "\n",
    "        if TARGET_COLUMN in df.columns:\n",
    "            df = df.drop(TARGET_COLUMN, axis=1)\n",
    "\n",
    "        return df\n",
    "\n",
    "    raise ValueError(f\"{content_type} is not supported!\")\n",
    "\n",
    "\n",
    "def predict_fn(input_data, model):\n",
    "    \"\"\"\n",
    "    Preprocess the input using the transformer.\n",
    "    \"\"\"\n",
    "\n",
    "    try:\n",
    "        return model.transform(input_data)\n",
    "    except ValueError as e:\n",
    "        print(\"Error transforming the input data\", e)\n",
    "        return None\n",
    "\n",
    "\n",
    "def output_fn(prediction, accept):\n",
    "    \"\"\"\n",
    "    Formats the prediction output to generate a response.\n",
    "\n",
    "    The default accept/content-type between containers for serial inference\n",
    "    is JSON. Since this model preceeds a TensorFlow model, we want to\n",
    "    return a JSON object following TensorFlow's input requirements.\n",
    "    \"\"\"\n",
    "\n",
    "    if prediction is None:\n",
    "        raise Exception(\"There was an error transforming the input data\")\n",
    "\n",
    "    instances = [p for p in prediction.tolist()]\n",
    "    response = {\"instances\": instances}\n",
    "    return (\n",
    "        worker.Response(json.dumps(response), mimetype=accept)\n",
    "        if worker\n",
    "        else (response, accept)\n",
    "    )"
   ]
  },
  {
   "cell_type": "markdown",
   "id": "b582ba8b",
   "metadata": {},
   "source": [
    "Let's test the script to ensure everything is working as expected:\n"
   ]
  },
  {
   "cell_type": "code",
   "execution_count": 92,
   "id": "34721e63",
   "metadata": {
    "tags": [
     "hide-output"
    ]
   },
   "outputs": [
    {
     "name": "stdout",
     "output_type": "stream",
     "text": [
      "\u001b[32m.\u001b[0m\u001b[32m.\u001b[0m\u001b[32m.\u001b[0m\u001b[32m.\u001b[0m\u001b[32m.\u001b[0m\u001b[32m.\u001b[0m\u001b[32m.\u001b[0m\u001b[32m.\u001b[0m\u001b[32m                                                                                     [100%]\u001b[0m\n",
      "\u001b[32m\u001b[32m\u001b[1m8 passed\u001b[0m\u001b[32m in 0.06s\u001b[0m\u001b[0m\n"
     ]
    }
   ],
   "source": [
    "%%ipytest\n",
    "#| code-fold: true\n",
    "\n",
    "from pipeline.preprocessing_component import input_fn, predict_fn, output_fn, model_fn\n",
    "\n",
    "\n",
    "@pytest.fixture(scope=\"function\", autouse=False)\n",
    "def directory():\n",
    "    directory = tempfile.mkdtemp()\n",
    "    input_directory = Path(directory) / \"input\"\n",
    "    input_directory.mkdir(parents=True, exist_ok=True)\n",
    "    shutil.copy2(DATA_FILEPATH, input_directory / \"data.csv\")\n",
    "    \n",
    "    directory = Path(directory)\n",
    "    \n",
    "    preprocess(base_directory=directory)\n",
    "    \n",
    "    with tarfile.open(directory / \"model\" / \"model.tar.gz\") as tar:\n",
    "        tar.extractall(path=directory / \"model\")\n",
    "    \n",
    "    yield directory / \"model\"\n",
    "    \n",
    "    shutil.rmtree(directory)\n",
    "\n",
    "\n",
    "def test_input_csv_drops_target_column_if_present():\n",
    "    input_data = \"\"\"\n",
    "    Adelie, Torgersen, 39.1, 18.7, 181, 3750, MALE\n",
    "    \"\"\"\n",
    "    \n",
    "    df = input_fn(input_data, \"text/csv\")\n",
    "    assert len(df.columns) == 6 and \"species\" not in df.columns\n",
    "\n",
    "\n",
    "def test_input_json_drops_target_column_if_present():\n",
    "    input_data = json.dumps({\n",
    "        \"species\": \"Adelie\", \n",
    "        \"island\": \"Torgersen\",\n",
    "        \"culmen_length_mm\": 44.1,\n",
    "        \"culmen_depth_mm\": 18.0,\n",
    "        \"flipper_length_mm\": 210.0,\n",
    "        \"body_mass_g\": 4000.0,\n",
    "        \"sex\": \"MALE\"\n",
    "    })\n",
    "    \n",
    "    df = input_fn(input_data, \"application/json\")\n",
    "    assert len(df.columns) == 6 and \"species\" not in df.columns\n",
    "\n",
    "\n",
    "def test_input_csv_works_without_target_column():\n",
    "    input_data = \"\"\"\n",
    "    Torgersen, 39.1, 18.7, 181, 3750, MALE\n",
    "    \"\"\"\n",
    "    \n",
    "    df = input_fn(input_data, \"text/csv\")\n",
    "    assert len(df.columns) == 6\n",
    "\n",
    "\n",
    "def test_input_json_works_without_target_column():\n",
    "    input_data = json.dumps({\n",
    "        \"island\": \"Torgersen\",\n",
    "        \"culmen_length_mm\": 44.1,\n",
    "        \"culmen_depth_mm\": 18.0,\n",
    "        \"flipper_length_mm\": 210.0,\n",
    "        \"body_mass_g\": 4000.0,\n",
    "        \"sex\": \"MALE\"\n",
    "    })\n",
    "    \n",
    "    df = input_fn(input_data, \"application/json\")\n",
    "    assert len(df.columns) == 6\n",
    "\n",
    "\n",
    "def test_output_raises_exception_if_prediction_is_none():\n",
    "    with pytest.raises(Exception):\n",
    "        output_fn(None, \"application/json\")\n",
    "    \n",
    "    \n",
    "def test_output_returns_tensorflow_ready_input():\n",
    "    prediction = np.array([\n",
    "        [-1.3944109908736013,1.15488062669371,-0.7954340636549508,-0.5536447804097907,0.0,1.0,0.0],\n",
    "        [1.0557485835338234,0.5040085971987002,-0.5824506029515057,-0.5851840035995248,0.0,1.0,0.0]\n",
    "    ])\n",
    "    \n",
    "    response = output_fn(prediction, \"application/json\")\n",
    "    \n",
    "    assert response[0] == {\n",
    "        \"instances\": [\n",
    "            [-1.3944109908736013,1.15488062669371,-0.7954340636549508,-0.5536447804097907,0.0,1.0,0.0],\n",
    "            [1.0557485835338234,0.5040085971987002,-0.5824506029515057,-0.5851840035995248,0.0,1.0,0.0]\n",
    "        ]\n",
    "    }\n",
    "    \n",
    "    assert response[1] == \"application/json\"\n",
    "\n",
    "    \n",
    "def test_predict_transforms_data(directory):\n",
    "    input_data = \"\"\"\n",
    "    Torgersen, 39.1, 18.7, 181, 3750, MALE\n",
    "    \"\"\"\n",
    "    \n",
    "    model = model_fn(directory.as_posix())\n",
    "    df = input_fn(input_data, \"text/csv\")\n",
    "    response = predict_fn(df, model)\n",
    "    assert type(response) is np.ndarray\n",
    "    \n",
    "\n",
    "def test_predict_returns_none_if_invalid_input(directory):\n",
    "    input_data = \"\"\"\n",
    "    Invalid, 39.1, 18.7, 181, 3750, MALE\n",
    "    \"\"\"\n",
    "    \n",
    "    model = model_fn(directory.as_posix())\n",
    "    df = input_fn(input_data, \"text/csv\")\n",
    "    assert predict_fn(df, model) is None"
   ]
  },
  {
   "cell_type": "markdown",
   "id": "7c12017c",
   "metadata": {},
   "source": [
    "### Step 2 - Creating the Postprocessing Script\n",
    "\n",
    "The final component of our inference pipeline will transform the output from the model into a human-readable format.\n",
    "\n",
    "We'll use the Scikit-Learn target transformer we saved when we split and transformed the data. To deploy this component as part of an inference pipeline, we need to write a script that loads the transformer, uses it to modify the output from the model, and returns a human-readable format.\n"
   ]
  },
  {
   "cell_type": "code",
   "execution_count": 93,
   "id": "d23798aa",
   "metadata": {
    "tags": [
     "hide-output"
    ]
   },
   "outputs": [
    {
     "name": "stdout",
     "output_type": "stream",
     "text": [
      "Writing code/pipeline/postprocessing_component.py\n"
     ]
    }
   ],
   "source": [
    "%%writefile {CODE_FOLDER}/pipeline/postprocessing_component.py\n",
    "#| filename: postprocessing_component.py\n",
    "#| code-line-numbers: true\n",
    "\n",
    "import os\n",
    "import numpy as np\n",
    "import json\n",
    "import joblib\n",
    "\n",
    "\n",
    "try:\n",
    "    from sagemaker_containers.beta.framework import encoders, worker\n",
    "except ImportError:\n",
    "    # We don't have access to the `worker` package when testing locally.\n",
    "    # We'll set it to None so we can change the way functions create\n",
    "    # a response.\n",
    "    worker = None\n",
    "\n",
    "\n",
    "def model_fn(model_dir):\n",
    "    \"\"\"\n",
    "    Deserializes the target model and returns the list of fitted categories.\n",
    "    \"\"\"\n",
    "\n",
    "    model = joblib.load(os.path.join(model_dir, \"target.joblib\"))\n",
    "    return model.named_transformers_[\"species\"].categories_[0]\n",
    "\n",
    "\n",
    "def input_fn(input_data, content_type):\n",
    "    if content_type == \"application/json\":\n",
    "        return json.loads(input_data)[\"predictions\"]\n",
    "    \n",
    "    raise ValueError(f\"{content_type} is not supported.\")\n",
    "\n",
    "\n",
    "def predict_fn(input_data, model):\n",
    "    \"\"\"\n",
    "    Transforms the prediction into its corresponding category.\n",
    "    \"\"\"\n",
    "    predictions = np.argmax(input_data, axis=-1)\n",
    "    confidence = np.max(input_data, axis=-1)\n",
    "    return [\n",
    "        (model[prediction], confidence)\n",
    "        for confidence, prediction in zip(confidence, predictions)\n",
    "    ]\n",
    "\n",
    "def output_fn(prediction, accept):\n",
    "    if accept == \"text/csv\":\n",
    "        return (\n",
    "            worker.Response(encoders.encode(prediction, accept), mimetype=accept)\n",
    "            if worker\n",
    "            else (prediction, accept)\n",
    "        )\n",
    "\n",
    "    if accept == \"application/json\":\n",
    "        response = []\n",
    "        for p, c in prediction:\n",
    "            response.append({\"prediction\": p, \"confidence\": c})\n",
    "\n",
    "        # If there's only one prediction, we'll return it\n",
    "        # as a single object.\n",
    "        if len(response) == 1:\n",
    "            response = response[0]\n",
    "\n",
    "        return (\n",
    "            worker.Response(json.dumps(response), mimetype=accept)\n",
    "            if worker\n",
    "            else (response, accept)\n",
    "        )\n",
    "\n",
    "    raise Exception(f\"{accept} accept type is not supported.\")"
   ]
  },
  {
   "cell_type": "markdown",
   "id": "67725bb1",
   "metadata": {},
   "source": [
    "Let's test the script to ensure everything is working as expected:\n"
   ]
  },
  {
   "cell_type": "code",
   "execution_count": 94,
   "id": "965a6be5",
   "metadata": {
    "tags": [
     "hide-output"
    ]
   },
   "outputs": [
    {
     "name": "stdout",
     "output_type": "stream",
     "text": [
      "\u001b[32m.\u001b[0m\u001b[32m.\u001b[0m\u001b[32m.\u001b[0m\u001b[32m                                                                                          [100%]\u001b[0m\n",
      "\u001b[32m\u001b[32m\u001b[1m3 passed\u001b[0m\u001b[32m in 0.01s\u001b[0m\u001b[0m\n"
     ]
    }
   ],
   "source": [
    "%%ipytest\n",
    "#| code-fold: true\n",
    "\n",
    "import numpy as np\n",
    "\n",
    "from pipeline.postprocessing_component import predict_fn, output_fn\n",
    "\n",
    "\n",
    "def test_predict_returns_prediction_as_first_column():\n",
    "    input_data = [\n",
    "        [0.6, 0.2, 0.2], \n",
    "        [0.1, 0.8, 0.1],\n",
    "        [0.2, 0.1, 0.7]\n",
    "    ]\n",
    "    \n",
    "    categories = [\"Adelie\", \"Gentoo\", \"Chinstrap\"]\n",
    "    \n",
    "    response = predict_fn(input_data, categories)\n",
    "    \n",
    "    assert response == [\n",
    "        (\"Adelie\", 0.6),\n",
    "        (\"Gentoo\", 0.8),\n",
    "        (\"Chinstrap\", 0.7)\n",
    "    ]\n",
    "\n",
    "\n",
    "def test_output_does_not_return_array_if_single_prediction():\n",
    "    prediction = [(\"Adelie\", 0.6)]\n",
    "    response, _ = output_fn(prediction, \"application/json\")\n",
    "\n",
    "    assert response[\"prediction\"] == \"Adelie\"\n",
    "\n",
    "\n",
    "def test_output_returns_array_if_multiple_predictions():\n",
    "    prediction = [(\"Adelie\", 0.6), (\"Gentoo\", 0.8)]\n",
    "    response, _ = output_fn(prediction, \"application/json\")\n",
    "\n",
    "    assert len(response) == 2\n",
    "    assert response[0][\"prediction\"] == \"Adelie\"\n",
    "    assert response[1][\"prediction\"] == \"Gentoo\"\n"
   ]
  },
  {
   "cell_type": "markdown",
   "id": "29abbf51",
   "metadata": {},
   "source": [
    "### Step 3 - Setting up the Inference Pipeline\n",
    "\n",
    "We can now create a [PipelineModel](https://sagemaker.readthedocs.io/en/stable/api/inference/pipeline.html#sagemaker.pipeline.PipelineModel) to define our inference pipeline.\n",
    "\n",
    "We'll use the model we generated in the Split and Transform step as the input to the first and last components of the inference pipeline. This `model.tar.gz` file contains the two transformers we need to preprocess and postprocess the data.\n"
   ]
  },
  {
   "cell_type": "markdown",
   "id": "0cf32c18",
   "metadata": {},
   "source": [
    "Let's create a variable with the URI to this file:\n"
   ]
  },
  {
   "cell_type": "code",
   "execution_count": 95,
   "id": "82dafcd0",
   "metadata": {},
   "outputs": [],
   "source": [
    "transformation_pipeline_model = Join(\n",
    "    on=\"/\",\n",
    "    values=[\n",
    "        preprocessing_step.properties.ProcessingOutputConfig.Outputs[\n",
    "            \"model\"\n",
    "        ].S3Output.S3Uri,\n",
    "        \"model.tar.gz\",\n",
    "    ],\n",
    ")"
   ]
  },
  {
   "cell_type": "markdown",
   "id": "f6ab6b5b",
   "metadata": {},
   "source": [
    "Here is the first component of the inference pipeline. It will preprocess the data before sending it to the TensorFlow model:\n"
   ]
  },
  {
   "cell_type": "code",
   "execution_count": 96,
   "id": "8c7dda7a",
   "metadata": {},
   "outputs": [],
   "source": [
    "from sagemaker.sklearn.model import SKLearnModel\n",
    "\n",
    "preprocessing_model = SKLearnModel(\n",
    "    model_data=transformation_pipeline_model,\n",
    "    entry_point=\"preprocessing_component.py\",\n",
    "    source_dir=(CODE_FOLDER / \"pipeline\").as_posix(),\n",
    "    framework_version=\"1.2-1\",\n",
    "    sagemaker_session=config[\"session\"],\n",
    "    role=role,\n",
    ")"
   ]
  },
  {
   "cell_type": "markdown",
   "id": "7e71a20b",
   "metadata": {},
   "source": [
    "Here is the last component of the inference pipeline. It will postprocess the output from the TensorFlow model before sending it back to the user:\n"
   ]
  },
  {
   "cell_type": "code",
   "execution_count": 97,
   "id": "6c31090e",
   "metadata": {},
   "outputs": [],
   "source": [
    "postprocessing_model = SKLearnModel(\n",
    "    model_data=transformation_pipeline_model,\n",
    "    entry_point=\"postprocessing_component.py\",\n",
    "    source_dir=(CODE_FOLDER / \"pipeline\").as_posix(),\n",
    "    framework_version=\"1.2-1\",\n",
    "    sagemaker_session=config[\"session\"],\n",
    "    role=role,\n",
    ")"
   ]
  },
  {
   "cell_type": "markdown",
   "id": "0ba11abe",
   "metadata": {},
   "source": [
    "We can now create the inference pipeline using the three models:\n"
   ]
  },
  {
   "cell_type": "code",
   "execution_count": 98,
   "id": "9fa95ab8",
   "metadata": {},
   "outputs": [],
   "source": [
    "from sagemaker.pipeline import PipelineModel\n",
    "\n",
    "pipeline_model = PipelineModel(\n",
    "    name=\"inference-model\",\n",
    "    models=[preprocessing_model, tensorflow_model, postprocessing_model],\n",
    "    sagemaker_session=config[\"session\"],\n",
    "    role=role,\n",
    ")"
   ]
  },
  {
   "cell_type": "markdown",
   "id": "3a9d7393",
   "metadata": {},
   "source": [
    "### Step 4 - Configuring the Model Package Group\n",
    "\n",
    "Let's define a new package group to register the Pipeline Model:\n"
   ]
  },
  {
   "cell_type": "code",
   "execution_count": 99,
   "id": "7c052332",
   "metadata": {},
   "outputs": [],
   "source": [
    "PIPELINE_MODEL_PACKAGE_GROUP = \"pipeline-penguins\""
   ]
  },
  {
   "cell_type": "markdown",
   "id": "55f7b2df",
   "metadata": {},
   "source": [
    "### Step 5 - Registering the Model\n",
    "\n",
    "We'll modify the registration step to register the Pipeline Model in the Model Registry.\n"
   ]
  },
  {
   "cell_type": "code",
   "execution_count": 100,
   "id": "3cb0ce9e",
   "metadata": {
    "tags": [
     "hide-output"
    ]
   },
   "outputs": [
    {
     "name": "stderr",
     "output_type": "stream",
     "text": [
      "/Users/svpino/dev/ml.school/.venv/lib/python3.10/site-packages/sagemaker/workflow/pipeline_context.py:332: UserWarning: Running within a PipelineSession, there will be No Wait, No Logs, and No Job being started.\n",
      "  warnings.warn(\n"
     ]
    }
   ],
   "source": [
    "register_model_step = create_registration_step(\n",
    "    pipeline_model,\n",
    "    PIPELINE_MODEL_PACKAGE_GROUP,\n",
    "    content_types=[\"text/csv\", \"application/json\"],\n",
    "    response_types=[\"text/csv\", \"application/json\"],\n",
    "    model_metrics=model_metrics,\n",
    ")"
   ]
  },
  {
   "cell_type": "markdown",
   "id": "55883c31",
   "metadata": {},
   "source": [
    "### Step 6 - Modifying the Deploy Step\n",
    "\n",
    "Let's now modify the [LambdaStep](https://sagemaker.readthedocs.io/en/stable/workflows/pipelines/sagemaker.workflow.pipelines.html#sagemaker.workflow.lambda_step.LambdaStep) to use the updated Registration Step.\n"
   ]
  },
  {
   "cell_type": "code",
   "execution_count": 101,
   "id": "8ec7b7d8",
   "metadata": {},
   "outputs": [],
   "source": [
    "deploy_step = create_deployment_step(register_model_step)"
   ]
  },
  {
   "cell_type": "markdown",
   "id": "c00a4ebb-fb21-4935-9d7b-9500e47e07f9",
   "metadata": {},
   "source": [
    "### Step 7 - Modifying the Condition Step\n",
    "\n",
    "Since we modified the Registration Step, we also need to modify the Condition Step to use the new registration:\n"
   ]
  },
  {
   "cell_type": "code",
   "execution_count": 102,
   "id": "b9712905-9fe3-4148-ae6d-05b0a48e742e",
   "metadata": {
    "tags": []
   },
   "outputs": [],
   "source": [
    "condition_step = ConditionStep(\n",
    "    name=\"check-model-accuracy\",\n",
    "    conditions=[condition],\n",
    "    if_steps=[register_model_step, deploy_step],\n",
    "    else_steps=[fail_step],\n",
    ")"
   ]
  },
  {
   "cell_type": "markdown",
   "id": "0730a388",
   "metadata": {},
   "source": [
    "### Step 8 - Creating the Pipeline\n",
    "\n",
    "We can now define the SageMaker Pipeline and submit its definition to the SageMaker Pipelines service to create the pipeline if it doesn't exist or update it if it does.\n"
   ]
  },
  {
   "cell_type": "code",
   "execution_count": 103,
   "id": "bad9f51d",
   "metadata": {
    "tags": [
     "hide-output"
    ]
   },
   "outputs": [
    {
     "data": {
      "text/plain": [
       "{'PipelineArn': 'session14-pipeline'}"
      ]
     },
     "execution_count": 103,
     "metadata": {},
     "output_type": "execute_result"
    }
   ],
   "source": [
    "session14_pipeline = Pipeline(\n",
    "    name=\"session14-pipeline\",\n",
    "    parameters=[dataset_location, accuracy_threshold],\n",
    "    steps=[\n",
    "        preprocessing_step,\n",
    "        train_model_step,\n",
    "        evaluate_model_step,\n",
    "        condition_step,\n",
    "    ],\n",
    "    pipeline_definition_config=pipeline_definition_config,\n",
    "    sagemaker_session=config[\"session\"],\n",
    ")\n",
    "\n",
    "session14_pipeline.upsert(role_arn=role)"
   ]
  },
  {
   "cell_type": "markdown",
   "id": "7dfe7356-53e8-4ac1-9a7f-3bd51bb739a5",
   "metadata": {},
   "source": [
    "### Step 9 - Testing the Endpoint\n",
    "\n",
    "Let's now test the endpoint. Notice that we can now send the raw data to the endpoint, and it will return the penguin's species in a human-readable format.\n"
   ]
  },
  {
   "cell_type": "code",
   "execution_count": 104,
   "id": "3cc966fb-b611-417f-a8b8-0c5d2f95252c",
   "metadata": {
    "tags": []
   },
   "outputs": [
    {
     "name": "stdout",
     "output_type": "stream",
     "text": [
      "Payload:\n",
      "Torgersen,39.1,18.7,181.0,3750.0,MALE\n",
      "Torgersen,39.5,17.4,186.0,3800.0,FEMALE\n",
      "Torgersen,40.3,18.0,195.0,3250.0,FEMALE\n",
      "\n",
      "Waiter EndpointInService failed: Waiter encountered a terminal failure state: Matched expected service error code: ValidationException\n"
     ]
    }
   ],
   "source": [
    "from sagemaker.serializers import CSVSerializer\n",
    "\n",
    "predictor = Predictor(\n",
    "    endpoint_name=ENDPOINT,\n",
    "    serializer=CSVSerializer(),\n",
    "    sagemaker_session=sagemaker_session,\n",
    ")\n",
    "\n",
    "data = pd.read_csv(DATA_FILEPATH)\n",
    "data = data.drop(\"species\", axis=1)\n",
    "\n",
    "payload = data.iloc[:3].to_csv(header=False, index=False)\n",
    "print(f\"Payload:\\n{payload}\")\n",
    "\n",
    "try:\n",
    "    wait_for_endpoint()\n",
    "\n",
    "    response = predictor.predict(payload, initial_args={\"ContentType\": \"text/csv\"})\n",
    "    response = json.loads(response.decode(\"utf-8\"))\n",
    "    print(json.dumps(response, indent=2))\n",
    "except Exception as e:\n",
    "    print(e)"
   ]
  },
  {
   "cell_type": "markdown",
   "id": "83fd85c2",
   "metadata": {},
   "source": [
    "We can also test the endpoint by sending a JSON payload. Notice how you can use a deserealizer to automatically decode the response from the model.\n"
   ]
  },
  {
   "cell_type": "code",
   "execution_count": 105,
   "id": "ce3d33f0",
   "metadata": {},
   "outputs": [
    {
     "name": "stdout",
     "output_type": "stream",
     "text": [
      "An error occurred (ValidationError) when calling the InvokeEndpoint operation: Endpoint penguins-endpoint of account 325223348818 not found.\n"
     ]
    }
   ],
   "source": [
    "from sagemaker.deserializers import JSONDeserializer\n",
    "from sagemaker.serializers import JSONSerializer\n",
    "\n",
    "sample = {\n",
    "    \"island\": \"Biscoe\",\n",
    "    \"culmen_length_mm\": 48.6,\n",
    "    \"culmen_depth_mm\": 16.0,\n",
    "    \"flipper_length_mm\": 230.0,\n",
    "    \"body_mass_g\": 5800.0,\n",
    "    \"sex\": \"MALE\",\n",
    "}\n",
    "\n",
    "predictor = Predictor(\n",
    "    endpoint_name=ENDPOINT,\n",
    "    serializer=JSONSerializer(),\n",
    "    deserializer=JSONDeserializer(),\n",
    "    sagemaker_session=sagemaker_session,\n",
    ")\n",
    "\n",
    "try:\n",
    "    response = predictor.predict(sample)\n",
    "    print(response)\n",
    "except Exception as e:\n",
    "    print(e)"
   ]
  },
  {
   "cell_type": "markdown",
   "id": "697dce40",
   "metadata": {},
   "source": [
    "And now let's send the same payload but return the prediction in CSV format:\n"
   ]
  },
  {
   "cell_type": "code",
   "execution_count": 106,
   "id": "240aaff2",
   "metadata": {},
   "outputs": [
    {
     "name": "stdout",
     "output_type": "stream",
     "text": [
      "An error occurred (ValidationError) when calling the InvokeEndpoint operation: Endpoint penguins-endpoint of account 325223348818 not found.\n"
     ]
    }
   ],
   "source": [
    "from sagemaker.deserializers import CSVDeserializer\n",
    "\n",
    "predictor = Predictor(\n",
    "    endpoint_name=ENDPOINT,\n",
    "    serializer=JSONSerializer(),\n",
    "    deserializer=CSVDeserializer(),\n",
    "    sagemaker_session=sagemaker_session,\n",
    ")\n",
    "\n",
    "try:\n",
    "    response = predictor.predict(sample, initial_args={\"Accept\": \"text/csv\"})\n",
    "    print(response)\n",
    "except Exception as e:\n",
    "    print(e)"
   ]
  },
  {
   "cell_type": "markdown",
   "id": "81a3b50c",
   "metadata": {},
   "source": [
    "## Session 15 - Custom Inference Script\n",
    "\n",
    "This session creates a custom inference script to control the inference process in the SageMaker endpoint. This is an alternative to creating an inference pipeline to preprocess and postprocess the data that comes in and out of the model.\n"
   ]
  },
  {
   "cell_type": "markdown",
   "id": "e527690f",
   "metadata": {},
   "source": [
    "### Step 1 - Creating the Inference Script\n",
    "\n",
    "Let's create a script where we'll manage the inference process in the endpoint.\n",
    "\n",
    "We'll' include this code as part of the model assets to control the inference process on the SageMaker endpoint. SageMaker will automatically call the `handler()` function for every request to the endpoint. Check [How to implement the pre- and/or post-processing handler(s)](https://sagemaker.readthedocs.io/en/stable/frameworks/tensorflow/deploying_tensorflow_serving.html#how-to-implement-the-pre-and-or-post-processing-handler-s) for more information.\n"
   ]
  },
  {
   "cell_type": "markdown",
   "id": "5a5b90af",
   "metadata": {},
   "source": [
    "We can now create the script inside the folder.\n"
   ]
  },
  {
   "cell_type": "code",
   "execution_count": 107,
   "id": "97b3cd80",
   "metadata": {
    "tags": [
     "hide-output"
    ]
   },
   "outputs": [
    {
     "name": "stdout",
     "output_type": "stream",
     "text": [
      "Writing code/pipeline/inference.py\n"
     ]
    }
   ],
   "source": [
    "%%writefile {CODE_FOLDER}/pipeline/inference.py\n",
    "#| filename: inference.py\n",
    "#| code-line-numbers: true\n",
    "\n",
    "import os\n",
    "import json\n",
    "import requests\n",
    "import joblib\n",
    "import numpy as np\n",
    "import pandas as pd\n",
    "from pathlib import Path\n",
    "\n",
    "\n",
    "def handler(data, context, directory=Path(\"/opt/ml/model\")):\n",
    "    \"\"\"\n",
    "    This is the entrypoint that will be called by SageMaker\n",
    "    when the endpoint receives a request.\n",
    "    \"\"\"\n",
    "    print(\"Handling endpoint request\")\n",
    "\n",
    "    processed_input = _process_input(data, context, directory)\n",
    "    output = _predict(processed_input, context, directory) if processed_input else None\n",
    "    return _process_output(output, context, directory)\n",
    "\n",
    "\n",
    "def _process_input(data, context, directory):\n",
    "    print(\"Processing input data...\")\n",
    "\n",
    "    if context is None:\n",
    "        # The context will be None when we are testing the code\n",
    "        # directly from a notebook. In that case, we can use the\n",
    "        # data directly.\n",
    "        endpoint_input = data\n",
    "    elif context.request_content_type in (\n",
    "        \"application/json\",\n",
    "        \"application/octet-stream\",\n",
    "    ):\n",
    "        # When the endpoint is running, we will receive a context\n",
    "        # object. We need to parse the input and turn it into\n",
    "        # JSON in that case.\n",
    "        endpoint_input = data.read().decode(\"utf-8\")\n",
    "    else:\n",
    "        raise ValueError(\n",
    "            f\"Unsupported content type: {context.request_content_type or 'unknown'}\"\n",
    "        )\n",
    "\n",
    "    # Let's now transform the input data using the features pipeline.\n",
    "    try:\n",
    "        endpoint_input = json.loads(endpoint_input)\n",
    "        df = pd.json_normalize(endpoint_input)\n",
    "        features_pipeline = joblib.load(directory / \"features.joblib\")\n",
    "        result = features_pipeline.transform(df)\n",
    "    except Exception as e:\n",
    "        print(f\"There was an error processing the input data. {e}\")\n",
    "        return None\n",
    "\n",
    "    return result[0].tolist()\n",
    "\n",
    "\n",
    "def _predict(instance, context, directory):\n",
    "    print(\"Sending input data to model to make a prediction...\")\n",
    "\n",
    "    if context is None:\n",
    "        # The context will be None when we are testing the code\n",
    "        # directly from a notebook. In that case, we want to load the\n",
    "        # model we trained and make a prediction using it.\n",
    "        import keras\n",
    "\n",
    "        model = keras.models.load_model(Path(directory) / \"001\")\n",
    "        predictions = model.predict(np.array([instance]))\n",
    "        result = {\"predictions\": predictions.tolist()}\n",
    "    else:\n",
    "        # When the endpoint is running, we will receive a context\n",
    "        # object. In that case we need to send the instance to the\n",
    "        # model to get a prediction back.\n",
    "        model_input = json.dumps({\"instances\": [instance]})\n",
    "        response = requests.post(context.rest_uri, data=model_input)\n",
    "\n",
    "        if response.status_code != 200:\n",
    "            raise ValueError(response.content.decode(\"utf-8\"))\n",
    "\n",
    "        result = json.loads(response.content)\n",
    "\n",
    "    print(f\"Response: {result}\")\n",
    "    return result\n",
    "\n",
    "\n",
    "def _process_output(output, context, directory):\n",
    "    print(\"Processing prediction received from the model...\")\n",
    "\n",
    "    if output:\n",
    "        prediction = np.argmax(output[\"predictions\"][0])\n",
    "        confidence = output[\"predictions\"][0][prediction]\n",
    "\n",
    "        target_pipeline = joblib.load(directory / \"target.joblib\")\n",
    "        classes = target_pipeline.named_transformers_[\"species\"].categories_[0]\n",
    "\n",
    "        result = {\n",
    "            \"prediction\": classes[prediction],\n",
    "            \"confidence\": confidence,\n",
    "        }\n",
    "    else:\n",
    "        result = {\"prediction\": None}\n",
    "\n",
    "    print(result)\n",
    "\n",
    "    response_content_type = (\n",
    "        \"application/json\" if context is None else context.accept_header\n",
    "    )\n",
    "    return json.dumps(result), response_content_type"
   ]
  },
  {
   "cell_type": "markdown",
   "id": "19fbf40d",
   "metadata": {},
   "source": [
    "Let's test the script to ensure everything is working as expected:\n"
   ]
  },
  {
   "cell_type": "code",
   "execution_count": 108,
   "id": "91786cc7",
   "metadata": {
    "tags": [
     "hide-output"
    ]
   },
   "outputs": [
    {
     "name": "stdout",
     "output_type": "stream",
     "text": [
      "Keras version: 2.14.0"
     ]
    },
    {
     "name": "stderr",
     "output_type": "stream",
     "text": [
      "WARNING:absl:At this time, the v2.11+ optimizer `tf.keras.optimizers.SGD` runs slowly on M1/M2 Macs, please use the legacy Keras optimizer instead, located at `tf.keras.optimizers.legacy.SGD`.\n"
     ]
    },
    {
     "name": "stdout",
     "output_type": "stream",
     "text": [
      "\n"
     ]
    },
    {
     "name": "stderr",
     "output_type": "stream",
     "text": [
      "WARNING:tensorflow:5 out of the last 9 calls to <function Model.make_test_function.<locals>.test_function at 0x37e4637f0> triggered tf.function retracing. Tracing is expensive and the excessive number of tracings could be due to (1) creating @tf.function repeatedly in a loop, (2) passing tensors with different shapes, (3) passing Python objects instead of tensors. For (1), please define your @tf.function outside of the loop. For (2), @tf.function has reduce_retracing=True option that can avoid unnecessary retracing. For (3), please refer to https://www.tensorflow.org/guide/function#controlling_retracing and https://www.tensorflow.org/api_docs/python/tf/function for  more details.\n"
     ]
    },
    {
     "name": "stdout",
     "output_type": "stream",
     "text": [
      "8/8 - 0s - loss: 1.1710 - accuracy: 0.5690 - val_loss: 1.0926 - val_accuracy: 0.5686 - 182ms/epoch - 23ms/step\n",
      "2/2 [==============================] - 0s 1ms/step\n"
     ]
    },
    {
     "name": "stderr",
     "output_type": "stream",
     "text": [
      "INFO:tensorflow:Assets written to: /var/folders/4c/v1q3hy1x4mb5w0wpc72zl3_w0000gp/T/tmp6wvjg7zi/model/001/assets\n"
     ]
    },
    {
     "name": "stdout",
     "output_type": "stream",
     "text": [
      "Validation accuracy: 0.5686274509803921\n",
      "Handling endpoint request\n",
      "Processing input data...\n",
      "Sending input data to model to make a prediction...\n"
     ]
    },
    {
     "name": "stderr",
     "output_type": "stream",
     "text": [
      "WARNING:absl:At this time, the v2.11+ optimizer `tf.keras.optimizers.RestoredOptimizer` runs slowly on M1/M2 Macs, please use the legacy Keras optimizer instead, located at `tf.keras.optimizers.legacy.RestoredOptimizer`.\n",
      "WARNING:absl:At this time, the v2.11+ optimizer `tf.keras.optimizers.SGD` runs slowly on M1/M2 Macs, please use the legacy Keras optimizer instead, located at `tf.keras.optimizers.legacy.SGD`.\n"
     ]
    },
    {
     "name": "stdout",
     "output_type": "stream",
     "text": [
      "1/1 [==============================] - 0s 19ms/step\n",
      "Response: {'predictions': [[0.2550545930862427, 0.310475617647171, 0.43446972966194153]]}\n",
      "Processing prediction received from the model...\n",
      "{'prediction': 'Gentoo', 'confidence': 0.43446972966194153}\n",
      "\u001b[32m.\u001b[0m"
     ]
    },
    {
     "name": "stderr",
     "output_type": "stream",
     "text": [
      "WARNING:absl:At this time, the v2.11+ optimizer `tf.keras.optimizers.SGD` runs slowly on M1/M2 Macs, please use the legacy Keras optimizer instead, located at `tf.keras.optimizers.legacy.SGD`.\n"
     ]
    },
    {
     "name": "stdout",
     "output_type": "stream",
     "text": [
      "Keras version: 2.14.0\n"
     ]
    },
    {
     "name": "stderr",
     "output_type": "stream",
     "text": [
      "WARNING:tensorflow:6 out of the last 11 calls to <function Model.make_test_function.<locals>.test_function at 0x380bb32e0> triggered tf.function retracing. Tracing is expensive and the excessive number of tracings could be due to (1) creating @tf.function repeatedly in a loop, (2) passing tensors with different shapes, (3) passing Python objects instead of tensors. For (1), please define your @tf.function outside of the loop. For (2), @tf.function has reduce_retracing=True option that can avoid unnecessary retracing. For (3), please refer to https://www.tensorflow.org/guide/function#controlling_retracing and https://www.tensorflow.org/api_docs/python/tf/function for  more details.\n"
     ]
    },
    {
     "name": "stdout",
     "output_type": "stream",
     "text": [
      "8/8 - 0s - loss: 1.0871 - accuracy: 0.4100 - val_loss: 1.0737 - val_accuracy: 0.3725 - 179ms/epoch - 22ms/step\n",
      "2/2 [==============================] - 0s 1ms/step\n"
     ]
    },
    {
     "name": "stderr",
     "output_type": "stream",
     "text": [
      "INFO:tensorflow:Assets written to: /var/folders/4c/v1q3hy1x4mb5w0wpc72zl3_w0000gp/T/tmp48cud_do/model/001/assets\n",
      "WARNING:absl:At this time, the v2.11+ optimizer `tf.keras.optimizers.RestoredOptimizer` runs slowly on M1/M2 Macs, please use the legacy Keras optimizer instead, located at `tf.keras.optimizers.legacy.RestoredOptimizer`.\n"
     ]
    },
    {
     "name": "stdout",
     "output_type": "stream",
     "text": [
      "Validation accuracy: 0.37254901960784315\n",
      "Handling endpoint request\n",
      "Processing input data...\n",
      "Sending input data to model to make a prediction...\n"
     ]
    },
    {
     "name": "stderr",
     "output_type": "stream",
     "text": [
      "WARNING:absl:At this time, the v2.11+ optimizer `tf.keras.optimizers.SGD` runs slowly on M1/M2 Macs, please use the legacy Keras optimizer instead, located at `tf.keras.optimizers.legacy.SGD`.\n"
     ]
    },
    {
     "name": "stdout",
     "output_type": "stream",
     "text": [
      "1/1 [==============================] - 0s 19ms/step\n",
      "Response: {'predictions': [[0.3279760181903839, 0.3261311650276184, 0.3458927571773529]]}\n",
      "Processing prediction received from the model...\n",
      "{'prediction': 'Gentoo', 'confidence': 0.3458927571773529}\n",
      "\u001b[32m.\u001b[0m"
     ]
    },
    {
     "name": "stderr",
     "output_type": "stream",
     "text": [
      "WARNING:absl:At this time, the v2.11+ optimizer `tf.keras.optimizers.SGD` runs slowly on M1/M2 Macs, please use the legacy Keras optimizer instead, located at `tf.keras.optimizers.legacy.SGD`.\n"
     ]
    },
    {
     "name": "stdout",
     "output_type": "stream",
     "text": [
      "Keras version: 2.14.0\n",
      "8/8 - 0s - loss: 1.1961 - accuracy: 0.1464 - val_loss: 1.2074 - val_accuracy: 0.1569 - 177ms/epoch - 22ms/step\n",
      "2/2 [==============================] - 0s 1ms/step\n"
     ]
    },
    {
     "name": "stderr",
     "output_type": "stream",
     "text": [
      "INFO:tensorflow:Assets written to: /var/folders/4c/v1q3hy1x4mb5w0wpc72zl3_w0000gp/T/tmpflb8od78/model/001/assets\n"
     ]
    },
    {
     "name": "stdout",
     "output_type": "stream",
     "text": [
      "Validation accuracy: 0.1568627450980392\n",
      "Handling endpoint request\n",
      "Processing input data...\n",
      "Sending input data to model to make a prediction...\n"
     ]
    },
    {
     "name": "stderr",
     "output_type": "stream",
     "text": [
      "WARNING:absl:At this time, the v2.11+ optimizer `tf.keras.optimizers.RestoredOptimizer` runs slowly on M1/M2 Macs, please use the legacy Keras optimizer instead, located at `tf.keras.optimizers.legacy.RestoredOptimizer`.\n",
      "WARNING:absl:At this time, the v2.11+ optimizer `tf.keras.optimizers.SGD` runs slowly on M1/M2 Macs, please use the legacy Keras optimizer instead, located at `tf.keras.optimizers.legacy.SGD`.\n"
     ]
    },
    {
     "name": "stdout",
     "output_type": "stream",
     "text": [
      "1/1 [==============================] - 0s 21ms/step\n",
      "Response: {'predictions': [[0.3537094295024872, 0.3050204813480377, 0.3412701487541199]]}\n",
      "Processing prediction received from the model...\n",
      "{'prediction': 'Adelie', 'confidence': 0.3537094295024872}\n",
      "\u001b[32m.\u001b[0m"
     ]
    },
    {
     "name": "stderr",
     "output_type": "stream",
     "text": [
      "WARNING:absl:At this time, the v2.11+ optimizer `tf.keras.optimizers.SGD` runs slowly on M1/M2 Macs, please use the legacy Keras optimizer instead, located at `tf.keras.optimizers.legacy.SGD`.\n"
     ]
    },
    {
     "name": "stdout",
     "output_type": "stream",
     "text": [
      "Keras version: 2.14.0\n",
      "8/8 - 0s - loss: 1.3418 - accuracy: 0.1130 - val_loss: 1.3069 - val_accuracy: 0.1569 - 162ms/epoch - 20ms/step\n",
      "2/2 [==============================] - 0s 1ms/step\n"
     ]
    },
    {
     "name": "stderr",
     "output_type": "stream",
     "text": [
      "INFO:tensorflow:Assets written to: /var/folders/4c/v1q3hy1x4mb5w0wpc72zl3_w0000gp/T/tmpwgsfuyg6/model/001/assets\n"
     ]
    },
    {
     "name": "stdout",
     "output_type": "stream",
     "text": [
      "Validation accuracy: 0.1568627450980392\n",
      "Handling endpoint request\n",
      "Processing input data...\n",
      "There was an error processing the input data. Expecting value: line 1 column 1 (char 0)\n",
      "Processing prediction received from the model...\n",
      "{'prediction': None}\n",
      "\u001b[32m.\u001b[0m\n",
      "\u001b[32m\u001b[32m\u001b[1m4 passed\u001b[0m\u001b[32m in 1.86s\u001b[0m\u001b[0m\n"
     ]
    }
   ],
   "source": [
    "%%ipytest -s\n",
    "#| code-fold: true\n",
    "\n",
    "import os\n",
    "import shutil\n",
    "import tarfile\n",
    "import pytest\n",
    "import tempfile\n",
    "\n",
    "from processing.script import preprocess\n",
    "from training.script import train\n",
    "from pipeline.inference import handler\n",
    "\n",
    "\n",
    "@pytest.fixture(scope=\"function\", autouse=False)\n",
    "def directory():\n",
    "    directory = tempfile.mkdtemp()\n",
    "    input_directory = Path(directory) / \"input\"\n",
    "    input_directory.mkdir(parents=True, exist_ok=True)\n",
    "    shutil.copy2(DATA_FILEPATH, input_directory / \"data.csv\")\n",
    "\n",
    "    directory = Path(directory)\n",
    "\n",
    "    preprocess(base_directory=directory)\n",
    "\n",
    "    train(\n",
    "        model_directory=directory / \"model\",\n",
    "        train_path=directory / \"train\",\n",
    "        validation_path=directory / \"validation\",\n",
    "        pipeline_path=directory / \"model\",\n",
    "        experiment=None,\n",
    "        epochs=1,\n",
    "    )\n",
    "\n",
    "    # After training a model, we need to prepare a package just like\n",
    "    # SageMaker would. This package is what the evaluation script is\n",
    "    # expecting as an input.\n",
    "    with tarfile.open(directory / \"model.tar.gz\", \"w:gz\") as tar:\n",
    "        tar.add(directory / \"model\" / \"001\", arcname=\"001\")\n",
    "\n",
    "    yield directory\n",
    "\n",
    "    shutil.rmtree(directory)\n",
    "\n",
    "\n",
    "@pytest.fixture(scope=\"function\", autouse=False)\n",
    "def payload():\n",
    "    return json.dumps({\n",
    "        \"island\": \"Biscoe\",\n",
    "        \"culmen_length_mm\": 48.6,\n",
    "        \"culmen_depth_mm\": 16.0,\n",
    "        \"flipper_length_mm\": 230.0,\n",
    "        \"body_mass_g\": 5800,\n",
    "    }).encode(\"utf-8\")\n",
    "\n",
    "\n",
    "def test_handler_response_contains_prediction_and_confidence(directory, payload):\n",
    "    response = handler(\n",
    "        data=payload,\n",
    "        context=None,\n",
    "        directory=directory / \"model\",\n",
    "    )\n",
    "\n",
    "    response = json.loads(response[0])\n",
    "    assert \"prediction\" in response\n",
    "    assert \"confidence\" in response\n",
    "\n",
    "\n",
    "def test_handler_response_includes_content_type(directory, payload):\n",
    "    response = handler(\n",
    "        data=payload,\n",
    "        context=None,\n",
    "        directory=directory / \"model\",\n",
    "    )\n",
    "\n",
    "    assert response[1] == \"application/json\"\n",
    "\n",
    "\n",
    "def test_handler_response_prediction_is_categorical(directory, payload):\n",
    "    response = handler(\n",
    "        data=payload,\n",
    "        context=None,\n",
    "        directory=directory / \"model\",\n",
    "    )\n",
    "\n",
    "    response = json.loads(response[0])\n",
    "    assert response[\"prediction\"] in [\"Adelie\", \"Gentoo\", \"Chinstrap\"]\n",
    "\n",
    "\n",
    "def test_handler_deals_with_an_invalid_payload(directory):\n",
    "    response = handler(\n",
    "        data=\"invalid payload\",\n",
    "        context=None,\n",
    "        directory=directory / \"model\",\n",
    "    )\n",
    "\n",
    "    response = json.loads(response[0])\n",
    "    assert response[\"prediction\"] is None"
   ]
  },
  {
   "cell_type": "markdown",
   "id": "57430168",
   "metadata": {},
   "source": [
    "### Step 2 - Creating the Model\n",
    "\n",
    "We can now create a new [TensorFlowModel](https://sagemaker.readthedocs.io/en/stable/frameworks/tensorflow/sagemaker.tensorflow.html#tensorflow-serving-model) including the `inference.py` file.\n",
    "\n",
    "SageMaker triggers a repack operation whenever we specify the `source_dir` attribute in a model. We want that attribute to point to the local folder containing the `inference.py` file. SageMaker will automatically modify the original `model.tar.gz` package to include a `/code` folder containing the file.\n",
    "\n",
    "Since we need access to Scikit-Learn in our script, we can include a `requirements.txt` file in the same location where the `inference.py` script is, and SageMaker will install everything in it.\n",
    "\n",
    "To repack the model assets, SageMaker will automatically include a new step in the pipeline right before registering the model.\n",
    "\n",
    "Here is what the new `model.tar.gz` package will look like:\n",
    "\n",
    "```\n",
    "model/\n",
    "    |--[model_version_number]\n",
    "        |--assets/\n",
    "        |--variables/\n",
    "        |--saved_model.pb\n",
    "    |--features.joblib\n",
    "    |--target.joblib\n",
    "code/\n",
    "    |--inference.py\n",
    "    |--requirements.txt\n",
    "```\n"
   ]
  },
  {
   "cell_type": "markdown",
   "id": "7d3cfdd3",
   "metadata": {},
   "source": [
    "Let's create a `requirements.txt` file with all the libraries we want SageMaker to install in the inference container.\n"
   ]
  },
  {
   "cell_type": "code",
   "execution_count": 109,
   "id": "603cb8f5",
   "metadata": {
    "tags": [
     "hide-output"
    ]
   },
   "outputs": [
    {
     "name": "stdout",
     "output_type": "stream",
     "text": [
      "Writing code/pipeline/requirements.txt\n"
     ]
    }
   ],
   "source": [
    "%%writefile {CODE_FOLDER}/pipeline/requirements.txt\n",
    "#| filename: requirements.txt\n",
    "#| code-line-numbers: true\n",
    "\n",
    "numpy\n",
    "pandas\n",
    "scikit-learn==1.2.1"
   ]
  },
  {
   "cell_type": "markdown",
   "id": "8f9c7a0d",
   "metadata": {},
   "source": [
    "We can now create the model using the `inference.py` script.\n"
   ]
  },
  {
   "cell_type": "code",
   "execution_count": 110,
   "id": "b5015c75",
   "metadata": {},
   "outputs": [],
   "source": [
    "custom_tensorflow_model = TensorFlowModel(\n",
    "    name=\"penguins\",\n",
    "    model_data=train_model_step.properties.ModelArtifacts.S3ModelArtifacts,\n",
    "    entry_point=\"inference.py\",\n",
    "    source_dir=(CODE_FOLDER / \"pipeline\").as_posix(),\n",
    "    framework_version=config[\"framework_version\"],\n",
    "    sagemaker_session=config[\"session\"],\n",
    "    role=role,\n",
    ")"
   ]
  },
  {
   "cell_type": "markdown",
   "id": "74ce15c7",
   "metadata": {},
   "source": [
    "### Step 3 - Configuring the Model Package Group\n",
    "\n",
    "Let's define a new group where we'll register the model using the custom `inference.py` script.\n"
   ]
  },
  {
   "cell_type": "code",
   "execution_count": 111,
   "id": "7ee3cdb6",
   "metadata": {},
   "outputs": [],
   "source": [
    "CUSTOM_MODEL_PACKAGE_GROUP = \"custom-penguins\""
   ]
  },
  {
   "cell_type": "markdown",
   "id": "a98b5c0a",
   "metadata": {},
   "source": [
    "### Step 4 - Registering the Model\n",
    "\n",
    "We can now modify the registration step to register the custom model in the Model Registry.\n"
   ]
  },
  {
   "cell_type": "code",
   "execution_count": 112,
   "id": "21fb3e2c",
   "metadata": {
    "tags": [
     "hide-output"
    ]
   },
   "outputs": [
    {
     "name": "stderr",
     "output_type": "stream",
     "text": [
      "INFO:sagemaker.tensorflow.model:image_uri is not presented, retrieving image_uri based on instance_type, framework etc.\n",
      "/Users/svpino/dev/ml.school/.venv/lib/python3.10/site-packages/sagemaker/workflow/pipeline_context.py:332: UserWarning: Running within a PipelineSession, there will be No Wait, No Logs, and No Job being started.\n",
      "  warnings.warn(\n"
     ]
    }
   ],
   "source": [
    "register_model_step = create_registration_step(\n",
    "    custom_tensorflow_model,\n",
    "    model_package_group_name=CUSTOM_MODEL_PACKAGE_GROUP,\n",
    "    content_types=[\"application/json\"],\n",
    "    response_types=[\"application/json\"],\n",
    "    model_metrics=model_metrics,\n",
    ")"
   ]
  },
  {
   "cell_type": "markdown",
   "id": "6b9293b0",
   "metadata": {},
   "source": [
    "### Step 5 - Modifying the Deploy Step\n",
    "\n",
    "Let's now modify the [LambdaStep](https://sagemaker.readthedocs.io/en/stable/workflows/pipelines/sagemaker.workflow.pipelines.html#sagemaker.workflow.lambda_step.LambdaStep) to use the updated Registration Step.\n"
   ]
  },
  {
   "cell_type": "code",
   "execution_count": 113,
   "id": "9e8162b7",
   "metadata": {},
   "outputs": [],
   "source": [
    "deploy_step = create_deployment_step(register_model_step)"
   ]
  },
  {
   "cell_type": "markdown",
   "id": "cd1812e7",
   "metadata": {},
   "source": [
    "### Step 6 - Modifying the Condition Step\n",
    "\n",
    "Since we modified the Registration Step, we also need to modify the Condition Step to use the new registration:\n"
   ]
  },
  {
   "cell_type": "code",
   "execution_count": 114,
   "id": "849b379f",
   "metadata": {},
   "outputs": [],
   "source": [
    "condition_step = ConditionStep(\n",
    "    name=\"check-model-accuracy\",\n",
    "    conditions=[condition],\n",
    "    if_steps=[register_model_step, deploy_step],\n",
    "    else_steps=[fail_step],\n",
    ")"
   ]
  },
  {
   "cell_type": "markdown",
   "id": "671a5efb",
   "metadata": {},
   "source": [
    "### Step 7 - Creating the Pipeline\n",
    "\n",
    "We can now define the SageMaker Pipeline and submit its definition to the SageMaker Pipelines service to create the pipeline if it doesn't exist or update it if it does.\n"
   ]
  },
  {
   "cell_type": "code",
   "execution_count": 115,
   "id": "f64921ee",
   "metadata": {
    "tags": [
     "hide-output"
    ]
   },
   "outputs": [
    {
     "data": {
      "text/plain": [
       "{'PipelineArn': 'session15-pipeline'}"
      ]
     },
     "execution_count": 115,
     "metadata": {},
     "output_type": "execute_result"
    }
   ],
   "source": [
    "session15_pipeline = Pipeline(\n",
    "    name=\"session15-pipeline\",\n",
    "    parameters=[dataset_location, accuracy_threshold],\n",
    "    steps=[\n",
    "        preprocessing_step,\n",
    "        train_model_step,\n",
    "        evaluate_model_step,\n",
    "        condition_step,\n",
    "    ],\n",
    "    pipeline_definition_config=pipeline_definition_config,\n",
    "    sagemaker_session=config[\"session\"],\n",
    ")\n",
    "\n",
    "session15_pipeline.upsert(role_arn=role)"
   ]
  },
  {
   "cell_type": "markdown",
   "id": "0a6f02a4",
   "metadata": {},
   "source": [
    "### Step 8 - Testing the Endpoint\n",
    "\n",
    "Let's test the endpoint to make sure it works.\n"
   ]
  },
  {
   "cell_type": "code",
   "execution_count": 116,
   "id": "1d63ce59",
   "metadata": {},
   "outputs": [
    {
     "name": "stdout",
     "output_type": "stream",
     "text": [
      "Waiter EndpointInService failed: Waiter encountered a terminal failure state: Matched expected service error code: ValidationException\n"
     ]
    }
   ],
   "source": [
    "from sagemaker.deserializers import JSONDeserializer\n",
    "\n",
    "try:\n",
    "    wait_for_endpoint()\n",
    "\n",
    "    predictor = Predictor(\n",
    "        endpoint_name=ENDPOINT,\n",
    "        serializer=JSONSerializer(),\n",
    "        deserializer=JSONDeserializer(),\n",
    "    )\n",
    "\n",
    "    response = predictor.predict(\n",
    "        {\n",
    "            \"island\": \"Dream\",\n",
    "            \"culmen_length_mm\": 46.4,\n",
    "            \"culmen_depth_mm\": 18.6,\n",
    "            \"flipper_length_mm\": 190.0,\n",
    "            \"body_mass_g\": 3450.0,\n",
    "        },\n",
    "    )\n",
    "\n",
    "    print(response)\n",
    "\n",
    "except Exception as e:\n",
    "    print(e)"
   ]
  },
  {
   "cell_type": "markdown",
   "id": "a1c7a3a1",
   "metadata": {},
   "source": [
    "## Session 16 - Data Quality Baseline\n",
    "\n",
    "This session extends the [SageMaker Pipeline](https://docs.aws.amazon.com/sagemaker/latest/dg/pipelines-sdk.html) with a [Quality Check Step](https://docs.aws.amazon.com/sagemaker/latest/dg/build-and-manage-steps.html#step-type-quality-check) to compute a baseline for the data the endpoint expects.\n",
    "\n",
    "This step will compute statistics and constraints from the data. We'll' later use this information as the baseline to detect data drift and other data quality issues.\n",
    "\n",
    "<a href=\"images/data-quality-baseline.png\" target=\"_blank\"> <img src=\"images/data-quality-baseline.png\" alt=\"Data Quality Baseline\" style=\"max-width: 740px;\" /></a>\n",
    "\n",
    "Check [Monitor data quality](https://docs.aws.amazon.com/sagemaker/latest/dg/model-monitor-data-quality.html) for more information about monitoring data quality in SageMaker.\n"
   ]
  },
  {
   "cell_type": "markdown",
   "id": "2dcb16c8",
   "metadata": {},
   "source": [
    "### Step 1 - Configuring Baseline Location\n",
    "\n",
    "Let's start by defining the location where SageMaker will store the baseline data:\n"
   ]
  },
  {
   "cell_type": "code",
   "execution_count": 117,
   "id": "f4747fc7",
   "metadata": {},
   "outputs": [],
   "source": [
    "DATA_QUALITY_LOCATION = f\"{S3_LOCATION}/monitoring/data-quality\""
   ]
  },
  {
   "cell_type": "markdown",
   "id": "aaae1030",
   "metadata": {},
   "source": [
    "### Step 2 - Generating Data Quality Baseline\n",
    "\n",
    "Let's configure a [QualityCheck Step](https://docs.aws.amazon.com/sagemaker/latest/dg/build-and-manage-steps.html#step-type-quality-check) to compute the general statistics of the data we used to build our model.\n",
    "\n",
    "We can configure the instance that will run the quality check using the [CheckJobConfig](https://sagemaker.readthedocs.io/en/v2.73.0/workflows/pipelines/sagemaker.workflow.pipelines.html#sagemaker.workflow.check_job_config.CheckJobConfig) class, and we can use the `DataQualityCheckConfig` class to configure the job.\n",
    "\n",
    "We are running this step with the following configuration:\n",
    "\n",
    "-   `skip_check = True`: This parameter controls whether the step should skip checking the data against a previous baseline. Since we want to generate the baseline for the first time, we set it to `True`. After running the pipeline once to generate the baseline, we can set this parameter to `False` to ensure any new data follows the same distribution as the baseline.\n",
    "\n",
    "-   `register_new_baseline = True`: This parameter controls whether the new calculated baseline will be registered in the Model Registry.\n",
    "\n",
    "For more information about these configuration parameters, check [Baseline calculation and registration](https://docs.aws.amazon.com/sagemaker/latest/dg/pipelines-quality-clarify-baseline-lifecycle.html).\n"
   ]
  },
  {
   "cell_type": "code",
   "execution_count": 118,
   "id": "3fc728fa",
   "metadata": {
    "tags": [
     "hide-output"
    ]
   },
   "outputs": [
    {
     "name": "stderr",
     "output_type": "stream",
     "text": [
      "INFO:sagemaker.image_uris:Defaulting to the only supported framework/algorithm version: .\n",
      "INFO:sagemaker.image_uris:Ignoring unnecessary instance type: None.\n"
     ]
    }
   ],
   "source": [
    "from sagemaker.model_monitor.dataset_format import DatasetFormat\n",
    "from sagemaker.workflow.check_job_config import CheckJobConfig\n",
    "from sagemaker.workflow.quality_check_step import (\n",
    "    DataQualityCheckConfig,\n",
    "    QualityCheckStep,\n",
    ")\n",
    "\n",
    "data_quality_baseline_step = QualityCheckStep(\n",
    "    name=\"generate-data-quality-baseline\",\n",
    "    check_job_config=CheckJobConfig(\n",
    "        instance_type=\"ml.c5.xlarge\",\n",
    "        instance_count=1,\n",
    "        volume_size_in_gb=20,\n",
    "        sagemaker_session=config[\"session\"],\n",
    "        role=role,\n",
    "    ),\n",
    "    quality_check_config=DataQualityCheckConfig(\n",
    "        baseline_dataset=preprocessing_step.properties.ProcessingOutputConfig.Outputs[\n",
    "            \"train-baseline\"\n",
    "        ].S3Output.S3Uri,\n",
    "        dataset_format=DatasetFormat.csv(header=True),\n",
    "        output_s3_uri=DATA_QUALITY_LOCATION,\n",
    "    ),\n",
    "    model_package_group_name=PIPELINE_MODEL_PACKAGE_GROUP,\n",
    "    skip_check=True,\n",
    "    register_new_baseline=True,\n",
    "    cache_config=cache_config,\n",
    ")"
   ]
  },
  {
   "cell_type": "markdown",
   "id": "ebac2646",
   "metadata": {},
   "source": [
    "### Step 3 - Setting up Model Metrics\n",
    "\n",
    "We can configure a new set of [ModelMetrics](https://sagemaker.readthedocs.io/en/stable/api/inference/model_monitor.html#sagemaker.model_metrics.ModelMetrics) using the results of the Quality Step. Check [Baseline and model version lifecycle and evolution with SageMaker Pipelines](https://docs.aws.amazon.com/sagemaker/latest/dg/pipelines-quality-clarify-baseline-lifecycle.html#pipelines-quality-clarify-baseline-evolution) for an explanation of how SageMaker uses the `DriftCheckBaselines`.\n"
   ]
  },
  {
   "cell_type": "code",
   "execution_count": 119,
   "id": "2d5d8133",
   "metadata": {},
   "outputs": [],
   "source": [
    "from sagemaker.drift_check_baselines import DriftCheckBaselines\n",
    "\n",
    "data_quality_model_metrics = ModelMetrics(\n",
    "    model_data_statistics=MetricsSource(\n",
    "        s3_uri=data_quality_baseline_step.properties.CalculatedBaselineStatistics,\n",
    "        content_type=\"application/json\",\n",
    "    ),\n",
    "    model_data_constraints=MetricsSource(\n",
    "        s3_uri=data_quality_baseline_step.properties.CalculatedBaselineConstraints,\n",
    "        content_type=\"application/json\",\n",
    "    ),\n",
    ")\n",
    "\n",
    "data_quality_drift_check_baselines = DriftCheckBaselines(\n",
    "    model_data_statistics=MetricsSource(\n",
    "        s3_uri=data_quality_baseline_step.properties.BaselineUsedForDriftCheckStatistics,\n",
    "        content_type=\"application/json\",\n",
    "    ),\n",
    "    model_data_constraints=MetricsSource(\n",
    "        s3_uri=data_quality_baseline_step.properties.BaselineUsedForDriftCheckConstraints,\n",
    "        content_type=\"application/json\",\n",
    "    ),\n",
    ")"
   ]
  },
  {
   "cell_type": "markdown",
   "id": "79ce8965",
   "metadata": {},
   "source": [
    "### Step 4 - Registering the Model\n",
    "\n",
    "Let's modify the registration step to use the new metrics and the drift baseline:\n"
   ]
  },
  {
   "cell_type": "code",
   "execution_count": 120,
   "id": "fc5c4325",
   "metadata": {
    "tags": [
     "hide-output"
    ]
   },
   "outputs": [],
   "source": [
    "register_model_step = create_registration_step(\n",
    "    pipeline_model,\n",
    "    PIPELINE_MODEL_PACKAGE_GROUP,\n",
    "    content_types=[\"text/csv\", \"application/json\"],\n",
    "    response_types=[\"text/csv\", \"application/json\"],\n",
    "    model_metrics=data_quality_model_metrics,\n",
    "    drift_check_baselines=data_quality_drift_check_baselines,\n",
    ")"
   ]
  },
  {
   "cell_type": "markdown",
   "id": "a81802ef",
   "metadata": {},
   "source": [
    "### Step 5 - Modifying the Condition Step\n",
    "\n",
    "Since we modified the Registration Step, we also need to modify the Condition Step to use the new registration:\n"
   ]
  },
  {
   "cell_type": "code",
   "execution_count": 121,
   "id": "be9d6de7",
   "metadata": {},
   "outputs": [],
   "source": [
    "condition_step = ConditionStep(\n",
    "    name=\"check-model-accuracy\",\n",
    "    conditions=[condition],\n",
    "    if_steps=[register_model_step],\n",
    "    else_steps=[fail_step],\n",
    ")"
   ]
  },
  {
   "cell_type": "markdown",
   "id": "eea28519",
   "metadata": {},
   "source": [
    "### Step 6 - Creating the Pipeline\n",
    "\n",
    "We can now define the SageMaker Pipeline and submit its definition to the SageMaker Pipelines service to create the pipeline if it doesn't exist or update it if it does.\n"
   ]
  },
  {
   "cell_type": "code",
   "execution_count": 122,
   "id": "fb9b8d1e",
   "metadata": {
    "tags": [
     "hide-output"
    ]
   },
   "outputs": [
    {
     "data": {
      "text/plain": [
       "{'PipelineArn': 'session16-pipeline'}"
      ]
     },
     "execution_count": 122,
     "metadata": {},
     "output_type": "execute_result"
    }
   ],
   "source": [
    "session16_pipeline = Pipeline(\n",
    "    name=\"session16-pipeline\",\n",
    "    parameters=[dataset_location, accuracy_threshold],\n",
    "    steps=[\n",
    "        preprocessing_step,\n",
    "        train_model_step,\n",
    "        evaluate_model_step,\n",
    "        data_quality_baseline_step,\n",
    "        condition_step,\n",
    "    ],\n",
    "    pipeline_definition_config=pipeline_definition_config,\n",
    "    sagemaker_session=config[\"session\"],\n",
    ")\n",
    "\n",
    "session16_pipeline.upsert(role_arn=role)"
   ]
  },
  {
   "cell_type": "markdown",
   "id": "88501998",
   "metadata": {},
   "source": [
    "### Step 7 - Checking Constraints and Statistics\n",
    "\n",
    "Our pipeline generated data baseline statistics and constraints. We can take a look at what these values look like by downloading them from S3. You need to wait for the pipeline to finish running before these files are available.\n"
   ]
  },
  {
   "cell_type": "markdown",
   "id": "10a4a917",
   "metadata": {},
   "source": [
    "Here are the data quality statistics:\n"
   ]
  },
  {
   "cell_type": "code",
   "execution_count": 123,
   "id": "c2b95d03",
   "metadata": {},
   "outputs": [
    {
     "name": "stdout",
     "output_type": "stream",
     "text": [
      "{\n",
      "  \"name\": \"island\",\n",
      "  \"inferred_type\": \"String\",\n",
      "  \"string_statistics\": {\n",
      "    \"common\": {\n",
      "      \"num_present\": 236,\n",
      "      \"num_missing\": 0\n",
      "    },\n",
      "    \"distinct_count\": 3.0,\n",
      "    \"distribution\": {\n",
      "      \"categorical\": {\n",
      "        \"buckets\": [\n",
      "          {\n",
      "            \"value\": \"Dream\",\n",
      "            \"count\": 84\n",
      "          },\n",
      "          {\n",
      "            \"value\": \"Torgersen\",\n",
      "            \"count\": 32\n",
      "          },\n",
      "          {\n",
      "            \"value\": \"Biscoe\",\n",
      "            \"count\": 120\n",
      "          }\n",
      "        ]\n",
      "      }\n",
      "    }\n",
      "  }\n",
      "}\n"
     ]
    }
   ],
   "source": [
    "try:\n",
    "    response = json.loads(\n",
    "        S3Downloader.read_file(f\"{DATA_QUALITY_LOCATION}/statistics.json\"),\n",
    "    )\n",
    "    print(json.dumps(response[\"features\"][0], indent=2))\n",
    "except Exception:  # noqa: S110\n",
    "    pass"
   ]
  },
  {
   "cell_type": "markdown",
   "id": "8436b273",
   "metadata": {},
   "source": [
    "Here are the data quality constraints:\n"
   ]
  },
  {
   "cell_type": "code",
   "execution_count": 124,
   "id": "63908598",
   "metadata": {},
   "outputs": [
    {
     "name": "stdout",
     "output_type": "stream",
     "text": [
      "{\n",
      "  \"version\": 0.0,\n",
      "  \"features\": [\n",
      "    {\n",
      "      \"name\": \"island\",\n",
      "      \"inferred_type\": \"String\",\n",
      "      \"completeness\": 1.0,\n",
      "      \"string_constraints\": {\n",
      "        \"domains\": [\n",
      "          \"Dream\",\n",
      "          \"Torgersen\",\n",
      "          \"Biscoe\"\n",
      "        ]\n",
      "      }\n",
      "    },\n",
      "    {\n",
      "      \"name\": \"culmen_length_mm\",\n",
      "      \"inferred_type\": \"Fractional\",\n",
      "      \"completeness\": 1.0,\n",
      "      \"num_constraints\": {\n",
      "        \"is_non_negative\": true\n",
      "      }\n",
      "    },\n",
      "    {\n",
      "      \"name\": \"culmen_depth_mm\",\n",
      "      \"inferred_type\": \"Fractional\",\n",
      "      \"completeness\": 1.0,\n",
      "      \"num_constraints\": {\n",
      "        \"is_non_negative\": true\n",
      "      }\n",
      "    },\n",
      "    {\n",
      "      \"name\": \"flipper_length_mm\",\n",
      "      \"inferred_type\": \"Fractional\",\n",
      "      \"completeness\": 1.0,\n",
      "      \"num_constraints\": {\n",
      "        \"is_non_negative\": true\n",
      "      }\n",
      "    },\n",
      "    {\n",
      "      \"name\": \"body_mass_g\",\n",
      "      \"inferred_type\": \"Fractional\",\n",
      "      \"completeness\": 1.0,\n",
      "      \"num_constraints\": {\n",
      "        \"is_non_negative\": true\n",
      "      }\n",
      "    },\n",
      "    {\n",
      "      \"name\": \"sex\",\n",
      "      \"inferred_type\": \"String\",\n",
      "      \"completeness\": 1.0,\n",
      "      \"string_constraints\": {\n",
      "        \"domains\": [\n",
      "          \"FEMALE\",\n",
      "          \".\",\n",
      "          \"MALE\"\n",
      "        ]\n",
      "      }\n",
      "    }\n",
      "  ],\n",
      "  \"monitoring_config\": {\n",
      "    \"evaluate_constraints\": \"Enabled\",\n",
      "    \"emit_metrics\": \"Enabled\",\n",
      "    \"datatype_check_threshold\": 1.0,\n",
      "    \"domain_content_threshold\": 1.0,\n",
      "    \"distribution_constraints\": {\n",
      "      \"perform_comparison\": \"Enabled\",\n",
      "      \"comparison_threshold\": 0.1,\n",
      "      \"comparison_method\": \"Robust\",\n",
      "      \"categorical_comparison_threshold\": 0.1,\n",
      "      \"categorical_drift_method\": \"LInfinity\"\n",
      "    }\n",
      "  }\n",
      "}\n"
     ]
    }
   ],
   "source": [
    "try:\n",
    "    response = json.loads(\n",
    "        S3Downloader.read_file(f\"{DATA_QUALITY_LOCATION}/constraints.json\"),\n",
    "    )\n",
    "    print(json.dumps(response, indent=2))\n",
    "except Exception:  # noqa: S110\n",
    "    pass"
   ]
  },
  {
   "cell_type": "markdown",
   "id": "9631cf7b",
   "metadata": {},
   "source": [
    "## Session 17 - Model Quality Baseline\n",
    "\n",
    "This session extends the [SageMaker Pipeline](https://docs.aws.amazon.com/sagemaker/latest/dg/pipelines-sdk.html) with a [QualityCheck Step](https://docs.aws.amazon.com/sagemaker/latest/dg/build-and-manage-steps.html#step-type-quality-check) to compute a baseline for the model performance.\n",
    "\n",
    "This step will compute the baseline metrics we will later use as the baseline to detect model drift.\n",
    "\n",
    "To create a baseline to compare the model performance, we must create predictions for the test set and compare the model's metrics with the model performance on production data. We can do this by running a [Batch Transform Job](https://docs.aws.amazon.com/sagemaker/latest/dg/batch-transform.html) to predict every sample from the test set. We can use a [Transform Step](https://docs.aws.amazon.com/sagemaker/latest/dg/build-and-manage-steps.html#step-type-transform) as part of the pipeline to run this job.\n",
    "\n",
    "<a href=\"images/model-quality-baseline.png\" target=\"_blank\"> <img src=\"images/model-quality-baseline.png\" alt=\"Model Quality Baseline\" style=\"max-width: 740px;\" /></a>\n",
    "\n",
    "Check [Monitor model quality](https://docs.aws.amazon.com/sagemaker/latest/dg/model-monitor-model-quality.html) for more information about monitoring model quality in SageMaker.\n"
   ]
  },
  {
   "cell_type": "markdown",
   "id": "42df4f23",
   "metadata": {},
   "source": [
    "### Step 1 - Configuring Baseline Location\n",
    "\n",
    "Let's start by defining the location where SageMaker will store the baseline data:\n"
   ]
  },
  {
   "cell_type": "code",
   "execution_count": 125,
   "id": "69e115c3",
   "metadata": {},
   "outputs": [],
   "source": [
    "MODEL_QUALITY_LOCATION = f\"{S3_LOCATION}/monitoring/model-quality\""
   ]
  },
  {
   "cell_type": "markdown",
   "id": "6e0a633b",
   "metadata": {},
   "source": [
    "### Step 2 - Creating the Model\n",
    "\n",
    "The [Transform Step](https://docs.aws.amazon.com/sagemaker/latest/dg/build-and-manage-steps.html#step-type-transform) requires a model to generate predictions, so we need a [Model Step](https://docs.aws.amazon.com/sagemaker/latest/dg/build-and-manage-steps.html#step-type-model) that creates a model:\n"
   ]
  },
  {
   "cell_type": "code",
   "execution_count": 126,
   "id": "f93f2751",
   "metadata": {
    "tags": [
     "hide-output"
    ]
   },
   "outputs": [],
   "source": [
    "create_model_step = ModelStep(\n",
    "    name=\"create-model\",\n",
    "    step_args=pipeline_model.create(instance_type=config[\"instance_type\"]),\n",
    ")"
   ]
  },
  {
   "cell_type": "markdown",
   "id": "ac142cc0",
   "metadata": {},
   "source": [
    "### Step 3 - Setting up the Transform Step\n",
    "\n",
    "We are going to use a [Batch Transform Job](https://docs.aws.amazon.com/sagemaker/latest/dg/batch-transform.html) to generate predictions for every sample from the test set.\n",
    "\n",
    "This Batch Transform Job will run every sample from the training dataset through the model so we can compute the baseline metrics. Check [Run a Batch Transform Job](https://sagemaker.readthedocs.io/en/stable/frameworks/tensorflow/using_tf.html#run-a-batch-transform-job) for more information about running a Batch Transform Job.\n"
   ]
  },
  {
   "cell_type": "markdown",
   "id": "4227e304",
   "metadata": {},
   "source": [
    "Let's start by configuring a [Transformer](https://sagemaker.readthedocs.io/en/stable/api/inference/transformer.html) instance:\n"
   ]
  },
  {
   "cell_type": "code",
   "execution_count": 127,
   "id": "2a530d12",
   "metadata": {},
   "outputs": [],
   "source": [
    "from sagemaker.transformer import Transformer\n",
    "\n",
    "transformer = Transformer(\n",
    "    model_name=create_model_step.properties.ModelName,\n",
    "    instance_type=config[\"instance_type\"],\n",
    "    instance_count=1,\n",
    "    strategy=\"MultiRecord\",\n",
    "    accept=\"text/csv\",\n",
    "    assemble_with=\"Line\",\n",
    "    output_path=f\"{S3_LOCATION}/transform\",\n",
    "    sagemaker_session=config[\"session\"],\n",
    ")"
   ]
  },
  {
   "cell_type": "markdown",
   "id": "63bfde28",
   "metadata": {},
   "source": [
    "We can now set up the [Transform Step](https://docs.aws.amazon.com/sagemaker/latest/dg/build-and-manage-steps.html#step-type-transform) using the [Transformer](https://sagemaker.readthedocs.io/en/stable/api/inference/transformer.html) we configured before.\n",
    "\n",
    "Notice the following:\n",
    "\n",
    "-   We'll generate predictions for the baseline test data that we generated when we split and transformed the data. This baseline is the same data we used to test the model, but it's in raw format.\n",
    "-   The output of this Batch Transform Job will have two fields. The first one will be the ground truth label, and the second one will be the prediction of the model.\n"
   ]
  },
  {
   "cell_type": "code",
   "execution_count": 128,
   "id": "653c6ec8",
   "metadata": {
    "tags": [
     "hide-output"
    ]
   },
   "outputs": [],
   "source": [
    "from sagemaker.workflow.steps import TransformStep\n",
    "\n",
    "generate_test_predictions_step = TransformStep(\n",
    "    name=\"generate-test-predictions\",\n",
    "    step_args=transformer.transform(\n",
    "        # We will use the baseline set we generated when we split the data.\n",
    "        # This set corresponds to the test split before the transformation step.\n",
    "        data=preprocessing_step.properties.ProcessingOutputConfig.Outputs[\n",
    "            \"test-baseline\"\n",
    "        ].S3Output.S3Uri,\n",
    "        join_source=\"Input\",\n",
    "        split_type=\"Line\",\n",
    "        content_type=\"text/csv\",\n",
    "        # We want to output the first and the second to last field from\n",
    "        # the joint set. The first field corresponds to the groundtruth,\n",
    "        # and the second to last field corresponds to the prediction.\n",
    "        #\n",
    "        # Here is an example of the data the Transform Job will generate\n",
    "        # after joining the input with the output from the model:\n",
    "        #\n",
    "        # Gentoo,39.1,18.7,181.0,3750.0,MALE,Gentoo,0.52\n",
    "        #\n",
    "        # Notice how the first field is the groundtruth coming from the\n",
    "        # test set. The second to last field is the prediction coming the\n",
    "        # model.\n",
    "        output_filter=\"$[0,-2]\",\n",
    "    ),\n",
    "    cache_config=cache_config,\n",
    ")"
   ]
  },
  {
   "cell_type": "markdown",
   "id": "8956e12b",
   "metadata": {},
   "source": [
    "### Step 4 - Generating Model Quality Baseline\n",
    "\n",
    "Let's now configure the [Quality Check Step](https://docs.aws.amazon.com/sagemaker/latest/dg/build-and-manage-steps.html#step-type-quality-check) and feed it the data we generated in the Transform Step. This step will automatically compute the performance metrics of the model on the test set.\n",
    "\n",
    "We are running this step with the following configuration:\n",
    "\n",
    "-   `skip_check = True`: This parameter controls whether the step should skip checking the data against a previous baseline. Since we want to generate the baseline for the first time, we set it to `True`. After running the pipeline once to generate the baseline, we can set this parameter to `False` to ensure any new data follows the same distribution as the baseline.\n",
    "\n",
    "-   `register_new_baseline = True`: This parameter controls whether the new calculated baseline will be registered in the Model Registry.\n"
   ]
  },
  {
   "cell_type": "code",
   "execution_count": 129,
   "id": "b50a9ed5",
   "metadata": {
    "tags": [
     "hide-output"
    ]
   },
   "outputs": [
    {
     "name": "stderr",
     "output_type": "stream",
     "text": [
      "INFO:sagemaker.image_uris:Defaulting to the only supported framework/algorithm version: .\n",
      "INFO:sagemaker.image_uris:Ignoring unnecessary instance type: None.\n"
     ]
    }
   ],
   "source": [
    "from sagemaker.workflow.quality_check_step import ModelQualityCheckConfig\n",
    "\n",
    "model_quality_baseline_step = QualityCheckStep(\n",
    "    name=\"generate-model-quality-baseline\",\n",
    "    check_job_config=CheckJobConfig(\n",
    "        instance_type=\"ml.c5.xlarge\",\n",
    "        instance_count=1,\n",
    "        volume_size_in_gb=20,\n",
    "        sagemaker_session=config[\"session\"],\n",
    "        role=role,\n",
    "    ),\n",
    "    quality_check_config=ModelQualityCheckConfig(\n",
    "        # We are going to use the output of the Transform Step to generate\n",
    "        # the model quality baseline.\n",
    "        baseline_dataset=generate_test_predictions_step.properties.TransformOutput.S3OutputPath,\n",
    "        dataset_format=DatasetFormat.csv(header=False),\n",
    "        # We need to specify the problem type and the fields where the prediction\n",
    "        # and groundtruth are so the process knows how to interpret the results.\n",
    "        problem_type=\"MulticlassClassification\",\n",
    "        # Since the data doesn't have headers, SageMaker will autocreate headers for it.\n",
    "        # _c0 corresponds to the first column, and _c1 corresponds to the second column.\n",
    "        ground_truth_attribute=\"_c0\",\n",
    "        inference_attribute=\"_c1\",\n",
    "        output_s3_uri=MODEL_QUALITY_LOCATION,\n",
    "    ),\n",
    "    model_package_group_name=PIPELINE_MODEL_PACKAGE_GROUP,\n",
    "    skip_check=True,\n",
    "    register_new_baseline=True,\n",
    "    cache_config=cache_config,\n",
    ")"
   ]
  },
  {
   "cell_type": "markdown",
   "id": "84c1f847",
   "metadata": {},
   "source": [
    "### Step 5 - Setting up Model Metrics\n",
    "\n",
    "We can configure a new set of [ModelMetrics](https://sagemaker.readthedocs.io/en/stable/api/inference/model_monitor.html#sagemaker.model_metrics.ModelMetrics) using the results of the Quality Step. Check [Baseline and model version lifecycle and evolution with SageMaker Pipelines](https://docs.aws.amazon.com/sagemaker/latest/dg/pipelines-quality-clarify-baseline-lifecycle.html#pipelines-quality-clarify-baseline-evolution) for an explanation of how SageMaker uses the `DriftCheckBaselines`.\n"
   ]
  },
  {
   "cell_type": "code",
   "execution_count": 130,
   "id": "3aecc022",
   "metadata": {},
   "outputs": [],
   "source": [
    "from sagemaker.drift_check_baselines import DriftCheckBaselines\n",
    "\n",
    "model_quality_model_metrics = ModelMetrics(\n",
    "    model_statistics=MetricsSource(\n",
    "        s3_uri=model_quality_baseline_step.properties.CalculatedBaselineStatistics,\n",
    "        content_type=\"application/json\",\n",
    "    ),\n",
    "    model_constraints=MetricsSource(\n",
    "        s3_uri=model_quality_baseline_step.properties.CalculatedBaselineConstraints,\n",
    "        content_type=\"application/json\",\n",
    "    ),\n",
    "    model_data_statistics=MetricsSource(\n",
    "        s3_uri=data_quality_baseline_step.properties.CalculatedBaselineStatistics,\n",
    "        content_type=\"application/json\",\n",
    "    ),\n",
    "    model_data_constraints=MetricsSource(\n",
    "        s3_uri=data_quality_baseline_step.properties.CalculatedBaselineConstraints,\n",
    "        content_type=\"application/json\",\n",
    "    ),\n",
    ")\n",
    "\n",
    "model_quality_drift_check_baselines = DriftCheckBaselines(\n",
    "    model_statistics=MetricsSource(\n",
    "        s3_uri=model_quality_baseline_step.properties.BaselineUsedForDriftCheckStatistics,\n",
    "        content_type=\"application/json\",\n",
    "    ),\n",
    "    model_constraints=MetricsSource(\n",
    "        s3_uri=model_quality_baseline_step.properties.BaselineUsedForDriftCheckConstraints,\n",
    "        content_type=\"application/json\",\n",
    "    ),\n",
    "    model_data_statistics=MetricsSource(\n",
    "        s3_uri=data_quality_baseline_step.properties.BaselineUsedForDriftCheckStatistics,\n",
    "        content_type=\"application/json\",\n",
    "    ),\n",
    "    model_data_constraints=MetricsSource(\n",
    "        s3_uri=data_quality_baseline_step.properties.BaselineUsedForDriftCheckConstraints,\n",
    "        content_type=\"application/json\",\n",
    "    ),\n",
    ")"
   ]
  },
  {
   "cell_type": "markdown",
   "id": "de2ca87f",
   "metadata": {},
   "source": [
    "### Step 6 - Registering the Model\n",
    "\n",
    "Let's modify the registration step to use the new metrics and the drift baseline:\n"
   ]
  },
  {
   "cell_type": "code",
   "execution_count": 131,
   "id": "20154a1a",
   "metadata": {
    "tags": [
     "hide-output"
    ]
   },
   "outputs": [],
   "source": [
    "register_model_step = create_registration_step(\n",
    "    pipeline_model,\n",
    "    PIPELINE_MODEL_PACKAGE_GROUP,\n",
    "    content_types=[\"text/csv\", \"application/json\"],\n",
    "    response_types=[\"text/csv\", \"application/json\"],\n",
    "    model_metrics=model_quality_model_metrics,\n",
    "    drift_check_baselines=model_quality_drift_check_baselines,\n",
    ")"
   ]
  },
  {
   "cell_type": "markdown",
   "id": "a725d23c",
   "metadata": {},
   "source": [
    "### Step 7 - Modifying the Condition Step\n",
    "\n",
    "We need to modify the Condition Step to include the new Registration Step and the Transform and Quality Check Steps.\n"
   ]
  },
  {
   "cell_type": "code",
   "execution_count": 132,
   "id": "cd84e567",
   "metadata": {},
   "outputs": [],
   "source": [
    "condition_step = ConditionStep(\n",
    "    name=\"check-model-accuracy\",\n",
    "    conditions=[condition],\n",
    "    if_steps=(\n",
    "        [\n",
    "            create_model_step,\n",
    "            generate_test_predictions_step,\n",
    "            model_quality_baseline_step,\n",
    "            register_model_step,\n",
    "        ]\n",
    "    ),\n",
    "    else_steps=[fail_step],\n",
    ")"
   ]
  },
  {
   "cell_type": "markdown",
   "id": "9f7d9f1f",
   "metadata": {},
   "source": [
    "### Step 8 - Creating the Pipeline\n",
    "\n",
    "We can now define the SageMaker Pipeline and submit its definition to the SageMaker Pipelines service to create the pipeline if it doesn't exist or update it if it does.\n"
   ]
  },
  {
   "cell_type": "code",
   "execution_count": 133,
   "id": "c244e206",
   "metadata": {
    "tags": [
     "hide-output"
    ]
   },
   "outputs": [
    {
     "data": {
      "text/plain": [
       "{'PipelineArn': 'session17-pipeline'}"
      ]
     },
     "execution_count": 133,
     "metadata": {},
     "output_type": "execute_result"
    }
   ],
   "source": [
    "session17_pipeline = Pipeline(\n",
    "    name=\"session17-pipeline\",\n",
    "    parameters=[dataset_location, accuracy_threshold],\n",
    "    steps=[\n",
    "        preprocessing_step,\n",
    "        train_model_step,\n",
    "        evaluate_model_step,\n",
    "        data_quality_baseline_step,\n",
    "        condition_step,\n",
    "    ],\n",
    "    pipeline_definition_config=pipeline_definition_config,\n",
    "    sagemaker_session=config[\"session\"],\n",
    ")\n",
    "\n",
    "session17_pipeline.upsert(role_arn=role)"
   ]
  },
  {
   "cell_type": "markdown",
   "id": "97fdc363",
   "metadata": {},
   "source": [
    "### Step 9 - Checking Constraints\n",
    "\n",
    "Our pipeline generated model baseline constraints. We can take a look at what these values look like by downloading them from S3. You need to wait for the pipeline to finish running before the file is available.\n"
   ]
  },
  {
   "cell_type": "code",
   "execution_count": 134,
   "id": "dc31aa28",
   "metadata": {},
   "outputs": [
    {
     "name": "stdout",
     "output_type": "stream",
     "text": [
      "{\n",
      "  \"version\": 0.0,\n",
      "  \"multiclass_classification_constraints\": {\n",
      "    \"accuracy\": {\n",
      "      \"threshold\": 1.0,\n",
      "      \"comparison_operator\": \"LessThanThreshold\"\n",
      "    },\n",
      "    \"weighted_recall\": {\n",
      "      \"threshold\": 1.0,\n",
      "      \"comparison_operator\": \"LessThanThreshold\"\n",
      "    },\n",
      "    \"weighted_precision\": {\n",
      "      \"threshold\": 1.0,\n",
      "      \"comparison_operator\": \"LessThanThreshold\"\n",
      "    },\n",
      "    \"weighted_f0_5\": {\n",
      "      \"threshold\": 1.0,\n",
      "      \"comparison_operator\": \"LessThanThreshold\"\n",
      "    },\n",
      "    \"weighted_f1\": {\n",
      "      \"threshold\": 1.0,\n",
      "      \"comparison_operator\": \"LessThanThreshold\"\n",
      "    },\n",
      "    \"weighted_f2\": {\n",
      "      \"threshold\": 1.0,\n",
      "      \"comparison_operator\": \"LessThanThreshold\"\n",
      "    }\n",
      "  }\n",
      "}\n"
     ]
    }
   ],
   "source": [
    "try:\n",
    "    response = json.loads(\n",
    "        S3Downloader.read_file(f\"{MODEL_QUALITY_LOCATION}/constraints.json\"),\n",
    "    )\n",
    "    print(json.dumps(response, indent=2))\n",
    "except Exception:  # noqa: S110\n",
    "    pass"
   ]
  },
  {
   "cell_type": "markdown",
   "id": "1dd9b8b7",
   "metadata": {},
   "source": [
    "## Session 18 - Data Monitoring\n",
    "\n",
    "This session creates a Monitoring Job to monitor the quality of the data received by the endpoint. This schedule will run periodically and check the data that goes into the endpoint against the baseline we generated before.\n",
    "\n",
    "Check [Amazon SageMaker Model Monitor](https://sagemaker.readthedocs.io/en/stable/amazon_sagemaker_model_monitoring.html) for an explanation of how to use SageMaker's Model Monitoring functionality. [Monitor models for data and model quality, bias, and explainability](https://docs.aws.amazon.com/sagemaker/latest/dg/model-monitor.html) is a much more extensive guide to monitoring in Amazon SageMaker.\n"
   ]
  },
  {
   "cell_type": "markdown",
   "id": "5732149d",
   "metadata": {},
   "source": [
    "### Step 1 - Deploying the Model\n",
    "\n",
    "Let's deploy the latest approved model to an endpoint.\n",
    "\n",
    "Since we need to do the same later, we can create a function to deploy the model. Notice how we need to enable Data Capture to monitor the data that goes in and out of the endpoint.\n"
   ]
  },
  {
   "cell_type": "code",
   "execution_count": 135,
   "id": "57cc8903",
   "metadata": {},
   "outputs": [],
   "source": [
    "from sagemaker.model_monitor import DataCaptureConfig\n",
    "\n",
    "\n",
    "def deploy_model():\n",
    "    \"\"\"Deploy the latest model registered in the Model Registry.\"\"\"\n",
    "    response = sagemaker_client.list_model_packages(\n",
    "        ModelPackageGroupName=PIPELINE_MODEL_PACKAGE_GROUP,\n",
    "        ModelApprovalStatus=\"Approved\",\n",
    "        SortBy=\"CreationTime\",\n",
    "        MaxResults=1,\n",
    "    )\n",
    "\n",
    "    package = (\n",
    "        response[\"ModelPackageSummaryList\"][0]\n",
    "        if response[\"ModelPackageSummaryList\"]\n",
    "        else None\n",
    "    )\n",
    "\n",
    "    if package:\n",
    "        model_package = ModelPackage(\n",
    "            model_package_arn=package[\"ModelPackageArn\"],\n",
    "            sagemaker_session=sagemaker_session,\n",
    "            role=role,\n",
    "        )\n",
    "\n",
    "        model_package.deploy(\n",
    "            endpoint_name=ENDPOINT,\n",
    "            initial_instance_count=1,\n",
    "            instance_type=config[\"instance_type\"],\n",
    "            # We must enable Data Capture to monitor the model.\n",
    "            data_capture_config=DataCaptureConfig(\n",
    "                enable_capture=True,\n",
    "                sampling_percentage=100,\n",
    "                destination_s3_uri=DATA_CAPTURE_DESTINATION,\n",
    "                capture_options=[\"REQUEST\", \"RESPONSE\"],\n",
    "                csv_content_types=[\"text/csv\"],\n",
    "                json_content_types=[\"application/json\"],\n",
    "            ),\n",
    "        )"
   ]
  },
  {
   "cell_type": "markdown",
   "id": "21872e7d",
   "metadata": {},
   "source": [
    "#| hide\n",
    "\n",
    "<div class=\"alert\" style=\"background-color:#0066cc;\"><strong>Note:</strong> \n",
    "    The <code>%%script</code> cell magic is a convenient way to prevent the notebook from executing a specific cell. If you want to run the cell, comment out the line containing the <code>%%script</code> cell magic.\n",
    "</div>\n"
   ]
  },
  {
   "cell_type": "code",
   "execution_count": 136,
   "id": "4966c9c2",
   "metadata": {
    "tags": [
     "hide-output"
    ]
   },
   "outputs": [],
   "source": [
    "%%script false --no-raise-error\n",
    "#| eval: false\n",
    "\n",
    "deploy_model()"
   ]
  },
  {
   "cell_type": "markdown",
   "id": "468c73dd",
   "metadata": {},
   "source": [
    "### Step 2 - Generating Fake Traffic\n",
    "\n",
    "To test the monitoring functionality, we need to generate traffic to the endpoint. To generate traffic, we will send every sample from the dataset to the endpoint to simulate real prediction requests:\n"
   ]
  },
  {
   "cell_type": "code",
   "execution_count": 137,
   "id": "cea757af",
   "metadata": {
    "tags": [
     "hide-output"
    ]
   },
   "outputs": [
    {
     "name": "stdout",
     "output_type": "stream",
     "text": [
      "An error occurred (ValidationError) when calling the InvokeEndpoint operation: Endpoint penguins-endpoint of account 325223348818 not found.\n"
     ]
    }
   ],
   "source": [
    "from sagemaker.serializers import JSONSerializer\n",
    "\n",
    "\n",
    "def generate_fake_traffic():\n",
    "    \"\"\"Generate fake traffic to the endpoint.\"\"\"\n",
    "    try:\n",
    "        for index, row in data.iterrows():\n",
    "            payload = \",\".join([str(x) for x in row.to_list()])\n",
    "            predictor.predict(\n",
    "                payload,\n",
    "                initial_args={\"ContentType\": \"text/csv\", \"Accept\": \"text/csv\"},\n",
    "                # The `inference_id` field is important to match\n",
    "                # it later with a corresponding ground-truth label.\n",
    "                inference_id=str(index),\n",
    "            )\n",
    "    except Exception as e:\n",
    "        print(e)\n",
    "\n",
    "\n",
    "generate_fake_traffic()"
   ]
  },
  {
   "cell_type": "markdown",
   "id": "947c4408",
   "metadata": {},
   "source": [
    "We can check the location where the endpoint stores the captured data, download a file, and display its content. It may take a few minutes for the first few files to show up in S3.\n",
    "\n",
    "These files contain the data captured by the endpoint in a SageMaker-specific JSON-line format. Each inference request is captured in a single line in the `jsonl` file. The line contains both the input and output merged together:\n"
   ]
  },
  {
   "cell_type": "code",
   "execution_count": 138,
   "id": "caee992c",
   "metadata": {},
   "outputs": [
    {
     "name": "stdout",
     "output_type": "stream",
     "text": [
      "File: s3://mlschool/penguins/monitoring/data-capture/penguins-endpoint/AllTraffic/2024/03/30/18/40-45-068-0f144be9-ac73-4c4e-a0c7-82b1ba7db88b.jsonl\n",
      "{\n",
      "  \"captureData\": {\n",
      "    \"endpointInput\": {\n",
      "      \"observedContentType\": \"text/csv\",\n",
      "      \"mode\": \"INPUT\",\n",
      "      \"data\": \"Torgersen,39.1,18.7,181.0,3750.0,MALE\",\n",
      "      \"encoding\": \"CSV\"\n",
      "    },\n",
      "    \"endpointOutput\": {\n",
      "      \"observedContentType\": \"text/csv; charset=utf-8\",\n",
      "      \"mode\": \"OUTPUT\",\n",
      "      \"data\": \"Adelie,0.964408875\\n\",\n",
      "      \"encoding\": \"CSV\"\n",
      "    }\n",
      "  },\n",
      "  \"eventMetadata\": {\n",
      "    \"eventId\": \"08a239af-c98c-4984-b9bf-4ea049d88617\",\n",
      "    \"inferenceId\": \"0\",\n",
      "    \"inferenceTime\": \"2024-03-30T18:40:45Z\"\n",
      "  },\n",
      "  \"eventVersion\": \"0\"\n",
      "}\n"
     ]
    }
   ],
   "source": [
    "files = S3Downloader.list(DATA_CAPTURE_DESTINATION)\n",
    "if len(files):\n",
    "    lines = S3Downloader.read_file(files[-1])\n",
    "    print(f\"File: {files[-1]}\")\n",
    "    print(json.dumps(json.loads(lines.split(\"\\n\")[0]), indent=2))"
   ]
  },
  {
   "cell_type": "markdown",
   "id": "a5e9c62b",
   "metadata": {},
   "source": [
    "### Step 3 - Creating Custom Preprocessing Script\n",
    "\n",
    "SageMaker looks for violations in the data captured by the endpoint. By default, it combines the input data with the endpoint output and compares the result with the baseline we generated before. If we let SageMaker do this, we will get a few violations, for example an \"extra column check\" violation because the field `confidence` doesn't exist in the baseline data.\n",
    "\n",
    "We can fix these violations by creating a preprocessing script configuring the data we want the monitoring job to use. Check [Preprocessing and Postprocessing](https://docs.aws.amazon.com/sagemaker/latest/dg/model-monitor-pre-and-post-processing.html) for more information about how to configure these scripts.\n",
    "\n",
    "We'll store the script in a folder called `monitoring`:\n"
   ]
  },
  {
   "cell_type": "code",
   "execution_count": 139,
   "id": "7b48cd49",
   "metadata": {},
   "outputs": [],
   "source": [
    "DATA_QUALITY_PREPROCESSOR = \"data_quality_preprocessor.py\"\n",
    "\n",
    "(CODE_FOLDER / \"monitoring\").mkdir(parents=True, exist_ok=True)"
   ]
  },
  {
   "cell_type": "markdown",
   "id": "058ddea2",
   "metadata": {},
   "source": [
    "We can now define the preprocessing script. Notice that this script will return a JSON object with a name for each feature and their value.\n"
   ]
  },
  {
   "cell_type": "code",
   "execution_count": 140,
   "id": "0114a817",
   "metadata": {
    "tags": [
     "hide-output"
    ]
   },
   "outputs": [
    {
     "name": "stdout",
     "output_type": "stream",
     "text": [
      "Writing code/monitoring/data_quality_preprocessor.py\n"
     ]
    }
   ],
   "source": [
    "%%writefile {CODE_FOLDER}/monitoring/{DATA_QUALITY_PREPROCESSOR}\n",
    "# | filename: data_quality_preprocessor.py\n",
    "# | code-line-numbers: true\n",
    "\n",
    "import json\n",
    "\n",
    "\n",
    "def preprocess_handler(inference_record, logger):\n",
    "    input_data = inference_record.endpoint_input.data\n",
    "    return {str(i).zfill(2): d for i, d in enumerate(input_data.split(\",\"))}"
   ]
  },
  {
   "cell_type": "markdown",
   "id": "12c1b8df",
   "metadata": {},
   "source": [
    "### Step 4 - Uploading Preprocessing Script\n",
    "\n",
    "The monitoring schedule expects an S3 location pointing to the preprocessing script. Let's upload the script to the default bucket.\n"
   ]
  },
  {
   "cell_type": "code",
   "execution_count": 141,
   "id": "21240214",
   "metadata": {
    "tags": [
     "hide-output"
    ]
   },
   "outputs": [
    {
     "name": "stderr",
     "output_type": "stream",
     "text": [
      "INFO:botocore.credentials:Found credentials in shared credentials file: ~/.aws/credentials\n"
     ]
    },
    {
     "data": {
      "text/plain": [
       "'s3://mlschool/penguins/monitoring/data_quality_preprocessor.py'"
      ]
     },
     "execution_count": 141,
     "metadata": {},
     "output_type": "execute_result"
    }
   ],
   "source": [
    "bucket = boto3.Session().resource(\"s3\").Bucket(config[\"session\"].default_bucket())\n",
    "prefix = Path(\"penguins/monitoring\")\n",
    "bucket.Object((prefix / DATA_QUALITY_PREPROCESSOR).as_posix()).upload_file(\n",
    "    (CODE_FOLDER / \"monitoring\" / DATA_QUALITY_PREPROCESSOR).as_posix(),\n",
    ")\n",
    "data_quality_preprocessor = f\"s3://{(bucket.name / prefix / DATA_QUALITY_PREPROCESSOR)}\"\n",
    "data_quality_preprocessor"
   ]
  },
  {
   "cell_type": "markdown",
   "id": "eefd191e",
   "metadata": {},
   "source": [
    "### Step 5 - Creating Monitoring Schedule\n",
    "\n",
    "We can now set up the Data Quality Monitoring Job using the [DefaultModelMonitor](https://sagemaker.readthedocs.io/en/stable/api/inference/model_monitor.html#sagemaker.model_monitor.model_monitoring.DefaultModelMonitor) class.\n"
   ]
  },
  {
   "cell_type": "code",
   "execution_count": 142,
   "id": "b9df3d16",
   "metadata": {},
   "outputs": [
    {
     "name": "stderr",
     "output_type": "stream",
     "text": [
      "INFO:sagemaker.image_uris:Defaulting to the only supported framework/algorithm version: .\n",
      "INFO:sagemaker.image_uris:Ignoring unnecessary instance type: None.\n"
     ]
    }
   ],
   "source": [
    "from sagemaker.model_monitor import DefaultModelMonitor\n",
    "\n",
    "data_monitor = DefaultModelMonitor(\n",
    "    instance_type=config[\"instance_type\"],\n",
    "    instance_count=1,\n",
    "    max_runtime_in_seconds=1800,\n",
    "    volume_size_in_gb=20,\n",
    "    role=role,\n",
    ")"
   ]
  },
  {
   "cell_type": "markdown",
   "id": "02af1681",
   "metadata": {},
   "source": [
    "Let's now create the monitoring schedule. Notice how we specify the `record_preprocessor_script` using the S3 location where we uploaded our script.\n",
    "\n",
    "We are going to set up the monitoring schedule to run every hour. Keep in mind that SageMaker has a buffer period of 20 minutes to schedule an execution.\n"
   ]
  },
  {
   "cell_type": "markdown",
   "id": "e7320924",
   "metadata": {},
   "source": [
    "#| hide\n",
    "\n",
    "<div class=\"alert\" style=\"background-color:#0066cc;\"><strong>Note:</strong> \n",
    "    The <code>%%script</code> cell magic is a convenient way to prevent the notebook from executing a specific cell. If you want to run the cell, comment out the line containing the <code>%%script</code> cell magic.\n",
    "</div>\n"
   ]
  },
  {
   "cell_type": "code",
   "execution_count": 143,
   "id": "c2b3fe69",
   "metadata": {
    "tags": [
     "hide-output"
    ]
   },
   "outputs": [],
   "source": [
    "%%script false --no-raise-error\n",
    "# | eval: false\n",
    "\n",
    "import time\n",
    "from sagemaker.model_monitor import CronExpressionGenerator\n",
    "\n",
    "data_monitor.create_monitoring_schedule(\n",
    "    monitor_schedule_name=\"penguins-data-monitoring-schedule\",\n",
    "    endpoint_input=ENDPOINT,\n",
    "    record_preprocessor_script=data_quality_preprocessor,\n",
    "    statistics=f\"{DATA_QUALITY_LOCATION}/statistics.json\",\n",
    "    constraints=f\"{DATA_QUALITY_LOCATION}/constraints.json\",\n",
    "    schedule_cron_expression=CronExpressionGenerator.hourly(),\n",
    "    output_s3_uri=DATA_QUALITY_LOCATION,\n",
    "    enable_cloudwatch_metrics=True,\n",
    ")\n",
    "\n",
    "# Let's give SageMaker some time to process the\n",
    "# monitoring job before we start it.\n",
    "time.sleep(10)\n",
    "data_monitor.start_monitoring_schedule()"
   ]
  },
  {
   "cell_type": "markdown",
   "id": "b3e38659",
   "metadata": {},
   "source": [
    "### Step 6 - Checking Violations\n",
    "\n",
    "After the monitoring schedule runs for the first time, we can check the results of the last execution. If the job completed successfully, we can check if there are any violations.\n"
   ]
  },
  {
   "cell_type": "code",
   "execution_count": 144,
   "id": "5cedff08",
   "metadata": {},
   "outputs": [
    {
     "name": "stdout",
     "output_type": "stream",
     "text": [
      "Parameter validation failed:\n",
      "Invalid type for parameter MonitoringScheduleName, value: None, type: <class 'NoneType'>, valid types: <class 'str'>\n"
     ]
    }
   ],
   "source": [
    "def check_execution(monitoring_schedule):\n",
    "    \"\"\"Check the execution of the Monitoring Job.\n",
    "\n",
    "    This function checks the execution of the Monitoring\n",
    "    Job and prints out the list of violations if the job\n",
    "    completed.\n",
    "    \"\"\"\n",
    "    try:\n",
    "        executions = monitoring_schedule.list_executions()\n",
    "\n",
    "        if executions:\n",
    "            execution = executions[-1].describe()\n",
    "            print(f\"Processing Job Status: {execution['ProcessingJobStatus']}\")\n",
    "\n",
    "            if execution[\"ProcessingJobStatus\"] == \"Completed\":\n",
    "                print(f\"Exit Message: \\\"{execution['ExitMessage']}\\\"\")\n",
    "                print(\n",
    "                    f\"Last Modified Time: {execution['LastModifiedTime']}\",\n",
    "                    end=\"\\n\\n\",\n",
    "                )\n",
    "                print(\"Execution:\")\n",
    "                print(json.dumps(execution, default=str, indent=2), end=\"\\n\\n\")\n",
    "\n",
    "                latest_monitoring_violations = (\n",
    "                    monitoring_schedule.latest_monitoring_constraint_violations()\n",
    "                )\n",
    "                response = json.loads(\n",
    "                    S3Downloader.read_file(latest_monitoring_violations.file_s3_uri),\n",
    "                )\n",
    "                print(\"Violations:\")\n",
    "                print(json.dumps(response, indent=2))\n",
    "    except Exception as e:\n",
    "        print(e)\n",
    "\n",
    "\n",
    "check_execution(data_monitor)"
   ]
  },
  {
   "cell_type": "markdown",
   "id": "46e9faf0",
   "metadata": {},
   "source": [
    "### Step 7 - Deleting Monitoring Schedule\n",
    "\n",
    "Once we are done with it, we can delete the Data Monitoring schedule.\n"
   ]
  },
  {
   "cell_type": "code",
   "execution_count": 145,
   "id": "7ff8bfc3",
   "metadata": {},
   "outputs": [
    {
     "name": "stderr",
     "output_type": "stream",
     "text": [
      "INFO:sagemaker:Deleting Monitoring Schedule with name: None\n"
     ]
    },
    {
     "name": "stdout",
     "output_type": "stream",
     "text": [
      "Parameter validation failed:\n",
      "Invalid type for parameter MonitoringScheduleName, value: None, type: <class 'NoneType'>, valid types: <class 'str'>\n"
     ]
    }
   ],
   "source": [
    "try:\n",
    "    data_monitor.delete_monitoring_schedule()\n",
    "except Exception as e:\n",
    "    print(e)"
   ]
  },
  {
   "cell_type": "markdown",
   "id": "a4ec9a8b",
   "metadata": {},
   "source": [
    "## Session 19 - Model Monitoring\n",
    "\n",
    "This session creates a Monitoring Job to monitor the quality of the model outputs. This schedule will run periodically and check the data that goes into the endpoint against the baseline we generated before.\n",
    "\n",
    "Check [Amazon SageMaker Model Monitor](https://sagemaker.readthedocs.io/en/stable/amazon_sagemaker_model_monitoring.html) for an explanation of how to use SageMaker's Model Monitoring functionality. [Monitor models for data and model quality, bias, and explainability](https://docs.aws.amazon.com/sagemaker/latest/dg/model-monitor.html) is a much more extensive guide to monitoring in Amazon SageMaker.\n"
   ]
  },
  {
   "cell_type": "markdown",
   "id": "166ff7f2",
   "metadata": {},
   "source": [
    "### Step 1 - Configuring Ground Truth Location\n",
    "\n",
    "Let's start by defining the location where SageMaker will store the ground-truth generated by labeling the data received by the endpoint.\n"
   ]
  },
  {
   "cell_type": "code",
   "execution_count": 146,
   "id": "5ddca53e",
   "metadata": {},
   "outputs": [],
   "source": [
    "GROUND_TRUTH_LOCATION = f\"{S3_LOCATION}/monitoring/groundtruth\""
   ]
  },
  {
   "cell_type": "markdown",
   "id": "f0c05a19",
   "metadata": {},
   "source": [
    "### Step 2 - Deploying the Model\n",
    "\n",
    "Let's deploy the latest approved model to an endpoint.\n",
    "\n",
    "Here, we can reuse the function we created before to deploy the model.\n"
   ]
  },
  {
   "cell_type": "markdown",
   "id": "0bab3618",
   "metadata": {},
   "source": [
    "#| hide\n",
    "\n",
    "<div class=\"alert\" style=\"background-color:#0066cc;\"><strong>Note:</strong> \n",
    "    The <code>%%script</code> cell magic is a convenient way to prevent the notebook from executing a specific cell. If you want to run the cell, comment out the line containing the <code>%%script</code> cell magic.\n",
    "</div>\n"
   ]
  },
  {
   "cell_type": "code",
   "execution_count": 147,
   "id": "c2089ba4",
   "metadata": {
    "tags": [
     "hide-output"
    ]
   },
   "outputs": [],
   "source": [
    "%%script false --no-raise-error\n",
    "#| eval: false\n",
    "\n",
    "deploy_model()"
   ]
  },
  {
   "cell_type": "markdown",
   "id": "f8cd4962",
   "metadata": {},
   "source": [
    "### Step 3 - Generating Fake Traffic\n",
    "\n",
    "To test the monitoring functionality, we need to generate traffic to the endpoint. We can use the function we created before to generate fake traffic to the endpoint.\n"
   ]
  },
  {
   "cell_type": "code",
   "execution_count": 148,
   "id": "c4545041",
   "metadata": {
    "tags": [
     "hide-output"
    ]
   },
   "outputs": [
    {
     "name": "stdout",
     "output_type": "stream",
     "text": [
      "An error occurred (ValidationError) when calling the InvokeEndpoint operation: Endpoint penguins-endpoint of account 325223348818 not found.\n"
     ]
    }
   ],
   "source": [
    "generate_fake_traffic()"
   ]
  },
  {
   "cell_type": "markdown",
   "id": "8c0ff1ce",
   "metadata": {},
   "source": [
    "We can check the location where the endpoint stores the captured data, download a file, and display its content. It may take a few minutes for the first few files to show up in S3.\n",
    "\n",
    "These files contain the data captured by the endpoint in a SageMaker-specific JSON-line format. Each inference request is captured in a single line in the `jsonl` file. The line contains both the input and output merged together:\n"
   ]
  },
  {
   "cell_type": "code",
   "execution_count": 149,
   "id": "49bc662a",
   "metadata": {},
   "outputs": [
    {
     "name": "stdout",
     "output_type": "stream",
     "text": [
      "File: s3://mlschool/penguins/monitoring/data-capture/penguins-endpoint/AllTraffic/2024/03/30/18/40-45-068-0f144be9-ac73-4c4e-a0c7-82b1ba7db88b.jsonl\n",
      "{\n",
      "  \"captureData\": {\n",
      "    \"endpointInput\": {\n",
      "      \"observedContentType\": \"text/csv\",\n",
      "      \"mode\": \"INPUT\",\n",
      "      \"data\": \"Torgersen,39.1,18.7,181.0,3750.0,MALE\",\n",
      "      \"encoding\": \"CSV\"\n",
      "    },\n",
      "    \"endpointOutput\": {\n",
      "      \"observedContentType\": \"text/csv; charset=utf-8\",\n",
      "      \"mode\": \"OUTPUT\",\n",
      "      \"data\": \"Adelie,0.964408875\\n\",\n",
      "      \"encoding\": \"CSV\"\n",
      "    }\n",
      "  },\n",
      "  \"eventMetadata\": {\n",
      "    \"eventId\": \"08a239af-c98c-4984-b9bf-4ea049d88617\",\n",
      "    \"inferenceId\": \"0\",\n",
      "    \"inferenceTime\": \"2024-03-30T18:40:45Z\"\n",
      "  },\n",
      "  \"eventVersion\": \"0\"\n",
      "}\n"
     ]
    }
   ],
   "source": [
    "files = S3Downloader.list(DATA_CAPTURE_DESTINATION)\n",
    "if len(files):\n",
    "    lines = S3Downloader.read_file(files[-1])\n",
    "    print(f\"File: {files[-1]}\")\n",
    "    print(json.dumps(json.loads(lines.split(\"\\n\")[0]), indent=2))"
   ]
  },
  {
   "cell_type": "markdown",
   "id": "421ec421",
   "metadata": {},
   "source": [
    "### Step 4 - Generating Fake Labels\n",
    "\n",
    "To test the performance of the model, we need to label the samples captured by the endpoint. We can simulate the labeling process by generating a random label for every sample. Check [Ingest Ground Truth Labels and Merge Them With Predictions](https://docs.aws.amazon.com/sagemaker/latest/dg/model-monitor-model-quality-merge.html) for more information about this.\n"
   ]
  },
  {
   "cell_type": "code",
   "execution_count": 150,
   "id": "a4a32d8c",
   "metadata": {
    "tags": [
     "hide-output"
    ]
   },
   "outputs": [
    {
     "data": {
      "text/plain": [
       "'s3://mlschool/penguins/monitoring/groundtruth/2024/05/22/00/3542.jsonl'"
      ]
     },
     "execution_count": 150,
     "metadata": {},
     "output_type": "execute_result"
    }
   ],
   "source": [
    "import random\n",
    "from datetime import datetime, timezone\n",
    "\n",
    "from sagemaker.s3 import S3Uploader\n",
    "\n",
    "records = []\n",
    "for inference_id in range(len(data)):\n",
    "    random.seed(inference_id)\n",
    "\n",
    "    records.append(\n",
    "        json.dumps(\n",
    "            {\n",
    "                \"groundTruthData\": {\n",
    "                    # For testing purposes, we will generate a random\n",
    "                    # label for each request.\n",
    "                    \"data\": random.choice([\"Adelie\", \"Chinstrap\", \"Gentoo\"]),\n",
    "                    \"encoding\": \"CSV\",\n",
    "                },\n",
    "                \"eventMetadata\": {\n",
    "                    # This value should match the id of the request\n",
    "                    # captured by the endpoint.\n",
    "                    \"eventId\": str(inference_id),\n",
    "                },\n",
    "                \"eventVersion\": \"0\",\n",
    "            },\n",
    "        ),\n",
    "    )\n",
    "\n",
    "groundtruth_payload = \"\\n\".join(records)\n",
    "upload_time = datetime.now(tz=timezone.utc)\n",
    "uri = f\"{GROUND_TRUTH_LOCATION}/{upload_time:%Y/%m/%d/%H/%M%S}.jsonl\"\n",
    "S3Uploader.upload_string_as_file_body(groundtruth_payload, uri)"
   ]
  },
  {
   "cell_type": "markdown",
   "id": "19a4a9cf",
   "metadata": {},
   "source": [
    "### Step 5 - Creating Monitoring Schedule\n",
    "\n",
    "To set up a Model Quality Monitoring Job, we can use the [ModelQualityMonitor](https://sagemaker.readthedocs.io/en/stable/api/inference/model_monitor.html#sagemaker.model_monitor.model_monitoring.ModelQualityMonitor) class.\n",
    "\n",
    "Check [Amazon SageMaker Model Quality Monitor](https://sagemaker-examples.readthedocs.io/en/latest/sagemaker_model_monitor/model_quality/model_quality_churn_sdk.html) for a complete tutorial on how to run a Model Monitoring Job in SageMaker.\n"
   ]
  },
  {
   "cell_type": "code",
   "execution_count": 151,
   "id": "54762759",
   "metadata": {
    "tags": [
     "hide-output"
    ]
   },
   "outputs": [
    {
     "name": "stderr",
     "output_type": "stream",
     "text": [
      "INFO:sagemaker.image_uris:Defaulting to the only supported framework/algorithm version: .\n",
      "INFO:sagemaker.image_uris:Ignoring unnecessary instance type: None.\n"
     ]
    }
   ],
   "source": [
    "from sagemaker.model_monitor import ModelQualityMonitor\n",
    "\n",
    "model_monitor = ModelQualityMonitor(\n",
    "    instance_type=config[\"instance_type\"],\n",
    "    instance_count=1,\n",
    "    max_runtime_in_seconds=1800,\n",
    "    volume_size_in_gb=20,\n",
    "    role=role,\n",
    ")"
   ]
  },
  {
   "cell_type": "markdown",
   "id": "939c392f",
   "metadata": {},
   "source": [
    "Let's now create the monitoring schedule. The [EndpointInput](https://sagemaker.readthedocs.io/en/v2.24.2/api/inference/model_monitor.html#sagemaker.model_monitor.model_monitoring.EndpointInput) instance configures the attribute the monitoring job should use to determine the prediction from the model.\n",
    "\n",
    "We are going to set up the monitoring schedule to run every hour. Keep in mind that SageMaker has a buffer period of 20 minutes to schedule an execution.\n"
   ]
  },
  {
   "cell_type": "markdown",
   "id": "f0d28eb3",
   "metadata": {},
   "source": [
    "#| hide\n",
    "\n",
    "<div class=\"alert\" style=\"background-color:#0066cc;\"><strong>Note:</strong> \n",
    "    The <code>%%script</code> cell magic is a convenient way to prevent the notebook from executing a specific cell. If you want to run the cell, comment out the line containing the <code>%%script</code> cell magic.\n",
    "</div>\n"
   ]
  },
  {
   "cell_type": "code",
   "execution_count": 152,
   "id": "9665c61a",
   "metadata": {
    "tags": [
     "hide-output"
    ]
   },
   "outputs": [],
   "source": [
    "%%script false --no-raise-error\n",
    "# | eval: false\n",
    "\n",
    "import time\n",
    "\n",
    "from sagemaker.model_monitor import CronExpressionGenerator, EndpointInput\n",
    "\n",
    "model_monitor.create_monitoring_schedule(\n",
    "    monitor_schedule_name=\"penguins-model-monitoring-schedule\",\n",
    "    endpoint_input=EndpointInput(\n",
    "        endpoint_name=ENDPOINT,\n",
    "        # The first attribute is the prediction made\n",
    "        # by the model. For example, here is a\n",
    "        # potential output from the model:\n",
    "        # [Adelie,0.977324724\\n]\n",
    "        inference_attribute=\"0\",\n",
    "        destination=\"/opt/ml/processing/input_data\",\n",
    "    ),\n",
    "    problem_type=\"MulticlassClassification\",\n",
    "    ground_truth_input=GROUND_TRUTH_LOCATION,\n",
    "    constraints=f\"{MODEL_QUALITY_LOCATION}/constraints.json\",\n",
    "    schedule_cron_expression=CronExpressionGenerator.hourly(),\n",
    "    output_s3_uri=MODEL_QUALITY_LOCATION,\n",
    "    enable_cloudwatch_metrics=True,\n",
    ")\n",
    "\n",
    "# Let's give SageMaker some time to process the\n",
    "# monitoring job before we start it.\n",
    "time.sleep(10)\n",
    "model_monitor.start_monitoring_schedule()"
   ]
  },
  {
   "cell_type": "markdown",
   "id": "aab1e110",
   "metadata": {},
   "source": [
    "### Step 6 - Checking Violations\n",
    "\n",
    "After the monitoring schedule runs for the first time, we can check the results of the last execution. If the job completed successfully, we can check if there are any violations.\n"
   ]
  },
  {
   "cell_type": "code",
   "execution_count": 153,
   "id": "34ba56d9",
   "metadata": {},
   "outputs": [
    {
     "name": "stdout",
     "output_type": "stream",
     "text": [
      "Parameter validation failed:\n",
      "Invalid type for parameter MonitoringScheduleName, value: None, type: <class 'NoneType'>, valid types: <class 'str'>\n"
     ]
    }
   ],
   "source": [
    "check_execution(model_monitor)"
   ]
  },
  {
   "cell_type": "markdown",
   "id": "8d403f00",
   "metadata": {},
   "source": [
    "### Step 7 - Deleting Monitoring Schedule\n",
    "\n",
    "Once we are done with it, we can delete the Data Monitoring schedule.\n"
   ]
  },
  {
   "cell_type": "code",
   "execution_count": 154,
   "id": "7f250115",
   "metadata": {},
   "outputs": [
    {
     "name": "stderr",
     "output_type": "stream",
     "text": [
      "INFO:sagemaker:Deleting Monitoring Schedule with name: None\n"
     ]
    },
    {
     "name": "stdout",
     "output_type": "stream",
     "text": [
      "Parameter validation failed:\n",
      "Invalid type for parameter MonitoringScheduleName, value: None, type: <class 'NoneType'>, valid types: <class 'str'>\n"
     ]
    }
   ],
   "source": [
    "try:\n",
    "    model_monitor.delete_monitoring_schedule()\n",
    "except Exception as e:\n",
    "    print(e)"
   ]
  },
  {
   "cell_type": "markdown",
   "id": "ae348ea3",
   "metadata": {},
   "source": [
    "## Session 20 - Shadow Deployments\n",
    "\n",
    "This session configures an endpoint running a production and a shadow variant. Check [Safely validate models in production](https://docs.aws.amazon.com/sagemaker/latest/dg/model-validation.html) for more information.\n",
    "\n",
    "<a href=\"images/shadow-deployment.png\" target=\"_blank\"> <img src=\"images/shadow-deployment.png\" alt=\"Shadow Deployment\" style=\"max-width: 740px;\" /></a>\n"
   ]
  },
  {
   "cell_type": "markdown",
   "id": "19314442",
   "metadata": {},
   "source": [
    "### Step 1 - Getting The Latest Models\n",
    "\n",
    "We want to deploy the two latest approved models from the Model Registry to the same endpoint. The latest version of the model will act as the Shadow variant, and the previous version will act as the Production variant.\n"
   ]
  },
  {
   "cell_type": "code",
   "execution_count": 155,
   "id": "d322d415",
   "metadata": {},
   "outputs": [
    {
     "name": "stdout",
     "output_type": "stream",
     "text": [
      "Production package: arn:aws:sagemaker:us-east-1:325223348818:model-package/basic-penguins/5\n",
      "Shadow package: arn:aws:sagemaker:us-east-1:325223348818:model-package/basic-penguins/6\n"
     ]
    }
   ],
   "source": [
    "response = sagemaker_client.list_model_packages(\n",
    "    ModelPackageGroupName=BASIC_MODEL_PACKAGE_GROUP,\n",
    "    ModelApprovalStatus=\"Approved\",\n",
    "    SortBy=\"CreationTime\",\n",
    "    MaxResults=2,\n",
    ")\n",
    "\n",
    "if response[\"ModelPackageSummaryList\"]:\n",
    "    production_package = response[\"ModelPackageSummaryList\"][1][\"ModelPackageArn\"]\n",
    "    shadow_package = response[\"ModelPackageSummaryList\"][0][\"ModelPackageArn\"]\n",
    "else:\n",
    "    production_package = None\n",
    "    shadow_package = None\n",
    "\n",
    "print(f\"Production package: {production_package}\")\n",
    "print(f\"Shadow package: {shadow_package}\")"
   ]
  },
  {
   "cell_type": "markdown",
   "id": "015b7995",
   "metadata": {},
   "source": [
    "### Step 2 - Creating the Models\n",
    "\n",
    "We want to deploy the two packages to a new endpoint. We'll use the boto3 API to deploy these models.\n",
    "\n",
    "Let's start by creating the SageMaker Models.\n"
   ]
  },
  {
   "cell_type": "code",
   "execution_count": 156,
   "id": "6c8aea09",
   "metadata": {},
   "outputs": [],
   "source": [
    "import time\n",
    "\n",
    "# We'll use a different name for this endpoint.\n",
    "SHADOW_DEPLOYMENT_ENDPOINT = \"shadow-penguins-endpoint\"\n",
    "\n",
    "# The timestamp will help us create unique name for the\n",
    "# name of the models.\n",
    "timestamp = time.strftime(\"%m%d%H%M%S\", time.localtime())"
   ]
  },
  {
   "cell_type": "markdown",
   "id": "9b29826d",
   "metadata": {},
   "source": [
    "Let's now create the Production model.\n"
   ]
  },
  {
   "cell_type": "code",
   "execution_count": 157,
   "id": "dd20b354",
   "metadata": {
    "tags": [
     "hide-output"
    ]
   },
   "outputs": [
    {
     "data": {
      "text/plain": [
       "{'ModelArn': 'arn:aws:sagemaker:us-east-1:325223348818:model/shadow-penguins-endpoint-production-0521203542',\n",
       " 'ResponseMetadata': {'RequestId': '99d46cfc-2877-46e4-9e76-b105220e20a4',\n",
       "  'HTTPStatusCode': 200,\n",
       "  'HTTPHeaders': {'x-amzn-requestid': '99d46cfc-2877-46e4-9e76-b105220e20a4',\n",
       "   'content-type': 'application/x-amz-json-1.1',\n",
       "   'content-length': '108',\n",
       "   'date': 'Wed, 22 May 2024 00:35:42 GMT'},\n",
       "  'RetryAttempts': 0}}"
      ]
     },
     "execution_count": 157,
     "metadata": {},
     "output_type": "execute_result"
    }
   ],
   "source": [
    "production_model_name = f\"{SHADOW_DEPLOYMENT_ENDPOINT}-production-{timestamp}\"\n",
    "\n",
    "sagemaker_client.create_model(\n",
    "    ModelName=production_model_name,\n",
    "    ExecutionRoleArn=role,\n",
    "    Containers=[{\"ModelPackageName\": production_package}],\n",
    ")"
   ]
  },
  {
   "cell_type": "markdown",
   "id": "af41dac0",
   "metadata": {},
   "source": [
    "And now we can create the second model.\n"
   ]
  },
  {
   "cell_type": "code",
   "execution_count": 158,
   "id": "d2024f35",
   "metadata": {},
   "outputs": [
    {
     "data": {
      "text/plain": [
       "{'ModelArn': 'arn:aws:sagemaker:us-east-1:325223348818:model/shadow-penguins-endpoint-shadow-0521203542',\n",
       " 'ResponseMetadata': {'RequestId': 'c9905dba-09bf-4e77-b3d9-7f09ad308c81',\n",
       "  'HTTPStatusCode': 200,\n",
       "  'HTTPHeaders': {'x-amzn-requestid': 'c9905dba-09bf-4e77-b3d9-7f09ad308c81',\n",
       "   'content-type': 'application/x-amz-json-1.1',\n",
       "   'content-length': '104',\n",
       "   'date': 'Wed, 22 May 2024 00:35:48 GMT'},\n",
       "  'RetryAttempts': 1}}"
      ]
     },
     "execution_count": 158,
     "metadata": {},
     "output_type": "execute_result"
    }
   ],
   "source": [
    "shadow_model_name = f\"{SHADOW_DEPLOYMENT_ENDPOINT}-shadow-{timestamp}\"\n",
    "\n",
    "sagemaker_client.create_model(\n",
    "    ModelName=shadow_model_name,\n",
    "    ExecutionRoleArn=role,\n",
    "    Containers=[{\"ModelPackageName\": shadow_package}],\n",
    ")"
   ]
  },
  {
   "cell_type": "markdown",
   "id": "f1215beb",
   "metadata": {},
   "source": [
    "### Step 3 - Creating the Endpoint Configuration\n",
    "\n",
    "We can now create the Endpoint Configuration using the two models\n"
   ]
  },
  {
   "cell_type": "markdown",
   "id": "b15d35d1",
   "metadata": {},
   "source": [
    "Let's define the location where SageMaker will output the information captured by the Shadow variant.\n"
   ]
  },
  {
   "cell_type": "code",
   "execution_count": 159,
   "id": "85769b3e",
   "metadata": {},
   "outputs": [],
   "source": [
    "SHADOW_DATA_DESTINATION = f\"{S3_LOCATION}/endpoint/\""
   ]
  },
  {
   "cell_type": "markdown",
   "id": "c97fe3bf",
   "metadata": {},
   "source": [
    "We can create the Endpoint Configuration now.\n"
   ]
  },
  {
   "cell_type": "code",
   "execution_count": 160,
   "id": "969df4f8",
   "metadata": {},
   "outputs": [
    {
     "data": {
      "text/plain": [
       "{'EndpointConfigArn': 'arn:aws:sagemaker:us-east-1:325223348818:endpoint-config/shadow-penguins-endpoint-config-0521203542',\n",
       " 'ResponseMetadata': {'RequestId': '721699dd-8e93-4e9f-b784-ce06f1dd0fed',\n",
       "  'HTTPStatusCode': 200,\n",
       "  'HTTPHeaders': {'x-amzn-requestid': '721699dd-8e93-4e9f-b784-ce06f1dd0fed',\n",
       "   'content-type': 'application/x-amz-json-1.1',\n",
       "   'content-length': '123',\n",
       "   'date': 'Wed, 22 May 2024 00:35:48 GMT'},\n",
       "  'RetryAttempts': 0}}"
      ]
     },
     "execution_count": 160,
     "metadata": {},
     "output_type": "execute_result"
    }
   ],
   "source": [
    "endpoint_config_name = f\"{SHADOW_DEPLOYMENT_ENDPOINT}-config-{timestamp}\"\n",
    "\n",
    "sagemaker_client.create_endpoint_config(\n",
    "    EndpointConfigName=endpoint_config_name,\n",
    "    ProductionVariants=[\n",
    "        {\n",
    "            \"ModelName\": production_model_name,\n",
    "            \"InstanceType\": \"ml.m5.xlarge\",\n",
    "            \"InitialVariantWeight\": 1,\n",
    "            \"InitialInstanceCount\": 1,\n",
    "            \"VariantName\": \"ProductionTraffic\",\n",
    "        },\n",
    "    ],\n",
    "    ShadowProductionVariants=[\n",
    "        {\n",
    "            \"ModelName\": shadow_model_name,\n",
    "            \"InstanceType\": \"ml.m5.xlarge\",\n",
    "            \"InitialVariantWeight\": 1,\n",
    "            \"InitialInstanceCount\": 1,\n",
    "            \"VariantName\": \"ShadowTraffic\",\n",
    "        },\n",
    "    ],\n",
    "    DataCaptureConfig={\n",
    "        \"EnableCapture\": True,\n",
    "        \"InitialSamplingPercentage\": 100,\n",
    "        \"DestinationS3Uri\": SHADOW_DATA_DESTINATION,\n",
    "        \"CaptureOptions\": [\n",
    "            {\"CaptureMode\": \"Input\"},\n",
    "            {\"CaptureMode\": \"Output\"},\n",
    "        ],\n",
    "        \"CaptureContentTypeHeader\": {\n",
    "            \"CsvContentTypes\": [\"text/csv\", \"application/octect-stream\"],\n",
    "            \"JsonContentTypes\": [\"application/json\", \"application/octect-stream\"],\n",
    "        },\n",
    "    },\n",
    ")"
   ]
  },
  {
   "cell_type": "markdown",
   "id": "3d8baad3",
   "metadata": {},
   "source": [
    "### Step 4 - Creating the Endpoint\n",
    "\n",
    "Finally, we can create the Endpoint using the Endpoint Configuration we created before.\n"
   ]
  },
  {
   "cell_type": "markdown",
   "id": "e0bb879c",
   "metadata": {},
   "source": [
    "#| hide\n",
    "\n",
    "<div class=\"alert\" style=\"background-color:#0066cc;\"><strong>Note:</strong> \n",
    "    The <code>%%script</code> cell magic is a convenient way to prevent the notebook from executing a specific cell. If you want to run the cell, comment out the line containing the <code>%%script</code> cell magic.\n",
    "</div>\n"
   ]
  },
  {
   "cell_type": "code",
   "execution_count": 161,
   "id": "33e8d886",
   "metadata": {},
   "outputs": [],
   "source": [
    "%%script false --no-raise-error\n",
    "# | eval: false\n",
    "\n",
    "sagemaker_client.create_endpoint(\n",
    "    EndpointName=SHADOW_DEPLOYMENT_ENDPOINT,\n",
    "    EndpointConfigName=endpoint_config_name,\n",
    ")"
   ]
  },
  {
   "cell_type": "markdown",
   "id": "248702a3",
   "metadata": {},
   "source": [
    "### Step 5 - Generating Traffic\n",
    "\n",
    "Let's generate some traffic to the endpoint so we can test the Shadow variant.\n"
   ]
  },
  {
   "cell_type": "code",
   "execution_count": 162,
   "id": "069afdae",
   "metadata": {},
   "outputs": [
    {
     "name": "stdout",
     "output_type": "stream",
     "text": [
      "An error occurred (ValidationError) when calling the InvokeEndpoint operation: Endpoint shadow-penguins-endpoint of account 325223348818 not found.\n"
     ]
    }
   ],
   "source": [
    "payload = \"\"\"\n",
    "0.6569590202313976,-1.0813829646495108,1.2097102831892812,0.9226343641317372,1.0,0.0,0.0\n",
    "-0.7751048801481084,0.8822689351285553,-1.2168066120762704,0.9226343641317372,0.0,1.0,0.0\n",
    "-0.837387834894918,0.3386660813829646,-0.26237731892812,-1.92351941317372,0.0,0.0,1.0\n",
    "\"\"\"\n",
    "\n",
    "predictor = Predictor(\n",
    "    endpoint_name=SHADOW_DEPLOYMENT_ENDPOINT,\n",
    "    serializer=CSVSerializer(),\n",
    "    deserializer=JSONDeserializer(),\n",
    ")\n",
    "\n",
    "try:\n",
    "    response = predictor.predict(payload)\n",
    "    print(json.dumps(response, indent=2))\n",
    "except Exception as e:\n",
    "    print(e)"
   ]
  },
  {
   "cell_type": "markdown",
   "id": "04a5f044",
   "metadata": {},
   "source": [
    "### Step 6 - Checking Captured Data\n",
    "\n",
    "Let's check the location where the endpoint stores the captured data, download a file, and display its content. It may take a few minutes for the first few files to show up in S3.\n",
    "\n",
    "The endpoint will capture the data for both the Production and the Shadow variants.\n"
   ]
  },
  {
   "cell_type": "code",
   "execution_count": 163,
   "id": "9ffadf06",
   "metadata": {},
   "outputs": [
    {
     "name": "stdout",
     "output_type": "stream",
     "text": [
      "File: s3://mlschool/penguins/endpoint/shadow-penguins-endpoint/ShadowTraffic/2024/03/31/16/57-29-141-b62d2c9e-bf7b-4660-8086-e2f28a7c3181.jsonl\n",
      "{\n",
      "  \"captureData\": {\n",
      "    \"endpointInput\": {\n",
      "      \"observedContentType\": \"text/csv\",\n",
      "      \"mode\": \"INPUT\",\n",
      "      \"data\": \"\\n0.6569590202313976,-1.0813829646495108,1.2097102831892812,0.9226343641317372,1.0,0.0,0.0\\n-0.7751048801481084,0.8822689351285553,-1.2168066120762704,0.9226343641317372,0.0,1.0,0.0\\n-0.837387834894918,0.3386660813829646,-0.26237731892812,-1.92351941317372,0.0,0.0,1.0\\n\",\n",
      "      \"encoding\": \"CSV\"\n",
      "    },\n",
      "    \"endpointOutput\": {\n",
      "      \"observedContentType\": \"application/json\",\n",
      "      \"mode\": \"OUTPUT\",\n",
      "      \"data\": \"{    \\\"predictions\\\": [[0.124825425, 0.0847824216, 0.79039216], [0.766525269, 0.220783874, 0.0126908608], [0.944253445, 0.0292692278, 0.0264772158]    ]}\",\n",
      "      \"encoding\": \"JSON\"\n",
      "    }\n",
      "  },\n",
      "  \"eventMetadata\": {\n",
      "    \"eventId\": \"706af7e2-4746-4c81-82f9-3b34120142b8\",\n",
      "    \"invocationSource\": \"ShadowExperiment\",\n",
      "    \"inferenceTime\": \"2024-03-31T16:57:29Z\"\n",
      "  },\n",
      "  \"eventVersion\": \"0\"\n",
      "}\n"
     ]
    }
   ],
   "source": [
    "files = S3Downloader.list(\n",
    "    f\"{SHADOW_DATA_DESTINATION}{SHADOW_DEPLOYMENT_ENDPOINT}/ShadowTraffic/\",\n",
    ")\n",
    "if len(files):\n",
    "    lines = S3Downloader.read_file(files[-1])\n",
    "    print(f\"File: {files[-1]}\")\n",
    "    print(json.dumps(json.loads(lines.split(\"\\n\")[0]), indent=2))"
   ]
  },
  {
   "cell_type": "markdown",
   "id": "b8535163",
   "metadata": {},
   "source": [
    "### Step 7 - Deleting the Endpoint\n",
    "\n",
    "Let's now delete the endpoint.\n"
   ]
  },
  {
   "cell_type": "code",
   "execution_count": 164,
   "id": "2ee1ce12",
   "metadata": {},
   "outputs": [
    {
     "name": "stdout",
     "output_type": "stream",
     "text": [
      "An error occurred (ValidationException) when calling the DeleteEndpoint operation: Could not find endpoint \"shadow-penguins-endpoint\".\n"
     ]
    }
   ],
   "source": [
    "try:\n",
    "    sagemaker_client.delete_endpoint(EndpointName=SHADOW_DEPLOYMENT_ENDPOINT)\n",
    "except Exception as e:\n",
    "    print(e)"
   ]
  },
  {
   "cell_type": "markdown",
   "id": "ff8f99c1",
   "metadata": {},
   "source": [
    "## Running the Pipeline\n",
    "\n",
    "We can run any of the pipelines we defined before by enabling the cell below and specifying the pipeline we want to run.\n"
   ]
  },
  {
   "cell_type": "markdown",
   "id": "cc01c152",
   "metadata": {},
   "source": [
    "#| hide\n",
    "\n",
    "<div class=\"alert\" style=\"background-color:#0066cc;\"><strong>Note:</strong> \n",
    "    The <code>%%script</code> cell magic is a convenient way to prevent the notebook from executing a specific cell. If you want to run the cell, comment out the line containing the <code>%%script</code> cell magic.\n",
    "</div>\n"
   ]
  },
  {
   "cell_type": "code",
   "execution_count": 176,
   "id": "59d1e634",
   "metadata": {
    "tags": [
     "hide-output"
    ]
   },
   "outputs": [
    {
     "name": "stderr",
     "output_type": "stream",
     "text": [
      "INFO:sagemaker.image_uris:image_uri is not presented, retrieving image_uri based on instance_type, framework etc.\n",
      "INFO:sagemaker.processing:Uploaded None to s3://ml-school-dump1/session7-pipeline/code/bfb814b89447f58137b3e29ad7fb7893/sourcedir.tar.gz\n",
      "INFO:sagemaker.processing:runproc.sh uploaded to s3://ml-school-dump1/session7-pipeline/code/f3b7867d7495763812a03744135acb08/runproc.sh\n",
      "INFO:sagemaker.local.entities:Starting execution for pipeline session7-pipeline. Execution ID is e1604ef9-c7e7-4cfb-976d-1970b147cd20\n",
      "INFO:sagemaker.image_uris:image_uri is not presented, retrieving image_uri based on instance_type, framework etc.\n",
      "INFO:sagemaker.processing:Uploaded None to s3://ml-school-dump1/session7-pipeline/code/bfb814b89447f58137b3e29ad7fb7893/sourcedir.tar.gz\n",
      "INFO:sagemaker.processing:runproc.sh uploaded to s3://ml-school-dump1/session7-pipeline/code/f3b7867d7495763812a03744135acb08/runproc.sh\n",
      "INFO:sagemaker.local.entities:Starting pipeline step: 'preprocess-data'\n",
      "INFO:sagemaker.telemetry.telemetry_logging:SageMaker Python SDK will collect telemetry to help us better understand our user's needs, diagnose issues, and deliver additional features.\n",
      "To opt out of telemetry, please disable via TelemetryOptOut parameter in SDK defaults config. For more information, refer to https://sagemaker.readthedocs.io/en/stable/overview.html#configuring-and-using-defaults-with-the-sagemaker-python-sdk.\n",
      "INFO:sagemaker.local.image:'Docker Compose' found using Docker CLI.\n",
      "INFO:sagemaker.local.local_session:Starting processing job\n",
      "INFO:sagemaker.local.image:Using the long-lived AWS credentials found in session\n",
      "INFO:sagemaker.local.image:docker compose file: \n",
      "networks:\n",
      "  sagemaker-local:\n",
      "    name: sagemaker-local\n",
      "services:\n",
      "  algo-1-rrdbt:\n",
      "    container_name: ej3lomaa03-algo-1-rrdbt\n",
      "    entrypoint:\n",
      "    - python3\n",
      "    - /opt/ml/processing/input/code/script.py\n",
      "    environment:\n",
      "    - '[Masked]'\n",
      "    - '[Masked]'\n",
      "    image: 683313688378.dkr.ecr.us-east-1.amazonaws.com/sagemaker-scikit-learn:1.2-1-cpu-py3\n",
      "    networks:\n",
      "      sagemaker-local:\n",
      "        aliases:\n",
      "        - algo-1-rrdbt\n",
      "    stdin_open: true\n",
      "    tty: true\n",
      "    volumes:\n",
      "    - C:\\Users\\Aris\\AppData\\Local\\Temp\\tmpcw4ct_36\\algo-1-rrdbt\\config:/opt/ml/config\n",
      "    - C:\\Users\\Aris\\AppData\\Local\\Temp\\tmpcw4ct_36\\algo-1-rrdbt\\output:/opt/ml/output\n",
      "    - C:\\Users\\Aris\\AppData\\Local\\Temp\\tmpi2o4w66s:/opt/ml/processing/input\n",
      "    - C:\\Users\\Aris\\AppData\\Local\\Temp\\tmpg4somb10:/opt/ml/processing/input/code\n",
      "    - C:\\Users\\Aris\\AppData\\Local\\Temp\\tmp4338iizf\\output\\train:/opt/ml/processing/train\n",
      "    - C:\\Users\\Aris\\AppData\\Local\\Temp\\tmp4338iizf\\output\\validation:/opt/ml/processing/validation\n",
      "    - C:\\Users\\Aris\\AppData\\Local\\Temp\\tmp4338iizf\\output\\test:/opt/ml/processing/test\n",
      "    - C:\\Users\\Aris\\AppData\\Local\\Temp\\tmp4338iizf\\output\\model:/opt/ml/processing/model\n",
      "    - C:\\Users\\Aris\\AppData\\Local\\Temp\\tmp4338iizf\\output\\train-baseline:/opt/ml/processing/train-baseline\n",
      "    - C:\\Users\\Aris\\AppData\\Local\\Temp\\tmp4338iizf\\output\\test-baseline:/opt/ml/processing/test-baseline\n",
      "    - C:\\Users\\Aris\\AppData\\Local\\Temp\\tmp4338iizf\\output\\combined-train-val:/opt/ml/processing/combined_train_val\n",
      "    - C:\\Users\\Aris\\AppData\\Local\\Temp\\tmpcw4ct_36\\shared:/opt/ml/shared\n",
      "version: '2.3'\n",
      "\n",
      "INFO:sagemaker.local.image:docker command: docker compose -f C:\\Users\\Aris\\AppData\\Local\\Temp\\tmpcw4ct_36\\docker-compose.yaml up --build --abort-on-container-exit\n"
     ]
    },
    {
     "name": "stdout",
     "output_type": "stream",
     "text": [
      "time=\"2024-08-21T01:48:08-04:00\" level=warning msg=\"C:\\\\Users\\\\Aris\\\\AppData\\\\Local\\\\Temp\\\\tmpcw4ct_36\\\\docker-compose.yaml: `version` is obsolete\"\n",
      "time=\"2024-08-21T01:48:08-04:00\" level=warning msg=\"a network with name sagemaker-local exists but was not created for project \\\"tmpcw4ct_36\\\".\\nSet `external: true` to use an existing network\"\n",
      " Container ej3lomaa03-algo-1-rrdbt  Creating\n",
      " Container ej3lomaa03-algo-1-rrdbt  Created\n",
      "Attaching to ej3lomaa03-algo-1-rrdbt\n",
      "\u001b[Kej3lomaa03-algo-1-rrdbt exited with code 0\n",
      "Aborting on container exit...\n",
      " Container ej3lomaa03-algo-1-rrdbt  Stopping\n",
      " Container ej3lomaa03-algo-1-rrdbt  Stopped\n"
     ]
    },
    {
     "name": "stderr",
     "output_type": "stream",
     "text": [
      "INFO:sagemaker.local.image:===== Job Complete =====\n",
      "INFO:sagemaker.local.entities:Pipeline step 'preprocess-data' SUCCEEDED.\n",
      "INFO:sagemaker.local.entities:Starting pipeline step: 'train-model'\n",
      "INFO:sagemaker.telemetry.telemetry_logging:SageMaker Python SDK will collect telemetry to help us better understand our user's needs, diagnose issues, and deliver additional features.\n",
      "To opt out of telemetry, please disable via TelemetryOptOut parameter in SDK defaults config. For more information, refer to https://sagemaker.readthedocs.io/en/stable/overview.html#configuring-and-using-defaults-with-the-sagemaker-python-sdk.\n",
      "INFO:sagemaker.local.image:'Docker Compose' found using Docker CLI.\n",
      "INFO:sagemaker.local.local_session:Starting training job\n",
      "INFO:sagemaker.local.image:Using the long-lived AWS credentials found in session\n",
      "INFO:sagemaker.local.image:docker compose file: \n",
      "networks:\n",
      "  sagemaker-local:\n",
      "    name: sagemaker-local\n",
      "services:\n",
      "  algo-1-so8st:\n",
      "    command: train\n",
      "    container_name: y1lgo7z61e-algo-1-so8st\n",
      "    environment:\n",
      "    - '[Masked]'\n",
      "    - '[Masked]'\n",
      "    - '[Masked]'\n",
      "    - '[Masked]'\n",
      "    - '[Masked]'\n",
      "    - '[Masked]'\n",
      "    - '[Masked]'\n",
      "    image: 763104351884.dkr.ecr.us-east-1.amazonaws.com/tensorflow-training:2.12-cpu-py310\n",
      "    networks:\n",
      "      sagemaker-local:\n",
      "        aliases:\n",
      "        - algo-1-so8st\n",
      "    stdin_open: true\n",
      "    tty: true\n",
      "    volumes:\n",
      "    - C:\\Users\\Aris\\AppData\\Local\\Temp\\tmpft6_m_sj\\algo-1-so8st\\output/data:/opt/ml/output/data\n",
      "    - C:\\Users\\Aris\\AppData\\Local\\Temp\\tmpft6_m_sj\\algo-1-so8st\\output:/opt/ml/output\n",
      "    - C:\\Users\\Aris\\AppData\\Local\\Temp\\tmpft6_m_sj\\algo-1-so8st\\input:/opt/ml/input\n",
      "    - C:\\Users\\Aris\\AppData\\Local\\Temp\\tmpft6_m_sj\\model:/opt/ml/model\n",
      "    - C:\\Users\\Aris\\AppData\\Local\\Temp\\tmphpnc_b_l:/opt/ml/input/data/train\n",
      "    - C:\\Users\\Aris\\AppData\\Local\\Temp\\tmp5ca7pv83:/opt/ml/input/data/validation\n",
      "    - C:\\Users\\Aris\\AppData\\Local\\Temp\\tmpu1a0rbc1:/opt/ml/input/data/pipeline\n",
      "version: '2.3'\n",
      "\n",
      "INFO:sagemaker.local.image:docker command: docker compose -f C:\\Users\\Aris\\AppData\\Local\\Temp\\tmpft6_m_sj\\docker-compose.yaml up --build --abort-on-container-exit\n"
     ]
    },
    {
     "name": "stdout",
     "output_type": "stream",
     "text": [
      "time=\"2024-08-21T01:48:19-04:00\" level=warning msg=\"C:\\\\Users\\\\Aris\\\\AppData\\\\Local\\\\Temp\\\\tmpft6_m_sj\\\\docker-compose.yaml: `version` is obsolete\"\n",
      "time=\"2024-08-21T01:48:19-04:00\" level=warning msg=\"a network with name sagemaker-local exists but was not created for project \\\"tmpft6_m_sj\\\".\\nSet `external: true` to use an existing network\"\n",
      " Container y1lgo7z61e-algo-1-so8st  Creating\n",
      " Container y1lgo7z61e-algo-1-so8st  Created\n",
      "Attaching to y1lgo7z61e-algo-1-so8st\n",
      "y1lgo7z61e-algo-1-so8st  | 2024-08-21 05:48:27,553 sagemaker-training-toolkit INFO     Imported framework sagemaker_tensorflow_container.training\n",
      "y1lgo7z61e-algo-1-so8st  | 2024-08-21 05:48:27,557 sagemaker-training-toolkit INFO     No GPUs detected (normal if no gpus installed)\n",
      "y1lgo7z61e-algo-1-so8st  | 2024-08-21 05:48:27,559 sagemaker-training-toolkit INFO     No Neurons detected (normal if no neurons installed)\n",
      "y1lgo7z61e-algo-1-so8st  | 2024-08-21 05:48:27,573 sagemaker-training-toolkit INFO     instance_groups entry not present in resource_config\n",
      "y1lgo7z61e-algo-1-so8st  | 2024-08-21 05:48:27,596 botocore.credentials INFO     Found credentials in environment variables.\n",
      "y1lgo7z61e-algo-1-so8st  | 2024-08-21 05:48:28,612 sagemaker-training-toolkit INFO     Installing dependencies from requirements.txt:\n",
      "y1lgo7z61e-algo-1-so8st  | /usr/local/bin/python3.10 -m pip install -r requirements.txt\n",
      "y1lgo7z61e-algo-1-so8st  | Collecting comet_ml (from -r requirements.txt (line 5))\n",
      "y1lgo7z61e-algo-1-so8st  | Downloading comet_ml-3.44.4-py3-none-any.whl.metadata (3.9 kB)\n",
      "y1lgo7z61e-algo-1-so8st  | Collecting everett<3.2.0,>=1.0.1 (from everett[ini]<3.2.0,>=1.0.1->comet_ml->-r requirements.txt (line 5))\n",
      "y1lgo7z61e-algo-1-so8st  | Downloading everett-3.1.0-py2.py3-none-any.whl.metadata (17 kB)\n",
      "y1lgo7z61e-algo-1-so8st  | Requirement already satisfied: jsonschema!=3.1.0,>=2.6.0 in /usr/local/lib/python3.10/site-packages (from comet_ml->-r requirements.txt (line 5)) (4.21.1)\n",
      "y1lgo7z61e-algo-1-so8st  | Requirement already satisfied: psutil>=5.6.3 in /usr/local/lib/python3.10/site-packages (from comet_ml->-r requirements.txt (line 5)) (5.9.8)\n",
      "y1lgo7z61e-algo-1-so8st  | Collecting python-box<7.0.0 (from comet_ml->-r requirements.txt (line 5))\n",
      "y1lgo7z61e-algo-1-so8st  | Downloading python_box-6.1.0-cp310-cp310-manylinux_2_17_x86_64.manylinux2014_x86_64.whl.metadata (7.8 kB)\n",
      "y1lgo7z61e-algo-1-so8st  | Collecting requests-toolbelt>=0.8.0 (from comet_ml->-r requirements.txt (line 5))\n",
      "y1lgo7z61e-algo-1-so8st  | Downloading requests_toolbelt-1.0.0-py2.py3-none-any.whl.metadata (14 kB)\n",
      "y1lgo7z61e-algo-1-so8st  | Requirement already satisfied: requests>=2.18.4 in /usr/local/lib/python3.10/site-packages (from comet_ml->-r requirements.txt (line 5)) (2.31.0)\n",
      "y1lgo7z61e-algo-1-so8st  | Collecting semantic-version>=2.8.0 (from comet_ml->-r requirements.txt (line 5))\n",
      "y1lgo7z61e-algo-1-so8st  | Downloading semantic_version-2.10.0-py2.py3-none-any.whl.metadata (9.7 kB)\n",
      "y1lgo7z61e-algo-1-so8st  | Collecting sentry-sdk>=1.1.0 (from comet_ml->-r requirements.txt (line 5))\n",
      "y1lgo7z61e-algo-1-so8st  | Downloading sentry_sdk-2.13.0-py2.py3-none-any.whl.metadata (9.7 kB)\n",
      "y1lgo7z61e-algo-1-so8st  | Collecting simplejson (from comet_ml->-r requirements.txt (line 5))\n",
      "y1lgo7z61e-algo-1-so8st  | Downloading simplejson-3.19.3-cp310-cp310-manylinux_2_5_x86_64.manylinux1_x86_64.manylinux_2_17_x86_64.manylinux2014_x86_64.whl.metadata (3.2 kB)\n",
      "y1lgo7z61e-algo-1-so8st  | Requirement already satisfied: urllib3>=1.21.1 in /usr/local/lib/python3.10/site-packages (from comet_ml->-r requirements.txt (line 5)) (1.26.18)\n",
      "y1lgo7z61e-algo-1-so8st  | Requirement already satisfied: wrapt>=1.11.2 in /usr/local/lib/python3.10/site-packages (from comet_ml->-r requirements.txt (line 5)) (1.14.1)\n",
      "y1lgo7z61e-algo-1-so8st  | Collecting wurlitzer>=1.0.2 (from comet_ml->-r requirements.txt (line 5))\n",
      "y1lgo7z61e-algo-1-so8st  | Downloading wurlitzer-3.1.1-py3-none-any.whl.metadata (2.5 kB)\n",
      "y1lgo7z61e-algo-1-so8st  | Collecting dulwich!=0.20.33,>=0.20.6 (from comet_ml->-r requirements.txt (line 5))\n",
      "y1lgo7z61e-algo-1-so8st  | Downloading dulwich-0.22.1-cp310-cp310-manylinux_2_17_x86_64.manylinux2014_x86_64.whl.metadata (4.4 kB)\n",
      "y1lgo7z61e-algo-1-so8st  | Collecting rich>=13.3.2 (from comet_ml->-r requirements.txt (line 5))\n",
      "y1lgo7z61e-algo-1-so8st  | Downloading rich-13.7.1-py3-none-any.whl.metadata (18 kB)\n",
      "y1lgo7z61e-algo-1-so8st  | Collecting configobj (from everett[ini]<3.2.0,>=1.0.1->comet_ml->-r requirements.txt (line 5))\n",
      "y1lgo7z61e-algo-1-so8st  | Downloading configobj-5.0.8-py2.py3-none-any.whl.metadata (3.4 kB)\n",
      "y1lgo7z61e-algo-1-so8st  | Requirement already satisfied: attrs>=22.2.0 in /usr/local/lib/python3.10/site-packages (from jsonschema!=3.1.0,>=2.6.0->comet_ml->-r requirements.txt (line 5)) (23.2.0)\n",
      "y1lgo7z61e-algo-1-so8st  | Requirement already satisfied: jsonschema-specifications>=2023.03.6 in /usr/local/lib/python3.10/site-packages (from jsonschema!=3.1.0,>=2.6.0->comet_ml->-r requirements.txt (line 5)) (2023.12.1)\n",
      "y1lgo7z61e-algo-1-so8st  | Requirement already satisfied: referencing>=0.28.4 in /usr/local/lib/python3.10/site-packages (from jsonschema!=3.1.0,>=2.6.0->comet_ml->-r requirements.txt (line 5)) (0.33.0)\n",
      "y1lgo7z61e-algo-1-so8st  | Requirement already satisfied: rpds-py>=0.7.1 in /usr/local/lib/python3.10/site-packages (from jsonschema!=3.1.0,>=2.6.0->comet_ml->-r requirements.txt (line 5)) (0.17.1)\n",
      "y1lgo7z61e-algo-1-so8st  | Requirement already satisfied: charset-normalizer<4,>=2 in /usr/local/lib/python3.10/site-packages (from requests>=2.18.4->comet_ml->-r requirements.txt (line 5)) (3.3.2)\n",
      "y1lgo7z61e-algo-1-so8st  | Requirement already satisfied: idna<4,>=2.5 in /usr/local/lib/python3.10/site-packages (from requests>=2.18.4->comet_ml->-r requirements.txt (line 5)) (3.6)\n",
      "y1lgo7z61e-algo-1-so8st  | Requirement already satisfied: certifi>=2017.4.17 in /usr/local/lib/python3.10/site-packages (from requests>=2.18.4->comet_ml->-r requirements.txt (line 5)) (2024.2.2)\n",
      "y1lgo7z61e-algo-1-so8st  | Collecting markdown-it-py>=2.2.0 (from rich>=13.3.2->comet_ml->-r requirements.txt (line 5))\n",
      "y1lgo7z61e-algo-1-so8st  | Downloading markdown_it_py-3.0.0-py3-none-any.whl.metadata (6.9 kB)\n",
      "y1lgo7z61e-algo-1-so8st  | Requirement already satisfied: pygments<3.0.0,>=2.13.0 in /usr/local/lib/python3.10/site-packages (from rich>=13.3.2->comet_ml->-r requirements.txt (line 5)) (2.17.2)\n",
      "y1lgo7z61e-algo-1-so8st  | Collecting mdurl~=0.1 (from markdown-it-py>=2.2.0->rich>=13.3.2->comet_ml->-r requirements.txt (line 5))\n",
      "y1lgo7z61e-algo-1-so8st  | Downloading mdurl-0.1.2-py3-none-any.whl.metadata (1.6 kB)\n",
      "y1lgo7z61e-algo-1-so8st  | Requirement already satisfied: six in /usr/local/lib/python3.10/site-packages (from configobj->everett[ini]<3.2.0,>=1.0.1->comet_ml->-r requirements.txt (line 5)) (1.16.0)\n",
      "y1lgo7z61e-algo-1-so8st  | Downloading comet_ml-3.44.4-py3-none-any.whl (684 kB)\n",
      "y1lgo7z61e-algo-1-so8st  | ━━━━━━━━━━━━━━━━━━━━━━━━━━━━━━━━━━━━━━━━ 684.6/684.6 kB 2.7 MB/s eta 0:00:00\n",
      "y1lgo7z61e-algo-1-so8st  | \n",
      "y1lgo7z61e-algo-1-so8st  | Downloading dulwich-0.22.1-cp310-cp310-manylinux_2_17_x86_64.manylinux2014_x86_64.whl (979 kB)\n",
      "y1lgo7z61e-algo-1-so8st  | ━━━━━━━━━━━━━━━━━━━━━━━━━━━━━━━━━━━━━━━━ 979.1/979.1 kB 8.5 MB/s eta 0:00:00\n",
      "y1lgo7z61e-algo-1-so8st  | \n",
      "y1lgo7z61e-algo-1-so8st  | Downloading everett-3.1.0-py2.py3-none-any.whl (35 kB)\n",
      "y1lgo7z61e-algo-1-so8st  | Downloading python_box-6.1.0-cp310-cp310-manylinux_2_17_x86_64.manylinux2014_x86_64.whl (3.3 MB)\n",
      "y1lgo7z61e-algo-1-so8st  | ━━━━━━━━━━━━━━━━━━━━━━━━━━━━━━━━━━━━━━━━ 3.3/3.3 MB 6.8 MB/s eta 0:00:00\n",
      "y1lgo7z61e-algo-1-so8st  | \n",
      "y1lgo7z61e-algo-1-so8st  | Downloading requests_toolbelt-1.0.0-py2.py3-none-any.whl (54 kB)\n",
      "y1lgo7z61e-algo-1-so8st  | ━━━━━━━━━━━━━━━━━━━━━━━━━━━━━━━━━━━━━━━━ 54.5/54.5 kB 689.7 kB/s eta 0:00:00\n",
      "y1lgo7z61e-algo-1-so8st  | \n",
      "y1lgo7z61e-algo-1-so8st  | Downloading rich-13.7.1-py3-none-any.whl (240 kB)\n",
      "y1lgo7z61e-algo-1-so8st  | ━━━━━━━━━━━━━━━━━━━━━━━━━━━━━━━━━━━━━━━━ 240.7/240.7 kB 3.9 MB/s eta 0:00:00\n",
      "y1lgo7z61e-algo-1-so8st  | \n",
      "y1lgo7z61e-algo-1-so8st  | Downloading semantic_version-2.10.0-py2.py3-none-any.whl (15 kB)\n",
      "y1lgo7z61e-algo-1-so8st  | Downloading sentry_sdk-2.13.0-py2.py3-none-any.whl (309 kB)\n",
      "y1lgo7z61e-algo-1-so8st  | ━━━━━━━━━━━━━━━━━━━━━━━━━━━━━━━━━━━━━━━━ 309.1/309.1 kB 8.3 MB/s eta 0:00:00\n",
      "y1lgo7z61e-algo-1-so8st  | \n",
      "y1lgo7z61e-algo-1-so8st  | Downloading wurlitzer-3.1.1-py3-none-any.whl (8.6 kB)\n",
      "y1lgo7z61e-algo-1-so8st  | Downloading simplejson-3.19.3-cp310-cp310-manylinux_2_5_x86_64.manylinux1_x86_64.manylinux_2_17_x86_64.manylinux2014_x86_64.whl (137 kB)\n",
      "y1lgo7z61e-algo-1-so8st  | ━━━━━━━━━━━━━━━━━━━━━━━━━━━━━━━━━━━━━━━━ 137.9/137.9 kB 5.4 MB/s eta 0:00:00\n",
      "y1lgo7z61e-algo-1-so8st  | \n",
      "y1lgo7z61e-algo-1-so8st  | Downloading markdown_it_py-3.0.0-py3-none-any.whl (87 kB)\n",
      "y1lgo7z61e-algo-1-so8st  | ━━━━━━━━━━━━━━━━━━━━━━━━━━━━━━━━━━━━━━━━ 87.5/87.5 kB 3.3 MB/s eta 0:00:00\n",
      "y1lgo7z61e-algo-1-so8st  | \n",
      "y1lgo7z61e-algo-1-so8st  | Downloading configobj-5.0.8-py2.py3-none-any.whl (36 kB)\n",
      "y1lgo7z61e-algo-1-so8st  | Downloading mdurl-0.1.2-py3-none-any.whl (10.0 kB)\n",
      "y1lgo7z61e-algo-1-so8st  | Installing collected packages: everett, wurlitzer, simplejson, sentry-sdk, semantic-version, python-box, mdurl, dulwich, configobj, requests-toolbelt, markdown-it-py, rich, comet_ml\n",
      "y1lgo7z61e-algo-1-so8st  | Successfully installed comet_ml-3.44.4 configobj-5.0.8 dulwich-0.22.1 everett-3.1.0 markdown-it-py-3.0.0 mdurl-0.1.2 python-box-6.1.0 requests-toolbelt-1.0.0 rich-13.7.1 semantic-version-2.10.0 sentry-sdk-2.13.0 simplejson-3.19.3 wurlitzer-3.1.1\n",
      "y1lgo7z61e-algo-1-so8st  | WARNING: Running pip as the 'root' user can result in broken permissions and conflicting behaviour with the system package manager. It is recommended to use a virtual environment instead: https://pip.pypa.io/warnings/venv\n",
      "y1lgo7z61e-algo-1-so8st  | [notice] A new release of pip is available: 23.3.2 -> 24.2\n",
      "y1lgo7z61e-algo-1-so8st  | [notice] To update, run: pip install --upgrade pip\n",
      "y1lgo7z61e-algo-1-so8st  | 2024-08-21 05:48:40,385 sagemaker-training-toolkit INFO     Waiting for the process to finish and give a return code.\n",
      "y1lgo7z61e-algo-1-so8st  | 2024-08-21 05:48:40,386 sagemaker-training-toolkit INFO     Done waiting for a return code. Received 0 from exiting process.\n",
      "y1lgo7z61e-algo-1-so8st  | 2024-08-21 05:48:40,388 sagemaker-training-toolkit INFO     No GPUs detected (normal if no gpus installed)\n",
      "y1lgo7z61e-algo-1-so8st  | 2024-08-21 05:48:40,389 sagemaker-training-toolkit INFO     No Neurons detected (normal if no neurons installed)\n",
      "y1lgo7z61e-algo-1-so8st  | 2024-08-21 05:48:40,409 sagemaker-training-toolkit INFO     instance_groups entry not present in resource_config\n",
      "y1lgo7z61e-algo-1-so8st  | 2024-08-21 05:48:40,414 sagemaker-training-toolkit INFO     No GPUs detected (normal if no gpus installed)\n",
      "y1lgo7z61e-algo-1-so8st  | 2024-08-21 05:48:40,416 sagemaker-training-toolkit INFO     No Neurons detected (normal if no neurons installed)\n",
      "y1lgo7z61e-algo-1-so8st  | 2024-08-21 05:48:40,435 sagemaker-training-toolkit INFO     instance_groups entry not present in resource_config\n",
      "y1lgo7z61e-algo-1-so8st  | 2024-08-21 05:48:40,440 sagemaker-training-toolkit INFO     No GPUs detected (normal if no gpus installed)\n",
      "y1lgo7z61e-algo-1-so8st  | 2024-08-21 05:48:40,442 sagemaker-training-toolkit INFO     No Neurons detected (normal if no neurons installed)\n",
      "y1lgo7z61e-algo-1-so8st  | 2024-08-21 05:48:40,461 sagemaker-training-toolkit INFO     instance_groups entry not present in resource_config\n",
      "y1lgo7z61e-algo-1-so8st  | 2024-08-21 05:48:40,465 sagemaker-training-toolkit INFO     Invoking user script\n",
      "y1lgo7z61e-algo-1-so8st  | \n",
      "y1lgo7z61e-algo-1-so8st  | Training Env:\n",
      "y1lgo7z61e-algo-1-so8st  | \n",
      "y1lgo7z61e-algo-1-so8st  | {\n",
      "y1lgo7z61e-algo-1-so8st  |     \"additional_framework_parameters\": {},\n",
      "y1lgo7z61e-algo-1-so8st  |     \"channel_input_dirs\": {\n",
      "y1lgo7z61e-algo-1-so8st  |         \"train\": \"/opt/ml/input/data/train\",\n",
      "y1lgo7z61e-algo-1-so8st  |         \"validation\": \"/opt/ml/input/data/validation\",\n",
      "y1lgo7z61e-algo-1-so8st  |         \"pipeline\": \"/opt/ml/input/data/pipeline\"\n",
      "y1lgo7z61e-algo-1-so8st  |     },\n",
      "y1lgo7z61e-algo-1-so8st  |     \"current_host\": \"algo-1-so8st\",\n",
      "y1lgo7z61e-algo-1-so8st  |     \"current_instance_group\": \"homogeneousCluster\",\n",
      "y1lgo7z61e-algo-1-so8st  |     \"current_instance_group_hosts\": [],\n",
      "y1lgo7z61e-algo-1-so8st  |     \"current_instance_type\": \"local\",\n",
      "y1lgo7z61e-algo-1-so8st  |     \"distribution_hosts\": [\n",
      "y1lgo7z61e-algo-1-so8st  |         \"algo-1-so8st\"\n",
      "y1lgo7z61e-algo-1-so8st  |     ],\n",
      "y1lgo7z61e-algo-1-so8st  |     \"distribution_instance_groups\": [],\n",
      "y1lgo7z61e-algo-1-so8st  |     \"framework_module\": \"sagemaker_tensorflow_container.training:main\",\n",
      "y1lgo7z61e-algo-1-so8st  |     \"hosts\": [\n",
      "y1lgo7z61e-algo-1-so8st  |         \"algo-1-so8st\"\n",
      "y1lgo7z61e-algo-1-so8st  |     ],\n",
      "y1lgo7z61e-algo-1-so8st  |     \"hyperparameters\": {\n",
      "y1lgo7z61e-algo-1-so8st  |         \"epochs\": 50,\n",
      "y1lgo7z61e-algo-1-so8st  |         \"batch_size\": 32,\n",
      "y1lgo7z61e-algo-1-so8st  |         \"learning_rate\": 0.01,\n",
      "y1lgo7z61e-algo-1-so8st  |         \"model_dir\": \"s3://ml-school-dump1/training-2024-08-21-00-02-40-018/model\"\n",
      "y1lgo7z61e-algo-1-so8st  |     },\n",
      "y1lgo7z61e-algo-1-so8st  |     \"input_config_dir\": \"/opt/ml/input/config\",\n",
      "y1lgo7z61e-algo-1-so8st  |     \"input_data_config\": {\n",
      "y1lgo7z61e-algo-1-so8st  |         \"train\": {\n",
      "y1lgo7z61e-algo-1-so8st  |             \"TrainingInputMode\": \"File\",\n",
      "y1lgo7z61e-algo-1-so8st  |             \"ContentType\": \"text/csv\"\n",
      "y1lgo7z61e-algo-1-so8st  |         },\n",
      "y1lgo7z61e-algo-1-so8st  |         \"validation\": {\n",
      "y1lgo7z61e-algo-1-so8st  |             \"TrainingInputMode\": \"File\",\n",
      "y1lgo7z61e-algo-1-so8st  |             \"ContentType\": \"text/csv\"\n",
      "y1lgo7z61e-algo-1-so8st  |         },\n",
      "y1lgo7z61e-algo-1-so8st  |         \"pipeline\": {\n",
      "y1lgo7z61e-algo-1-so8st  |             \"TrainingInputMode\": \"File\",\n",
      "y1lgo7z61e-algo-1-so8st  |             \"ContentType\": \"application/tar+gzip\"\n",
      "y1lgo7z61e-algo-1-so8st  |         }\n",
      "y1lgo7z61e-algo-1-so8st  |     },\n",
      "y1lgo7z61e-algo-1-so8st  |     \"input_dir\": \"/opt/ml/input\",\n",
      "y1lgo7z61e-algo-1-so8st  |     \"instance_groups\": [],\n",
      "y1lgo7z61e-algo-1-so8st  |     \"instance_groups_dict\": {},\n",
      "y1lgo7z61e-algo-1-so8st  |     \"is_hetero\": false,\n",
      "y1lgo7z61e-algo-1-so8st  |     \"is_master\": true,\n",
      "y1lgo7z61e-algo-1-so8st  |     \"is_modelparallel_enabled\": null,\n",
      "y1lgo7z61e-algo-1-so8st  |     \"is_smddpmprun_installed\": false,\n",
      "y1lgo7z61e-algo-1-so8st  |     \"is_smddprun_installed\": false,\n",
      "y1lgo7z61e-algo-1-so8st  |     \"job_name\": \"training\",\n",
      "y1lgo7z61e-algo-1-so8st  |     \"log_level\": 20,\n",
      "y1lgo7z61e-algo-1-so8st  |     \"master_hostname\": \"algo-1-so8st\",\n",
      "y1lgo7z61e-algo-1-so8st  |     \"model_dir\": \"/opt/ml/model\",\n",
      "y1lgo7z61e-algo-1-so8st  |     \"module_dir\": \"s3://ml-school-dump1/session7-pipeline/code/1dcb12224e230f25184d753709334a3d/sourcedir.tar.gz\",\n",
      "y1lgo7z61e-algo-1-so8st  |     \"module_name\": \"script\",\n",
      "y1lgo7z61e-algo-1-so8st  |     \"network_interface_name\": \"eth0\",\n",
      "y1lgo7z61e-algo-1-so8st  |     \"num_cpus\": 12,\n",
      "y1lgo7z61e-algo-1-so8st  |     \"num_gpus\": 0,\n",
      "y1lgo7z61e-algo-1-so8st  |     \"num_neurons\": 0,\n",
      "y1lgo7z61e-algo-1-so8st  |     \"output_data_dir\": \"/opt/ml/output/data\",\n",
      "y1lgo7z61e-algo-1-so8st  |     \"output_dir\": \"/opt/ml/output\",\n",
      "y1lgo7z61e-algo-1-so8st  |     \"output_intermediate_dir\": \"/opt/ml/output/intermediate\",\n",
      "y1lgo7z61e-algo-1-so8st  |     \"resource_config\": {\n",
      "y1lgo7z61e-algo-1-so8st  |         \"current_host\": \"algo-1-so8st\",\n",
      "y1lgo7z61e-algo-1-so8st  |         \"hosts\": [\n",
      "y1lgo7z61e-algo-1-so8st  |             \"algo-1-so8st\"\n",
      "y1lgo7z61e-algo-1-so8st  |         ]\n",
      "y1lgo7z61e-algo-1-so8st  |     },\n",
      "y1lgo7z61e-algo-1-so8st  |     \"user_entry_point\": \"script.py\"\n",
      "y1lgo7z61e-algo-1-so8st  | }\n",
      "y1lgo7z61e-algo-1-so8st  | \n",
      "y1lgo7z61e-algo-1-so8st  | Environment variables:\n",
      "y1lgo7z61e-algo-1-so8st  | \n",
      "y1lgo7z61e-algo-1-so8st  | SM_HOSTS=[\"algo-1-so8st\"]\n",
      "y1lgo7z61e-algo-1-so8st  | SM_NETWORK_INTERFACE_NAME=eth0\n",
      "y1lgo7z61e-algo-1-so8st  | SM_HPS={\"batch_size\":32,\"epochs\":50,\"learning_rate\":0.01,\"model_dir\":\"s3://ml-school-dump1/training-2024-08-21-00-02-40-018/model\"}\n",
      "y1lgo7z61e-algo-1-so8st  | SM_USER_ENTRY_POINT=script.py\n",
      "y1lgo7z61e-algo-1-so8st  | SM_FRAMEWORK_PARAMS={}\n",
      "y1lgo7z61e-algo-1-so8st  | SM_RESOURCE_CONFIG={\"current_host\":\"algo-1-so8st\",\"hosts\":[\"algo-1-so8st\"]}\n",
      "y1lgo7z61e-algo-1-so8st  | SM_INPUT_DATA_CONFIG={\"pipeline\":{\"ContentType\":\"application/tar+gzip\",\"TrainingInputMode\":\"File\"},\"train\":{\"ContentType\":\"text/csv\",\"TrainingInputMode\":\"File\"},\"validation\":{\"ContentType\":\"text/csv\",\"TrainingInputMode\":\"File\"}}\n",
      "y1lgo7z61e-algo-1-so8st  | SM_OUTPUT_DATA_DIR=/opt/ml/output/data\n",
      "y1lgo7z61e-algo-1-so8st  | SM_CHANNELS=[\"pipeline\",\"train\",\"validation\"]\n",
      "y1lgo7z61e-algo-1-so8st  | SM_CURRENT_HOST=algo-1-so8st\n",
      "y1lgo7z61e-algo-1-so8st  | SM_CURRENT_INSTANCE_TYPE=local\n",
      "y1lgo7z61e-algo-1-so8st  | SM_CURRENT_INSTANCE_GROUP=homogeneousCluster\n",
      "y1lgo7z61e-algo-1-so8st  | SM_CURRENT_INSTANCE_GROUP_HOSTS=[]\n",
      "y1lgo7z61e-algo-1-so8st  | SM_INSTANCE_GROUPS=[]\n",
      "y1lgo7z61e-algo-1-so8st  | SM_INSTANCE_GROUPS_DICT={}\n",
      "y1lgo7z61e-algo-1-so8st  | SM_DISTRIBUTION_INSTANCE_GROUPS=[]\n",
      "y1lgo7z61e-algo-1-so8st  | SM_IS_HETERO=false\n",
      "y1lgo7z61e-algo-1-so8st  | SM_MODULE_NAME=script\n",
      "y1lgo7z61e-algo-1-so8st  | SM_LOG_LEVEL=20\n",
      "y1lgo7z61e-algo-1-so8st  | SM_FRAMEWORK_MODULE=sagemaker_tensorflow_container.training:main\n",
      "y1lgo7z61e-algo-1-so8st  | SM_INPUT_DIR=/opt/ml/input\n",
      "y1lgo7z61e-algo-1-so8st  | SM_INPUT_CONFIG_DIR=/opt/ml/input/config\n",
      "y1lgo7z61e-algo-1-so8st  | SM_OUTPUT_DIR=/opt/ml/output\n",
      "y1lgo7z61e-algo-1-so8st  | SM_NUM_CPUS=12\n",
      "y1lgo7z61e-algo-1-so8st  | SM_NUM_GPUS=0\n",
      "y1lgo7z61e-algo-1-so8st  | SM_NUM_NEURONS=0\n",
      "y1lgo7z61e-algo-1-so8st  | SM_MODEL_DIR=/opt/ml/model\n",
      "y1lgo7z61e-algo-1-so8st  | SM_MODULE_DIR=s3://ml-school-dump1/session7-pipeline/code/1dcb12224e230f25184d753709334a3d/sourcedir.tar.gz\n",
      "y1lgo7z61e-algo-1-so8st  | SM_TRAINING_ENV={\"additional_framework_parameters\":{},\"channel_input_dirs\":{\"pipeline\":\"/opt/ml/input/data/pipeline\",\"train\":\"/opt/ml/input/data/train\",\"validation\":\"/opt/ml/input/data/validation\"},\"current_host\":\"algo-1-so8st\",\"current_instance_group\":\"homogeneousCluster\",\"current_instance_group_hosts\":[],\"current_instance_type\":\"local\",\"distribution_hosts\":[\"algo-1-so8st\"],\"distribution_instance_groups\":[],\"framework_module\":\"sagemaker_tensorflow_container.training:main\",\"hosts\":[\"algo-1-so8st\"],\"hyperparameters\":{\"batch_size\":32,\"epochs\":50,\"learning_rate\":0.01,\"model_dir\":\"s3://ml-school-dump1/training-2024-08-21-00-02-40-018/model\"},\"input_config_dir\":\"/opt/ml/input/config\",\"input_data_config\":{\"pipeline\":{\"ContentType\":\"application/tar+gzip\",\"TrainingInputMode\":\"File\"},\"train\":{\"ContentType\":\"text/csv\",\"TrainingInputMode\":\"File\"},\"validation\":{\"ContentType\":\"text/csv\",\"TrainingInputMode\":\"File\"}},\"input_dir\":\"/opt/ml/input\",\"instance_groups\":[],\"instance_groups_dict\":{},\"is_hetero\":false,\"is_master\":true,\"is_modelparallel_enabled\":null,\"is_smddpmprun_installed\":false,\"is_smddprun_installed\":false,\"job_name\":\"training\",\"log_level\":20,\"master_hostname\":\"algo-1-so8st\",\"model_dir\":\"/opt/ml/model\",\"module_dir\":\"s3://ml-school-dump1/session7-pipeline/code/1dcb12224e230f25184d753709334a3d/sourcedir.tar.gz\",\"module_name\":\"script\",\"network_interface_name\":\"eth0\",\"num_cpus\":12,\"num_gpus\":0,\"num_neurons\":0,\"output_data_dir\":\"/opt/ml/output/data\",\"output_dir\":\"/opt/ml/output\",\"output_intermediate_dir\":\"/opt/ml/output/intermediate\",\"resource_config\":{\"current_host\":\"algo-1-so8st\",\"hosts\":[\"algo-1-so8st\"]},\"user_entry_point\":\"script.py\"}\n",
      "y1lgo7z61e-algo-1-so8st  | SM_USER_ARGS=[\"--batch_size\",\"32\",\"--epochs\",\"50\",\"--learning_rate\",\"0.01\",\"--model_dir\",\"s3://ml-school-dump1/training-2024-08-21-00-02-40-018/model\"]\n",
      "y1lgo7z61e-algo-1-so8st  | SM_OUTPUT_INTERMEDIATE_DIR=/opt/ml/output/intermediate\n",
      "y1lgo7z61e-algo-1-so8st  | SM_CHANNEL_TRAIN=/opt/ml/input/data/train\n",
      "y1lgo7z61e-algo-1-so8st  | SM_CHANNEL_VALIDATION=/opt/ml/input/data/validation\n",
      "y1lgo7z61e-algo-1-so8st  | SM_CHANNEL_PIPELINE=/opt/ml/input/data/pipeline\n",
      "y1lgo7z61e-algo-1-so8st  | SM_HP_EPOCHS=50\n",
      "y1lgo7z61e-algo-1-so8st  | SM_HP_BATCH_SIZE=32\n",
      "y1lgo7z61e-algo-1-so8st  | SM_HP_LEARNING_RATE=0.01\n",
      "y1lgo7z61e-algo-1-so8st  | SM_HP_MODEL_DIR=s3://ml-school-dump1/training-2024-08-21-00-02-40-018/model\n",
      "y1lgo7z61e-algo-1-so8st  | PYTHONPATH=/opt/ml/code:/usr/local/bin:/usr/local/lib/python310.zip:/usr/local/lib/python3.10:/usr/local/lib/python3.10/lib-dynload:/usr/local/lib/python3.10/site-packages:/usr/local/lib/python3.10/site-packages/smdebug-1.0.33-py3.10.egg:/usr/local/lib/python3.10/site-packages/pyinstrument-3.4.2-py3.10.egg:/usr/local/lib/python3.10/site-packages/pyinstrument_cext-0.2.4-py3.10-linux-x86_64.egg\n",
      "y1lgo7z61e-algo-1-so8st  | \n",
      "y1lgo7z61e-algo-1-so8st  | Invoking script with the following command:\n",
      "y1lgo7z61e-algo-1-so8st  | \n",
      "y1lgo7z61e-algo-1-so8st  | /usr/local/bin/python3.10 script.py --batch_size 32 --epochs 50 --learning_rate 0.01 --model_dir s3://ml-school-dump1/training-2024-08-21-00-02-40-018/model\n",
      "y1lgo7z61e-algo-1-so8st  | \n",
      "y1lgo7z61e-algo-1-so8st  | \n",
      "y1lgo7z61e-algo-1-so8st  | Extension horovod.torch has not been built: /usr/local/lib/python3.10/site-packages/horovod/torch/mpi_lib_v2.cpython-310-x86_64-linux-gnu.so not found\n",
      "y1lgo7z61e-algo-1-so8st  | If this is not expected, reinstall Horovod with HOROVOD_WITH_PYTORCH=1 to debug the build error.\n",
      "y1lgo7z61e-algo-1-so8st  | Warning! MPI libs are missing, but python applications are still available.\n",
      "y1lgo7z61e-algo-1-so8st  | COMET INFO: Experiment is live on comet.com https://www.comet.com/amonn022/ml-school/e3c535a83d6b49309fde97e5be16abd7\n",
      "y1lgo7z61e-algo-1-so8st  | Keras version: 2.12.0\n",
      "y1lgo7z61e-algo-1-so8st  | \n",
      "y1lgo7z61e-algo-1-so8st  | COMET INFO: Couldn't find a Git repository in '/opt/ml/code' nor in any parent directory. Set `COMET_GIT_DIRECTORY` if your Git Repository is elsewhere.\n",
      "y1lgo7z61e-algo-1-so8st  | COMET INFO: Ignoring automatic log_parameter('verbose') because 'keras:verbose' is in COMET_LOGGING_PARAMETERS_IGNORE\n",
      "y1lgo7z61e-algo-1-so8st  | Epoch 1/50\n",
      "y1lgo7z61e-algo-1-so8st  | 8/8 - 1s - loss: 0.9703 - accuracy: 0.4561 - val_loss: 0.9670 - val_accuracy: 0.4706 - 835ms/epoch - 104ms/step\n",
      "y1lgo7z61e-algo-1-so8st  | Epoch 2/50\n",
      "y1lgo7z61e-algo-1-so8st  | 8/8 - 0s - loss: 0.8990 - accuracy: 0.5021 - val_loss: 0.9078 - val_accuracy: 0.5686 - 82ms/epoch - 10ms/step\n",
      "y1lgo7z61e-algo-1-so8st  | Epoch 3/50\n",
      "y1lgo7z61e-algo-1-so8st  | 8/8 - 0s - loss: 0.8406 - accuracy: 0.5774 - val_loss: 0.8561 - val_accuracy: 0.6078 - 72ms/epoch - 9ms/step\n",
      "y1lgo7z61e-algo-1-so8st  | Epoch 4/50\n",
      "y1lgo7z61e-algo-1-so8st  | 8/8 - 0s - loss: 0.7899 - accuracy: 0.6192 - val_loss: 0.8113 - val_accuracy: 0.5882 - 61ms/epoch - 8ms/step\n",
      "y1lgo7z61e-algo-1-so8st  | Epoch 5/50\n",
      "y1lgo7z61e-algo-1-so8st  | 8/8 - 0s - loss: 0.7462 - accuracy: 0.6736 - val_loss: 0.7733 - val_accuracy: 0.6667 - 76ms/epoch - 9ms/step\n",
      "y1lgo7z61e-algo-1-so8st  | Epoch 6/50\n",
      "y1lgo7z61e-algo-1-so8st  | 8/8 - 0s - loss: 0.7087 - accuracy: 0.7615 - val_loss: 0.7395 - val_accuracy: 0.7059 - 68ms/epoch - 8ms/step\n",
      "y1lgo7z61e-algo-1-so8st  | Epoch 7/50\n",
      "y1lgo7z61e-algo-1-so8st  | 8/8 - 0s - loss: 0.6756 - accuracy: 0.7866 - val_loss: 0.7096 - val_accuracy: 0.7451 - 64ms/epoch - 8ms/step\n",
      "y1lgo7z61e-algo-1-so8st  | Epoch 8/50\n",
      "y1lgo7z61e-algo-1-so8st  | 8/8 - 0s - loss: 0.6461 - accuracy: 0.7908 - val_loss: 0.6815 - val_accuracy: 0.7451 - 82ms/epoch - 10ms/step\n",
      "y1lgo7z61e-algo-1-so8st  | Epoch 9/50\n",
      "y1lgo7z61e-algo-1-so8st  | 8/8 - 0s - loss: 0.6187 - accuracy: 0.7950 - val_loss: 0.6561 - val_accuracy: 0.7451 - 78ms/epoch - 10ms/step\n",
      "y1lgo7z61e-algo-1-so8st  | Epoch 10/50\n",
      "y1lgo7z61e-algo-1-so8st  | 8/8 - 0s - loss: 0.5943 - accuracy: 0.7950 - val_loss: 0.6335 - val_accuracy: 0.7451 - 68ms/epoch - 9ms/step\n",
      "y1lgo7z61e-algo-1-so8st  | Epoch 11/50\n",
      "y1lgo7z61e-algo-1-so8st  | 8/8 - 0s - loss: 0.5726 - accuracy: 0.7950 - val_loss: 0.6137 - val_accuracy: 0.7451 - 65ms/epoch - 8ms/step\n",
      "y1lgo7z61e-algo-1-so8st  | Epoch 12/50\n",
      "y1lgo7z61e-algo-1-so8st  | 8/8 - 0s - loss: 0.5535 - accuracy: 0.7950 - val_loss: 0.5950 - val_accuracy: 0.7451 - 71ms/epoch - 9ms/step\n",
      "y1lgo7z61e-algo-1-so8st  | Epoch 13/50\n",
      "y1lgo7z61e-algo-1-so8st  | 8/8 - 0s - loss: 0.5354 - accuracy: 0.7950 - val_loss: 0.5784 - val_accuracy: 0.7647 - 111ms/epoch - 14ms/step\n",
      "y1lgo7z61e-algo-1-so8st  | Epoch 14/50\n",
      "y1lgo7z61e-algo-1-so8st  | 8/8 - 0s - loss: 0.5195 - accuracy: 0.7950 - val_loss: 0.5634 - val_accuracy: 0.7647 - 72ms/epoch - 9ms/step\n",
      "y1lgo7z61e-algo-1-so8st  | Epoch 15/50\n",
      "y1lgo7z61e-algo-1-so8st  | 8/8 - 0s - loss: 0.5050 - accuracy: 0.7950 - val_loss: 0.5501 - val_accuracy: 0.7647 - 61ms/epoch - 8ms/step\n",
      "y1lgo7z61e-algo-1-so8st  | Epoch 16/50\n",
      "y1lgo7z61e-algo-1-so8st  | 8/8 - 0s - loss: 0.4924 - accuracy: 0.7950 - val_loss: 0.5378 - val_accuracy: 0.7647 - 77ms/epoch - 10ms/step\n",
      "y1lgo7z61e-algo-1-so8st  | Epoch 17/50\n",
      "y1lgo7z61e-algo-1-so8st  | 8/8 - 0s - loss: 0.4809 - accuracy: 0.7950 - val_loss: 0.5271 - val_accuracy: 0.7647 - 53ms/epoch - 7ms/step\n",
      "y1lgo7z61e-algo-1-so8st  | Epoch 18/50\n",
      "y1lgo7z61e-algo-1-so8st  | 8/8 - 0s - loss: 0.4709 - accuracy: 0.7950 - val_loss: 0.5174 - val_accuracy: 0.7647 - 54ms/epoch - 7ms/step\n",
      "y1lgo7z61e-algo-1-so8st  | Epoch 19/50\n",
      "y1lgo7z61e-algo-1-so8st  | 8/8 - 0s - loss: 0.4621 - accuracy: 0.7950 - val_loss: 0.5079 - val_accuracy: 0.7647 - 64ms/epoch - 8ms/step\n",
      "y1lgo7z61e-algo-1-so8st  | Epoch 20/50\n",
      "y1lgo7z61e-algo-1-so8st  | 8/8 - 0s - loss: 0.4533 - accuracy: 0.7950 - val_loss: 0.4996 - val_accuracy: 0.7647 - 62ms/epoch - 8ms/step\n",
      "y1lgo7z61e-algo-1-so8st  | Epoch 21/50\n",
      "y1lgo7z61e-algo-1-so8st  | 8/8 - 0s - loss: 0.4457 - accuracy: 0.7950 - val_loss: 0.4918 - val_accuracy: 0.7647 - 56ms/epoch - 7ms/step\n",
      "y1lgo7z61e-algo-1-so8st  | Epoch 22/50\n",
      "y1lgo7z61e-algo-1-so8st  | 8/8 - 0s - loss: 0.4385 - accuracy: 0.7950 - val_loss: 0.4847 - val_accuracy: 0.7647 - 64ms/epoch - 8ms/step\n",
      "y1lgo7z61e-algo-1-so8st  | Epoch 23/50\n",
      "y1lgo7z61e-algo-1-so8st  | 8/8 - 0s - loss: 0.4322 - accuracy: 0.7950 - val_loss: 0.4782 - val_accuracy: 0.7647 - 57ms/epoch - 7ms/step\n",
      "y1lgo7z61e-algo-1-so8st  | Epoch 24/50\n",
      "y1lgo7z61e-algo-1-so8st  | 8/8 - 0s - loss: 0.4263 - accuracy: 0.7950 - val_loss: 0.4717 - val_accuracy: 0.7647 - 70ms/epoch - 9ms/step\n",
      "y1lgo7z61e-algo-1-so8st  | Epoch 25/50\n",
      "y1lgo7z61e-algo-1-so8st  | 8/8 - 0s - loss: 0.4204 - accuracy: 0.7950 - val_loss: 0.4657 - val_accuracy: 0.7647 - 61ms/epoch - 8ms/step\n",
      "y1lgo7z61e-algo-1-so8st  | Epoch 26/50\n",
      "y1lgo7z61e-algo-1-so8st  | 8/8 - 0s - loss: 0.4151 - accuracy: 0.7950 - val_loss: 0.4601 - val_accuracy: 0.7647 - 50ms/epoch - 6ms/step\n",
      "y1lgo7z61e-algo-1-so8st  | Epoch 27/50\n",
      "y1lgo7z61e-algo-1-so8st  | 8/8 - 0s - loss: 0.4101 - accuracy: 0.7950 - val_loss: 0.4548 - val_accuracy: 0.7647 - 63ms/epoch - 8ms/step\n",
      "y1lgo7z61e-algo-1-so8st  | Epoch 28/50\n",
      "y1lgo7z61e-algo-1-so8st  | 8/8 - 0s - loss: 0.4054 - accuracy: 0.7950 - val_loss: 0.4499 - val_accuracy: 0.7647 - 65ms/epoch - 8ms/step\n",
      "y1lgo7z61e-algo-1-so8st  | Epoch 29/50\n",
      "y1lgo7z61e-algo-1-so8st  | 8/8 - 0s - loss: 0.4012 - accuracy: 0.7950 - val_loss: 0.4450 - val_accuracy: 0.7647 - 66ms/epoch - 8ms/step\n",
      "y1lgo7z61e-algo-1-so8st  | Epoch 30/50\n",
      "y1lgo7z61e-algo-1-so8st  | 8/8 - 0s - loss: 0.3969 - accuracy: 0.7950 - val_loss: 0.4404 - val_accuracy: 0.7647 - 65ms/epoch - 8ms/step\n",
      "y1lgo7z61e-algo-1-so8st  | Epoch 31/50\n",
      "y1lgo7z61e-algo-1-so8st  | 8/8 - 0s - loss: 0.3929 - accuracy: 0.7950 - val_loss: 0.4360 - val_accuracy: 0.7647 - 61ms/epoch - 8ms/step\n",
      "y1lgo7z61e-algo-1-so8st  | Epoch 32/50\n",
      "y1lgo7z61e-algo-1-so8st  | 8/8 - 0s - loss: 0.3891 - accuracy: 0.7950 - val_loss: 0.4316 - val_accuracy: 0.7647 - 70ms/epoch - 9ms/step\n",
      "y1lgo7z61e-algo-1-so8st  | Epoch 33/50\n",
      "y1lgo7z61e-algo-1-so8st  | 8/8 - 0s - loss: 0.3853 - accuracy: 0.7950 - val_loss: 0.4271 - val_accuracy: 0.7647 - 57ms/epoch - 7ms/step\n",
      "y1lgo7z61e-algo-1-so8st  | Epoch 34/50\n",
      "y1lgo7z61e-algo-1-so8st  | 8/8 - 0s - loss: 0.3816 - accuracy: 0.7950 - val_loss: 0.4230 - val_accuracy: 0.7647 - 66ms/epoch - 8ms/step\n",
      "y1lgo7z61e-algo-1-so8st  | Epoch 35/50\n",
      "y1lgo7z61e-algo-1-so8st  | 8/8 - 0s - loss: 0.3781 - accuracy: 0.7950 - val_loss: 0.4191 - val_accuracy: 0.7647 - 64ms/epoch - 8ms/step\n",
      "y1lgo7z61e-algo-1-so8st  | Epoch 36/50\n",
      "y1lgo7z61e-algo-1-so8st  | 8/8 - 0s - loss: 0.3747 - accuracy: 0.7950 - val_loss: 0.4151 - val_accuracy: 0.7647 - 70ms/epoch - 9ms/step\n",
      "y1lgo7z61e-algo-1-so8st  | Epoch 37/50\n",
      "y1lgo7z61e-algo-1-so8st  | 8/8 - 0s - loss: 0.3714 - accuracy: 0.7950 - val_loss: 0.4112 - val_accuracy: 0.7647 - 62ms/epoch - 8ms/step\n",
      "y1lgo7z61e-algo-1-so8st  | Epoch 38/50\n",
      "y1lgo7z61e-algo-1-so8st  | 8/8 - 0s - loss: 0.3684 - accuracy: 0.7950 - val_loss: 0.4077 - val_accuracy: 0.7647 - 65ms/epoch - 8ms/step\n",
      "y1lgo7z61e-algo-1-so8st  | Epoch 39/50\n",
      "y1lgo7z61e-algo-1-so8st  | 8/8 - 0s - loss: 0.3653 - accuracy: 0.7950 - val_loss: 0.4041 - val_accuracy: 0.7647 - 52ms/epoch - 7ms/step\n",
      "y1lgo7z61e-algo-1-so8st  | Epoch 40/50\n",
      "y1lgo7z61e-algo-1-so8st  | 8/8 - 0s - loss: 0.3622 - accuracy: 0.7950 - val_loss: 0.4006 - val_accuracy: 0.7647 - 80ms/epoch - 10ms/step\n",
      "y1lgo7z61e-algo-1-so8st  | Epoch 41/50\n",
      "y1lgo7z61e-algo-1-so8st  | 8/8 - 0s - loss: 0.3593 - accuracy: 0.7950 - val_loss: 0.3970 - val_accuracy: 0.7647 - 65ms/epoch - 8ms/step\n",
      "y1lgo7z61e-algo-1-so8st  | Epoch 42/50\n",
      "y1lgo7z61e-algo-1-so8st  | 8/8 - 0s - loss: 0.3564 - accuracy: 0.7950 - val_loss: 0.3935 - val_accuracy: 0.7647 - 48ms/epoch - 6ms/step\n",
      "y1lgo7z61e-algo-1-so8st  | Epoch 43/50\n",
      "y1lgo7z61e-algo-1-so8st  | 8/8 - 0s - loss: 0.3536 - accuracy: 0.7950 - val_loss: 0.3902 - val_accuracy: 0.7647 - 51ms/epoch - 6ms/step\n",
      "y1lgo7z61e-algo-1-so8st  | Epoch 44/50\n",
      "y1lgo7z61e-algo-1-so8st  | 8/8 - 0s - loss: 0.3507 - accuracy: 0.7950 - val_loss: 0.3869 - val_accuracy: 0.7647 - 68ms/epoch - 9ms/step\n",
      "y1lgo7z61e-algo-1-so8st  | Epoch 45/50\n",
      "y1lgo7z61e-algo-1-so8st  | 8/8 - 0s - loss: 0.3482 - accuracy: 0.7950 - val_loss: 0.3837 - val_accuracy: 0.7647 - 68ms/epoch - 8ms/step\n",
      "y1lgo7z61e-algo-1-so8st  | Epoch 46/50\n",
      "y1lgo7z61e-algo-1-so8st  | 8/8 - 0s - loss: 0.3455 - accuracy: 0.7950 - val_loss: 0.3807 - val_accuracy: 0.7647 - 63ms/epoch - 8ms/step\n",
      "y1lgo7z61e-algo-1-so8st  | Epoch 47/50\n",
      "y1lgo7z61e-algo-1-so8st  | 8/8 - 0s - loss: 0.3429 - accuracy: 0.7950 - val_loss: 0.3774 - val_accuracy: 0.7647 - 77ms/epoch - 10ms/step\n",
      "y1lgo7z61e-algo-1-so8st  | Epoch 48/50\n",
      "y1lgo7z61e-algo-1-so8st  | 8/8 - 0s - loss: 0.3400 - accuracy: 0.7950 - val_loss: 0.3743 - val_accuracy: 0.7647 - 58ms/epoch - 7ms/step\n",
      "y1lgo7z61e-algo-1-so8st  | Epoch 49/50\n",
      "y1lgo7z61e-algo-1-so8st  | 8/8 - 0s - loss: 0.3375 - accuracy: 0.7950 - val_loss: 0.3712 - val_accuracy: 0.7647 - 66ms/epoch - 8ms/step\n",
      "y1lgo7z61e-algo-1-so8st  | Epoch 50/50\n",
      "y1lgo7z61e-algo-1-so8st  | 8/8 - 0s - loss: 0.3350 - accuracy: 0.7950 - val_loss: 0.3681 - val_accuracy: 0.7647 - 51ms/epoch - 6ms/step\n",
      "y1lgo7z61e-algo-1-so8st  | 1/2 [==============>...............] - ETA: 0s\n",
      "2/2 [==============================] - 0s 6ms/step\n",
      "y1lgo7z61e-algo-1-so8st  | Validation accuracy: 0.7647058823529411\n",
      "y1lgo7z61e-algo-1-so8st  | \n",
      "y1lgo7z61e-algo-1-so8st  | COMET INFO: ---------------------------------------------------------------------------------------\n",
      "y1lgo7z61e-algo-1-so8st  | COMET INFO: Comet.ml Experiment Summary\n",
      "y1lgo7z61e-algo-1-so8st  | COMET INFO: ---------------------------------------------------------------------------------------\n",
      "y1lgo7z61e-algo-1-so8st  | COMET INFO:   Data:\n",
      "y1lgo7z61e-algo-1-so8st  | COMET INFO:     display_summary_level : 1\n",
      "y1lgo7z61e-algo-1-so8st  | COMET INFO:     name                  : training\n",
      "y1lgo7z61e-algo-1-so8st  | COMET INFO:     url                   : https://www.comet.com/amonn022/ml-school/e3c535a83d6b49309fde97e5be16abd7\n",
      "y1lgo7z61e-algo-1-so8st  | COMET INFO:   Metrics [count] (min, max):\n",
      "y1lgo7z61e-algo-1-so8st  | COMET INFO:     accuracy [50]                : (0.45606693625450134, 0.7949790954589844)\n",
      "y1lgo7z61e-algo-1-so8st  | COMET INFO:     batch_accuracy [50]          : (0.53125, 0.9375)\n",
      "y1lgo7z61e-algo-1-so8st  | COMET INFO:     batch_loss [50]              : (0.2029736191034317, 0.9178864359855652)\n",
      "y1lgo7z61e-algo-1-so8st  | COMET INFO:     epoch_duration [50]          : (0.04756863999864436, 0.8343753260014637)\n",
      "y1lgo7z61e-algo-1-so8st  | COMET INFO:     loss [50]                    : (0.33499959111213684, 0.9703025221824646)\n",
      "y1lgo7z61e-algo-1-so8st  | COMET INFO:     val_accuracy [50]            : (0.47058823704719543, 0.7647058963775635)\n",
      "y1lgo7z61e-algo-1-so8st  | COMET INFO:     val_loss [50]                : (0.3680732846260071, 0.9669564962387085)\n",
      "y1lgo7z61e-algo-1-so8st  | COMET INFO:     validate_batch_accuracy [50] : (0.375, 0.75)\n",
      "y1lgo7z61e-algo-1-so8st  | COMET INFO:     validate_batch_loss [50]     : (0.3823992609977722, 1.010896921157837)\n",
      "y1lgo7z61e-algo-1-so8st  | COMET INFO:   Others:\n",
      "y1lgo7z61e-algo-1-so8st  | COMET INFO:     Name             : training\n",
      "y1lgo7z61e-algo-1-so8st  | COMET INFO:     trainable_params : 215\n",
      "y1lgo7z61e-algo-1-so8st  | COMET INFO:   Parameters:\n",
      "y1lgo7z61e-algo-1-so8st  | COMET INFO:     Optimizer         : SGD\n",
      "y1lgo7z61e-algo-1-so8st  | COMET INFO:     SGD_decay         : 0.0\n",
      "y1lgo7z61e-algo-1-so8st  | COMET INFO:     SGD_learning_rate : 0.01\n",
      "y1lgo7z61e-algo-1-so8st  | COMET INFO:     SGD_momentum      : 0.0\n",
      "y1lgo7z61e-algo-1-so8st  | COMET INFO:     SGD_name          : SGD\n",
      "y1lgo7z61e-algo-1-so8st  | COMET INFO:     SGD_nesterov      : False\n",
      "y1lgo7z61e-algo-1-so8st  | COMET INFO:     steps             : 8\n",
      "y1lgo7z61e-algo-1-so8st  | COMET INFO:   Uploads:\n",
      "y1lgo7z61e-algo-1-so8st  | COMET INFO:     confusion-matrix    : 1\n",
      "y1lgo7z61e-algo-1-so8st  | COMET INFO:     environment details : 1\n",
      "y1lgo7z61e-algo-1-so8st  | COMET INFO:     filename            : 1\n",
      "y1lgo7z61e-algo-1-so8st  | COMET INFO:     installed packages  : 1\n",
      "y1lgo7z61e-algo-1-so8st  | COMET INFO:     model graph         : 1\n",
      "y1lgo7z61e-algo-1-so8st  | COMET INFO:     model-element       : 5 (94.28 KB)\n",
      "y1lgo7z61e-algo-1-so8st  | COMET INFO:     os packages         : 1\n",
      "y1lgo7z61e-algo-1-so8st  | COMET INFO:     source_code         : 1 (5.16 KB)\n",
      "y1lgo7z61e-algo-1-so8st  | COMET INFO:\n",
      "y1lgo7z61e-algo-1-so8st  | COMET INFO: Please wait for metadata to finish uploading (timeout is 3600 seconds)\n",
      "y1lgo7z61e-algo-1-so8st  | COMET INFO: Uploading 38 metrics, params and output messages\n",
      "y1lgo7z61e-algo-1-so8st  | 2024-08-21 05:48:57,606 sagemaker-training-toolkit INFO     Waiting for the process to finish and give a return code.\n",
      "y1lgo7z61e-algo-1-so8st  | 2024-08-21 05:48:57,606 sagemaker-training-toolkit INFO     Done waiting for a return code. Received 0 from exiting process.\n",
      "y1lgo7z61e-algo-1-so8st  | 2024-08-21 05:48:57,619 sagemaker-training-toolkit INFO     Reporting training SUCCESS\n",
      "\u001b[Ky1lgo7z61e-algo-1-so8st exited with code 0\n",
      "Aborting on container exit...\n",
      " Container y1lgo7z61e-algo-1-so8st  Stopping\n",
      " Container y1lgo7z61e-algo-1-so8st  Stopped\n"
     ]
    },
    {
     "name": "stderr",
     "output_type": "stream",
     "text": [
      "INFO:sagemaker.local.image:===== Job Complete =====\n",
      "INFO:sagemaker.local.entities:Pipeline step 'train-model' SUCCEEDED.\n",
      "INFO:sagemaker.local.entities:Starting pipeline step: 'evaluate-model'\n",
      "INFO:sagemaker.telemetry.telemetry_logging:SageMaker Python SDK will collect telemetry to help us better understand our user's needs, diagnose issues, and deliver additional features.\n",
      "To opt out of telemetry, please disable via TelemetryOptOut parameter in SDK defaults config. For more information, refer to https://sagemaker.readthedocs.io/en/stable/overview.html#configuring-and-using-defaults-with-the-sagemaker-python-sdk.\n",
      "INFO:sagemaker.local.image:'Docker Compose' found using Docker CLI.\n",
      "INFO:sagemaker.local.local_session:Starting processing job\n",
      "INFO:sagemaker.local.image:Using the long-lived AWS credentials found in session\n",
      "INFO:sagemaker.local.image:docker compose file: \n",
      "networks:\n",
      "  sagemaker-local:\n",
      "    name: sagemaker-local\n",
      "services:\n",
      "  algo-1-2zp57:\n",
      "    container_name: x57bzwz97q-algo-1-2zp57\n",
      "    entrypoint:\n",
      "    - /bin/bash\n",
      "    - /opt/ml/processing/input/entrypoint/runproc.sh\n",
      "    environment:\n",
      "    - '[Masked]'\n",
      "    - '[Masked]'\n",
      "    image: 763104351884.dkr.ecr.us-east-1.amazonaws.com/tensorflow-training:2.12-cpu-py310\n",
      "    networks:\n",
      "      sagemaker-local:\n",
      "        aliases:\n",
      "        - algo-1-2zp57\n",
      "    stdin_open: true\n",
      "    tty: true\n",
      "    volumes:\n",
      "    - C:\\Users\\Aris\\AppData\\Local\\Temp\\tmpjzrx7pdz\\algo-1-2zp57\\config:/opt/ml/config\n",
      "    - C:\\Users\\Aris\\AppData\\Local\\Temp\\tmpjzrx7pdz\\algo-1-2zp57\\output:/opt/ml/output\n",
      "    - C:\\Users\\Aris\\AppData\\Local\\Temp\\tmpocbcsqvm:/opt/ml/processing/test\n",
      "    - C:\\Users\\Aris\\AppData\\Local\\Temp\\tmp_orhyzxr:/opt/ml/processing/model\n",
      "    - C:\\Users\\Aris\\AppData\\Local\\Temp\\tmpw80yg1yv:/opt/ml/processing/input/code/\n",
      "    - C:\\Users\\Aris\\AppData\\Local\\Temp\\tmpq74w54jj:/opt/ml/processing/input/entrypoint\n",
      "    - C:\\Users\\Aris\\AppData\\Local\\Temp\\tmpjak9w63_\\output\\evaluation:/opt/ml/processing/evaluation\n",
      "    - C:\\Users\\Aris\\AppData\\Local\\Temp\\tmpjzrx7pdz\\shared:/opt/ml/shared\n",
      "version: '2.3'\n",
      "\n",
      "INFO:sagemaker.local.image:docker command: docker compose -f C:\\Users\\Aris\\AppData\\Local\\Temp\\tmpjzrx7pdz\\docker-compose.yaml up --build --abort-on-container-exit\n"
     ]
    },
    {
     "name": "stdout",
     "output_type": "stream",
     "text": [
      "time=\"2024-08-21T01:49:05-04:00\" level=warning msg=\"C:\\\\Users\\\\Aris\\\\AppData\\\\Local\\\\Temp\\\\tmpjzrx7pdz\\\\docker-compose.yaml: `version` is obsolete\"\n",
      "time=\"2024-08-21T01:49:05-04:00\" level=warning msg=\"a network with name sagemaker-local exists but was not created for project \\\"tmpjzrx7pdz\\\".\\nSet `external: true` to use an existing network\"\n",
      " Container x57bzwz97q-algo-1-2zp57  Creating\n",
      " Container x57bzwz97q-algo-1-2zp57  Created\n",
      "Attaching to x57bzwz97q-algo-1-2zp57\n",
      "x57bzwz97q-algo-1-2zp57  | Traceback (most recent call last):\n",
      "x57bzwz97q-algo-1-2zp57  |   File \"/opt/ml/processing/input/code/script.py\", line 49, in <module>\n",
      "x57bzwz97q-algo-1-2zp57  |     evaluate(\n",
      "x57bzwz97q-algo-1-2zp57  |   File \"/opt/ml/processing/input/code/script.py\", line 21, in evaluate\n",
      "x57bzwz97q-algo-1-2zp57  |     with tarfile.open(Path(model_path) / \"model.tar.gz\") as tar:\n",
      "x57bzwz97q-algo-1-2zp57  |   File \"/usr/local/lib/python3.10/tarfile.py\", line 1632, in open\n",
      "x57bzwz97q-algo-1-2zp57  |     return func(name, \"r\", fileobj, **kwargs)\n",
      "x57bzwz97q-algo-1-2zp57  |   File \"/usr/local/lib/python3.10/tarfile.py\", line 1698, in gzopen\n",
      "x57bzwz97q-algo-1-2zp57  |     fileobj = GzipFile(name, mode + \"b\", compresslevel, fileobj)\n",
      "x57bzwz97q-algo-1-2zp57  |   File \"/usr/local/lib/python3.10/gzip.py\", line 174, in __init__\n",
      "x57bzwz97q-algo-1-2zp57  |     fileobj = self.myfileobj = builtins.open(filename, mode or 'rb')\n",
      "x57bzwz97q-algo-1-2zp57  | FileNotFoundError: [Errno 2] No such file or directory: '/opt/ml/processing/model/model.tar.gz'\n",
      "\u001b[Kx57bzwz97q-algo-1-2zp57 exited with code 1\n",
      "Aborting on container exit...\n",
      " Container x57bzwz97q-algo-1-2zp57  Stopping\n",
      " Container x57bzwz97q-algo-1-2zp57  Stopped\n"
     ]
    },
    {
     "name": "stderr",
     "output_type": "stream",
     "text": [
      "INFO:sagemaker.local.entities:Pipeline step 'evaluate-model' FAILED. Failure message is: RuntimeError: Failed to run: ['docker', 'compose', '-f', 'C:\\\\Users\\\\Aris\\\\AppData\\\\Local\\\\Temp\\\\tmpjzrx7pdz\\\\docker-compose.yaml', 'up', '--build', '--abort-on-container-exit']. Process exited with code: 1\n",
      "INFO:sagemaker.local.entities:Pipeline execution e1604ef9-c7e7-4cfb-976d-1970b147cd20 FAILED because step 'evaluate-model' failed.\n"
     ]
    },
    {
     "data": {
      "text/plain": [
       "<sagemaker.local.entities._LocalPipelineExecution at 0x23ae582a020>"
      ]
     },
     "execution_count": 176,
     "metadata": {},
     "output_type": "execute_result"
    }
   ],
   "source": [
    "#%%script false --no-raise-error\n",
    "# | eval: false\n",
    "\n",
    "session7_pipeline.start()"
   ]
  },
  {
   "cell_type": "markdown",
   "id": "28f5d383-fcd7-454c-bbd6-ce4ce7b2104a",
   "metadata": {},
   "source": [
    "## Deleting the Endpoint\n",
    "\n",
    "After testing the endpoint, we need to ensure we delete it.\n"
   ]
  },
  {
   "cell_type": "code",
   "execution_count": 78,
   "id": "6b32c3a4-312e-473c-a217-33606f77d1e9",
   "metadata": {
    "tags": [
     "hide-output"
    ]
   },
   "outputs": [
    {
     "name": "stdout",
     "output_type": "stream",
     "text": [
      "name 'ENDPOINT' is not defined\n"
     ]
    }
   ],
   "source": [
    "try:\n",
    "    sagemaker_client.delete_endpoint(EndpointName=ENDPOINT)\n",
    "except Exception as e:\n",
    "    print(e)"
   ]
  },
  {
   "cell_type": "code",
   "execution_count": null,
   "id": "16cd7313",
   "metadata": {},
   "outputs": [],
   "source": []
  }
 ],
 "metadata": {
  "availableInstances": [
   {
    "_defaultOrder": 0,
    "_isFastLaunch": true,
    "category": "General purpose",
    "gpuNum": 0,
    "hideHardwareSpecs": false,
    "memoryGiB": 4,
    "name": "ml.t3.medium",
    "vcpuNum": 2
   },
   {
    "_defaultOrder": 1,
    "_isFastLaunch": false,
    "category": "General purpose",
    "gpuNum": 0,
    "hideHardwareSpecs": false,
    "memoryGiB": 8,
    "name": "ml.t3.large",
    "vcpuNum": 2
   },
   {
    "_defaultOrder": 2,
    "_isFastLaunch": false,
    "category": "General purpose",
    "gpuNum": 0,
    "hideHardwareSpecs": false,
    "memoryGiB": 16,
    "name": "ml.t3.xlarge",
    "vcpuNum": 4
   },
   {
    "_defaultOrder": 3,
    "_isFastLaunch": false,
    "category": "General purpose",
    "gpuNum": 0,
    "hideHardwareSpecs": false,
    "memoryGiB": 32,
    "name": "ml.t3.2xlarge",
    "vcpuNum": 8
   },
   {
    "_defaultOrder": 4,
    "_isFastLaunch": true,
    "category": "General purpose",
    "gpuNum": 0,
    "hideHardwareSpecs": false,
    "memoryGiB": 8,
    "name": "ml.m5.large",
    "vcpuNum": 2
   },
   {
    "_defaultOrder": 5,
    "_isFastLaunch": false,
    "category": "General purpose",
    "gpuNum": 0,
    "hideHardwareSpecs": false,
    "memoryGiB": 16,
    "name": "ml.m5.xlarge",
    "vcpuNum": 4
   },
   {
    "_defaultOrder": 6,
    "_isFastLaunch": false,
    "category": "General purpose",
    "gpuNum": 0,
    "hideHardwareSpecs": false,
    "memoryGiB": 32,
    "name": "ml.m5.2xlarge",
    "vcpuNum": 8
   },
   {
    "_defaultOrder": 7,
    "_isFastLaunch": false,
    "category": "General purpose",
    "gpuNum": 0,
    "hideHardwareSpecs": false,
    "memoryGiB": 64,
    "name": "ml.m5.4xlarge",
    "vcpuNum": 16
   },
   {
    "_defaultOrder": 8,
    "_isFastLaunch": false,
    "category": "General purpose",
    "gpuNum": 0,
    "hideHardwareSpecs": false,
    "memoryGiB": 128,
    "name": "ml.m5.8xlarge",
    "vcpuNum": 32
   },
   {
    "_defaultOrder": 9,
    "_isFastLaunch": false,
    "category": "General purpose",
    "gpuNum": 0,
    "hideHardwareSpecs": false,
    "memoryGiB": 192,
    "name": "ml.m5.12xlarge",
    "vcpuNum": 48
   },
   {
    "_defaultOrder": 10,
    "_isFastLaunch": false,
    "category": "General purpose",
    "gpuNum": 0,
    "hideHardwareSpecs": false,
    "memoryGiB": 256,
    "name": "ml.m5.16xlarge",
    "vcpuNum": 64
   },
   {
    "_defaultOrder": 11,
    "_isFastLaunch": false,
    "category": "General purpose",
    "gpuNum": 0,
    "hideHardwareSpecs": false,
    "memoryGiB": 384,
    "name": "ml.m5.24xlarge",
    "vcpuNum": 96
   },
   {
    "_defaultOrder": 12,
    "_isFastLaunch": false,
    "category": "General purpose",
    "gpuNum": 0,
    "hideHardwareSpecs": false,
    "memoryGiB": 8,
    "name": "ml.m5d.large",
    "vcpuNum": 2
   },
   {
    "_defaultOrder": 13,
    "_isFastLaunch": false,
    "category": "General purpose",
    "gpuNum": 0,
    "hideHardwareSpecs": false,
    "memoryGiB": 16,
    "name": "ml.m5d.xlarge",
    "vcpuNum": 4
   },
   {
    "_defaultOrder": 14,
    "_isFastLaunch": false,
    "category": "General purpose",
    "gpuNum": 0,
    "hideHardwareSpecs": false,
    "memoryGiB": 32,
    "name": "ml.m5d.2xlarge",
    "vcpuNum": 8
   },
   {
    "_defaultOrder": 15,
    "_isFastLaunch": false,
    "category": "General purpose",
    "gpuNum": 0,
    "hideHardwareSpecs": false,
    "memoryGiB": 64,
    "name": "ml.m5d.4xlarge",
    "vcpuNum": 16
   },
   {
    "_defaultOrder": 16,
    "_isFastLaunch": false,
    "category": "General purpose",
    "gpuNum": 0,
    "hideHardwareSpecs": false,
    "memoryGiB": 128,
    "name": "ml.m5d.8xlarge",
    "vcpuNum": 32
   },
   {
    "_defaultOrder": 17,
    "_isFastLaunch": false,
    "category": "General purpose",
    "gpuNum": 0,
    "hideHardwareSpecs": false,
    "memoryGiB": 192,
    "name": "ml.m5d.12xlarge",
    "vcpuNum": 48
   },
   {
    "_defaultOrder": 18,
    "_isFastLaunch": false,
    "category": "General purpose",
    "gpuNum": 0,
    "hideHardwareSpecs": false,
    "memoryGiB": 256,
    "name": "ml.m5d.16xlarge",
    "vcpuNum": 64
   },
   {
    "_defaultOrder": 19,
    "_isFastLaunch": false,
    "category": "General purpose",
    "gpuNum": 0,
    "hideHardwareSpecs": false,
    "memoryGiB": 384,
    "name": "ml.m5d.24xlarge",
    "vcpuNum": 96
   },
   {
    "_defaultOrder": 20,
    "_isFastLaunch": false,
    "category": "General purpose",
    "gpuNum": 0,
    "hideHardwareSpecs": true,
    "memoryGiB": 0,
    "name": "ml.geospatial.interactive",
    "supportedImageNames": [
     "sagemaker-geospatial-v1-0"
    ],
    "vcpuNum": 0
   },
   {
    "_defaultOrder": 21,
    "_isFastLaunch": true,
    "category": "Compute optimized",
    "gpuNum": 0,
    "hideHardwareSpecs": false,
    "memoryGiB": 4,
    "name": "ml.c5.large",
    "vcpuNum": 2
   },
   {
    "_defaultOrder": 22,
    "_isFastLaunch": false,
    "category": "Compute optimized",
    "gpuNum": 0,
    "hideHardwareSpecs": false,
    "memoryGiB": 8,
    "name": "ml.c5.xlarge",
    "vcpuNum": 4
   },
   {
    "_defaultOrder": 23,
    "_isFastLaunch": false,
    "category": "Compute optimized",
    "gpuNum": 0,
    "hideHardwareSpecs": false,
    "memoryGiB": 16,
    "name": "ml.c5.2xlarge",
    "vcpuNum": 8
   },
   {
    "_defaultOrder": 24,
    "_isFastLaunch": false,
    "category": "Compute optimized",
    "gpuNum": 0,
    "hideHardwareSpecs": false,
    "memoryGiB": 32,
    "name": "ml.c5.4xlarge",
    "vcpuNum": 16
   },
   {
    "_defaultOrder": 25,
    "_isFastLaunch": false,
    "category": "Compute optimized",
    "gpuNum": 0,
    "hideHardwareSpecs": false,
    "memoryGiB": 72,
    "name": "ml.c5.9xlarge",
    "vcpuNum": 36
   },
   {
    "_defaultOrder": 26,
    "_isFastLaunch": false,
    "category": "Compute optimized",
    "gpuNum": 0,
    "hideHardwareSpecs": false,
    "memoryGiB": 96,
    "name": "ml.c5.12xlarge",
    "vcpuNum": 48
   },
   {
    "_defaultOrder": 27,
    "_isFastLaunch": false,
    "category": "Compute optimized",
    "gpuNum": 0,
    "hideHardwareSpecs": false,
    "memoryGiB": 144,
    "name": "ml.c5.18xlarge",
    "vcpuNum": 72
   },
   {
    "_defaultOrder": 28,
    "_isFastLaunch": false,
    "category": "Compute optimized",
    "gpuNum": 0,
    "hideHardwareSpecs": false,
    "memoryGiB": 192,
    "name": "ml.c5.24xlarge",
    "vcpuNum": 96
   },
   {
    "_defaultOrder": 29,
    "_isFastLaunch": true,
    "category": "Accelerated computing",
    "gpuNum": 1,
    "hideHardwareSpecs": false,
    "memoryGiB": 16,
    "name": "ml.g4dn.xlarge",
    "vcpuNum": 4
   },
   {
    "_defaultOrder": 30,
    "_isFastLaunch": false,
    "category": "Accelerated computing",
    "gpuNum": 1,
    "hideHardwareSpecs": false,
    "memoryGiB": 32,
    "name": "ml.g4dn.2xlarge",
    "vcpuNum": 8
   },
   {
    "_defaultOrder": 31,
    "_isFastLaunch": false,
    "category": "Accelerated computing",
    "gpuNum": 1,
    "hideHardwareSpecs": false,
    "memoryGiB": 64,
    "name": "ml.g4dn.4xlarge",
    "vcpuNum": 16
   },
   {
    "_defaultOrder": 32,
    "_isFastLaunch": false,
    "category": "Accelerated computing",
    "gpuNum": 1,
    "hideHardwareSpecs": false,
    "memoryGiB": 128,
    "name": "ml.g4dn.8xlarge",
    "vcpuNum": 32
   },
   {
    "_defaultOrder": 33,
    "_isFastLaunch": false,
    "category": "Accelerated computing",
    "gpuNum": 4,
    "hideHardwareSpecs": false,
    "memoryGiB": 192,
    "name": "ml.g4dn.12xlarge",
    "vcpuNum": 48
   },
   {
    "_defaultOrder": 34,
    "_isFastLaunch": false,
    "category": "Accelerated computing",
    "gpuNum": 1,
    "hideHardwareSpecs": false,
    "memoryGiB": 256,
    "name": "ml.g4dn.16xlarge",
    "vcpuNum": 64
   },
   {
    "_defaultOrder": 35,
    "_isFastLaunch": false,
    "category": "Accelerated computing",
    "gpuNum": 1,
    "hideHardwareSpecs": false,
    "memoryGiB": 61,
    "name": "ml.p3.2xlarge",
    "vcpuNum": 8
   },
   {
    "_defaultOrder": 36,
    "_isFastLaunch": false,
    "category": "Accelerated computing",
    "gpuNum": 4,
    "hideHardwareSpecs": false,
    "memoryGiB": 244,
    "name": "ml.p3.8xlarge",
    "vcpuNum": 32
   },
   {
    "_defaultOrder": 37,
    "_isFastLaunch": false,
    "category": "Accelerated computing",
    "gpuNum": 8,
    "hideHardwareSpecs": false,
    "memoryGiB": 488,
    "name": "ml.p3.16xlarge",
    "vcpuNum": 64
   },
   {
    "_defaultOrder": 38,
    "_isFastLaunch": false,
    "category": "Accelerated computing",
    "gpuNum": 8,
    "hideHardwareSpecs": false,
    "memoryGiB": 768,
    "name": "ml.p3dn.24xlarge",
    "vcpuNum": 96
   },
   {
    "_defaultOrder": 39,
    "_isFastLaunch": false,
    "category": "Memory Optimized",
    "gpuNum": 0,
    "hideHardwareSpecs": false,
    "memoryGiB": 16,
    "name": "ml.r5.large",
    "vcpuNum": 2
   },
   {
    "_defaultOrder": 40,
    "_isFastLaunch": false,
    "category": "Memory Optimized",
    "gpuNum": 0,
    "hideHardwareSpecs": false,
    "memoryGiB": 32,
    "name": "ml.r5.xlarge",
    "vcpuNum": 4
   },
   {
    "_defaultOrder": 41,
    "_isFastLaunch": false,
    "category": "Memory Optimized",
    "gpuNum": 0,
    "hideHardwareSpecs": false,
    "memoryGiB": 64,
    "name": "ml.r5.2xlarge",
    "vcpuNum": 8
   },
   {
    "_defaultOrder": 42,
    "_isFastLaunch": false,
    "category": "Memory Optimized",
    "gpuNum": 0,
    "hideHardwareSpecs": false,
    "memoryGiB": 128,
    "name": "ml.r5.4xlarge",
    "vcpuNum": 16
   },
   {
    "_defaultOrder": 43,
    "_isFastLaunch": false,
    "category": "Memory Optimized",
    "gpuNum": 0,
    "hideHardwareSpecs": false,
    "memoryGiB": 256,
    "name": "ml.r5.8xlarge",
    "vcpuNum": 32
   },
   {
    "_defaultOrder": 44,
    "_isFastLaunch": false,
    "category": "Memory Optimized",
    "gpuNum": 0,
    "hideHardwareSpecs": false,
    "memoryGiB": 384,
    "name": "ml.r5.12xlarge",
    "vcpuNum": 48
   },
   {
    "_defaultOrder": 45,
    "_isFastLaunch": false,
    "category": "Memory Optimized",
    "gpuNum": 0,
    "hideHardwareSpecs": false,
    "memoryGiB": 512,
    "name": "ml.r5.16xlarge",
    "vcpuNum": 64
   },
   {
    "_defaultOrder": 46,
    "_isFastLaunch": false,
    "category": "Memory Optimized",
    "gpuNum": 0,
    "hideHardwareSpecs": false,
    "memoryGiB": 768,
    "name": "ml.r5.24xlarge",
    "vcpuNum": 96
   },
   {
    "_defaultOrder": 47,
    "_isFastLaunch": false,
    "category": "Accelerated computing",
    "gpuNum": 1,
    "hideHardwareSpecs": false,
    "memoryGiB": 16,
    "name": "ml.g5.xlarge",
    "vcpuNum": 4
   },
   {
    "_defaultOrder": 48,
    "_isFastLaunch": false,
    "category": "Accelerated computing",
    "gpuNum": 1,
    "hideHardwareSpecs": false,
    "memoryGiB": 32,
    "name": "ml.g5.2xlarge",
    "vcpuNum": 8
   },
   {
    "_defaultOrder": 49,
    "_isFastLaunch": false,
    "category": "Accelerated computing",
    "gpuNum": 1,
    "hideHardwareSpecs": false,
    "memoryGiB": 64,
    "name": "ml.g5.4xlarge",
    "vcpuNum": 16
   },
   {
    "_defaultOrder": 50,
    "_isFastLaunch": false,
    "category": "Accelerated computing",
    "gpuNum": 1,
    "hideHardwareSpecs": false,
    "memoryGiB": 128,
    "name": "ml.g5.8xlarge",
    "vcpuNum": 32
   },
   {
    "_defaultOrder": 51,
    "_isFastLaunch": false,
    "category": "Accelerated computing",
    "gpuNum": 1,
    "hideHardwareSpecs": false,
    "memoryGiB": 256,
    "name": "ml.g5.16xlarge",
    "vcpuNum": 64
   },
   {
    "_defaultOrder": 52,
    "_isFastLaunch": false,
    "category": "Accelerated computing",
    "gpuNum": 4,
    "hideHardwareSpecs": false,
    "memoryGiB": 192,
    "name": "ml.g5.12xlarge",
    "vcpuNum": 48
   },
   {
    "_defaultOrder": 53,
    "_isFastLaunch": false,
    "category": "Accelerated computing",
    "gpuNum": 4,
    "hideHardwareSpecs": false,
    "memoryGiB": 384,
    "name": "ml.g5.24xlarge",
    "vcpuNum": 96
   },
   {
    "_defaultOrder": 54,
    "_isFastLaunch": false,
    "category": "Accelerated computing",
    "gpuNum": 8,
    "hideHardwareSpecs": false,
    "memoryGiB": 768,
    "name": "ml.g5.48xlarge",
    "vcpuNum": 192
   },
   {
    "_defaultOrder": 55,
    "_isFastLaunch": false,
    "category": "Accelerated computing",
    "gpuNum": 8,
    "hideHardwareSpecs": false,
    "memoryGiB": 1152,
    "name": "ml.p4d.24xlarge",
    "vcpuNum": 96
   },
   {
    "_defaultOrder": 56,
    "_isFastLaunch": false,
    "category": "Accelerated computing",
    "gpuNum": 8,
    "hideHardwareSpecs": false,
    "memoryGiB": 1152,
    "name": "ml.p4de.24xlarge",
    "vcpuNum": 96
   }
  ],
  "instance_type": "ml.t3.medium",
  "kernelspec": {
   "display_name": ".venv",
   "language": "python",
   "name": "python3"
  },
  "language_info": {
   "codemirror_mode": {
    "name": "ipython",
    "version": 3
   },
   "file_extension": ".py",
   "mimetype": "text/x-python",
   "name": "python",
   "nbconvert_exporter": "python",
   "pygments_lexer": "ipython3",
   "version": "3.10.0"
  },
  "lcc_arn": "arn:aws:sagemaker:us-east-1:325223348818:studio-lifecycle-config/packages",
  "toc-autonumbering": false,
  "toc-showcode": false,
  "toc-showmarkdowntxt": false
 },
 "nbformat": 4,
 "nbformat_minor": 5
}
